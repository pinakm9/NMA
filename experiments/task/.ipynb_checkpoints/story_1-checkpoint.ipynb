{
 "cells": [
  {
   "cell_type": "code",
   "execution_count": 14,
   "metadata": {},
   "outputs": [
    {
     "name": "stdout",
     "output_type": "stream",
     "text": [
      "C:\\Users\\pinak\\Documents\\GitHub\\NMA\n"
     ]
    }
   ],
   "source": [
    "# add modules folder to Python's search path\n",
    "from os import times\n",
    "import sys\n",
    "from pathlib import Path\n",
    "from os.path import dirname, realpath, abspath\n",
    "script_dir = Path(abspath(''))#Path(dirname(realpath(__file__)))\n",
    "module_dir = str(script_dir.parent.parent)\n",
    "sys.path.insert(0, module_dir + '/modules')\n",
    "print(module_dir)\n",
    "import task\n",
    "import methods\n",
    "import utility as ut\n",
    "import seaborn as sns\n",
    "import matplotlib.pyplot as plt\n",
    "import pandas as pd\n",
    "import sklearn.decomposition\n",
    "import matplotlib.ticker as ticker\n",
    "from sklearn.manifold import TSNE\n",
    "from sklearn.utils import shuffle"
   ]
  },
  {
   "cell_type": "code",
   "execution_count": 51,
   "metadata": {},
   "outputs": [],
   "source": [
    "db_path = '../../data/hcp_task'\n",
    "save_folder = 'story_1'\n",
    "@ut.timer\n",
    "def score_plot(max_comps=100, k_folds=8, **svm_params):\n",
    "    score_dict = {'score': [], 'n_comps': [], 'wm_task': []}\n",
    "    for wm_task in ['0bk', '2bk']:\n",
    "        conditions = [wm_task + '_' + condition for condition in ['body', 'faces', 'places', 'tools']]\n",
    "        group = task.Group(db_path)\n",
    "        data, labels = group.extract_cons(conditions, remove_mean=True)\n",
    "        for comp in range(max_comps+1):\n",
    "            print('Working on {} task with n_comps = {}'.format(wm_task, comp), end='\\r')\n",
    "            new_data = sklearn.decomposition.PCA(n_components=comp).fit_transform(data.reshape(data.shape[0], -1))\n",
    "            svm = methods.SVM(kernel='rbf', **svm_params)\n",
    "            score_dict['score'] += list(svm.cross_val(new_data, labels, k_folds) * 100.0)\n",
    "            score_dict['n_comps'] += [comp] * k_folds \n",
    "            score_dict['wm_task'] += [wm_task] * k_folds\n",
    "    fig = plt.figure(figsize=(10, 10))\n",
    "    ax = fig.add_subplot(111)\n",
    "    #ax.set_xticklabels(ax.get_xticklabels(), rotation=40, ha=\"right\")\n",
    "    df = pd.DataFrame.from_dict(score_dict)\n",
    "    sns.pointplot(x='n_comps', y='score', hue='wm_task', data=df, ax=ax)\n",
    "    ax.set_ylabel('SVM accuracy (%)', fontsize=20)\n",
    "    ax.set_xlabel('number of principal components', fontsize=20)    \n",
    "    ax.xaxis.set_major_formatter(ticker.FormatStrFormatter('%d'))\n",
    "    ax.xaxis.set_major_locator(ticker.FixedLocator(list(range(0, max_comps+1, 5))))\n",
    "    ax.tick_params(axis='both', which='major', labelsize=15)\n",
    "    ax.tick_params(axis='both', which='minor', labelsize=15)\n",
    "    plt.legend(fontsize=15)\n",
    "    plt.savefig(save_folder + '/svm_scores.png')\n",
    "    plt.show()\n",
    "    df.to_csv(save_folder + '/svm_scores.csv', index=None)\n",
    "    return df"
   ]
  },
  {
   "cell_type": "code",
   "execution_count": 52,
   "metadata": {},
   "outputs": [
    {
     "name": "stdout",
     "output_type": "stream",
     "text": [
      "Time taken by extract_con is 1.432276725769043 seconds\n",
      "Time taken by extract_con is 1.2414405345916748 seconds\n",
      "Time taken by extract_con is 1.27500319480896 seconds\n",
      "Time taken by extract_con is 1.2865610122680664 seconds\n",
      "Time taken by extract_cons is 5.370917320251465 seconds\n",
      "Time taken by massive_shuffle is 0.05285763740539551 seconds\n",
      "Time taken by cross_val is 0.06383156776428223 seconds\n",
      "Working on 0bk task with n_comps = 1\r"
     ]
    },
    {
     "name": "stderr",
     "output_type": "stream",
     "text": [
      "C:\\ProgramData\\Anaconda3\\lib\\site-packages\\sklearn\\model_selection\\_validation.py:536: FitFailedWarning: Estimator fit failed. The score on this train-test partition for these parameters will be set to nan. Details: \n",
      "ValueError: Found array with 0 feature(s) (shape=(1186, 0)) while a minimum of 1 is required.\n",
      "\n",
      "  FitFailedWarning)\n",
      "C:\\ProgramData\\Anaconda3\\lib\\site-packages\\sklearn\\model_selection\\_validation.py:536: FitFailedWarning: Estimator fit failed. The score on this train-test partition for these parameters will be set to nan. Details: \n",
      "ValueError: Found array with 0 feature(s) (shape=(1186, 0)) while a minimum of 1 is required.\n",
      "\n",
      "  FitFailedWarning)\n",
      "C:\\ProgramData\\Anaconda3\\lib\\site-packages\\sklearn\\model_selection\\_validation.py:536: FitFailedWarning: Estimator fit failed. The score on this train-test partition for these parameters will be set to nan. Details: \n",
      "ValueError: Found array with 0 feature(s) (shape=(1186, 0)) while a minimum of 1 is required.\n",
      "\n",
      "  FitFailedWarning)\n",
      "C:\\ProgramData\\Anaconda3\\lib\\site-packages\\sklearn\\model_selection\\_validation.py:536: FitFailedWarning: Estimator fit failed. The score on this train-test partition for these parameters will be set to nan. Details: \n",
      "ValueError: Found array with 0 feature(s) (shape=(1186, 0)) while a minimum of 1 is required.\n",
      "\n",
      "  FitFailedWarning)\n",
      "C:\\ProgramData\\Anaconda3\\lib\\site-packages\\sklearn\\model_selection\\_validation.py:536: FitFailedWarning: Estimator fit failed. The score on this train-test partition for these parameters will be set to nan. Details: \n",
      "ValueError: Found array with 0 feature(s) (shape=(1187, 0)) while a minimum of 1 is required.\n",
      "\n",
      "  FitFailedWarning)\n",
      "C:\\ProgramData\\Anaconda3\\lib\\site-packages\\sklearn\\model_selection\\_validation.py:536: FitFailedWarning: Estimator fit failed. The score on this train-test partition for these parameters will be set to nan. Details: \n",
      "ValueError: Found array with 0 feature(s) (shape=(1187, 0)) while a minimum of 1 is required.\n",
      "\n",
      "  FitFailedWarning)\n",
      "C:\\ProgramData\\Anaconda3\\lib\\site-packages\\sklearn\\model_selection\\_validation.py:536: FitFailedWarning: Estimator fit failed. The score on this train-test partition for these parameters will be set to nan. Details: \n",
      "ValueError: Found array with 0 feature(s) (shape=(1187, 0)) while a minimum of 1 is required.\n",
      "\n",
      "  FitFailedWarning)\n",
      "C:\\ProgramData\\Anaconda3\\lib\\site-packages\\sklearn\\model_selection\\_validation.py:536: FitFailedWarning: Estimator fit failed. The score on this train-test partition for these parameters will be set to nan. Details: \n",
      "ValueError: Found array with 0 feature(s) (shape=(1187, 0)) while a minimum of 1 is required.\n",
      "\n",
      "  FitFailedWarning)\n"
     ]
    },
    {
     "name": "stdout",
     "output_type": "stream",
     "text": [
      "Time taken by massive_shuffle is 0.03789806365966797 seconds\n",
      "Time taken by cross_val is 0.431140661239624 seconds\n",
      "Time taken by massive_shuffle is 0.033910512924194336 seconds\n",
      "Time taken by cross_val is 0.43284153938293457 seconds\n",
      "Time taken by massive_shuffle is 0.03590250015258789 seconds\n",
      "Time taken by cross_val is 0.4299185276031494 seconds\n",
      "Time taken by extract_con is 1.4772660732269287 seconds\n",
      "Time taken by extract_con is 1.3744211196899414 seconds\n",
      "Time taken by extract_con is 1.2880327701568604 seconds\n",
      "Time taken by extract_con is 1.2925746440887451 seconds\n",
      "Time taken by extract_cons is 5.570951461791992 seconds\n",
      "Time taken by massive_shuffle is 0.04388689994812012 seconds\n",
      "Time taken by cross_val is 0.052861928939819336 seconds\n",
      "Working on 2bk task with n_comps = 1\r"
     ]
    },
    {
     "name": "stderr",
     "output_type": "stream",
     "text": [
      "C:\\ProgramData\\Anaconda3\\lib\\site-packages\\sklearn\\model_selection\\_validation.py:536: FitFailedWarning: Estimator fit failed. The score on this train-test partition for these parameters will be set to nan. Details: \n",
      "ValueError: Found array with 0 feature(s) (shape=(1186, 0)) while a minimum of 1 is required.\n",
      "\n",
      "  FitFailedWarning)\n",
      "C:\\ProgramData\\Anaconda3\\lib\\site-packages\\sklearn\\model_selection\\_validation.py:536: FitFailedWarning: Estimator fit failed. The score on this train-test partition for these parameters will be set to nan. Details: \n",
      "ValueError: Found array with 0 feature(s) (shape=(1186, 0)) while a minimum of 1 is required.\n",
      "\n",
      "  FitFailedWarning)\n",
      "C:\\ProgramData\\Anaconda3\\lib\\site-packages\\sklearn\\model_selection\\_validation.py:536: FitFailedWarning: Estimator fit failed. The score on this train-test partition for these parameters will be set to nan. Details: \n",
      "ValueError: Found array with 0 feature(s) (shape=(1186, 0)) while a minimum of 1 is required.\n",
      "\n",
      "  FitFailedWarning)\n",
      "C:\\ProgramData\\Anaconda3\\lib\\site-packages\\sklearn\\model_selection\\_validation.py:536: FitFailedWarning: Estimator fit failed. The score on this train-test partition for these parameters will be set to nan. Details: \n",
      "ValueError: Found array with 0 feature(s) (shape=(1186, 0)) while a minimum of 1 is required.\n",
      "\n",
      "  FitFailedWarning)\n",
      "C:\\ProgramData\\Anaconda3\\lib\\site-packages\\sklearn\\model_selection\\_validation.py:536: FitFailedWarning: Estimator fit failed. The score on this train-test partition for these parameters will be set to nan. Details: \n",
      "ValueError: Found array with 0 feature(s) (shape=(1187, 0)) while a minimum of 1 is required.\n",
      "\n",
      "  FitFailedWarning)\n",
      "C:\\ProgramData\\Anaconda3\\lib\\site-packages\\sklearn\\model_selection\\_validation.py:536: FitFailedWarning: Estimator fit failed. The score on this train-test partition for these parameters will be set to nan. Details: \n",
      "ValueError: Found array with 0 feature(s) (shape=(1187, 0)) while a minimum of 1 is required.\n",
      "\n",
      "  FitFailedWarning)\n",
      "C:\\ProgramData\\Anaconda3\\lib\\site-packages\\sklearn\\model_selection\\_validation.py:536: FitFailedWarning: Estimator fit failed. The score on this train-test partition for these parameters will be set to nan. Details: \n",
      "ValueError: Found array with 0 feature(s) (shape=(1187, 0)) while a minimum of 1 is required.\n",
      "\n",
      "  FitFailedWarning)\n",
      "C:\\ProgramData\\Anaconda3\\lib\\site-packages\\sklearn\\model_selection\\_validation.py:536: FitFailedWarning: Estimator fit failed. The score on this train-test partition for these parameters will be set to nan. Details: \n",
      "ValueError: Found array with 0 feature(s) (shape=(1187, 0)) while a minimum of 1 is required.\n",
      "\n",
      "  FitFailedWarning)\n"
     ]
    },
    {
     "name": "stdout",
     "output_type": "stream",
     "text": [
      "Time taken by massive_shuffle is 0.03191518783569336 seconds\n",
      "Time taken by cross_val is 0.43146538734436035 seconds\n",
      "Time taken by massive_shuffle is 0.03390169143676758 seconds\n",
      "Time taken by cross_val is 0.4292564392089844 seconds\n",
      "Time taken by massive_shuffle is 0.04288482666015625 seconds\n",
      "Time taken by cross_val is 0.4996645450592041 seconds\n"
     ]
    },
    {
     "data": {
      "image/png": "[encoded data removed]",
      "text/plain": [
       "<Figure size 720x720 with 1 Axes>"
      ]
     },
     "metadata": {
      "needs_background": "light"
     },
     "output_type": "display_data"
    },
    {
     "name": "stdout",
     "output_type": "stream",
     "text": [
      "Time taken by score_plot is 45.1367461681366 seconds\n"
     ]
    },
    {
     "data": {
      "text/html": [
       "<div>\n",
       "<style scoped>\n",
       "    .dataframe tbody tr th:only-of-type {\n",
       "        vertical-align: middle;\n",
       "    }\n",
       "\n",
       "    .dataframe tbody tr th {\n",
       "        vertical-align: top;\n",
       "    }\n",
       "\n",
       "    .dataframe thead th {\n",
       "        text-align: right;\n",
       "    }\n",
       "</style>\n",
       "<table border=\"1\" class=\"dataframe\">\n",
       "  <thead>\n",
       "    <tr style=\"text-align: right;\">\n",
       "      <th></th>\n",
       "      <th>score</th>\n",
       "      <th>n_comps</th>\n",
       "      <th>wm_task</th>\n",
       "    </tr>\n",
       "  </thead>\n",
       "  <tbody>\n",
       "    <tr>\n",
       "      <th>0</th>\n",
       "      <td>NaN</td>\n",
       "      <td>0</td>\n",
       "      <td>0bk</td>\n",
       "    </tr>\n",
       "    <tr>\n",
       "      <th>1</th>\n",
       "      <td>NaN</td>\n",
       "      <td>0</td>\n",
       "      <td>0bk</td>\n",
       "    </tr>\n",
       "    <tr>\n",
       "      <th>2</th>\n",
       "      <td>NaN</td>\n",
       "      <td>0</td>\n",
       "      <td>0bk</td>\n",
       "    </tr>\n",
       "    <tr>\n",
       "      <th>3</th>\n",
       "      <td>NaN</td>\n",
       "      <td>0</td>\n",
       "      <td>0bk</td>\n",
       "    </tr>\n",
       "    <tr>\n",
       "      <th>4</th>\n",
       "      <td>NaN</td>\n",
       "      <td>0</td>\n",
       "      <td>0bk</td>\n",
       "    </tr>\n",
       "    <tr>\n",
       "      <th>...</th>\n",
       "      <td>...</td>\n",
       "      <td>...</td>\n",
       "      <td>...</td>\n",
       "    </tr>\n",
       "    <tr>\n",
       "      <th>59</th>\n",
       "      <td>42.941176</td>\n",
       "      <td>3</td>\n",
       "      <td>2bk</td>\n",
       "    </tr>\n",
       "    <tr>\n",
       "      <th>60</th>\n",
       "      <td>40.236686</td>\n",
       "      <td>3</td>\n",
       "      <td>2bk</td>\n",
       "    </tr>\n",
       "    <tr>\n",
       "      <th>61</th>\n",
       "      <td>44.970414</td>\n",
       "      <td>3</td>\n",
       "      <td>2bk</td>\n",
       "    </tr>\n",
       "    <tr>\n",
       "      <th>62</th>\n",
       "      <td>46.745562</td>\n",
       "      <td>3</td>\n",
       "      <td>2bk</td>\n",
       "    </tr>\n",
       "    <tr>\n",
       "      <th>63</th>\n",
       "      <td>37.278107</td>\n",
       "      <td>3</td>\n",
       "      <td>2bk</td>\n",
       "    </tr>\n",
       "  </tbody>\n",
       "</table>\n",
       "<p>64 rows × 3 columns</p>\n",
       "</div>"
      ],
      "text/plain": [
       "        score  n_comps wm_task\n",
       "0         NaN        0     0bk\n",
       "1         NaN        0     0bk\n",
       "2         NaN        0     0bk\n",
       "3         NaN        0     0bk\n",
       "4         NaN        0     0bk\n",
       "..        ...      ...     ...\n",
       "59  42.941176        3     2bk\n",
       "60  40.236686        3     2bk\n",
       "61  44.970414        3     2bk\n",
       "62  46.745562        3     2bk\n",
       "63  37.278107        3     2bk\n",
       "\n",
       "[64 rows x 3 columns]"
      ]
     },
     "execution_count": 52,
     "metadata": {},
     "output_type": "execute_result"
    }
   ],
   "source": [
    "score_plot(max_comps=3, k_folds=8, gamma=1e-9, C=1.0)"
   ]
  },
  {
   "cell_type": "code",
   "execution_count": 65,
   "metadata": {},
   "outputs": [],
   "source": [
    "@ut.timer\n",
    "def tsne(perplexity, pca_comps=10):\n",
    "    for wm_task in ['0bk', '2bk']:\n",
    "        conditions = [wm_task + '_' + condition for condition in ['body', 'faces', 'places', 'tools']]\n",
    "        group = task.Group(db_path)\n",
    "        data, labels = group.extract_cons(conditions, remove_mean=True)\n",
    "        #data = group.squash_frames(data)\n",
    "        if pca_comps is not None:\n",
    "            X = sklearn.decomposition.PCA(n_components=pca_comps).fit_transform(data.reshape(data.shape[0], -1))\n",
    "        else:\n",
    "            X = data.reshape(data.shape[0], -1)\n",
    "        X = TSNE(n_components=2, perplexity=perplexity).fit_transform(X)\n",
    "        X = TSNE(n_components=2, perplexity=perplexity).fit_transform(data.reshape(data.shape[0], -1))\n",
    "        fig = plt.figure(figsize=(10, 10))\n",
    "        ax = fig.add_subplot(111)\n",
    "        colors = ['#ff6f69', '#00b159', '#eb6841', '#0e9aa7']\n",
    "        for i in range(4):\n",
    "            idx = list(range(i*group.n_subjects, (i+1)*group.n_subjects))\n",
    "            x = X[idx]\n",
    "            ax.scatter(x[:, 0], x[:, 1], c=colors[i], label=conditions[i])\n",
    "        ax.set_xlabel('t-SNE 1st component', fontsize=20)\n",
    "        ax.set_ylabel('t-SNE 2nd component', fontsize=20)\n",
    "        ax.tick_params(axis='both', which='major', labelsize=15)\n",
    "        ax.tick_params(axis='both', which='minor', labelsize=15)\n",
    "        plt.legend(fontsize=15)\n",
    "        plt.savefig(save_folder + '/tsne_{}_{}.png'.format(wm_task, pca_comps if pca_comps is not None else ''))\n",
    "        plt.show()"
   ]
  },
  {
   "cell_type": "code",
   "execution_count": null,
   "metadata": {},
   "outputs": [
    {
     "name": "stdout",
     "output_type": "stream",
     "text": [
      "Time taken by extract_con is 1.5261704921722412 seconds\n",
      "Time taken by extract_con is 1.294428825378418 seconds\n",
      "Time taken by extract_con is 1.2248811721801758 seconds\n",
      "Time taken by extract_con is 1.2665355205535889 seconds\n",
      "Time taken by extract_cons is 5.505495548248291 seconds\n"
     ]
    }
   ],
   "source": [
    "tsne(50, 10)"
   ]
  },
  {
   "cell_type": "code",
   "execution_count": null,
   "metadata": {},
   "outputs": [],
   "source": []
  }
 ],
 "metadata": {
  "kernelspec": {
   "display_name": "Python 3",
   "language": "python",
   "name": "python3"
  },
  "language_info": {
   "codemirror_mode": {
    "name": "ipython",
    "version": 3
   },
   "file_extension": ".py",
   "mimetype": "text/x-python",
   "name": "python",
   "nbconvert_exporter": "python",
   "pygments_lexer": "ipython3",
   "version": "3.7.6"
  }
 },
 "nbformat": 4,
 "nbformat_minor": 4
}
