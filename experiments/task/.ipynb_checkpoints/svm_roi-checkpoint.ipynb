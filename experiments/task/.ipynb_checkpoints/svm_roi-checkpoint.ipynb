{
 "cells": [
  {
   "cell_type": "code",
   "execution_count": 1,
   "id": "adjustable-zoning",
   "metadata": {},
   "outputs": [
    {
     "name": "stdout",
     "output_type": "stream",
     "text": [
      "C:\\Users\\pinak\\Documents\\GitHub\\NMA\n",
      "C:\\Users\\pinak\\Documents\\GitHub\\NMA\\experiments\\task\n"
     ]
    }
   ],
   "source": [
    "# add modules folder to Python's search path\n",
    "from os import times\n",
    "import sys\n",
    "from pathlib import Path\n",
    "from os.path import dirname, realpath, abspath\n",
    "script_dir = Path(abspath(''))#Path(dirname(realpath(__file__)))\n",
    "module_dir = str(script_dir.parent.parent)\n",
    "sys.path.insert(0, module_dir + '/modules')\n",
    "print(module_dir)\n",
    "print(script_dir)"
   ]
  },
  {
   "cell_type": "code",
   "execution_count": 2,
   "id": "deluxe-plumbing",
   "metadata": {},
   "outputs": [],
   "source": [
    "# import remaining modules\n",
    "import task\n",
    "import methods \n",
    "import matplotlib.pyplot as plt"
   ]
  },
  {
   "cell_type": "code",
   "execution_count": 3,
   "id": "straight-command",
   "metadata": {},
   "outputs": [
    {
     "name": "stdout",
     "output_type": "stream",
     "text": [
      "Time taken by extract_con is 0.732001543045044 seconds\n",
      "Time taken by extract_con is 0.7189984321594238 seconds\n",
      "Time taken by extract_con is 0.7090044021606445 seconds\n",
      "Time taken by extract_con is 0.6649978160858154 seconds\n",
      "Time taken by extract_cons is 2.9650001525878906 seconds\n",
      "Time taken by extract_con is 0.6900007724761963 seconds\n",
      "Time taken by extract_con is 0.6644158363342285 seconds\n",
      "Time taken by extract_con is 0.6554408073425293 seconds\n",
      "Time taken by extract_con is 0.6800000667572021 seconds\n",
      "Time taken by extract_cons is 2.8258583545684814 seconds\n"
     ]
    }
   ],
   "source": [
    "# set up conditions and collect list\n",
    "db_path = '../../data/hcp_task'\n",
    "group = task.Group(db_path)\n",
    "conditions_0 = ['0bk_body', '0bk_faces', '0bk_places', '0bk_tools']\n",
    "conditions_2 = ['2bk_body', '2bk_faces', '2bk_places', '2bk_tools']\n",
    "X_0, Y_0 = group.extract_cons(conditions_0) \n",
    "X_2, Y_2 = group.extract_cons(conditions_2)"
   ]
  },
  {
   "cell_type": "code",
   "execution_count": 4,
   "id": "initial-undergraduate",
   "metadata": {},
   "outputs": [
    {
     "name": "stdout",
     "output_type": "stream",
     "text": [
      "Time taken by pca_roi is 2.247098684310913 seconds\n"
     ]
    }
   ],
   "source": [
    "# calculate principal components\n",
    "pca = methods.PCA()\n",
    "new_X_0, new_Y_0 = pca.pca_roi(X_0, Y_0, 10)"
   ]
  },
  {
   "cell_type": "code",
   "execution_count": 5,
   "id": "technical-graphics",
   "metadata": {},
   "outputs": [
    {
     "data": {
      "text/plain": [
       "(105768, 10)"
      ]
     },
     "execution_count": 5,
     "metadata": {},
     "output_type": "execute_result"
    }
   ],
   "source": [
    "new_X_0.shape"
   ]
  },
  {
   "cell_type": "code",
   "execution_count": 6,
   "id": "institutional-reducing",
   "metadata": {},
   "outputs": [
    {
     "data": {
      "text/plain": [
       "(105768,)"
      ]
     },
     "execution_count": 6,
     "metadata": {},
     "output_type": "execute_result"
    }
   ],
   "source": [
    "new_Y_0.shape"
   ]
  },
  {
   "cell_type": "code",
   "execution_count": 7,
   "id": "duplicate-details",
   "metadata": {},
   "outputs": [
    {
     "data": {
      "text/plain": [
       "105768"
      ]
     },
     "execution_count": 7,
     "metadata": {},
     "output_type": "execute_result"
    }
   ],
   "source": [
    "339 * 4 * 78"
   ]
  },
  {
   "cell_type": "code",
   "execution_count": null,
   "id": "abroad-shame",
   "metadata": {},
   "outputs": [],
   "source": [
    "# apply SVM on PCA data\n",
    "svm_0 = methods.SVM(kernel='rbf', gamma=0.7, C=1.0)\n",
    "svm_0.fit(new_X_0, new_Y_0, k_folds=8)"
   ]
  },
  {
   "cell_type": "code",
   "execution_count": null,
   "id": "steady-diary",
   "metadata": {},
   "outputs": [],
   "source": [
    "print(svm_0.scores)"
   ]
  },
  {
   "cell_type": "code",
   "execution_count": null,
   "id": "municipal-offering",
   "metadata": {},
   "outputs": [],
   "source": []
  }
 ],
 "metadata": {
  "kernelspec": {
   "display_name": "Python 3",
   "language": "python",
   "name": "python3"
  },
  "language_info": {
   "codemirror_mode": {
    "name": "ipython",
    "version": 3
   },
   "file_extension": ".py",
   "mimetype": "text/x-python",
   "name": "python",
   "nbconvert_exporter": "python",
   "pygments_lexer": "ipython3",
   "version": "3.8.3"
  }
 },
 "nbformat": 4,
 "nbformat_minor": 5
}
