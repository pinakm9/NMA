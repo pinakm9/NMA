{
 "cells": [
  {
   "cell_type": "markdown",
   "id": "97f094aa-bcfd-413d-b0e7-1dc9d8354f06",
   "metadata": {},
   "source": [
    "If there is any modification in my 'not so clean' code, please feel free to change them."
   ]
  },
  {
   "cell_type": "markdown",
   "id": "b66e0086-e538-417f-8c92-081162e9296e",
   "metadata": {},
   "source": [
    "Also, when finalised, parts of code that is actually needed will be transferred to a Python file"
   ]
  },
  {
   "cell_type": "code",
   "execution_count": 1,
   "id": "99db1794-f351-43ae-98d1-f90d749c859e",
   "metadata": {},
   "outputs": [
    {
     "name": "stdout",
     "output_type": "stream",
     "text": [
      "/home/tsering/Documents/Learn/Courses/ComputationalNeuroscience/NMA/Proj/experiments/task\n",
      "/home/tsering/Documents/Learn/Courses/ComputationalNeuroscience/NMA/Proj\n"
     ]
    }
   ],
   "source": [
    "# adding modules path. Subsequent cells will NOT ru  if this cell is run multiple times\n",
    "# this notebook should be in the /experiments/task directory\n",
    "import os\n",
    "import sys\n",
    "script_dir = os.path.abspath('')\n",
    "os.chdir('../..')\n",
    "module_dir = os.path.abspath('')\n",
    "sys.path.insert(0, module_dir + '/modules')\n",
    "print(script_dir)\n",
    "print(module_dir)"
   ]
  },
  {
   "cell_type": "code",
   "execution_count": 2,
   "id": "71a6fdca-4825-4e48-af58-52f37d04c13d",
   "metadata": {},
   "outputs": [],
   "source": [
    "# imports\n",
    "import numpy as np\n",
    "import pandas as pd\n",
    "import matplotlib.pyplot as plt\n",
    "from task import Individual "
   ]
  },
  {
   "cell_type": "code",
   "execution_count": 40,
   "id": "51119e83-7395-4cc8-8eb9-23950882c2b6",
   "metadata": {},
   "outputs": [],
   "source": [
    "#creating an instance of Individual\n",
    "HCP_task_dir = module_dir + '/data/hcp_task'\n",
    "subject_id = 0\n",
    "subject = Individual(HCP_task_dir, subject_id)"
   ]
  },
  {
   "cell_type": "code",
   "execution_count": 55,
   "id": "dafacc35-9bdf-4a93-a5ce-d806670794c1",
   "metadata": {},
   "outputs": [],
   "source": [
    "# timeseries of subject[subject_id]\n",
    "# BOLD timeseries (mean removed) of 360 ROIs for 405 type points for subject[subject_id]\n",
    "run = 8\n",
    "ts = subject.load_single_timeseries(run)"
   ]
  },
  {
   "cell_type": "code",
   "execution_count": 56,
   "id": "c26a5578-5d90-4c74-b50c-3e8fbd2ad142",
   "metadata": {},
   "outputs": [],
   "source": [
    "# getting regions info\n",
    "regions = subject.get_regions()"
   ]
  },
  {
   "cell_type": "code",
   "execution_count": 57,
   "id": "39ba15b7-a113-48d3-836f-a3c57064882c",
   "metadata": {},
   "outputs": [],
   "source": [
    "# all the 360 ROIs and the network they belong to\n",
    "# ignoring the third irrelevant column\n",
    "roi_network = regions[:, :2]"
   ]
  },
  {
   "cell_type": "code",
   "execution_count": 58,
   "id": "1c21a567-edbc-48ff-ae45-b29c2620b7be",
   "metadata": {},
   "outputs": [],
   "source": [
    "# BOLD activity of 360 ROIs for subject[subject_id]\n",
    "BOLD_subj_id = np.hstack((roi_network, ts)) "
   ]
  },
  {
   "cell_type": "code",
   "execution_count": 59,
   "id": "bbf722b4-84c4-419e-91b9-d9c2ea1d1a8f",
   "metadata": {},
   "outputs": [],
   "source": [
    "# All the networks and no of ROIs in each network\n",
    "networks = roi_network[:, 1].tolist()\n",
    "roi_count = dict()\n",
    "for network in networks:\n",
    "    if network in roi_count:\n",
    "        roi_count[network] += 1\n",
    "    else:\n",
    "         roi_count[network] = 1  \n",
    "#roi_count"
   ]
  },
  {
   "cell_type": "code",
   "execution_count": 60,
   "id": "a7fcf68f-0379-44d8-83e7-eb674fa63364",
   "metadata": {},
   "outputs": [],
   "source": [
    "# Get the BOLD activity for individual networks\n",
    "def get_individual_network_activity(network, BOLD_subj_id):\n",
    "    \"\"\"\n",
    "    Description:\n",
    "        Function to get the BOLD activity of ROIs with common network\n",
    "    \n",
    "    Args:\n",
    "        network (str) : name of the network\n",
    "        BOLD_subj_id (np.ndarray): entire BOLD activity of 360 ROIs for subject[subject_id]\n",
    "        \n",
    "    Returns:\n",
    "        BOLD_network (np.ndarray): BOLD activity of ROIs specific to that network\n",
    "    \"\"\"\n",
    "    BOLD_network = []\n",
    "    for row in BOLD_subj_id:\n",
    "        if row[1] == network:\n",
    "            BOLD_network.append(row.tolist())\n",
    "            \n",
    "    return np.array(BOLD_network)\n",
    "    "
   ]
  },
  {
   "cell_type": "code",
   "execution_count": 61,
   "id": "2989dace-b1e1-488b-bd18-b7b4c065961c",
   "metadata": {},
   "outputs": [],
   "source": [
    "# BOLD activity of each networks\n",
    "network_name = ['BOLD_Visual1', 'BOLD_Visual2', 'BOLD_Somatomotor', 'BOLD_Cingulo_Oper', 'BOLD_Language', 'BOLD_Default', 'BOLD_Frontopariet', 'BOLD_Auditory', 'BOLD_Dorsal_atten', 'BOLD_Posterior_Mu', 'BOLD_Orbito_Affec', 'BOLD_Ventral_Mult']\n",
    "\n",
    "for name, network in zip(network_name, roi_count.keys()):\n",
    "    name = get_individual_network_activity(network, BOLD_subj_id)"
   ]
  },
  {
   "cell_type": "code",
   "execution_count": 62,
   "id": "a2a4dc6f-009a-4d5e-9c31-57741b02c728",
   "metadata": {},
   "outputs": [],
   "source": [
    "# Saving all these as Pandas DataFrames\n",
    "subject_dir = \"experiments/task/csv_files/subject{}_run{}\".format(subject_id, run)\n",
    "if not os.path.isdir(subject_dir):\n",
    "        os.mkdir(subject_dir)\n",
    "        \n",
    "pd.DataFrame(BOLD_subj_id).to_csv(\"experiments/task/csv_files/subject{}_run{}/BOLD_subj_id{}_run{}.csv\".format(subject_id, run, subject_id, run))\n",
    "\n",
    "network_activity = [BOLD_Visual1, BOLD_Visual2, BOLD_Somatomotor, BOLD_Cingulo_Oper, BOLD_Language, BOLD_Default, BOLD_Frontopariet, BOLD_Auditory, BOLD_Dorsal_atten, BOLD_Posterior_Mu, BOLD_Orbito_Affec, BOLD_Ventral_Mult]\n",
    "\n",
    "for activity, name in zip(network_activity, network_name):\n",
    "    pd.DataFrame(activity).to_csv(\"experiments/task/csv_files/subject{}_run{}/{}_subj_id{}_run{}.csv\".format(subject_id, run, name, subject_id, run))"
   ]
  },
  {
   "cell_type": "markdown",
   "id": "840c0802-7834-444c-806e-2bd0940e278a",
   "metadata": {},
   "source": [
    "# Trying GLM\n",
    "\n",
    "I am trying to apply GLM in a separate notebook, but so far not getting anywhere"
   ]
  },
  {
   "cell_type": "code",
   "execution_count": null,
   "id": "5bf254ca-095d-4d74-85f0-42488f8d7ade",
   "metadata": {},
   "outputs": [],
   "source": []
  }
 ],
 "metadata": {
  "kernelspec": {
   "display_name": "Python 3",
   "language": "python",
   "name": "python3"
  },
  "language_info": {
   "codemirror_mode": {
    "name": "ipython",
    "version": 3
   },
   "file_extension": ".py",
   "mimetype": "text/x-python",
   "name": "python",
   "nbconvert_exporter": "python",
   "pygments_lexer": "ipython3",
   "version": "3.8.5"
  }
 },
 "nbformat": 4,
 "nbformat_minor": 5
}
