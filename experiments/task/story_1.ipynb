{
 "cells": [
  {
   "cell_type": "code",
   "execution_count": 13,
   "metadata": {},
   "outputs": [
    {
     "name": "stdout",
     "output_type": "stream",
     "text": [
      "C:\\Users\\pinak\\Documents\\GitHub\\NMA\n"
     ]
    }
   ],
   "source": [
    "# add modules folder to Python's search path\n",
    "from os import times\n",
    "import sys\n",
    "from pathlib import Path\n",
    "from os.path import dirname, realpath, abspath\n",
    "script_dir = Path(abspath(''))#Path(dirname(realpath(__file__)))\n",
    "module_dir = str(script_dir.parent.parent)\n",
    "sys.path.insert(0, module_dir + '/modules')\n",
    "print(module_dir)\n",
    "import task\n",
    "import methods\n",
    "import utility as ut\n",
    "import seaborn as sns\n",
    "import matplotlib.pyplot as plt\n",
    "import pandas as pd\n",
    "import sklearn.decomposition\n",
    "import matplotlib.ticker as ticker"
   ]
  },
  {
   "cell_type": "code",
   "execution_count": 15,
   "metadata": {},
   "outputs": [],
   "source": [
    "db_path = '../../data/hcp_task'\n",
    "save_folder = 'story_1'\n",
    "@ut.timer\n",
    "def score_plot(max_comps=100, k_folds=8, **svm_params):\n",
    "    score_dict = {'score': [], 'n_comps': [], 'wm_task': []}\n",
    "    for wm_task in ['0bk', '2bk']:\n",
    "        conditions = [wm_task + '_' + condition for condition in ['body', 'faces', 'places', 'tools']]\n",
    "        group = task.Group(db_path)\n",
    "        data, labels = group.extract_cons(conditions, remove_mean=True)\n",
    "        for comp in range(1, max_comps+1):\n",
    "            print('Working on {} task with n_comps = {}'.format(wm_task, comp), end='\\r')\n",
    "            new_data = sklearn.decomposition.PCA(n_components=comp).fit_transform(data.reshape(data.shape[0], -1))\n",
    "            svm = methods.SVM(kernel='rbf', **svm_params)\n",
    "            score_dict['score'] += list(svm.cross_val(new_data, labels, k_folds) * 100.0)\n",
    "            score_dict['n_comps'] += [comp] * k_folds \n",
    "            score_dict['wm_task'] += [wm_task] * k_folds\n",
    "    fig = plt.figure(figsize=(10, 10))\n",
    "    ax = fig.add_subplot(111)\n",
    "    #ax.set_xticklabels(ax.get_xticklabels(), rotation=40, ha=\"right\")\n",
    "    df = pd.DataFrame.from_dict(score_dict)\n",
    "    sns.pointplot(x='n_comps', y='score', hue='wm_task', data=df, ax=ax)\n",
    "    ax.set_ylabel('SVM accuracy (%)')\n",
    "    ax.set_xlabel('number of principal components')    \n",
    "    ax.xaxis.set_major_formatter(ticker.FormatStrFormatter('%d'))\n",
    "    ax.xaxis.set_major_locator(ticker.MultipleLocator(base=5))\n",
    "    plt.savefig(save_folder + '/svm_scores.png')\n",
    "    plt.show()\n",
    "    df.to_csv(save_folder + '/svm_scores.csv', index=None)\n",
    "    return df"
   ]
  },
  {
   "cell_type": "code",
   "execution_count": null,
   "metadata": {},
   "outputs": [
    {
     "name": "stdout",
     "output_type": "stream",
     "text": [
      "Time taken by extract_con is 1.710991621017456 seconds\n",
      "Time taken by extract_con is 1.5199713706970215 seconds\n",
      "Time taken by extract_con is 1.4575412273406982 seconds\n",
      "Time taken by extract_con is 1.3619673252105713 seconds\n",
      "Time taken by extract_cons is 6.259382486343384 seconds\n",
      "Time taken by massive_shuffle is 0.031916141510009766 seconds\n",
      "Time taken by cross_val is 0.40990352630615234 seconds\n",
      "Time taken by massive_shuffle is 0.04587602615356445 seconds\n",
      "Time taken by cross_val is 0.599416971206665 seconds\n",
      "Time taken by massive_shuffle is 0.0827796459197998 seconds\n",
      "Time taken by cross_val is 0.4982004165649414 seconds\n",
      "Time taken by massive_shuffle is 0.033951759338378906 seconds\n",
      "Time taken by cross_val is 0.43210339546203613 seconds\n",
      "Time taken by massive_shuffle is 0.047946929931640625 seconds\n",
      "Time taken by cross_val is 0.42025208473205566 seconds\n",
      "Time taken by massive_shuffle is 0.0468747615814209 seconds\n",
      "Time taken by cross_val is 0.4434623718261719 seconds\n",
      "Time taken by massive_shuffle is 0.03989005088806152 seconds\n",
      "Time taken by cross_val is 0.46936821937561035 seconds\n",
      "Time taken by massive_shuffle is 0.03391003608703613 seconds\n",
      "Time taken by cross_val is 0.4136359691619873 seconds\n",
      "Time taken by massive_shuffle is 0.03390955924987793 seconds\n",
      "Time taken by cross_val is 0.41821742057800293 seconds\n",
      "Time taken by massive_shuffle is 0.03390932083129883 seconds\n",
      "Time taken by cross_val is 0.4289820194244385 seconds\n",
      "Time taken by massive_shuffle is 0.03590250015258789 seconds\n",
      "Time taken by cross_val is 0.4469113349914551 seconds\n",
      "Time taken by massive_shuffle is 0.03590250015258789 seconds\n",
      "Time taken by cross_val is 0.46421003341674805 seconds\n",
      "Time taken by massive_shuffle is 0.03789973258972168 seconds\n",
      "Time taken by cross_val is 0.47596311569213867 seconds\n",
      "Time taken by massive_shuffle is 0.03847503662109375 seconds\n",
      "Time taken by cross_val is 0.5127499103546143 seconds\n",
      "Time taken by massive_shuffle is 0.033869266510009766 seconds\n",
      "Time taken by cross_val is 0.5157546997070312 seconds\n",
      "Time taken by massive_shuffle is 0.036899566650390625 seconds\n",
      "Time taken by cross_val is 0.5181193351745605 seconds\n",
      "Time taken by massive_shuffle is 0.03491520881652832 seconds\n",
      "Time taken by cross_val is 0.5455060005187988 seconds\n",
      "Time taken by massive_shuffle is 0.03587055206298828 seconds\n",
      "Time taken by cross_val is 0.5575766563415527 seconds\n",
      "Time taken by massive_shuffle is 0.035906076431274414 seconds\n",
      "Time taken by cross_val is 0.5701549053192139 seconds\n",
      "Time taken by massive_shuffle is 0.05237221717834473 seconds\n",
      "Time taken by cross_val is 0.662738561630249 seconds\n",
      "Time taken by massive_shuffle is 0.03680753707885742 seconds\n",
      "Time taken by cross_val is 0.6002259254455566 seconds\n",
      "Time taken by massive_shuffle is 0.036933183670043945 seconds\n",
      "Time taken by cross_val is 0.640526294708252 seconds\n",
      "Time taken by massive_shuffle is 0.03789877891540527 seconds\n",
      "Time taken by cross_val is 0.6935665607452393 seconds\n",
      "Time taken by massive_shuffle is 0.03686189651489258 seconds\n",
      "Time taken by cross_val is 0.6333053112030029 seconds\n",
      "Time taken by massive_shuffle is 0.035902976989746094 seconds\n",
      "Time taken by cross_val is 0.6387989521026611 seconds\n",
      "Working on 0bk task with n_comps = 26\r"
     ]
    }
   ],
   "source": [
    "score_plot(max_comps=50, k_folds=8, gamma=1e-9, C=1.0)"
   ]
  },
  {
   "cell_type": "code",
   "execution_count": null,
   "metadata": {},
   "outputs": [],
   "source": []
  }
 ],
 "metadata": {
  "kernelspec": {
   "display_name": "Python 3",
   "language": "python",
   "name": "python3"
  },
  "language_info": {
   "codemirror_mode": {
    "name": "ipython",
    "version": 3
   },
   "file_extension": ".py",
   "mimetype": "text/x-python",
   "name": "python",
   "nbconvert_exporter": "python",
   "pygments_lexer": "ipython3",
   "version": "3.7.6"
  }
 },
 "nbformat": 4,
 "nbformat_minor": 4
}
