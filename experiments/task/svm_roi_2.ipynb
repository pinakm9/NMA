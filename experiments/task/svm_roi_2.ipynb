{
 "cells": [
  {
   "cell_type": "code",
   "execution_count": 1,
   "id": "sensitive-valentine",
   "metadata": {},
   "outputs": [
    {
     "name": "stdout",
     "output_type": "stream",
     "text": [
      "C:\\Users\\pinak\\Documents\\Github\\NMA\n",
      "C:\\Users\\pinak\\Documents\\Github\\NMA\\experiments\\task\n"
     ]
    }
   ],
   "source": [
    "# add modules folder to Python's search path\n",
    "from os import times\n",
    "import sys\n",
    "from pathlib import Path\n",
    "from os.path import dirname, realpath, abspath\n",
    "script_dir = Path(abspath(''))#Path(dirname(realpath(__file__)))\n",
    "module_dir = str(script_dir.parent.parent)\n",
    "sys.path.insert(0, module_dir + '/modules')\n",
    "print(module_dir)\n",
    "print(script_dir)"
   ]
  },
  {
   "cell_type": "code",
   "execution_count": 2,
   "id": "compressed-independence",
   "metadata": {},
   "outputs": [],
   "source": [
    "# import remaining modules\n",
    "import task\n",
    "import methods \n",
    "import matplotlib.pyplot as plt\n",
    "from sklearn.utils import shuffle\n",
    "import numpy as np"
   ]
  },
  {
   "cell_type": "code",
   "execution_count": 3,
   "id": "decent-honey",
   "metadata": {},
   "outputs": [
    {
     "name": "stdout",
     "output_type": "stream",
     "text": [
      "Time taken by extract_con is 0.6935620307922363 seconds\n",
      "Time taken by extract_con is 0.6579992771148682 seconds\n",
      "Time taken by extract_con is 0.6669976711273193 seconds\n",
      "Time taken by extract_con is 0.6209993362426758 seconds\n",
      "Time taken by extract_cons is 2.7785584926605225 seconds\n",
      "Time taken by normalize_individuals is 0.5930013656616211 seconds\n"
     ]
    }
   ],
   "source": [
    "# set up conditions and collect list\n",
    "db_path = '../../data/hcp_task'\n",
    "group = task.Group(db_path)\n",
    "conditions_0 = ['0bk_body', '0bk_faces', '0bk_places', '0bk_tools']\n",
    "conditions_2 = ['2bk_body', '2bk_faces', '2bk_places', '2bk_tools']\n",
    "X_0, Y_0 = group.extract_cons(conditions_0)\n",
    "X_0 = group.normalize_individuals(X_0)\n",
    "\n",
    "#X_2, Y_2 = group.extract_cons(conditions_2)"
   ]
  },
  {
   "cell_type": "code",
   "execution_count": 4,
   "id": "patent-amber",
   "metadata": {},
   "outputs": [
    {
     "name": "stdout",
     "output_type": "stream",
     "text": [
      "[0.71147873 0.68645061 0.69220192 0.72457722 0.71588191 0.72740935\n",
      " 0.73463555 0.73395641 0.72299577 0.73000636 0.72694202 0.7263914\n",
      " 0.74697556 0.73517401 0.71982196 0.70760817 0.68527856 0.68896938\n",
      " 0.67336025 0.662011   0.67106687 0.65488202 0.65707575 0.66985144\n",
      " 0.66892165 0.67340986 0.67847009 0.67714274 0.68534723 0.67394323\n",
      " 0.68145308 0.70843673 0.68748956 0.67624814 0.69328434 0.6910485\n",
      " 0.69583744 0.69896359 0.7028049  0.88130262 0.86848807 0.87986998\n",
      " 0.89386498 0.89720681 0.90853794 0.89938543 0.89597739 0.90124189\n",
      " 0.89424652 0.88943984 0.86787695 0.8691422  0.86132711 0.87955716\n",
      " 0.85135358 0.87640146 0.86612086 0.8730968  0.85778739 0.85677606\n",
      " 0.8432495  0.84910167 0.84009459 0.85655876 0.83094159 0.83052039\n",
      " 0.80285497 0.80079368 0.80197834 0.79514166 0.81826741 0.83590604\n",
      " 0.83939374 0.85053362 0.85425689 0.84086862 0.87167188 0.86335553]\n"
     ]
    }
   ],
   "source": [
    "print(X_0[0,0,:])"
   ]
  },
  {
   "cell_type": "code",
   "execution_count": 5,
   "id": "floppy-disability",
   "metadata": {},
   "outputs": [
    {
     "name": "stdout",
     "output_type": "stream",
     "text": [
      "Time taken by lenca is 3.526545524597168 seconds\n"
     ]
    }
   ],
   "source": [
    "# calculate principal components\n",
    "pca = methods.PCA()\n",
    "n_comps = 300\n",
    "new_X_0, new_Y_0 , var = pca.lenca(X_0, n_comps)"
   ]
  },
  {
   "cell_type": "code",
   "execution_count": 6,
   "id": "digital-neutral",
   "metadata": {},
   "outputs": [
    {
     "data": {
      "image/png": "[encoded data removed]",
      "text/plain": [
       "<Figure size 432x288 with 1 Axes>"
      ]
     },
     "metadata": {
      "needs_background": "light"
     },
     "output_type": "display_data"
    },
    {
     "name": "stdout",
     "output_type": "stream",
     "text": [
      "(1440, 300)\n"
     ]
    }
   ],
   "source": [
    "v = np.cumsum(var)\n",
    "plt.plot(range(1, n_comps+1), v)\n",
    "plt.show()\n",
    "print(new_X_0.shape)"
   ]
  },
  {
   "cell_type": "code",
   "execution_count": 7,
   "id": "passive-ocean",
   "metadata": {},
   "outputs": [
    {
     "name": "stdout",
     "output_type": "stream",
     "text": [
      "Time taken by pca_roi is 3.9210009574890137 seconds\n"
     ]
    }
   ],
   "source": [
    "# calculate principal components\n",
    "pca = methods.PCA()\n",
    "n_comps = 300\n",
    "new_X_0, new_Y_0 , var = pca.pca_roi(X_0, Y_0, n_comps)"
   ]
  },
  {
   "cell_type": "code",
   "execution_count": 8,
   "id": "valuable-culture",
   "metadata": {},
   "outputs": [
    {
     "data": {
      "image/png": "[encoded data removed]",
      "text/plain": [
       "<Figure size 432x288 with 1 Axes>"
      ]
     },
     "metadata": {
      "needs_background": "light"
     },
     "output_type": "display_data"
    },
    {
     "name": "stdout",
     "output_type": "stream",
     "text": [
      "(105768, 300)\n"
     ]
    }
   ],
   "source": [
    "v = np.cumsum(var)\n",
    "plt.plot(range(1, n_comps+1), v)\n",
    "plt.show()\n",
    "print(new_X_0.shape)"
   ]
  },
  {
   "cell_type": "code",
   "execution_count": 11,
   "id": "related-cliff",
   "metadata": {},
   "outputs": [
    {
     "name": "stdout",
     "output_type": "stream",
     "text": [
      "Time taken by lenca is 1.4314031600952148 seconds\n",
      "Time taken by cross_val is 6.209294557571411 seconds\n",
      "[array([0.25      , 0.25555556, 0.25      , 0.25      , 0.24444444,\n",
      "       0.25      , 0.25      , 0.25      ])]\n"
     ]
    }
   ],
   "source": [
    "# apply SVM on PCA data\n",
    "# calculate principal components\n",
    "pca = methods.PCA()\n",
    "n_comps = 30\n",
    "new_X_0, new_Y_0 , var = pca.lenca(X_0, n_comps)\n",
    "\n",
    "\n",
    "svm_0 = methods.SVM(kernel='linear', gamma=0.7, C=1.0)\n",
    "x, y = shuffle(new_X_0, new_Y_0)\n",
    "svm_0.cross_val(new_X_0, new_Y_0)\n",
    "print(svm_0.scores)"
   ]
  },
  {
   "cell_type": "code",
   "execution_count": null,
   "id": "imported-oliver",
   "metadata": {},
   "outputs": [],
   "source": [
    "X_0 = "
   ]
  },
  {
   "cell_type": "code",
   "execution_count": 10,
   "id": "essential-savage",
   "metadata": {},
   "outputs": [
    {
     "data": {
      "text/plain": [
       "array([[-29.80051129, -11.66887058, -70.84948311, ..., -10.30601872,\n",
       "        -14.06570112,   3.83073398],\n",
       "       [-20.05465193,  44.25183197,  15.4744604 , ...,   9.58884354,\n",
       "          8.93481011,  40.60526915],\n",
       "       [ 61.27968567,  -9.44571421, -37.84836046, ...,  15.58265562,\n",
       "        -17.79641477,  21.27359809],\n",
       "       ...,\n",
       "       [-25.45560464,  44.43998137,  59.68209952, ...,  11.9787877 ,\n",
       "        -14.7297191 ,   9.52140424],\n",
       "       [ 31.16883995, -38.53056839,  30.29542505, ...,  20.67987561,\n",
       "          8.45005656,   4.54991606],\n",
       "       [-63.76976417,  -4.95802536,  22.96791486, ...,  -1.35686244,\n",
       "          8.84016847, -12.65939295]])"
      ]
     },
     "execution_count": 10,
     "metadata": {},
     "output_type": "execute_result"
    }
   ],
   "source": [
    "x[:100]"
   ]
  },
  {
   "cell_type": "code",
   "execution_count": null,
   "id": "limiting-consistency",
   "metadata": {},
   "outputs": [],
   "source": []
  }
 ],
 "metadata": {
  "kernelspec": {
   "display_name": "Python 3",
   "language": "python",
   "name": "python3"
  },
  "language_info": {
   "codemirror_mode": {
    "name": "ipython",
    "version": 3
   },
   "file_extension": ".py",
   "mimetype": "text/x-python",
   "name": "python",
   "nbconvert_exporter": "python",
   "pygments_lexer": "ipython3",
   "version": "3.8.3"
  }
 },
 "nbformat": 4,
 "nbformat_minor": 5
}
