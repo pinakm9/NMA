{
 "cells": [
  {
   "cell_type": "code",
   "execution_count": 1,
   "id": "sensitive-valentine",
   "metadata": {},
   "outputs": [
    {
     "name": "stdout",
     "output_type": "stream",
     "text": [
      "C:\\Users\\pinak\\Documents\\Github\\NMA\n",
      "C:\\Users\\pinak\\Documents\\Github\\NMA\\experiments\\task\n"
     ]
    }
   ],
   "source": [
    "# add modules folder to Python's search path\n",
    "from os import times\n",
    "import sys\n",
    "from pathlib import Path\n",
    "from os.path import dirname, realpath, abspath\n",
    "script_dir = Path(abspath(''))#Path(dirname(realpath(__file__)))\n",
    "module_dir = str(script_dir.parent.parent)\n",
    "sys.path.insert(0, module_dir + '/modules')\n",
    "print(module_dir)\n",
    "print(script_dir)"
   ]
  },
  {
   "cell_type": "code",
   "execution_count": 2,
   "id": "compressed-independence",
   "metadata": {},
   "outputs": [],
   "source": [
    "# import remaining modules\n",
    "import task\n",
    "import methods \n",
    "import matplotlib.pyplot as plt\n",
    "from sklearn.utils import shuffle\n",
    "import numpy as np"
   ]
  },
  {
   "cell_type": "code",
   "execution_count": 3,
   "id": "decent-honey",
   "metadata": {},
   "outputs": [
    {
     "name": "stdout",
     "output_type": "stream",
     "text": [
      "Time taken by extract_con is 0.6981906890869141 seconds\n",
      "Time taken by extract_con is 0.6740741729736328 seconds\n",
      "Time taken by extract_con is 0.6629993915557861 seconds\n",
      "Time taken by extract_con is 0.6945228576660156 seconds\n",
      "Time taken by extract_cons is 2.874804973602295 seconds\n",
      "Time taken by normalize_individuals is 0.6039886474609375 seconds\n"
     ]
    }
   ],
   "source": [
    "# set up conditions and collect list\n",
    "db_path = '../../data/hcp_task'\n",
    "group = task.Group(db_path)\n",
    "conditions_0 = ['0bk_body', '0bk_faces', '0bk_places', '0bk_tools']\n",
    "conditions_2 = ['2bk_body', '2bk_faces', '2bk_places', '2bk_tools']\n",
    "X_0, Y_0 = group.extract_cons(conditions_0)\n",
    "X_0 = group.normalize_individuals(X_0)\n",
    "\n",
    "#X_2, Y_2 = group.extract_cons(conditions_2)"
   ]
  },
  {
   "cell_type": "code",
   "execution_count": 4,
   "id": "documented-toilet",
   "metadata": {},
   "outputs": [
    {
     "name": "stdout",
     "output_type": "stream",
     "text": [
      "[-2.22542495  0.4749557   0.36894902 -0.04112945 -1.2685752   1.36764352\n",
      "  1.03009594  2.72062349  0.81250328 -0.06344664  1.38159177  0.75949994\n",
      "  0.67581046  0.03419109 -0.61021793  0.13182882  0.03977039 -0.74691075\n",
      "  0.27689059 -0.13876718 -0.10250173 -1.0091378  -2.0078323   1.37322282\n",
      " -0.37588738 -1.87671878 -1.16814782 -0.19734982 -0.70227636 -0.40657352\n",
      " -0.62137653 -0.33404264 -0.71343496  0.7288138  -0.61858688 -0.71064531\n",
      " -1.39968872 -0.95055516 -1.65075717  0.68696906  0.86271697  0.51959009\n",
      "  0.19599076  0.43032131  2.14316606  1.58802582  0.76228959  1.07751998\n",
      "  0.06487723 -1.01192745  0.75392064  0.82645153  1.30348158 -0.37867703\n",
      "  0.09277373 -0.54326635 -0.82502094 -0.7775969  -0.49026301  1.4624916\n",
      " -1.47500926 -1.17651677 -0.56279389 -1.07608939 -0.47352511 -0.27546\n",
      " -0.65764197 -1.21557186  0.68417941  0.00350494 -0.04670875 -0.62974548\n",
      "  1.9478906   0.78181714 -0.0271812   0.51401079  1.74424619  0.9603547 ]\n"
     ]
    }
   ],
   "source": [
    "print(X_0[0,1,:])"
   ]
  },
  {
   "cell_type": "code",
   "execution_count": 5,
   "id": "floppy-disability",
   "metadata": {},
   "outputs": [
    {
     "name": "stdout",
     "output_type": "stream",
     "text": [
      "Time taken by lenca is 3.492995500564575 seconds\n"
     ]
    }
   ],
   "source": [
    "# calculate principal components\n",
    "pca = methods.PCA()\n",
    "n_comps = 300\n",
    "new_X_0, new_Y_0 , var = pca.lenca(X_0, n_comps)"
   ]
  },
  {
   "cell_type": "code",
   "execution_count": 6,
   "id": "digital-neutral",
   "metadata": {},
   "outputs": [
    {
     "data": {
      "image/png": "[encoded data removed]",
      "text/plain": [
       "<Figure size 432x288 with 1 Axes>"
      ]
     },
     "metadata": {
      "needs_background": "light"
     },
     "output_type": "display_data"
    },
    {
     "name": "stdout",
     "output_type": "stream",
     "text": [
      "(1440, 300)\n"
     ]
    }
   ],
   "source": [
    "v = np.cumsum(var)\n",
    "plt.plot(range(1, n_comps+1), v)\n",
    "plt.show()\n",
    "print(new_X_0.shape)"
   ]
  },
  {
   "cell_type": "code",
   "execution_count": 7,
   "id": "passive-ocean",
   "metadata": {},
   "outputs": [
    {
     "name": "stdout",
     "output_type": "stream",
     "text": [
      "Time taken by pca_roi is 3.968290090560913 seconds\n"
     ]
    }
   ],
   "source": [
    "# calculate principal components\n",
    "pca = methods.PCA()\n",
    "n_comps = 300\n",
    "new_X_0, new_Y_0 , var = pca.pca_roi(X_0, Y_0, n_comps)"
   ]
  },
  {
   "cell_type": "code",
   "execution_count": 8,
   "id": "valuable-culture",
   "metadata": {},
   "outputs": [
    {
     "data": {
      "image/png": "[encoded data removed]",
      "text/plain": [
       "<Figure size 432x288 with 1 Axes>"
      ]
     },
     "metadata": {
      "needs_background": "light"
     },
     "output_type": "display_data"
    },
    {
     "name": "stdout",
     "output_type": "stream",
     "text": [
      "(105768, 300)\n"
     ]
    }
   ],
   "source": [
    "v = np.cumsum(var)\n",
    "plt.plot(range(1, n_comps+1), v)\n",
    "plt.show()\n",
    "print(new_X_0.shape)"
   ]
  },
  {
   "cell_type": "code",
   "execution_count": 17,
   "id": "related-cliff",
   "metadata": {},
   "outputs": [
    {
     "name": "stdout",
     "output_type": "stream",
     "text": [
      "Time taken by squash_frames is 2.4287095069885254 seconds\n",
      "(1356, 30)\n",
      "Time taken by massive_shuffle is 0.031008481979370117 seconds\n",
      "[3 3 3 3 3 3 3 3 3 3 3 3 3 3 3 3 3 3 3 3 3 3 3 3 3 3 3 3 3 3 3 3 3 3 3 3 3\n",
      " 3 3 3 3 3 3 3 3 3 3 3 3 3 3 3 3 3 3 3 3 3 3 3 3 3 3 3 3 3 3 3 3 3 3 3 3 3\n",
      " 3 3 3 3 3 3 3 3 3 3 3 3 3 3 3 3 3 3 3 3 3 3 3 3 3 3 3 3 3 3 3 3 3 3 3 3 3\n",
      " 3 3 3 3 3 3 3 3 3 3 3 3 3 3 3 3 3 3 3 3 3 3 3 3 3 3 3 3 3 3 3 3 3 3 3 3 3\n",
      " 3 3 3 3 3 3 3 3 3 3 3 3 3 3 3 3 3 3 3 3 3 3]\n",
      "test [3 0 3 0 1 0 2 3 1 0 0 3 1 0 2 2 0 0 3 2 3 0 0 1 0 0 1 0 3 3 3 3 1 0 3 2 0\n",
      " 3 0 0 0 1 2 3 1 1 2 0 2 2 2 2 3 1 1 2 3 0 0 0 0 1 0 1 0 0 2 0 3 3 1 1 0 2\n",
      " 3 2 0 0 1 3 1 1 2 0 3 3 1 2 2 3 1 2 1 1 0 1 2 2 1 3 3 3 3 2 0 1 3 3 1 0 2\n",
      " 2 0 0 3 1 0 0 2 1 0 3 2 2 3 2 1 0 3 3 3 2 1 0 1 2 1 1 2 2 3 1 2 3 2 1 2 3\n",
      " 0 0 1 1 1 2 2 3 0 3 2 0 0 3 1 2 0 2 0 2 1 2]\n",
      "train [1 2 2 0 2 2 1 1 1 3 0 0 0 1 1 3 0 1 1 2 3 3 0 0 3 2 0 2 0 3 0 0 0 3 0 3 2\n",
      " 0 1 3 1 0 2 3 2 1 0 3 3 1 3 2 2 3 2 3 0 1 2 2 2 3 0 1 1 0 0 0 1 0 2 3 3 3\n",
      " 0 1 2 0 2 3 0 1 0 3 0 3 2 3 3 1 2 1 2 3 0 1 2 3 2 0]\n",
      "[1 1 1 1 1 1 1 1 1 1 1 1 1 1 1 1 1 1 1 1 1 1 1 1 1 1 1 1 1 1 1 1 1 1 1 1 1\n",
      " 1 1 1 1 1 1 1 1 1 1 1 1 1 1 1 1 1 1 1 1 1 1 1 1 1 1 1 1 1 1 1 1 1 1 1 1 1\n",
      " 1 1 1 1 1 1 1 1 1 1 1 1 1 1 1 1 1 1 1 1 1 1 1 1 1 1 1 1 1 1 1 1 1 1 1 1 1\n",
      " 1 1 1 1 1 1 1 1 1 1 1 1 1 1 1 1 1 1 1 1 1 1 1 1 1 1 1 1 1 1 1 1 1 1 1 1 1\n",
      " 1 1 1 1 1 1 1 1 1 1 1 1 1 1 1 1 1 1 1 1 1 1]\n",
      "test [1 2 2 0 2 2 1 1 1 3 0 0 0 1 1 3 0 1 1 2 3 3 0 0 3 2 0 2 0 3 0 0 0 3 0 3 2\n",
      " 0 1 3 1 0 2 3 2 1 0 3 3 1 3 2 2 3 2 3 0 1 2 2 2 3 0 1 1 0 0 0 1 0 2 3 3 3\n",
      " 0 1 2 0 2 3 0 1 0 3 0 3 2 3 3 1 2 1 2 3 0 1 2 3 2 0 3 3 2 2 2 0 1 2 2 3 2\n",
      " 2 1 0 3 0 2 3 2 3 2 0 1 3 1 3 0 1 0 3 2 3 2 1 1 2 3 0 3 3 2 1 1 0 2 1 2 1\n",
      " 3 1 0 0 3 2 1 2 0 3 1 0 3 3 2 2 2 0 3 1 1 2]\n",
      "train [3 0 3 0 1 0 2 3 1 0 0 3 1 0 2 2 0 0 3 2 3 0 0 1 0 0 1 0 3 3 3 3 1 0 3 2 0\n",
      " 3 0 0 0 1 2 3 1 1 2 0 2 2 2 2 3 1 1 2 3 0 0 0 0 1 0 1 0 0 2 0 3 3 1 1 0 2\n",
      " 3 2 0 0 1 3 1 1 2 0 3 3 1 2 2 3 1 2 1 1 0 1 2 2 1 3]\n",
      "[0 0 0 0 0 0 0 0 0 0 0 0 0 0 0 0 0 0 0 0 0 0 0 0 0 0 0 0 0 0 0 0 0 0 0 0 0\n",
      " 0 0 0 0 0 0 0 0 0 0 0 0 0 0 0 0 0 0 0 0 0 0 0 0 0 0 0 0 0 0 0 0 0 0 0 0 0\n",
      " 0 0 0 0 0 0 0 0 0 0 0 0 0 0 0 0 0 0 0 0 0 0 0 0 0 0 0 0 0 0 0 0 0 0 0 0 0\n",
      " 0 0 0 0 0 0 0 0 0 0 0 0 0 0 0 0 0 0 0 0 0 0 0 0 0 0 0 0 0 0 0 0 0 0 0 0 0\n",
      " 0 0 0 0 0 0 0 0 0 0 0 0 0 0 0 0 0 0 0 0 0 0]\n",
      "test [0 0 0 1 2 2 2 1 0 3 0 0 3 3 0 0 1 3 3 2 0 3 3 2 0 1 0 1 1 1 1 3 3 2 2 0 2\n",
      " 0 3 0 0 0 2 0 0 2 1 1 3 3 3 0 0 2 3 3 2 2 1 2 1 1 1 1 1 1 1 0 0 0 2 0 1 1\n",
      " 2 1 2 0 3 3 3 2 2 0 1 1 2 3 1 3 0 0 1 0 1 3 0 3 0 2 3 3 2 0 2 2 3 3 0 1 1\n",
      " 1 1 3 2 1 3 1 2 2 3 3 0 3 3 1 0 2 3 2 3 3 1 2 0 3 2 1 2 3 1 3 1 2 3 3 1 3\n",
      " 2 1 1 1 2 2 1 3 3 1 1 2 2 2 2 0 0 2 2 3 2 2]\n",
      "train [3 0 3 0 1 0 2 3 1 0 0 3 1 0 2 2 0 0 3 2 3 0 0 1 0 0 1 0 3 3 3 3 1 0 3 2 0\n",
      " 3 0 0 0 1 2 3 1 1 2 0 2 2 2 2 3 1 1 2 3 0 0 0 0 1 0 1 0 0 2 0 3 3 1 1 0 2\n",
      " 3 2 0 0 1 3 1 1 2 0 3 3 1 2 2 3 1 2 1 1 0 1 2 2 1 3]\n",
      "[2 2 2 2 2 2 2 2 2 2 2 2 2 2 2 2 2 2 2 2 2 2 2 2 2 2 2 2 2 2 2 2 2 2 2 2 2\n",
      " 2 2 2 2 2 2 2 2 2 2 2 2 2 2 2 2 2 2 2 2 2 2 2 2 2 2 2 2 2 2 2 2 2 2 2 2 2\n",
      " 2 2 2 2 2 2 2 2 2 2 2 2 2 2 2 2 2 2 2 2 2 2 2 2 2 2 2 2 2 2 2 2 2 2 2 2 2\n",
      " 2 2 2 2 2 2 2 2 2 2 2 2 2 2 2 2 2 2 2 2 2 2 2 2 2 2 2 2 2 2 2 2 2 2 2 2 2\n",
      " 2 2 2 2 2 2 2 2 2 2 2 2 2 2 2 2 2 2 2 2 2 2]\n",
      "test [2 3 1 1 1 3 0 0 2 2 1 3 2 2 3 3 1 0 0 1 2 0 0 1 1 0 2 0 2 1 2 2 1 2 2 0 1\n",
      " 2 1 1 0 1 3 3 3 1 3 0 3 0 1 1 2 1 3 0 2 3 0 3 3 3 2 0 3 3 3 0 2 3 3 1 0 1\n",
      " 3 3 0 2 2 2 3 1 0 3 3 1 0 3 1 3 1 1 0 3 1 2 2 3 3 2 1 1 3 3 3 0 1 0 2 0 2\n",
      " 2 2 3 2 1 2 3 2 1 1 0 3 3 0 2 2 1 0 0 1 2 3 0 0 3 1 2 0 2 1 2 2 0 0 3 2 3\n",
      " 3 0 0 0 1 1 1 3 0 1 1 2 3 3 0 1 3 0 2 3 0 3]\n",
      "train [3 0 3 0 1 0 2 3 1 0 0 3 1 0 2 2 0 0 3 2 3 0 0 1 0 0 1 0 3 3 3 3 1 0 3 2 0\n",
      " 3 0 0 0 1 2 3 1 1 2 0 2 2 2 2 3 1 1 2 3 0 0 0 0 1 0 1 0 0 2 0 3 3 1 1 0 2\n",
      " 3 2 0 0 1 3 1 1 2 0 3 3 1 2 2 3 1 2 1 1 0 1 2 2 1 3]\n",
      "[1 1 1 1 1 1 1 1 1 1 1 1 1 1 1 1 1 1 1 1 1 1 1 1 1 1 1 1 1 1 1 1 1 1 1 1 1\n",
      " 1 1 1 1 1 1 1 1 1 1 1 1 1 1 1 1 1 1 1 1 1 1 1 1 1 1 1 1 1 1 1 1 1 1 1 1 1\n",
      " 1 1 1 1 1 1 1 1 1 1 1 1 1 1 1 1 1 1 1 1 1 1 1 1 1 1 1 1 1 1 1 1 1 1 1 1 1\n",
      " 1 1 1 1 1 1 1 1 1 1 1 1 1 1 1 1 1 1 1 1 1 1 1 1 1 1 1 1 1 1 1 1 1 1 1 1 1\n",
      " 1 1 1 1 1 1 1 1 1 1 1 1 1 1 1 1 1 1 1 1 1]\n",
      "test [1 0 0 0 3 0 0 3 3 1 0 1 0 0 2 1 0 3 1 2 3 1 2 0 0 3 3 1 3 3 3 1 3 0 3 2 3\n",
      " 1 0 0 0 1 0 3 2 0 2 0 0 3 3 0 2 2 1 2 2 0 2 2 1 0 0 0 3 2 0 2 2 0 1 1 1 0\n",
      " 1 2 3 3 1 0 0 0 2 1 3 2 3 3 1 3 0 0 1 3 3 3 0 2 3 0 1 2 1 0 0 3 3 2 0 3 3\n",
      " 0 0 3 1 3 3 2 3 1 2 1 2 3 0 0 0 3 3 3 0 3 2 3 1 2 2 0 2 2 2 3 2 1 1 1 1 3\n",
      " 2 1 2 1 2 0 3 3 3 3 0 1 0 1 2 3 3 2 2 2 3]\n",
      "train [3 0 3 0 1 0 2 3 1 0 0 3 1 0 2 2 0 0 3 2 3 0 0 1 0 0 1 0 3 3 3 3 1 0 3 2 0\n",
      " 3 0 0 0 1 2 3 1 1 2 0 2 2 2 2 3 1 1 2 3 0 0 0 0 1 0 1 0 0 2 0 3 3 1 1 0 2\n",
      " 3 2 0 0 1 3 1 1 2 0 3 3 1 2 2 3 1 2 1 1 0 1 2 2 1 3]\n",
      "[3 3 3 3 3 3 3 3 3 3 3 3 3 3 3 3 3 3 3 3 3 3 3 3 3 3 3 3 3 3 3 3 3 3 3 3 3\n",
      " 3 3 3 3 3 3 3 3 3 3 3 3 3 3 3 3 3 3 3 3 3 3 3 3 3 3 3 3 3 3 3 3 3 3 3 3 3\n",
      " 3 3 3 3 3 3 3 3 3 3 3 3 3 3 3 3 3 3 3 3 3 3 3 3 3 3 3 3 3 3 3 3 3 3 3 3 3\n",
      " 3 3 3 3 3 3 3 3 3 3 3 3 3 3 3 3 3 3 3 3 3 3 3 3 3 3 3 3 3 3 3 3 3 3 3 3 3\n",
      " 3 3 3 3 3 3 3 3 3 3 3 3 3 3 3 3 3 3 3 3 3]\n",
      "test [0 3 0 2 0 1 0 2 1 0 3 0 0 1 1 2 2 1 1 2 1 2 3 3 1 0 2 0 3 0 0 1 3 0 3 2 3\n",
      " 1 1 3 0 1 1 3 1 1 0 0 1 1 2 2 2 1 0 2 1 1 3 0 0 2 3 0 0 1 3 1 1 0 2 0 0 0\n",
      " 1 1 2 3 2 1 0 3 2 1 0 3 0 2 1 3 1 1 3 0 3 1 3 2 1 0 3 3 3 2 0 1 1 3 2 0 1\n",
      " 0 1 3 0 1 2 3 1 0 2 3 1 1 1 2 0 3 2 2 2 0 0 2 2 1 1 2 2 2 2 0 2 2 2 1 2 2\n",
      " 2 0 2 2 1 3 3 3 0 3 0 3 2 3 1 2 2 3 2 3 1]\n",
      "train [3 0 3 0 1 0 2 3 1 0 0 3 1 0 2 2 0 0 3 2 3 0 0 1 0 0 1 0 3 3 3 3 1 0 3 2 0\n",
      " 3 0 0 0 1 2 3 1 1 2 0 2 2 2 2 3 1 1 2 3 0 0 0 0 1 0 1 0 0 2 0 3 3 1 1 0 2\n",
      " 3 2 0 0 1 3 1 1 2 0 3 3 1 2 2 3 1 2 1 1 0 1 2 2 1 3]\n",
      "[3 3 3 3 3 3 3 3 3 3 3 3 3 3 3 3 3 3 3 3 3 3 3 3 3 3 3 3 3 3 3 3 3 3 3 3 3\n",
      " 3 3 3 3 3 3 3 3 3 3 3 3 3 3 3 3 3 3 3 3 3 3 3 3 3 3 3 3 3 3 3 3 3 3 3 3 3\n",
      " 3 3 3 3 3 3 3 3 3 3 3 3 3 3 3 3 3 3 3 3 3 3 3 3 3 3 3 3 3 3 3 3 3 3 3 3 3\n",
      " 3 3 3 3 3 3 3 3 3 3 3 3 3 3 3 3 3 3 3 3 3 3 3 3 3 3 3 3 3 3 3 3 3 3 3 3 3\n",
      " 3 3 3 3 3 3 3 3 3 3 3 3 3 3 3 3 3 3 3 3 3]\n",
      "test [3 3 3 2 3 3 1 3 1 1 0 2 1 1 1 2 1 3 2 1 3 0 2 0 1 0 1 1 1 3 3 2 2 0 3 1 3\n",
      " 0 2 0 2 1 3 0 1 0 1 0 2 3 0 2 2 0 0 0 2 1 0 2 1 3 0 0 3 2 3 0 3 0 2 2 0 1\n",
      " 3 3 1 1 2 1 1 1 1 3 1 1 2 2 3 3 0 0 1 2 0 1 1 0 0 3 2 0 1 1 1 0 2 2 3 2 3\n",
      " 1 2 2 2 2 1 0 2 2 0 3 1 0 1 1 1 0 3 0 0 1 3 3 1 0 1 2 1 2 0 1 2 0 0 1 1 0\n",
      " 3 2 3 1 0 0 3 3 1 2 2 2 3 1 3 3 0 3 3 1 2]\n",
      "train [3 0 3 0 1 0 2 3 1 0 0 3 1 0 2 2 0 0 3 2 3 0 0 1 0 0 1 0 3 3 3 3 1 0 3 2 0\n",
      " 3 0 0 0 1 2 3 1 1 2 0 2 2 2 2 3 1 1 2 3 0 0 0 0 1 0 1 0 0 2 0 3 3 1 1 0 2\n",
      " 3 2 0 0 1 3 1 1 2 0 3 3 1 2 2 3 1 2 1 1 0 1 2 2 1 3]\n",
      "[3 3 3 3 3 3 3 3 3 3 3 3 3 3 3 3 3 3 3 3 3 3 3 3 3 3 3 3 3 3 3 3 3 3 3 3 3\n",
      " 3 3 3 3 3 3 3 3 3 3 3 3 3 3 3 3 3 3 3 3 3 3 3 3 3 3 3 3 3 3 3 3 3 3 3 3 3\n",
      " 3 3 3 3 3 3 3 3 3 3 3 3 3 3 3 3 3 3 3 3 3 3 3 3 3 3 3 3 3 3 3 3 3 3 3 3 3\n",
      " 3 3 3 3 3 3 3 3 3 3 3 3 3 3 3 3 3 3 3 3 3 3 3 3 3 3 3 3 3 3 3 3 3 3 3 3 3\n",
      " 3 3 3 3 3 3 3 3 3 3 3 3 3 3 3 3 3 3 3 3 3]\n",
      "test [0 1 1 2 2 2 3 1 0 2 3 2 0 2 1 3 1 3 1 0 3 2 2 2 2 2 0 2 1 3 0 0 0 0 2 2 0\n",
      " 3 0 1 1 2 1 1 0 0 3 3 2 3 2 0 0 3 1 1 3 3 0 2 1 0 1 3 0 2 0 2 3 3 0 0 1 1\n",
      " 0 3 2 2 1 0 2 0 2 0 0 1 3 2 2 2 0 1 2 2 1 3 1 0 3 1 3 1 1 3 0 2 1 3 2 1 1\n",
      " 3 2 0 1 3 3 1 3 3 2 3 1 2 3 0 3 1 0 3 2 1 1 1 0 1 2 0 1 1 2 2 0 3 3 2 0 2\n",
      " 1 2 0 0 1 2 0 1 2 0 3 0 1 1 3 1 2 0 3 1 2]\n",
      "train [3 0 3 0 1 0 2 3 1 0 0 3 1 0 2 2 0 0 3 2 3 0 0 1 0 0 1 0 3 3 3 3 1 0 3 2 0\n",
      " 3 0 0 0 1 2 3 1 1 2 0 2 2 2 2 3 1 1 2 3 0 0 0 0 1 0 1 0 0 2 0 3 3 1 1 0 2\n",
      " 3 2 0 0 1 3 1 1 2 0 3 3 1 2 2 3 1 2 1 1 0 1 2 2 1 3]\n",
      "Time taken by cross_val_diy is 0.8325257301330566 seconds\n"
     ]
    },
    {
     "data": {
      "text/plain": [
       "SVC(C=100.0, gamma=0.7)"
      ]
     },
     "execution_count": 17,
     "metadata": {},
     "output_type": "execute_result"
    }
   ],
   "source": [
    "# apply SVM on PCA data\n",
    "# calculate principal components\n",
    "pca = methods.PCA()\n",
    "n_comps = 30\n",
    "new_X_0 = group.squash_frames(X_0)\n",
    "new_X_0, _ = pca.regular(new_X_0, n_comps)\n",
    "print(new_X_0.shape)\n",
    "svm_0 = methods.SVM(kernel='rbf', gamma=0.7, C=100.0)\n",
    "#x, y = shuffle(new_X_0, new_Y_0)\n",
    "svm_0.cross_val_diy(new_X_0, Y_0)\n",
    "#print(svm_0.scores)"
   ]
  },
  {
   "cell_type": "code",
   "execution_count": 26,
   "id": "essential-savage",
   "metadata": {},
   "outputs": [
    {
     "name": "stdout",
     "output_type": "stream",
     "text": [
      "Time taken by lenca is 1.4308605194091797 seconds\n",
      "(1440, 30)\n",
      "Time taken by massive_shuffle is 0.031998634338378906 seconds\n",
      "[1 1 1 1 1 1 1 1 1 1 1 1 1 1 1 1 1 1 1 1 1 1 1 1 1 1 1 1 1 1 1 1 1 1 1 1 1\n",
      " 1 1 1 1 1 1 1 1 1 1 1 1 1 1 1 1 1 1 1 1 1 1 1 1 1 1 1 1 1 1 1 1 1 1 1 1 1\n",
      " 1 1 1 1 1 1 1 1 1 1 1 1 1 1 1 1 1 1 1 1 1 1 1 1 1 1 1 1 1 1 1 1 1 1 1 1 1\n",
      " 1 1 1 1 1 1 1 1 1 1 1 1 1 1 1 1 1 1 1 1 1 1 1 1 1 1 1 1 1 1 1 1 1 1 1 1 1\n",
      " 1 1 1 1 1 1 1 1 1 1 1 1 1 1 1 1 1 1 1 1 1 1 1 1 1 1 1 1 1 1 1 1]\n",
      "test [1 1 2 1 2 3 0 3 1 1 2 2 0 2 2 0 1 1 2 0 1 2 3 3 2 0 3 0 3 3 1 1 2 0 3 1 0\n",
      " 3 2 0 2 1 3 2 1 3 3 1 3 2 3 2 1 0 1 3 0 0 0 3 3 0 3 0 3 1 2 1 3 3 2 1 2 0\n",
      " 3 1 0 2 2 2 0 0 0 1 2 0 2 0 2 2 2 1 1 3 3 2 2 3 0 1 3 1 2 0 1 2 3 1 0 2 3\n",
      " 2 0 2 0 0 0 0 1 2 0 0 2 0 0 1 2 2 0 0 0 1 0 2 3 3 3 3 3 2 1 1 1 3 1 2 1 3\n",
      " 3 2 2 2 2 0 1 3 2 3 2 3 0 2 2 2 3 1 1 1 0 3 3 3 2 3 2 1 2 2 0 0]\n",
      "train [3 0 0 3 2 1 0 2 2 1 2 2 1 0 3 2 0 1 3 2 0 1 3 2 3 1 1 2 0 2 3 1 3 0 1 3 0\n",
      " 2 1 3 1 0 2 2 3 1 2 3 1 3 3 0 2 3 3 2 3 3 1 0 0 3 2 2 1 3 3 2 2 1 1 1 2 3\n",
      " 2 3 2 2 3 2 0 3 3 0 2 3 2 3 0 1 2 1 1 0 0 1 1 0 3 1]\n",
      "[0 0 0 0 0 0 0 0 0 0 0 0 0 0 0 0 0 0 0 0 0 0 0 0 0 0 0 0 0 0 0 0 0 0 0 0 0\n",
      " 0 0 0 0 0 0 0 0 0 0 0 0 0 0 0 0 0 0 0 0 0 0 0 0 0 0 0 0 0 0 0 0 0 0 0 0 0\n",
      " 0 0 0 0 0 0 0 0 0 0 0 0 0 0 0 0 0 0 0 0 0 0 0 0 0 0 0 0 0 0 0 0 0 0 0 0 0\n",
      " 0 0 0 0 0 0 0 0 0 0 0 0 0 0 0 0 0 0 0 0 0 0 0 0 0 0 0 0 0 0 0 0 0 0 0 0 0\n",
      " 0 0 0 0 0 0 0 0 0 0 0 0 0 0 0 0 0 0 0 0 0 0 0 0 0 0 0 0 0 0 0 0]\n",
      "test [3 0 0 3 2 1 0 2 2 1 2 2 1 0 3 2 0 1 3 2 0 1 3 2 3 1 1 2 0 2 3 1 3 0 1 3 0\n",
      " 2 1 3 1 0 2 2 3 1 2 3 1 3 3 0 2 3 3 2 3 3 1 0 0 3 2 2 1 3 3 2 2 1 1 1 2 3\n",
      " 2 3 2 2 3 2 0 3 3 0 2 3 2 3 0 1 2 1 1 0 0 1 1 0 3 1 2 3 1 1 1 0 2 0 3 3 0\n",
      " 1 0 3 3 3 1 3 2 2 3 2 1 0 0 0 0 0 3 1 2 3 3 2 2 0 0 2 2 0 3 3 2 0 1 2 2 0\n",
      " 1 1 2 2 3 3 0 2 1 0 3 0 3 1 3 2 2 1 0 0 3 2 2 1 3 2 2 3 3 1 3 2]\n",
      "train [1 1 2 1 2 3 0 3 1 1 2 2 0 2 2 0 1 1 2 0 1 2 3 3 2 0 3 0 3 3 1 1 2 0 3 1 0\n",
      " 3 2 0 2 1 3 2 1 3 3 1 3 2 3 2 1 0 1 3 0 0 0 3 3 0 3 0 3 1 2 1 3 3 2 1 2 0\n",
      " 3 1 0 2 2 2 0 0 0 1 2 0 2 0 2 2 2 1 1 3 3 2 2 3 0 1]\n",
      "[2 2 2 2 2 2 2 2 2 2 2 2 2 2 2 2 2 2 2 2 2 2 2 2 2 2 2 2 2 2 2 2 2 2 2 2 2\n",
      " 2 2 2 2 2 2 2 2 2 2 2 2 2 2 2 2 2 2 2 2 2 2 2 2 2 2 2 2 2 2 2 2 2 2 2 2 2\n",
      " 2 2 2 2 2 2 2 2 2 2 2 2 2 2 2 2 2 2 2 2 2 2 2 2 2 2 2 2 2 2 2 2 2 2 2 2 2\n",
      " 2 2 2 2 2 2 2 2 2 2 2 2 2 2 2 2 2 2 2 2 2 2 2 2 2 2 2 2 2 2 2 2 2 2 2 2 2\n",
      " 2 2 2 2 2 2 2 2 2 2 2 2 2 2 2 2 2 2 2 2 2 2 2 2 2 2 2 2 2 2 2 2]\n",
      "test [1 0 1 1 2 3 3 3 2 2 0 0 0 2 0 0 0 3 0 2 3 3 3 3 1 3 2 2 1 0 2 0 3 1 3 1 1\n",
      " 3 0 1 1 0 2 3 0 3 2 3 3 3 0 1 0 1 2 0 3 2 1 3 1 3 2 0 1 2 1 0 0 1 1 3 1 3\n",
      " 0 1 0 1 1 0 0 1 1 1 0 1 0 0 1 3 3 3 3 2 1 1 2 0 3 0 1 0 2 1 0 0 1 1 2 0 2\n",
      " 1 3 1 3 1 1 2 3 0 0 1 1 0 3 0 0 2 3 3 2 2 0 1 1 1 2 0 0 3 1 3 0 0 0 1 1 3\n",
      " 3 3 3 1 2 3 2 3 0 0 0 3 2 0 2 2 0 2 1 2 1 1 1 2 1 2 2 1 3 1 0 2]\n",
      "train [1 1 2 1 2 3 0 3 1 1 2 2 0 2 2 0 1 1 2 0 1 2 3 3 2 0 3 0 3 3 1 1 2 0 3 1 0\n",
      " 3 2 0 2 1 3 2 1 3 3 1 3 2 3 2 1 0 1 3 0 0 0 3 3 0 3 0 3 1 2 1 3 3 2 1 2 0\n",
      " 3 1 0 2 2 2 0 0 0 1 2 0 2 0 2 2 2 1 1 3 3 2 2 3 0 1]\n",
      "[0 0 0 0 0 0 0 0 0 0 0 0 0 0 0 0 0 0 0 0 0 0 0 0 0 0 0 0 0 0 0 0 0 0 0 0 0\n",
      " 0 0 0 0 0 0 0 0 0 0 0 0 0 0 0 0 0 0 0 0 0 0 0 0 0 0 0 0 0 0 0 0 0 0 0 0 0\n",
      " 0 0 0 0 0 0 0 0 0 0 0 0 0 0 0 0 0 0 0 0 0 0 0 0 0 0 0 0 0 0 0 0 0 0 0 0 0\n",
      " 0 0 0 0 0 0 0 0 0 0 0 0 0 0 0 0 0 0 0 0 0 0 0 0 0 0 0 0 0 0 0 0 0 0 0 0 0\n",
      " 0 0 0 0 0 0 0 0 0 0 0 0 0 0 0 0 0 0 0 0 0 0 0 0 0 0 0 0 0 0 0 0]\n",
      "test [3 2 2 1 1 3 1 2 2 3 2 3 3 0 1 3 0 2 2 0 0 3 0 1 3 1 2 0 3 1 0 3 2 3 1 1 0\n",
      " 2 3 2 2 3 1 1 3 2 1 2 2 3 1 1 3 0 2 1 0 1 3 2 3 3 3 3 2 0 1 0 2 2 1 0 2 2\n",
      " 2 0 0 1 3 1 2 0 2 2 0 1 1 1 2 0 3 3 1 0 1 3 1 0 1 0 2 2 3 3 0 2 3 0 1 1 2\n",
      " 1 2 0 0 0 3 3 2 0 2 1 0 2 3 3 2 3 2 0 3 2 0 3 1 2 3 3 0 1 1 3 2 2 2 2 0 1\n",
      " 1 1 2 3 1 0 1 2 3 0 0 0 1 0 2 0 3 0 2 2 3 1 3 0 1 2 0 2 0 2 3 1]\n",
      "train [1 1 2 1 2 3 0 3 1 1 2 2 0 2 2 0 1 1 2 0 1 2 3 3 2 0 3 0 3 3 1 1 2 0 3 1 0\n",
      " 3 2 0 2 1 3 2 1 3 3 1 3 2 3 2 1 0 1 3 0 0 0 3 3 0 3 0 3 1 2 1 3 3 2 1 2 0\n",
      " 3 1 0 2 2 2 0 0 0 1 2 0 2 0 2 2 2 1 1 3 3 2 2 3 0 1]\n",
      "[2 2 2 2 2 2 2 2 2 2 2 2 2 2 2 2 2 2 2 2 2 2 2 2 2 2 2 2 2 2 2 2 2 2 2 2 2\n",
      " 2 2 2 2 2 2 2 2 2 2 2 2 2 2 2 2 2 2 2 2 2 2 2 2 2 2 2 2 2 2 2 2 2 2 2 2 2\n",
      " 2 2 2 2 2 2 2 2 2 2 2 2 2 2 2 2 2 2 2 2 2 2 2 2 2 2 2 2 2 2 2 2 2 2 2 2 2\n",
      " 2 2 2 2 2 2 2 2 2 2 2 2 2 2 2 2 2 2 2 2 2 2 2 2 2 2 2 2 2 2 2 2 2 2 2 2 2\n",
      " 2 2 2 2 2 2 2 2 2 2 2 2 2 2 2 2 2 2 2 2 2 2 2 2 2 2 2 2 2 2 2 2]\n",
      "test [2 2 3 1 3 0 3 2 3 0 0 1 0 1 1 0 3 3 2 0 3 2 2 3 2 2 1 0 3 2 2 1 3 2 3 1 0\n",
      " 1 3 1 1 3 3 0 0 2 2 3 3 3 0 0 3 2 0 2 0 0 1 3 0 3 2 1 2 0 2 0 1 2 0 1 2 1\n",
      " 3 1 1 1 1 2 0 2 1 0 1 0 0 1 1 1 2 3 2 1 2 1 3 2 1 3 1 2 2 2 1 3 0 0 1 0 2\n",
      " 2 0 1 0 3 1 0 3 3 3 2 1 0 2 1 1 1 3 3 3 0 2 1 3 1 1 3 0 3 1 1 1 1 0 3 2 0\n",
      " 2 0 0 1 3 1 1 2 2 1 3 0 1 1 0 0 1 1 1 1 2 1 1 1 3 0 2 0 3 0 3 1]\n",
      "train [1 1 2 1 2 3 0 3 1 1 2 2 0 2 2 0 1 1 2 0 1 2 3 3 2 0 3 0 3 3 1 1 2 0 3 1 0\n",
      " 3 2 0 2 1 3 2 1 3 3 1 3 2 3 2 1 0 1 3 0 0 0 3 3 0 3 0 3 1 2 1 3 3 2 1 2 0\n",
      " 3 1 0 2 2 2 0 0 0 1 2 0 2 0 2 2 2 1 1 3 3 2 2 3 0 1]\n",
      "[2 2 2 2 2 2 2 2 2 2 2 2 2 2 2 2 2 2 2 2 2 2 2 2 2 2 2 2 2 2 2 2 2 2 2 2 2\n",
      " 2 2 2 2 2 2 2 2 2 2 2 2 2 2 2 2 2 2 2 2 2 2 2 2 2 2 2 2 2 2 2 2 2 2 2 2 2\n",
      " 2 2 2 2 2 2 2 2 2 2 2 2 2 2 2 2 2 2 2 2 2 2 2 2 2 2 2 2 2 2 2 2 2 2 2 2 2\n",
      " 2 2 2 2 2 2 2 2 2 2 2 2 2 2 2 2 2 2 2 2 2 2 2 2 2 2 2 2 2 2 2 2 2 2 2 2 2\n",
      " 2 2 2 2 2 2 2 2 2 2 2 2 2 2 2 2 2 2 2 2 2 2 2 2 2 2 2 2 2 2 2 2]\n",
      "test [0 2 0 1 3 1 1 3 0 3 3 1 2 0 2 3 1 1 3 0 2 3 1 0 1 0 3 0 3 0 3 3 0 1 3 2 2\n",
      " 1 3 0 3 2 3 0 3 1 1 0 3 0 2 0 3 1 0 3 2 3 2 1 3 0 2 3 2 0 1 3 0 2 1 3 1 0\n",
      " 3 0 0 1 1 3 1 3 0 3 2 1 3 0 0 2 2 0 1 1 2 1 3 0 0 3 3 1 1 2 2 1 0 3 1 1 1\n",
      " 3 3 0 1 3 3 3 0 1 2 2 0 1 2 1 0 1 1 1 1 0 2 0 0 2 3 0 2 2 1 2 2 2 0 2 3 3\n",
      " 1 0 0 3 3 3 0 1 2 1 0 0 2 0 2 1 2 2 1 2 3 1 3 3 0 3 0 1 2 0 0 3]\n",
      "train [1 1 2 1 2 3 0 3 1 1 2 2 0 2 2 0 1 1 2 0 1 2 3 3 2 0 3 0 3 3 1 1 2 0 3 1 0\n",
      " 3 2 0 2 1 3 2 1 3 3 1 3 2 3 2 1 0 1 3 0 0 0 3 3 0 3 0 3 1 2 1 3 3 2 1 2 0\n",
      " 3 1 0 2 2 2 0 0 0 1 2 0 2 0 2 2 2 1 1 3 3 2 2 3 0 1]\n",
      "[3 3 3 3 3 3 3 3 3 3 3 3 3 3 3 3 3 3 3 3 3 3 3 3 3 3 3 3 3 3 3 3 3 3 3 3 3\n",
      " 3 3 3 3 3 3 3 3 3 3 3 3 3 3 3 3 3 3 3 3 3 3 3 3 3 3 3 3 3 3 3 3 3 3 3 3 3\n",
      " 3 3 3 3 3 3 3 3 3 3 3 3 3 3 3 3 3 3 3 3 3 3 3 3 3 3 3 3 3 3 3 3 3 3 3 3 3\n",
      " 3 3 3 3 3 3 3 3 3 3 3 3 3 3 3 3 3 3 3 3 3 3 3 3 3 3 3 3 3 3 3 3 3 3 3 3 3\n",
      " 3 3 3 3 3 3 3 3 3 3 3 3 3 3 3 3 3 3 3 3 3 3 3 3 3 3 3 3 3 3 3 3]\n",
      "test [3 0 3 0 3 0 2 3 3 3 1 2 0 1 1 0 1 1 3 0 1 2 1 1 2 1 0 1 1 1 0 3 1 2 3 0 0\n",
      " 2 1 3 0 0 3 0 3 2 2 3 2 0 1 3 0 1 3 1 1 1 3 3 0 2 3 3 3 0 2 1 3 3 1 2 0 2\n",
      " 2 0 0 2 0 1 0 3 1 3 2 1 3 1 0 3 3 2 3 2 0 3 2 0 3 3 3 1 0 2 1 0 3 1 0 1 1\n",
      " 1 1 1 0 1 0 0 0 1 0 3 2 3 2 0 0 2 2 0 0 2 0 3 0 1 2 0 3 0 2 1 1 0 3 2 2 1\n",
      " 0 0 2 2 2 0 2 2 2 1 0 2 3 3 2 2 2 0 0 3 1 1 0 2 1 1 2 0 3 0 1 2]\n",
      "train [1 1 2 1 2 3 0 3 1 1 2 2 0 2 2 0 1 1 2 0 1 2 3 3 2 0 3 0 3 3 1 1 2 0 3 1 0\n",
      " 3 2 0 2 1 3 2 1 3 3 1 3 2 3 2 1 0 1 3 0 0 0 3 3 0 3 0 3 1 2 1 3 3 2 1 2 0\n",
      " 3 1 0 2 2 2 0 0 0 1 2 0 2 0 2 2 2 1 1 3 3 2 2 3 0 1]\n",
      "[1 1 1 1 1 1 1 1 1 1 1 1 1 1 1 1 1 1 1 1 1 1 1 1 1 1 1 1 1 1 1 1 1 1 1 1 1\n",
      " 1 1 1 1 1 1 1 1 1 1 1 1 1 1 1 1 1 1 1 1 1 1 1 1 1 1 1 1 1 1 1 1 1 1 1 1 1\n",
      " 1 1 1 1 1 1 1 1 1 1 1 1 1 1 1 1 1 1 1 1 1 1 1 1 1 1 1 1 1 1 1 1 1 1 1 1 1\n",
      " 1 1 1 1 1 1 1 1 1 1 1 1 1 1 1 1 1 1 1 1 1 1 1 1 1 1 1 1 1 1 1 1 1 1 1 1 1\n",
      " 1 1 1 1 1 1 1 1 1 1 1 1 1 1 1 1 1 1 1 1 1 1 1 1 1 1 1 1 1 1 1 1]\n",
      "test [2 2 0 1 0 1 1 0 1 2 0 0 0 2 1 1 2 3 3 3 2 2 0 0 0 3 3 2 3 2 2 2 1 2 0 1 0\n",
      " 2 2 0 3 2 2 2 3 2 0 3 0 3 2 0 1 3 0 3 3 3 0 1 2 2 2 2 0 1 1 0 3 2 3 0 0 0\n",
      " 3 2 0 0 2 2 3 2 2 0 0 2 2 2 0 0 1 0 3 1 0 0 1 1 3 1 3 2 1 2 1 0 2 0 1 3 1\n",
      " 3 1 0 3 0 0 0 0 2 2 1 3 0 0 3 2 1 2 3 1 3 3 0 2 3 3 1 3 2 2 0 1 1 0 0 3 3\n",
      " 1 2 3 3 3 1 1 3 2 1 2 0 2 3 2 1 0 0 2 1 3 3 2 1 3 3 1 3 2 2 3 1]\n",
      "train [1 1 2 1 2 3 0 3 1 1 2 2 0 2 2 0 1 1 2 0 1 2 3 3 2 0 3 0 3 3 1 1 2 0 3 1 0\n",
      " 3 2 0 2 1 3 2 1 3 3 1 3 2 3 2 1 0 1 3 0 0 0 3 3 0 3 0 3 1 2 1 3 3 2 1 2 0\n",
      " 3 1 0 2 2 2 0 0 0 1 2 0 2 0 2 2 2 1 1 3 3 2 2 3 0 1]\n",
      "Time taken by cross_val_diy is 2.1309702396392822 seconds\n",
      "[0.2222222222222222, 0.2111111111111111, 0.19444444444444445, 0.23333333333333334, 0.2222222222222222, 0.20555555555555555, 0.23333333333333334, 0.20555555555555555]\n"
     ]
    }
   ],
   "source": [
    "# apply SVM on PCA data\n",
    "# calculate principal components\n",
    "pca = methods.PCA()\n",
    "n_comps = 30\n",
    "new_X_0, new_Y_0, _ = pca.lenca(X_0, n_comps)\n",
    "print(new_X_0.shape)\n",
    "svm_0 = methods.SVM(kernel='rbf', gamma=40.0, C=10.0)\n",
    "#x, y = shuffle(new_X_0, new_Y_0)\n",
    "svm_0.cross_val_diy(new_X_0, new_Y_0)\n",
    "print(svm_0.scores)"
   ]
  },
  {
   "cell_type": "code",
   "execution_count": 13,
   "id": "limiting-consistency",
   "metadata": {},
   "outputs": [
    {
     "ename": "ValueError",
     "evalue": "The truth value of an array with more than one element is ambiguous. Use a.any() or a.all()",
     "output_type": "error",
     "traceback": [
      "\u001b[1;31m---------------------------------------------------------------------------\u001b[0m",
      "\u001b[1;31mValueError\u001b[0m                                Traceback (most recent call last)",
      "\u001b[1;32m<ipython-input-13-c020996251f7>\u001b[0m in \u001b[0;36m<module>\u001b[1;34m\u001b[0m\n\u001b[1;32m----> 1\u001b[1;33m \u001b[0msvm_0\u001b[0m\u001b[1;33m.\u001b[0m\u001b[0mtune\u001b[0m\u001b[1;33m(\u001b[0m\u001b[0mnew_X_0\u001b[0m\u001b[1;33m,\u001b[0m \u001b[0mnew_Y_0\u001b[0m\u001b[1;33m)\u001b[0m\u001b[1;33m\u001b[0m\u001b[1;33m\u001b[0m\u001b[0m\n\u001b[0m",
      "\u001b[1;32m~\\Documents\\Github\\NMA/modules\\methods.py\u001b[0m in \u001b[0;36mtune\u001b[1;34m(self, data, labels)\u001b[0m\n\u001b[0;32m    243\u001b[0m \u001b[1;33m\u001b[0m\u001b[0m\n\u001b[0;32m    244\u001b[0m         \u001b[1;31m# perform tuning\u001b[0m\u001b[1;33m\u001b[0m\u001b[1;33m\u001b[0m\u001b[1;33m\u001b[0m\u001b[0m\n\u001b[1;32m--> 245\u001b[1;33m         \u001b[0mhps\u001b[0m\u001b[1;33m,\u001b[0m \u001b[0m_\u001b[0m\u001b[1;33m,\u001b[0m \u001b[0m_\u001b[0m \u001b[1;33m=\u001b[0m \u001b[0moptunity\u001b[0m\u001b[1;33m.\u001b[0m\u001b[0mmaximize\u001b[0m\u001b[1;33m(\u001b[0m\u001b[0msvm_auc\u001b[0m\u001b[1;33m,\u001b[0m \u001b[0mnum_evals\u001b[0m\u001b[1;33m=\u001b[0m\u001b[1;36m200\u001b[0m\u001b[1;33m,\u001b[0m \u001b[0mlogC\u001b[0m\u001b[1;33m=\u001b[0m\u001b[1;33m[\u001b[0m\u001b[1;33m-\u001b[0m\u001b[1;36m5\u001b[0m\u001b[1;33m,\u001b[0m \u001b[1;36m2\u001b[0m\u001b[1;33m]\u001b[0m\u001b[1;33m,\u001b[0m \u001b[0mlogGamma\u001b[0m\u001b[1;33m=\u001b[0m\u001b[1;33m[\u001b[0m\u001b[1;33m-\u001b[0m\u001b[1;36m5\u001b[0m\u001b[1;33m,\u001b[0m \u001b[1;36m1\u001b[0m\u001b[1;33m]\u001b[0m\u001b[1;33m)\u001b[0m\u001b[1;33m\u001b[0m\u001b[1;33m\u001b[0m\u001b[0m\n\u001b[0m\u001b[0;32m    246\u001b[0m \u001b[1;33m\u001b[0m\u001b[0m\n\u001b[0;32m    247\u001b[0m         \u001b[1;31m# train model on the full training set with tuned hyperparameters\u001b[0m\u001b[1;33m\u001b[0m\u001b[1;33m\u001b[0m\u001b[1;33m\u001b[0m\u001b[0m\n",
      "\u001b[1;32mc:\\users\\pinak\\.conda\\envs\\py38\\lib\\site-packages\\optunity\\api.py\u001b[0m in \u001b[0;36mmaximize\u001b[1;34m(f, num_evals, solver_name, pmap, **kwargs)\u001b[0m\n\u001b[0;32m    178\u001b[0m     \u001b[0msuggestion\u001b[0m \u001b[1;33m=\u001b[0m \u001b[0msuggest_solver\u001b[0m\u001b[1;33m(\u001b[0m\u001b[0mnum_evals\u001b[0m\u001b[1;33m,\u001b[0m \u001b[0msolver_name\u001b[0m\u001b[1;33m,\u001b[0m \u001b[1;33m**\u001b[0m\u001b[0mkwargs\u001b[0m\u001b[1;33m)\u001b[0m\u001b[1;33m\u001b[0m\u001b[1;33m\u001b[0m\u001b[0m\n\u001b[0;32m    179\u001b[0m     \u001b[0msolver\u001b[0m \u001b[1;33m=\u001b[0m \u001b[0mmake_solver\u001b[0m\u001b[1;33m(\u001b[0m\u001b[1;33m**\u001b[0m\u001b[0msuggestion\u001b[0m\u001b[1;33m)\u001b[0m\u001b[1;33m\u001b[0m\u001b[1;33m\u001b[0m\u001b[0m\n\u001b[1;32m--> 180\u001b[1;33m     solution, details = optimize(solver, f, maximize=True, max_evals=num_evals,\n\u001b[0m\u001b[0;32m    181\u001b[0m                                  pmap=pmap)\n\u001b[0;32m    182\u001b[0m     \u001b[1;32mreturn\u001b[0m \u001b[0msolution\u001b[0m\u001b[1;33m,\u001b[0m \u001b[0mdetails\u001b[0m\u001b[1;33m,\u001b[0m \u001b[0msuggestion\u001b[0m\u001b[1;33m\u001b[0m\u001b[1;33m\u001b[0m\u001b[0m\n",
      "\u001b[1;32mc:\\users\\pinak\\.conda\\envs\\py38\\lib\\site-packages\\optunity\\api.py\u001b[0m in \u001b[0;36moptimize\u001b[1;34m(solver, func, maximize, max_evals, pmap, decoder)\u001b[0m\n\u001b[0;32m    243\u001b[0m     \u001b[0mtime\u001b[0m \u001b[1;33m=\u001b[0m \u001b[0mtimeit\u001b[0m\u001b[1;33m.\u001b[0m\u001b[0mdefault_timer\u001b[0m\u001b[1;33m(\u001b[0m\u001b[1;33m)\u001b[0m\u001b[1;33m\u001b[0m\u001b[1;33m\u001b[0m\u001b[0m\n\u001b[0;32m    244\u001b[0m     \u001b[1;32mtry\u001b[0m\u001b[1;33m:\u001b[0m\u001b[1;33m\u001b[0m\u001b[1;33m\u001b[0m\u001b[0m\n\u001b[1;32m--> 245\u001b[1;33m         \u001b[0msolution\u001b[0m\u001b[1;33m,\u001b[0m \u001b[0mreport\u001b[0m \u001b[1;33m=\u001b[0m \u001b[0msolver\u001b[0m\u001b[1;33m.\u001b[0m\u001b[0moptimize\u001b[0m\u001b[1;33m(\u001b[0m\u001b[0mf\u001b[0m\u001b[1;33m,\u001b[0m \u001b[0mmaximize\u001b[0m\u001b[1;33m,\u001b[0m \u001b[0mpmap\u001b[0m\u001b[1;33m=\u001b[0m\u001b[0mpmap\u001b[0m\u001b[1;33m)\u001b[0m\u001b[1;33m\u001b[0m\u001b[1;33m\u001b[0m\u001b[0m\n\u001b[0m\u001b[0;32m    246\u001b[0m     \u001b[1;32mexcept\u001b[0m \u001b[0mfun\u001b[0m\u001b[1;33m.\u001b[0m\u001b[0mMaximumEvaluationsException\u001b[0m\u001b[1;33m:\u001b[0m\u001b[1;33m\u001b[0m\u001b[1;33m\u001b[0m\u001b[0m\n\u001b[0;32m    247\u001b[0m         \u001b[1;31m# early stopping because maximum number of evaluations is reached\u001b[0m\u001b[1;33m\u001b[0m\u001b[1;33m\u001b[0m\u001b[1;33m\u001b[0m\u001b[0m\n",
      "\u001b[1;32mc:\\users\\pinak\\.conda\\envs\\py38\\lib\\site-packages\\optunity\\solvers\\ParticleSwarm.py\u001b[0m in \u001b[0;36moptimize\u001b[1;34m(self, f, maximize, pmap)\u001b[0m\n\u001b[0;32m    269\u001b[0m         \u001b[1;32mfor\u001b[0m \u001b[0mg\u001b[0m \u001b[1;32min\u001b[0m \u001b[0mrange\u001b[0m\u001b[1;33m(\u001b[0m\u001b[0mself\u001b[0m\u001b[1;33m.\u001b[0m\u001b[0mnum_generations\u001b[0m\u001b[1;33m)\u001b[0m\u001b[1;33m:\u001b[0m\u001b[1;33m\u001b[0m\u001b[1;33m\u001b[0m\u001b[0m\n\u001b[0;32m    270\u001b[0m             \u001b[0mfitnesses\u001b[0m \u001b[1;33m=\u001b[0m \u001b[0mpmap\u001b[0m\u001b[1;33m(\u001b[0m\u001b[0mevaluate\u001b[0m\u001b[1;33m,\u001b[0m \u001b[0mlist\u001b[0m\u001b[1;33m(\u001b[0m\u001b[0mmap\u001b[0m\u001b[1;33m(\u001b[0m\u001b[0mself\u001b[0m\u001b[1;33m.\u001b[0m\u001b[0mparticle2dict\u001b[0m\u001b[1;33m,\u001b[0m \u001b[0mpop\u001b[0m\u001b[1;33m)\u001b[0m\u001b[1;33m)\u001b[0m\u001b[1;33m)\u001b[0m\u001b[1;33m\u001b[0m\u001b[1;33m\u001b[0m\u001b[0m\n\u001b[1;32m--> 271\u001b[1;33m             \u001b[1;32mfor\u001b[0m \u001b[0mpart\u001b[0m\u001b[1;33m,\u001b[0m \u001b[0mfitness\u001b[0m \u001b[1;32min\u001b[0m \u001b[0mzip\u001b[0m\u001b[1;33m(\u001b[0m\u001b[0mpop\u001b[0m\u001b[1;33m,\u001b[0m \u001b[0mfitnesses\u001b[0m\u001b[1;33m)\u001b[0m\u001b[1;33m:\u001b[0m\u001b[1;33m\u001b[0m\u001b[1;33m\u001b[0m\u001b[0m\n\u001b[0m\u001b[0;32m    272\u001b[0m                 \u001b[0mpart\u001b[0m\u001b[1;33m.\u001b[0m\u001b[0mfitness\u001b[0m \u001b[1;33m=\u001b[0m \u001b[0mfit\u001b[0m \u001b[1;33m*\u001b[0m \u001b[0mutil\u001b[0m\u001b[1;33m.\u001b[0m\u001b[0mscore\u001b[0m\u001b[1;33m(\u001b[0m\u001b[0mfitness\u001b[0m\u001b[1;33m)\u001b[0m\u001b[1;33m\u001b[0m\u001b[1;33m\u001b[0m\u001b[0m\n\u001b[0;32m    273\u001b[0m                 \u001b[1;32mif\u001b[0m \u001b[1;32mnot\u001b[0m \u001b[0mpart\u001b[0m\u001b[1;33m.\u001b[0m\u001b[0mbest\u001b[0m \u001b[1;32mor\u001b[0m \u001b[0mpart\u001b[0m\u001b[1;33m.\u001b[0m\u001b[0mbest_fitness\u001b[0m \u001b[1;33m<\u001b[0m \u001b[0mpart\u001b[0m\u001b[1;33m.\u001b[0m\u001b[0mfitness\u001b[0m\u001b[1;33m:\u001b[0m\u001b[1;33m\u001b[0m\u001b[1;33m\u001b[0m\u001b[0m\n",
      "\u001b[1;32mc:\\users\\pinak\\.conda\\envs\\py38\\lib\\site-packages\\optunity\\solvers\\ParticleSwarm.py\u001b[0m in \u001b[0;36mevaluate\u001b[1;34m(d)\u001b[0m\n\u001b[0;32m    257\u001b[0m         \u001b[1;33m@\u001b[0m\u001b[0mfunctools\u001b[0m\u001b[1;33m.\u001b[0m\u001b[0mwraps\u001b[0m\u001b[1;33m(\u001b[0m\u001b[0mf\u001b[0m\u001b[1;33m)\u001b[0m\u001b[1;33m\u001b[0m\u001b[1;33m\u001b[0m\u001b[0m\n\u001b[0;32m    258\u001b[0m         \u001b[1;32mdef\u001b[0m \u001b[0mevaluate\u001b[0m\u001b[1;33m(\u001b[0m\u001b[0md\u001b[0m\u001b[1;33m)\u001b[0m\u001b[1;33m:\u001b[0m\u001b[1;33m\u001b[0m\u001b[1;33m\u001b[0m\u001b[0m\n\u001b[1;32m--> 259\u001b[1;33m             \u001b[1;32mreturn\u001b[0m \u001b[0mf\u001b[0m\u001b[1;33m(\u001b[0m\u001b[1;33m**\u001b[0m\u001b[0md\u001b[0m\u001b[1;33m)\u001b[0m\u001b[1;33m\u001b[0m\u001b[1;33m\u001b[0m\u001b[0m\n\u001b[0m\u001b[0;32m    260\u001b[0m \u001b[1;33m\u001b[0m\u001b[0m\n\u001b[0;32m    261\u001b[0m         \u001b[1;32mif\u001b[0m \u001b[0mmaximize\u001b[0m\u001b[1;33m:\u001b[0m\u001b[1;33m\u001b[0m\u001b[1;33m\u001b[0m\u001b[0m\n",
      "\u001b[1;32mc:\\users\\pinak\\.conda\\envs\\py38\\lib\\site-packages\\optunity\\functions.py\u001b[0m in \u001b[0;36mwrapped_f\u001b[1;34m(*args, **kwargs)\u001b[0m\n\u001b[0;32m    299\u001b[0m         \u001b[0mvalue\u001b[0m \u001b[1;33m=\u001b[0m \u001b[0mwrapped_f\u001b[0m\u001b[1;33m.\u001b[0m\u001b[0mcall_log\u001b[0m\u001b[1;33m.\u001b[0m\u001b[0mget\u001b[0m\u001b[1;33m(\u001b[0m\u001b[1;33m*\u001b[0m\u001b[0margs\u001b[0m\u001b[1;33m,\u001b[0m \u001b[1;33m**\u001b[0m\u001b[0mkwargs\u001b[0m\u001b[1;33m)\u001b[0m\u001b[1;33m\u001b[0m\u001b[1;33m\u001b[0m\u001b[0m\n\u001b[0;32m    300\u001b[0m         \u001b[1;32mif\u001b[0m \u001b[0mvalue\u001b[0m \u001b[1;32mis\u001b[0m \u001b[1;32mNone\u001b[0m\u001b[1;33m:\u001b[0m\u001b[1;33m\u001b[0m\u001b[1;33m\u001b[0m\u001b[0m\n\u001b[1;32m--> 301\u001b[1;33m             \u001b[0mvalue\u001b[0m \u001b[1;33m=\u001b[0m \u001b[0mf\u001b[0m\u001b[1;33m(\u001b[0m\u001b[1;33m*\u001b[0m\u001b[0margs\u001b[0m\u001b[1;33m,\u001b[0m \u001b[1;33m**\u001b[0m\u001b[0mkwargs\u001b[0m\u001b[1;33m)\u001b[0m\u001b[1;33m\u001b[0m\u001b[1;33m\u001b[0m\u001b[0m\n\u001b[0m\u001b[0;32m    302\u001b[0m             \u001b[0mwrapped_f\u001b[0m\u001b[1;33m.\u001b[0m\u001b[0mcall_log\u001b[0m\u001b[1;33m.\u001b[0m\u001b[0minsert\u001b[0m\u001b[1;33m(\u001b[0m\u001b[0mvalue\u001b[0m\u001b[1;33m,\u001b[0m \u001b[1;33m*\u001b[0m\u001b[0margs\u001b[0m\u001b[1;33m,\u001b[0m \u001b[1;33m**\u001b[0m\u001b[0mkwargs\u001b[0m\u001b[1;33m)\u001b[0m\u001b[1;33m\u001b[0m\u001b[1;33m\u001b[0m\u001b[0m\n\u001b[0;32m    303\u001b[0m         \u001b[1;32mreturn\u001b[0m \u001b[0mvalue\u001b[0m\u001b[1;33m\u001b[0m\u001b[1;33m\u001b[0m\u001b[0m\n",
      "\u001b[1;32mc:\\users\\pinak\\.conda\\envs\\py38\\lib\\site-packages\\optunity\\functions.py\u001b[0m in \u001b[0;36mwrapped_f\u001b[1;34m(*args, **kwargs)\u001b[0m\n\u001b[0;32m    354\u001b[0m             \u001b[1;32melse\u001b[0m\u001b[1;33m:\u001b[0m\u001b[1;33m\u001b[0m\u001b[1;33m\u001b[0m\u001b[0m\n\u001b[0;32m    355\u001b[0m                 \u001b[0mwrapped_f\u001b[0m\u001b[1;33m.\u001b[0m\u001b[0mnum_evals\u001b[0m \u001b[1;33m+=\u001b[0m \u001b[1;36m1\u001b[0m\u001b[1;33m\u001b[0m\u001b[1;33m\u001b[0m\u001b[0m\n\u001b[1;32m--> 356\u001b[1;33m                 \u001b[1;32mreturn\u001b[0m \u001b[0mf\u001b[0m\u001b[1;33m(\u001b[0m\u001b[1;33m*\u001b[0m\u001b[0margs\u001b[0m\u001b[1;33m,\u001b[0m \u001b[1;33m**\u001b[0m\u001b[0mkwargs\u001b[0m\u001b[1;33m)\u001b[0m\u001b[1;33m\u001b[0m\u001b[1;33m\u001b[0m\u001b[0m\n\u001b[0m\u001b[0;32m    357\u001b[0m         \u001b[0mwrapped_f\u001b[0m\u001b[1;33m.\u001b[0m\u001b[0mnum_evals\u001b[0m \u001b[1;33m=\u001b[0m \u001b[1;36m0\u001b[0m\u001b[1;33m\u001b[0m\u001b[1;33m\u001b[0m\u001b[0m\n\u001b[0;32m    358\u001b[0m         \u001b[1;32mreturn\u001b[0m \u001b[0mwrapped_f\u001b[0m\u001b[1;33m\u001b[0m\u001b[1;33m\u001b[0m\u001b[0m\n",
      "\u001b[1;32mc:\\users\\pinak\\.conda\\envs\\py38\\lib\\site-packages\\optunity\\constraints.py\u001b[0m in \u001b[0;36mwrapped_f\u001b[1;34m(*args, **kwargs)\u001b[0m\n\u001b[0;32m    149\u001b[0m         \u001b[1;32mdef\u001b[0m \u001b[0mwrapped_f\u001b[0m\u001b[1;33m(\u001b[0m\u001b[1;33m*\u001b[0m\u001b[0margs\u001b[0m\u001b[1;33m,\u001b[0m \u001b[1;33m**\u001b[0m\u001b[0mkwargs\u001b[0m\u001b[1;33m)\u001b[0m\u001b[1;33m:\u001b[0m\u001b[1;33m\u001b[0m\u001b[1;33m\u001b[0m\u001b[0m\n\u001b[0;32m    150\u001b[0m             \u001b[1;32mtry\u001b[0m\u001b[1;33m:\u001b[0m\u001b[1;33m\u001b[0m\u001b[1;33m\u001b[0m\u001b[0m\n\u001b[1;32m--> 151\u001b[1;33m                 \u001b[1;32mreturn\u001b[0m \u001b[0mf\u001b[0m\u001b[1;33m(\u001b[0m\u001b[1;33m*\u001b[0m\u001b[0margs\u001b[0m\u001b[1;33m,\u001b[0m \u001b[1;33m**\u001b[0m\u001b[0mkwargs\u001b[0m\u001b[1;33m)\u001b[0m\u001b[1;33m\u001b[0m\u001b[1;33m\u001b[0m\u001b[0m\n\u001b[0m\u001b[0;32m    152\u001b[0m             \u001b[1;32mexcept\u001b[0m \u001b[0mConstraintViolation\u001b[0m\u001b[1;33m:\u001b[0m\u001b[1;33m\u001b[0m\u001b[1;33m\u001b[0m\u001b[0m\n\u001b[0;32m    153\u001b[0m                 \u001b[1;32mreturn\u001b[0m \u001b[0mdefault\u001b[0m\u001b[1;33m\u001b[0m\u001b[1;33m\u001b[0m\u001b[0m\n",
      "\u001b[1;32mc:\\users\\pinak\\.conda\\envs\\py38\\lib\\site-packages\\optunity\\constraints.py\u001b[0m in \u001b[0;36mwrapped_f\u001b[1;34m(*args, **kwargs)\u001b[0m\n\u001b[0;32m    127\u001b[0m             \u001b[1;32mif\u001b[0m \u001b[0mviolations\u001b[0m\u001b[1;33m:\u001b[0m\u001b[1;33m\u001b[0m\u001b[1;33m\u001b[0m\u001b[0m\n\u001b[0;32m    128\u001b[0m                 \u001b[1;32mraise\u001b[0m \u001b[0mConstraintViolation\u001b[0m\u001b[1;33m(\u001b[0m\u001b[0mviolations\u001b[0m\u001b[1;33m,\u001b[0m \u001b[1;33m*\u001b[0m\u001b[0margs\u001b[0m\u001b[1;33m,\u001b[0m \u001b[1;33m**\u001b[0m\u001b[0mkwargs\u001b[0m\u001b[1;33m)\u001b[0m\u001b[1;33m\u001b[0m\u001b[1;33m\u001b[0m\u001b[0m\n\u001b[1;32m--> 129\u001b[1;33m             \u001b[1;32mreturn\u001b[0m \u001b[0mf\u001b[0m\u001b[1;33m(\u001b[0m\u001b[1;33m*\u001b[0m\u001b[0margs\u001b[0m\u001b[1;33m,\u001b[0m \u001b[1;33m**\u001b[0m\u001b[0mkwargs\u001b[0m\u001b[1;33m)\u001b[0m\u001b[1;33m\u001b[0m\u001b[1;33m\u001b[0m\u001b[0m\n\u001b[0m\u001b[0;32m    130\u001b[0m         \u001b[0mwrapped_f\u001b[0m\u001b[1;33m.\u001b[0m\u001b[0mconstraints\u001b[0m \u001b[1;33m=\u001b[0m \u001b[0mconstraints\u001b[0m\u001b[1;33m\u001b[0m\u001b[1;33m\u001b[0m\u001b[0m\n\u001b[0;32m    131\u001b[0m         \u001b[1;32mreturn\u001b[0m \u001b[0mwrapped_f\u001b[0m\u001b[1;33m\u001b[0m\u001b[1;33m\u001b[0m\u001b[0m\n",
      "\u001b[1;32mc:\\users\\pinak\\.conda\\envs\\py38\\lib\\site-packages\\optunity\\constraints.py\u001b[0m in \u001b[0;36mfunc\u001b[1;34m(*args, **kwargs)\u001b[0m\n\u001b[0;32m    264\u001b[0m         \u001b[1;33m@\u001b[0m\u001b[0mfunctions\u001b[0m\u001b[1;33m.\u001b[0m\u001b[0mwraps\u001b[0m\u001b[1;33m(\u001b[0m\u001b[0mf\u001b[0m\u001b[1;33m)\u001b[0m\u001b[1;33m\u001b[0m\u001b[1;33m\u001b[0m\u001b[0m\n\u001b[0;32m    265\u001b[0m         \u001b[1;32mdef\u001b[0m \u001b[0mfunc\u001b[0m\u001b[1;33m(\u001b[0m\u001b[1;33m*\u001b[0m\u001b[0margs\u001b[0m\u001b[1;33m,\u001b[0m \u001b[1;33m**\u001b[0m\u001b[0mkwargs\u001b[0m\u001b[1;33m)\u001b[0m\u001b[1;33m:\u001b[0m\u001b[1;33m\u001b[0m\u001b[1;33m\u001b[0m\u001b[0m\n\u001b[1;32m--> 266\u001b[1;33m             \u001b[1;32mreturn\u001b[0m \u001b[0mf\u001b[0m\u001b[1;33m(\u001b[0m\u001b[1;33m*\u001b[0m\u001b[0margs\u001b[0m\u001b[1;33m,\u001b[0m \u001b[1;33m**\u001b[0m\u001b[0mkwargs\u001b[0m\u001b[1;33m)\u001b[0m\u001b[1;33m\u001b[0m\u001b[1;33m\u001b[0m\u001b[0m\n\u001b[0m\u001b[0;32m    267\u001b[0m     \u001b[1;32mreturn\u001b[0m \u001b[0mfunc\u001b[0m\u001b[1;33m\u001b[0m\u001b[1;33m\u001b[0m\u001b[0m\n\u001b[0;32m    268\u001b[0m \u001b[1;33m\u001b[0m\u001b[0m\n",
      "\u001b[1;32mc:\\users\\pinak\\.conda\\envs\\py38\\lib\\site-packages\\optunity\\cross_validation.py\u001b[0m in \u001b[0;36m__call__\u001b[1;34m(self, *args, **kwargs)\u001b[0m\n\u001b[0;32m    401\u001b[0m                     \u001b[0mkwargs\u001b[0m\u001b[1;33m[\u001b[0m\u001b[1;34m'y_train'\u001b[0m\u001b[1;33m]\u001b[0m \u001b[1;33m=\u001b[0m \u001b[0mselect\u001b[0m\u001b[1;33m(\u001b[0m\u001b[0mself\u001b[0m\u001b[1;33m.\u001b[0m\u001b[0my\u001b[0m\u001b[1;33m,\u001b[0m \u001b[0mrows_train\u001b[0m\u001b[1;33m)\u001b[0m\u001b[1;33m\u001b[0m\u001b[1;33m\u001b[0m\u001b[0m\n\u001b[0;32m    402\u001b[0m                     \u001b[0mkwargs\u001b[0m\u001b[1;33m[\u001b[0m\u001b[1;34m'y_test'\u001b[0m\u001b[1;33m]\u001b[0m \u001b[1;33m=\u001b[0m \u001b[0mselect\u001b[0m\u001b[1;33m(\u001b[0m\u001b[0mself\u001b[0m\u001b[1;33m.\u001b[0m\u001b[0my\u001b[0m\u001b[1;33m,\u001b[0m \u001b[0mrows_test\u001b[0m\u001b[1;33m)\u001b[0m\u001b[1;33m\u001b[0m\u001b[1;33m\u001b[0m\u001b[0m\n\u001b[1;32m--> 403\u001b[1;33m                 \u001b[0mscores\u001b[0m\u001b[1;33m.\u001b[0m\u001b[0mappend\u001b[0m\u001b[1;33m(\u001b[0m\u001b[0mself\u001b[0m\u001b[1;33m.\u001b[0m\u001b[0mf\u001b[0m\u001b[1;33m(\u001b[0m\u001b[1;33m**\u001b[0m\u001b[0mkwargs\u001b[0m\u001b[1;33m)\u001b[0m\u001b[1;33m)\u001b[0m\u001b[1;33m\u001b[0m\u001b[1;33m\u001b[0m\u001b[0m\n\u001b[0m\u001b[0;32m    404\u001b[0m         \u001b[1;32mreturn\u001b[0m \u001b[0mself\u001b[0m\u001b[1;33m.\u001b[0m\u001b[0mreduce\u001b[0m\u001b[1;33m(\u001b[0m\u001b[0mscores\u001b[0m\u001b[1;33m)\u001b[0m\u001b[1;33m\u001b[0m\u001b[1;33m\u001b[0m\u001b[0m\n\u001b[0;32m    405\u001b[0m \u001b[1;33m\u001b[0m\u001b[0m\n",
      "\u001b[1;32m~\\Documents\\Github\\NMA/modules\\methods.py\u001b[0m in \u001b[0;36msvm_auc\u001b[1;34m(x_train, y_train, x_test, y_test, logC, logGamma)\u001b[0m\n\u001b[0;32m    240\u001b[0m             \u001b[0mmodel\u001b[0m \u001b[1;33m=\u001b[0m \u001b[0msklearn\u001b[0m\u001b[1;33m.\u001b[0m\u001b[0msvm\u001b[0m\u001b[1;33m.\u001b[0m\u001b[0mSVC\u001b[0m\u001b[1;33m(\u001b[0m\u001b[0mC\u001b[0m\u001b[1;33m=\u001b[0m\u001b[1;36m10\u001b[0m \u001b[1;33m**\u001b[0m \u001b[0mlogC\u001b[0m\u001b[1;33m,\u001b[0m \u001b[0mgamma\u001b[0m\u001b[1;33m=\u001b[0m\u001b[1;36m10\u001b[0m \u001b[1;33m**\u001b[0m \u001b[0mlogGamma\u001b[0m\u001b[1;33m)\u001b[0m\u001b[1;33m.\u001b[0m\u001b[0mfit\u001b[0m\u001b[1;33m(\u001b[0m\u001b[0mx_train\u001b[0m\u001b[1;33m,\u001b[0m \u001b[0my_train\u001b[0m\u001b[1;33m)\u001b[0m\u001b[1;33m\u001b[0m\u001b[1;33m\u001b[0m\u001b[0m\n\u001b[0;32m    241\u001b[0m             \u001b[0mdecision_values\u001b[0m \u001b[1;33m=\u001b[0m \u001b[0mmodel\u001b[0m\u001b[1;33m.\u001b[0m\u001b[0mdecision_function\u001b[0m\u001b[1;33m(\u001b[0m\u001b[0mx_test\u001b[0m\u001b[1;33m)\u001b[0m\u001b[1;33m\u001b[0m\u001b[1;33m\u001b[0m\u001b[0m\n\u001b[1;32m--> 242\u001b[1;33m             \u001b[1;32mreturn\u001b[0m \u001b[0moptunity\u001b[0m\u001b[1;33m.\u001b[0m\u001b[0mmetrics\u001b[0m\u001b[1;33m.\u001b[0m\u001b[0mroc_auc\u001b[0m\u001b[1;33m(\u001b[0m\u001b[0my_test\u001b[0m\u001b[1;33m,\u001b[0m \u001b[0mdecision_values\u001b[0m\u001b[1;33m)\u001b[0m\u001b[1;33m\u001b[0m\u001b[1;33m\u001b[0m\u001b[0m\n\u001b[0m\u001b[0;32m    243\u001b[0m \u001b[1;33m\u001b[0m\u001b[0m\n\u001b[0;32m    244\u001b[0m         \u001b[1;31m# perform tuning\u001b[0m\u001b[1;33m\u001b[0m\u001b[1;33m\u001b[0m\u001b[1;33m\u001b[0m\u001b[0m\n",
      "\u001b[1;32mc:\\users\\pinak\\.conda\\envs\\py38\\lib\\site-packages\\optunity\\metrics.py\u001b[0m in \u001b[0;36mroc_auc\u001b[1;34m(ys, yhat, positive, presorted, return_curve)\u001b[0m\n\u001b[0;32m    408\u001b[0m \u001b[1;33m\u001b[0m\u001b[0m\n\u001b[0;32m    409\u001b[0m     \"\"\"\n\u001b[1;32m--> 410\u001b[1;33m     \u001b[0mcurve\u001b[0m \u001b[1;33m=\u001b[0m \u001b[0mcompute_curve\u001b[0m\u001b[1;33m(\u001b[0m\u001b[0mys\u001b[0m\u001b[1;33m,\u001b[0m \u001b[0myhat\u001b[0m\u001b[1;33m,\u001b[0m \u001b[0m_fpr\u001b[0m\u001b[1;33m,\u001b[0m \u001b[0m_recall\u001b[0m\u001b[1;33m,\u001b[0m \u001b[0mpositive\u001b[0m\u001b[1;33m)\u001b[0m\u001b[1;33m\u001b[0m\u001b[1;33m\u001b[0m\u001b[0m\n\u001b[0m\u001b[0;32m    411\u001b[0m     \u001b[1;32mif\u001b[0m \u001b[0mreturn_curve\u001b[0m\u001b[1;33m:\u001b[0m\u001b[1;33m\u001b[0m\u001b[1;33m\u001b[0m\u001b[0m\n\u001b[0;32m    412\u001b[0m         \u001b[1;32mreturn\u001b[0m \u001b[0mauc\u001b[0m\u001b[1;33m(\u001b[0m\u001b[0mcurve\u001b[0m\u001b[1;33m)\u001b[0m\u001b[1;33m,\u001b[0m \u001b[0mcurve\u001b[0m\u001b[1;33m\u001b[0m\u001b[1;33m\u001b[0m\u001b[0m\n",
      "\u001b[1;32mc:\\users\\pinak\\.conda\\envs\\py38\\lib\\site-packages\\optunity\\metrics.py\u001b[0m in \u001b[0;36mcompute_curve\u001b[1;34m(ys, decision_values, xfun, yfun, positive, presorted)\u001b[0m\n\u001b[0;32m    130\u001b[0m     \"\"\"\n\u001b[0;32m    131\u001b[0m     \u001b[0mcurve\u001b[0m \u001b[1;33m=\u001b[0m \u001b[1;33m[\u001b[0m\u001b[1;33m]\u001b[0m\u001b[1;33m\u001b[0m\u001b[1;33m\u001b[0m\u001b[0m\n\u001b[1;32m--> 132\u001b[1;33m     \u001b[0mtables\u001b[0m\u001b[1;33m,\u001b[0m \u001b[0m_\u001b[0m \u001b[1;33m=\u001b[0m \u001b[0mcontingency_tables\u001b[0m\u001b[1;33m(\u001b[0m\u001b[0mys\u001b[0m\u001b[1;33m,\u001b[0m \u001b[0mdecision_values\u001b[0m\u001b[1;33m,\u001b[0m \u001b[0mpositive\u001b[0m\u001b[1;33m,\u001b[0m \u001b[0mpresorted\u001b[0m\u001b[1;33m)\u001b[0m\u001b[1;33m\u001b[0m\u001b[1;33m\u001b[0m\u001b[0m\n\u001b[0m\u001b[0;32m    133\u001b[0m     \u001b[0mcurve\u001b[0m \u001b[1;33m=\u001b[0m \u001b[0mlist\u001b[0m\u001b[1;33m(\u001b[0m\u001b[0mmap\u001b[0m\u001b[1;33m(\u001b[0m\u001b[1;32mlambda\u001b[0m \u001b[0mt\u001b[0m\u001b[1;33m:\u001b[0m \u001b[1;33m(\u001b[0m\u001b[0mxfun\u001b[0m\u001b[1;33m(\u001b[0m\u001b[0mt\u001b[0m\u001b[1;33m)\u001b[0m\u001b[1;33m,\u001b[0m \u001b[0myfun\u001b[0m\u001b[1;33m(\u001b[0m\u001b[0mt\u001b[0m\u001b[1;33m)\u001b[0m\u001b[1;33m)\u001b[0m\u001b[1;33m,\u001b[0m \u001b[0mtables\u001b[0m\u001b[1;33m)\u001b[0m\u001b[1;33m)\u001b[0m\u001b[1;33m\u001b[0m\u001b[1;33m\u001b[0m\u001b[0m\n\u001b[0;32m    134\u001b[0m     \u001b[1;32mreturn\u001b[0m \u001b[0mcurve\u001b[0m\u001b[1;33m\u001b[0m\u001b[1;33m\u001b[0m\u001b[0m\n",
      "\u001b[1;32mc:\\users\\pinak\\.conda\\envs\\py38\\lib\\site-packages\\optunity\\metrics.py\u001b[0m in \u001b[0;36mcontingency_tables\u001b[1;34m(ys, decision_values, positive, presorted)\u001b[0m\n\u001b[0;32m     70\u001b[0m     \u001b[1;32melse\u001b[0m\u001b[1;33m:\u001b[0m\u001b[1;33m\u001b[0m\u001b[1;33m\u001b[0m\u001b[0m\n\u001b[0;32m     71\u001b[0m         \u001b[1;31m# sort decision values\u001b[0m\u001b[1;33m\u001b[0m\u001b[1;33m\u001b[0m\u001b[1;33m\u001b[0m\u001b[0m\n\u001b[1;32m---> 72\u001b[1;33m         ind, srt = zip(*sorted(enumerate(decision_values), reverse=True,\n\u001b[0m\u001b[0;32m     73\u001b[0m                             key=op.itemgetter(1)))\n\u001b[0;32m     74\u001b[0m \u001b[1;33m\u001b[0m\u001b[0m\n",
      "\u001b[1;31mValueError\u001b[0m: The truth value of an array with more than one element is ambiguous. Use a.any() or a.all()"
     ]
    }
   ],
   "source": [
    "svm_0."
   ]
  },
  {
   "cell_type": "code",
   "execution_count": null,
   "id": "vulnerable-visit",
   "metadata": {},
   "outputs": [],
   "source": []
  }
 ],
 "metadata": {
  "kernelspec": {
   "display_name": "Python 3",
   "language": "python",
   "name": "python3"
  },
  "language_info": {
   "codemirror_mode": {
    "name": "ipython",
    "version": 3
   },
   "file_extension": ".py",
   "mimetype": "text/x-python",
   "name": "python",
   "nbconvert_exporter": "python",
   "pygments_lexer": "ipython3",
   "version": "3.8.3"
  }
 },
 "nbformat": 4,
 "nbformat_minor": 5
}
