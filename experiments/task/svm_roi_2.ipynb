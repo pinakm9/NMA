{
 "cells": [
  {
   "cell_type": "code",
   "execution_count": 1,
   "id": "sensitive-valentine",
   "metadata": {},
   "outputs": [
    {
     "name": "stdout",
     "output_type": "stream",
     "text": [
      "C:\\Users\\pinak\\Documents\\Github\\NMA\n",
      "C:\\Users\\pinak\\Documents\\Github\\NMA\\experiments\\task\n"
     ]
    }
   ],
   "source": [
    "# add modules folder to Python's search path\n",
    "from os import times\n",
    "import sys\n",
    "from pathlib import Path\n",
    "from os.path import dirname, realpath, abspath\n",
    "script_dir = Path(abspath(''))#Path(dirname(realpath(__file__)))\n",
    "module_dir = str(script_dir.parent.parent)\n",
    "sys.path.insert(0, module_dir + '/modules')\n",
    "print(module_dir)\n",
    "print(script_dir)"
   ]
  },
  {
   "cell_type": "code",
   "execution_count": 2,
   "id": "compressed-independence",
   "metadata": {},
   "outputs": [],
   "source": [
    "# import remaining modules\n",
    "import task\n",
    "import methods \n",
    "import matplotlib.pyplot as plt\n",
    "from sklearn.utils import shuffle\n",
    "import numpy as np"
   ]
  },
  {
   "cell_type": "code",
   "execution_count": 3,
   "id": "decent-honey",
   "metadata": {},
   "outputs": [
    {
     "name": "stdout",
     "output_type": "stream",
     "text": [
      "Time taken by extract_con is 0.6653590202331543 seconds\n",
      "Time taken by extract_con is 0.6749992370605469 seconds\n",
      "Time taken by extract_con is 0.7159996032714844 seconds\n",
      "Time taken by extract_con is 0.6580007076263428 seconds\n",
      "Time taken by extract_cons is 2.853358507156372 seconds\n",
      "Time taken by normalize_individuals is 0.6029996871948242 seconds\n"
     ]
    }
   ],
   "source": [
    "# set up conditions and collect list\n",
    "db_path = '../../data/hcp_task'\n",
    "group = task.Group(db_path)\n",
    "conditions_0 = ['0bk_body', '0bk_faces', '0bk_places', '0bk_tools']\n",
    "conditions_2 = ['2bk_body', '2bk_faces', '2bk_places', '2bk_tools']\n",
    "X_0, Y_0 = group.extract_cons(conditions_0)\n",
    "X_0 = group.normalize_individuals(X_0)\n",
    "\n",
    "#X_2, Y_2 = group.extract_cons(conditions_2)"
   ]
  },
  {
   "cell_type": "code",
   "execution_count": 4,
   "id": "racial-still",
   "metadata": {},
   "outputs": [
    {
     "name": "stdout",
     "output_type": "stream",
     "text": [
      "[-2.22542495  0.4749557   0.36894902 -0.04112945 -1.2685752   1.36764352\n",
      "  1.03009594  2.72062349  0.81250328 -0.06344664  1.38159177  0.75949994\n",
      "  0.67581046  0.03419109 -0.61021793  0.13182882  0.03977039 -0.74691075\n",
      "  0.27689059 -0.13876718 -0.10250173 -1.0091378  -2.0078323   1.37322282\n",
      " -0.37588738 -1.87671878 -1.16814782 -0.19734982 -0.70227636 -0.40657352\n",
      " -0.62137653 -0.33404264 -0.71343496  0.7288138  -0.61858688 -0.71064531\n",
      " -1.39968872 -0.95055516 -1.65075717  0.68696906  0.86271697  0.51959009\n",
      "  0.19599076  0.43032131  2.14316606  1.58802582  0.76228959  1.07751998\n",
      "  0.06487723 -1.01192745  0.75392064  0.82645153  1.30348158 -0.37867703\n",
      "  0.09277373 -0.54326635 -0.82502094 -0.7775969  -0.49026301  1.4624916\n",
      " -1.47500926 -1.17651677 -0.56279389 -1.07608939 -0.47352511 -0.27546\n",
      " -0.65764197 -1.21557186  0.68417941  0.00350494 -0.04670875 -0.62974548\n",
      "  1.9478906   0.78181714 -0.0271812   0.51401079  1.74424619  0.9603547 ]\n"
     ]
    }
   ],
   "source": [
    "print(X_0[0,1,:])"
   ]
  },
  {
   "cell_type": "code",
   "execution_count": 5,
   "id": "floppy-disability",
   "metadata": {},
   "outputs": [
    {
     "name": "stdout",
     "output_type": "stream",
     "text": [
      "Time taken by lenca is 3.478156089782715 seconds\n"
     ]
    }
   ],
   "source": [
    "# calculate principal components\n",
    "pca = methods.PCA()\n",
    "n_comps = 300\n",
    "new_X_0, new_Y_0 , var = pca.lenca(X_0, n_comps)"
   ]
  },
  {
   "cell_type": "code",
   "execution_count": 6,
   "id": "digital-neutral",
   "metadata": {},
   "outputs": [
    {
     "data": {
      "image/png": "[encoded data removed]",
      "text/plain": [
       "<Figure size 432x288 with 1 Axes>"
      ]
     },
     "metadata": {
      "needs_background": "light"
     },
     "output_type": "display_data"
    },
    {
     "name": "stdout",
     "output_type": "stream",
     "text": [
      "(1440, 300)\n"
     ]
    }
   ],
   "source": [
    "v = np.cumsum(var)\n",
    "plt.plot(range(1, n_comps+1), v)\n",
    "plt.show()\n",
    "print(new_X_0.shape)"
   ]
  },
  {
   "cell_type": "code",
   "execution_count": 7,
   "id": "passive-ocean",
   "metadata": {},
   "outputs": [
    {
     "name": "stdout",
     "output_type": "stream",
     "text": [
      "Time taken by pca_roi is 3.897902727127075 seconds\n"
     ]
    }
   ],
   "source": [
    "# calculate principal components\n",
    "pca = methods.PCA()\n",
    "n_comps = 300\n",
    "new_X_0, new_Y_0 , var = pca.pca_roi(X_0, Y_0, n_comps)"
   ]
  },
  {
   "cell_type": "code",
   "execution_count": 8,
   "id": "valuable-culture",
   "metadata": {},
   "outputs": [
    {
     "data": {
      "image/png": "[encoded data removed]",
      "text/plain": [
       "<Figure size 432x288 with 1 Axes>"
      ]
     },
     "metadata": {
      "needs_background": "light"
     },
     "output_type": "display_data"
    },
    {
     "name": "stdout",
     "output_type": "stream",
     "text": [
      "(105768, 300)\n"
     ]
    }
   ],
   "source": [
    "v = np.cumsum(var)\n",
    "plt.plot(range(1, n_comps+1), v)\n",
    "plt.show()\n",
    "print(new_X_0.shape)"
   ]
  },
  {
   "cell_type": "code",
   "execution_count": 9,
   "id": "related-cliff",
   "metadata": {},
   "outputs": [
    {
     "name": "stdout",
     "output_type": "stream",
     "text": [
      "Time taken by squash_frames is 2.452202320098877 seconds\n",
      "(1356, 30)\n",
      "Time taken by cross_val is 0.641000509262085 seconds\n",
      "[array([0.24705882, 0.24705882, 0.24705882, 0.24705882, 0.24852071,\n",
      "       0.24852071, 0.24852071, 0.24852071])]\n"
     ]
    }
   ],
   "source": [
    "# apply SVM on PCA data\n",
    "# calculate principal components\n",
    "pca = methods.PCA()\n",
    "n_comps = 30\n",
    "new_X_0 = group.squash_frames(X_0)\n",
    "new_X_0, _ = pca.regular(new_X_0, n_comps)\n",
    "print(new_X_0.shape)\n",
    "svm_0 = methods.SVM(kernel='rbf', gamma=0.7, C=1.0)\n",
    "#x, y = shuffle(new_X_0, new_Y_0)\n",
    "svm_0.cross_val(new_X_0, Y_0)\n",
    "print(svm_0.scores)"
   ]
  },
  {
   "cell_type": "code",
   "execution_count": null,
   "id": "essential-savage",
   "metadata": {},
   "outputs": [],
   "source": [
    "x[:100]"
   ]
  },
  {
   "cell_type": "code",
   "execution_count": null,
   "id": "limiting-consistency",
   "metadata": {},
   "outputs": [],
   "source": []
  }
 ],
 "metadata": {
  "kernelspec": {
   "display_name": "Python 3",
   "language": "python",
   "name": "python3"
  },
  "language_info": {
   "codemirror_mode": {
    "name": "ipython",
    "version": 3
   },
   "file_extension": ".py",
   "mimetype": "text/x-python",
   "name": "python",
   "nbconvert_exporter": "python",
   "pygments_lexer": "ipython3",
   "version": "3.8.3"
  }
 },
 "nbformat": 4,
 "nbformat_minor": 5
}
