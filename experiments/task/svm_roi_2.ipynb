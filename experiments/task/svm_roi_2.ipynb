{
 "cells": [
  {
   "cell_type": "code",
   "execution_count": 10,
   "id": "sensitive-valentine",
   "metadata": {},
   "outputs": [
    {
     "name": "stdout",
     "output_type": "stream",
     "text": [
      "C:\\Users\\pinak\\Documents\\Github\\NMA\n",
      "C:\\Users\\pinak\\Documents\\Github\\NMA\\experiments\\task\n"
     ]
    }
   ],
   "source": [
    "# add modules folder to Python's search path\n",
    "from os import times\n",
    "import sys\n",
    "from pathlib import Path\n",
    "from os.path import dirname, realpath, abspath\n",
    "script_dir = Path(abspath(''))#Path(dirname(realpath(__file__)))\n",
    "module_dir = str(script_dir.parent.parent)\n",
    "sys.path.insert(0, module_dir + '/modules')\n",
    "print(module_dir)\n",
    "print(script_dir)"
   ]
  },
  {
   "cell_type": "code",
   "execution_count": 11,
   "id": "compressed-independence",
   "metadata": {},
   "outputs": [],
   "source": [
    "# import remaining modules\n",
    "import task\n",
    "import methods \n",
    "import matplotlib.pyplot as plt\n",
    "from sklearn.utils import shuffle\n",
    "import numpy as np"
   ]
  },
  {
   "cell_type": "code",
   "execution_count": 12,
   "id": "decent-honey",
   "metadata": {},
   "outputs": [
    {
     "name": "stdout",
     "output_type": "stream",
     "text": [
      "Time taken by extract_con is 0.6869990825653076 seconds\n",
      "Time taken by extract_con is 0.7490086555480957 seconds\n",
      "Time taken by extract_con is 0.6990015506744385 seconds\n",
      "Time taken by extract_con is 0.7594437599182129 seconds\n",
      "Time taken by extract_cons is 3.0164525508880615 seconds\n",
      "Time taken by extract_con is 0.6901853084564209 seconds\n",
      "Time taken by extract_con is 0.7234132289886475 seconds\n",
      "Time taken by extract_con is 0.7109906673431396 seconds\n",
      "Time taken by extract_con is 0.7030000686645508 seconds\n",
      "Time taken by extract_cons is 2.9495882987976074 seconds\n"
     ]
    }
   ],
   "source": [
    "# set up conditions and collect list\n",
    "db_path = '../../data/hcp_task'\n",
    "group = task.Group(db_path)\n",
    "conditions_0 = ['0bk_body', '0bk_faces', '0bk_places', '0bk_tools']\n",
    "conditions_2 = ['2bk_body', '2bk_faces', '2bk_places', '2bk_tools']\n",
    "X_0, Y_0 = group.extract_cons(conditions_0)\n",
    "X_2, Y_2 = group.extract_cons(conditions_2)"
   ]
  },
  {
   "cell_type": "code",
   "execution_count": 22,
   "id": "floppy-disability",
   "metadata": {},
   "outputs": [
    {
     "name": "stdout",
     "output_type": "stream",
     "text": [
      "Time taken by lenca is 4.025043487548828 seconds\n"
     ]
    }
   ],
   "source": [
    "# calculate principal components\n",
    "pca = methods.PCA()\n",
    "new_X_0, new_Y_0 = pca.lenca(X_0, 300)"
   ]
  },
  {
   "cell_type": "code",
   "execution_count": 24,
   "id": "noted-patient",
   "metadata": {},
   "outputs": [
    {
     "data": {
      "text/plain": [
       "(1440, 300)"
      ]
     },
     "execution_count": 24,
     "metadata": {},
     "output_type": "execute_result"
    }
   ],
   "source": [
    "new_X_0.shape"
   ]
  },
  {
   "cell_type": "code",
   "execution_count": 19,
   "id": "digital-neutral",
   "metadata": {},
   "outputs": [
    {
     "data": {
      "text/plain": [
       "(1440,)"
      ]
     },
     "execution_count": 19,
     "metadata": {},
     "output_type": "execute_result"
    }
   ],
   "source": [
    "new_Y_0.shape"
   ]
  },
  {
   "cell_type": "code",
   "execution_count": 25,
   "id": "related-cliff",
   "metadata": {},
   "outputs": [
    {
     "name": "stdout",
     "output_type": "stream",
     "text": [
      "Time taken by fit is 2.4124739170074463 seconds\n",
      "0.25\n"
     ]
    }
   ],
   "source": [
    "# apply SVM on PCA data\n",
    "svm_0 = methods.SVM(kernel='rbf', gamma=0.7, C=1.0)\n",
    "x, y = shuffle(new_X_0, new_Y_0)\n",
    "svm_0.fit(new_X_0, new_Y_0)\n",
    "print(np.mean(svm_0.scores))"
   ]
  },
  {
   "cell_type": "code",
   "execution_count": null,
   "id": "imported-oliver",
   "metadata": {},
   "outputs": [],
   "source": []
  },
  {
   "cell_type": "code",
   "execution_count": 18,
   "id": "essential-savage",
   "metadata": {},
   "outputs": [
    {
     "data": {
      "text/plain": [
       "array([[  41862.57073141,  109915.56063052,  -68449.65602768, ...,\n",
       "          50477.69573839,  -29929.58135373, -102673.93761923],\n",
       "       [ -73940.22583873,  -98597.40998314,   63407.79027092, ...,\n",
       "         -25677.72478513,   18079.56938492,   26115.80968807],\n",
       "       [ -83865.40009018,  -54854.03378328,    1966.77419111, ...,\n",
       "            908.81356871,  -50282.060393  ,   58156.99967236],\n",
       "       ...,\n",
       "       [  87831.4222697 ,  -21605.93128682,   -4530.23212447, ...,\n",
       "          -5245.32935677,   26887.60920356,  -51917.96014922],\n",
       "       [ -59004.98347019,   46900.89695447, -100472.74226977, ...,\n",
       "          -1967.92918383,  -70203.90233409,    5510.06240191],\n",
       "       [  30009.15501303,  -25001.47599643,  -50830.52530714, ...,\n",
       "         -30745.85410849,    4750.41808405,   -3654.56716066]])"
      ]
     },
     "execution_count": 18,
     "metadata": {},
     "output_type": "execute_result"
    }
   ],
   "source": [
    "x[:100]"
   ]
  },
  {
   "cell_type": "code",
   "execution_count": null,
   "id": "limiting-consistency",
   "metadata": {},
   "outputs": [],
   "source": []
  }
 ],
 "metadata": {
  "kernelspec": {
   "display_name": "Python 3",
   "language": "python",
   "name": "python3"
  },
  "language_info": {
   "codemirror_mode": {
    "name": "ipython",
    "version": 3
   },
   "file_extension": ".py",
   "mimetype": "text/x-python",
   "name": "python",
   "nbconvert_exporter": "python",
   "pygments_lexer": "ipython3",
   "version": "3.8.3"
  }
 },
 "nbformat": 4,
 "nbformat_minor": 5
}
