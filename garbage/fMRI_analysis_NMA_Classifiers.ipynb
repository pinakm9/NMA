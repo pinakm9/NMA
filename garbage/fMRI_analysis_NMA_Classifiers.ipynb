{
 "cells": [
  {
   "cell_type": "markdown",
   "metadata": {},
   "source": [
    "#### Note: \n",
    "\n",
    " This section was originally written to play around with the data from a single participant. "
   ]
  },
  {
   "cell_type": "code",
   "execution_count": 3,
   "metadata": {},
   "outputs": [
    {
     "name": "stdout",
     "output_type": "stream",
     "text": [
      "/Users/jelkastojanov/anaconda3/bin/python\n",
      "['/Users/jelkastojanov/Documents/GitHub/NMA/garbage', '/Users/jelkastojanov/anaconda3/lib/python37.zip', '/Users/jelkastojanov/anaconda3/lib/python3.7', '/Users/jelkastojanov/anaconda3/lib/python3.7/lib-dynload', '', '/Users/jelkastojanov/anaconda3/lib/python3.7/site-packages', '/Users/jelkastojanov/anaconda3/lib/python3.7/site-packages/aeosa', '/Users/jelkastojanov/anaconda3/lib/python3.7/site-packages/IPython/extensions', '/Users/jelkastojanov/.ipython']\n"
     ]
    }
   ],
   "source": [
    "import os, sys\n",
    "\n",
    "print(sys.executable) # This is where this notebook is running in\n",
    "print(sys.path) # This is where the downloaded modules are - sys.executable and sys.path need to be the same to be able to load the module.\n",
    "\n",
    "# Solution:\n",
    "# Run this in Terminal: (output of sys.executable) -m pip install (package name)"
   ]
  },
  {
   "cell_type": "code",
   "execution_count": 6,
   "metadata": {},
   "outputs": [
    {
     "name": "stderr",
     "output_type": "stream",
     "text": [
      "/Users/jelkastojanov/anaconda3/lib/python3.7/site-packages/outdated/utils.py:18: OutdatedPackageWarning: The package pingouin is out of date. Your version is 0.3.8, the latest is 0.3.12.\n",
      "Set the environment variable OUTDATED_IGNORE=1 to disable these warnings.\n",
      "  **kwargs\n",
      "/Users/jelkastojanov/anaconda3/lib/python3.7/site-packages/outdated/utils.py:18: OutdatedPackageWarning: The package outdated is out of date. Your version is 0.2.0, the latest is 0.2.1.\n",
      "Set the environment variable OUTDATED_IGNORE=1 to disable these warnings.\n",
      "  **kwargs\n"
     ]
    },
    {
     "ename": "ModuleNotFoundError",
     "evalue": "No module named 'utility'",
     "output_type": "error",
     "traceback": [
      "\u001b[0;31m---------------------------------------------------------------------------\u001b[0m",
      "\u001b[0;31mModuleNotFoundError\u001b[0m                       Traceback (most recent call last)",
      "\u001b[0;32m<ipython-input-6-097c5f50d13c>\u001b[0m in \u001b[0;36m<module>\u001b[0;34m\u001b[0m\n\u001b[1;32m      9\u001b[0m \u001b[0;32mimport\u001b[0m \u001b[0mnumpy\u001b[0m \u001b[0;32mas\u001b[0m \u001b[0mnp\u001b[0m\u001b[0;34m\u001b[0m\u001b[0;34m\u001b[0m\u001b[0m\n\u001b[1;32m     10\u001b[0m \u001b[0;32mfrom\u001b[0m \u001b[0mnumpy\u001b[0m\u001b[0;34m.\u001b[0m\u001b[0mcore\u001b[0m \u001b[0;32mimport\u001b[0m \u001b[0meinsumfunc\u001b[0m\u001b[0;34m\u001b[0m\u001b[0;34m\u001b[0m\u001b[0m\n\u001b[0;32m---> 11\u001b[0;31m \u001b[0;32mimport\u001b[0m \u001b[0mutility\u001b[0m \u001b[0;32mas\u001b[0m \u001b[0mut\u001b[0m\u001b[0;34m\u001b[0m\u001b[0;34m\u001b[0m\u001b[0m\n\u001b[0m\u001b[1;32m     12\u001b[0m \u001b[0;32mfrom\u001b[0m \u001b[0mnilearn\u001b[0m \u001b[0;32mimport\u001b[0m \u001b[0msignal\u001b[0m\u001b[0;34m\u001b[0m\u001b[0;34m\u001b[0m\u001b[0m\n\u001b[1;32m     13\u001b[0m \u001b[0;32mimport\u001b[0m \u001b[0mseaborn\u001b[0m \u001b[0;32mas\u001b[0m \u001b[0msns\u001b[0m\u001b[0;34m\u001b[0m\u001b[0;34m\u001b[0m\u001b[0m\n",
      "\u001b[0;31mModuleNotFoundError\u001b[0m: No module named 'utility'"
     ]
    }
   ],
   "source": [
    "# Load packages to convert formats\n",
    "import nibabel as nib\n",
    "import numpy as np\n",
    "import matplotlib.pyplot as plt\n",
    "import pandas as pd\n",
    "import seaborn as sn\n",
    "import pingouin\n",
    "from sklearn import preprocessing\n",
    "import numpy as np\n",
    "from numpy.core import einsumfunc\n",
    "import utility as ut\n",
    "from nilearn import signal\n",
    "import seaborn as sns\n",
    "%matplotlib inline"
   ]
  },
  {
   "cell_type": "code",
   "execution_count": null,
   "metadata": {},
   "outputs": [],
   "source": [
    "# File where the NMA fMRI data are\n",
    "path_data = \"/Volumes/DPhil_Jelka/fmri_data/hcp_task\"\n",
    "\n",
    "try: \n",
    "    os.chdir(path_data) \n",
    "except OSError as error: \n",
    "    print(error)  "
   ]
  },
  {
   "cell_type": "code",
   "execution_count": 4,
   "metadata": {},
   "outputs": [
    {
     "data": {
      "text/plain": [
       "'/Users/jelkastojanov/Documents/GitHub/NMA/garbage'"
      ]
     },
     "execution_count": 4,
     "metadata": {},
     "output_type": "execute_result"
    }
   ],
   "source": [
    "# Check if you successfully changed directory\n",
    "os.getcwd() "
   ]
  },
  {
   "cell_type": "code",
   "execution_count": null,
   "metadata": {},
   "outputs": [],
   "source": [
    "# Okay, you want hcp_task to be your specific directory for now\n",
    "HCP_DIR = \"/Volumes/DPhil_Jelka/fmri_data/hcp_task\"\n",
    "if not os.path.isdir(HCP_DIR):\n",
    "    os.mkdir(HCP_DIR)\n",
    "\n",
    "# The data shared for NMA projects is a subset of the full HCP dataset (0-338)\n",
    "N_SUBJECTS = 339\n",
    "\n",
    "# The data have already been aggregated into ROIs from the Glasser parcellation\n",
    "N_PARCELS = 360\n",
    "\n",
    "# The acquisition parameters for all tasks were identical\n",
    "TR = 0.72  # Time resolution, in seconds\n",
    "\n",
    "# The parcels are matched across hemispheres with the same order\n",
    "HEMIS = [\"Right\", \"Left\"]\n",
    "\n",
    "# Each experiment was repeated twice in each subject\n",
    "N_RUNS = 2\n",
    "\n",
    "# There are 7 tasks. Each has a number of 'conditions'\n",
    "\n",
    "EXPERIMENTS = {\n",
    "    'MOTOR'      : {'runs': [5,6],   'cond':['lf','rf','lh','rh','t','cue']},\n",
    "    'WM'         : {'runs': [7,8],   'cond':['0bk_body','0bk_faces','0bk_places','0bk_tools','2bk_body','2bk_faces','2bk_places','2bk_tools']},\n",
    "    'EMOTION'    : {'runs': [9,10],  'cond':['fear','neut']},\n",
    "    'GAMBLING'   : {'runs': [11,12], 'cond':['loss','win']},\n",
    "    'LANGUAGE'   : {'runs': [13,14], 'cond':['math','story']},\n",
    "    'RELATIONAL' : {'runs': [15,16], 'cond':['match','relation']},\n",
    "    'SOCIAL'     : {'runs': [17,18], 'cond':['mental','rnd']}\n",
    "}\n",
    "\n",
    "# You may want to limit the subjects used during code development. This will use all subjects."
   ]
  },
  {
   "cell_type": "code",
   "execution_count": null,
   "metadata": {},
   "outputs": [],
   "source": [
    "# Function to load one .npy timeseries file\n",
    "\n",
    "def load_single_timeseries(subject, experiment, run, remove_mean=True):\n",
    "    \"\"\"\n",
    "    Load timeseries data for a single subject and single run.\n",
    "  \n",
    "    Args:\n",
    "    subject (int):      0-based subject ID to load\n",
    "    experiment (str):   Name of experiment \n",
    "    run (int):          0-based run index, across all tasks\n",
    "    remove_mean (bool): If True, subtract the parcel-wise mean (typically the mean BOLD signal is not of interest)\n",
    "\n",
    "    Returns\n",
    "    ts (n_parcel x n_timepoint array): Array of BOLD data values\n",
    "\n",
    "    \"\"\"\n",
    "    bold_run  = EXPERIMENTS[experiment]['runs'][run]\n",
    "    bold_path = f\"{HCP_DIR}/subjects/{subject}/timeseries\"\n",
    "    bold_file = f\"bold{bold_run}_Atlas_MSMAll_Glasser360Cortical.npy\"\n",
    "    ts = np.load(f\"{bold_path}/{bold_file}\")\n",
    "    if remove_mean:\n",
    "        ts -= ts.mean(axis=1, keepdims=True)\n",
    "    return ts\n",
    "\n",
    "\n",
    "def load_evs(subject, experiment, run):\n",
    "    \"\"\"Load EVs (explanatory variables) data for one task experiment.\n",
    "\n",
    "    Args:\n",
    "    subject (int): 0-based subject ID to load\n",
    "    experiment (str) : Name of experiment\n",
    "\n",
    "    Returns\n",
    "    evs (list of lists): A list of frames associated with each condition\n",
    "\n",
    "    \"\"\"\n",
    "    frames_list = []\n",
    "    task_key = 'tfMRI_'+ experiment + '_'+['RL','LR'][run]\n",
    "    for cond in EXPERIMENTS[experiment]['cond']:    \n",
    "        ev_file  = f\"{HCP_DIR}/subjects/{subject}/EVs/{task_key}/{cond}.txt\"\n",
    "        ev_array = np.loadtxt(ev_file, ndmin=2, unpack=True)\n",
    "        ev       = dict(zip([\"onset\", \"duration\", \"amplitude\"], ev_array))\n",
    "    \n",
    "    # Determine when trial starts, rounded down\n",
    "        start = np.floor(ev[\"onset\"] / TR).astype(int)\n",
    "    \n",
    "    # Use trial duration to determine how many frames to include for trial\n",
    "        duration = np.ceil(ev[\"duration\"] / TR).astype(int)\n",
    "    \n",
    "    # Take the range of frames that correspond to this specific trial\n",
    "        frames = [s + np.arange(0, d) for s, d in zip(start, duration)]\n",
    "        frames_list.append(frames)\n",
    "    \n",
    "    return frames_list"
   ]
  },
  {
   "cell_type": "code",
   "execution_count": null,
   "metadata": {},
   "outputs": [],
   "source": [
    "my_exp  = 'WM'\n",
    "my_subj = 2\n",
    "my_run  = 0\n",
    "\n",
    "data_example = load_single_timeseries(subject = my_subj, experiment = my_exp, run = my_run, remove_mean = True)\n",
    "\n",
    "print(data_example.shape) # 360 ROIs, 405 timepoints\n",
    "print(data_example) # np.ndarray"
   ]
  },
  {
   "cell_type": "code",
   "execution_count": null,
   "metadata": {},
   "outputs": [],
   "source": [
    "# Info about regions\n",
    "regions = np.load(f\"{HCP_DIR}/regions.npy\").T\n",
    "region_info = dict(\n",
    "    name=regions[0].tolist(),\n",
    "    network=regions[1],\n",
    "    hemi=['Right']*int(N_PARCELS/2) + ['Left']*int(N_PARCELS/2),\n",
    ")"
   ]
  },
  {
   "cell_type": "code",
   "execution_count": null,
   "metadata": {},
   "outputs": [],
   "source": [
    "# We want ROIs in columns\n",
    "regions_T = np.transpose(regions)"
   ]
  },
  {
   "cell_type": "code",
   "execution_count": null,
   "metadata": {},
   "outputs": [],
   "source": [
    "# Check how many networks are there\n",
    "from collections import Counter\n",
    "\n",
    "# Function to get unique values\n",
    "def unique(list1):\n",
    "   \n",
    "    # Print directly by using * symbol\n",
    "    print(*Counter(list1))\n",
    "\n",
    "unique(regions[1]) #12 networks"
   ]
  },
  {
   "cell_type": "code",
   "execution_count": null,
   "metadata": {},
   "outputs": [],
   "source": [
    "# Load explanatory variables - No clue what they current mean\n",
    "evs = load_evs(subject = my_subj, experiment = my_exp, run = my_run)"
   ]
  },
  {
   "cell_type": "code",
   "execution_count": null,
   "metadata": {},
   "outputs": [],
   "source": [
    "# Turn regions into a pd.dataframe\n",
    "df_regions = pd.DataFrame(regions_T, columns = ['ROI', 'Network', 'Hemi'])\n",
    "print(df_regions)"
   ]
  },
  {
   "cell_type": "code",
   "execution_count": null,
   "metadata": {},
   "outputs": [],
   "source": [
    "# See how many regions you have for each network\n",
    "df_regions['Network'].value_counts() # Not even close to an equal number"
   ]
  },
  {
   "cell_type": "code",
   "execution_count": null,
   "metadata": {},
   "outputs": [],
   "source": [
    "# Again, we want ROIs in columns\n",
    "data_example_T = np.transpose(data_example)\n",
    "data_example_df = pd.DataFrame(data_example_T, columns = [df_regions['ROI'], df_regions['Network']])\n",
    "print(data_example_df.shape) #405 time points, 360 ROIs"
   ]
  },
  {
   "cell_type": "code",
   "execution_count": null,
   "metadata": {},
   "outputs": [],
   "source": [
    "# Transform original data_example to a pd.DataFrame\n",
    "data_example_df_original = pd.DataFrame(data_example)\n",
    "print(data_example_df_original)"
   ]
  },
  {
   "cell_type": "code",
   "execution_count": null,
   "metadata": {},
   "outputs": [],
   "source": [
    "# Merge ROIs and networks\n",
    "Regions_Neural = df_regions.merge(data_example_df_original, left_index=True, right_index=True)"
   ]
  },
  {
   "cell_type": "code",
   "execution_count": null,
   "metadata": {},
   "outputs": [],
   "source": [
    "Regions_Neural.head()"
   ]
  },
  {
   "cell_type": "code",
   "execution_count": null,
   "metadata": {},
   "outputs": [],
   "source": [
    "index_Network = np.arange(0, 360)\n",
    "print(index_Network)"
   ]
  },
  {
   "cell_type": "code",
   "execution_count": null,
   "metadata": {},
   "outputs": [],
   "source": [
    "columns_Network = Regions_Neural.columns\n",
    "print(columns_Network)"
   ]
  },
  {
   "cell_type": "code",
   "execution_count": null,
   "metadata": {},
   "outputs": [],
   "source": [
    "# Uncorrected full correlations between ROIs\n",
    "ROI_CorrMatrix_Full = data_example_df.corr()\n",
    "print(ROI_CorrMatrix_Full)"
   ]
  },
  {
   "cell_type": "code",
   "execution_count": null,
   "metadata": {},
   "outputs": [],
   "source": [
    "# Heatmap - Didn't run, matrix is too big\n",
    "sn.heatmap(ROI_CorrMatrix_Full, annot=True)\n",
    "plt.show()"
   ]
  },
  {
   "cell_type": "code",
   "execution_count": null,
   "metadata": {},
   "outputs": [],
   "source": [
    "# Uncorrected partial correlations between ROIs\n",
    "ROI_CorrMatrix_Partial = data_example_df.pcorr()\n",
    "print(ROI_CorrMatrix_Partial)"
   ]
  },
  {
   "cell_type": "code",
   "execution_count": null,
   "metadata": {},
   "outputs": [],
   "source": [
    "# The following procedure normalizes the response within ROIs over time\n",
    "scaler = preprocessing.StandardScaler().fit(data_example_df)\n",
    "data_example_df_zscore = scaler.transform(data_example_df)\n",
    "data_example_df_zscore = pd.DataFrame(data_example_df_zscore, columns = data_example_df.columns)"
   ]
  },
  {
   "cell_type": "code",
   "execution_count": null,
   "metadata": {},
   "outputs": [],
   "source": [
    "print(data_example_df)"
   ]
  },
  {
   "cell_type": "code",
   "execution_count": null,
   "metadata": {},
   "outputs": [],
   "source": [
    "# Sanity check - Mean\n",
    "np.mean(data_example_df_zscore['R_4'])"
   ]
  },
  {
   "cell_type": "code",
   "execution_count": null,
   "metadata": {},
   "outputs": [],
   "source": [
    "# Sanity check - SD\n",
    "np.std(data_example_df_zscore['R_4'])"
   ]
  },
  {
   "cell_type": "markdown",
   "metadata": {},
   "source": [
    "#### Note:\n",
    "\n",
    "Data for all participants and tasks (0-back and 2-back) are downloaded, pre-processed and analysed from here."
   ]
  },
  {
   "cell_type": "code",
   "execution_count": null,
   "metadata": {},
   "outputs": [],
   "source": [
    "# Add modules folder to Python's search path\n",
    "from os import times\n",
    "import sys\n",
    "from pathlib import Path\n",
    "from os.path import dirname, realpath, abspath\n",
    "script_dir = Path(abspath(''))\n",
    "module_dir = str(script_dir)\n",
    "sys.path.insert(0, module_dir + '/modules')\n",
    "print(module_dir)\n",
    "print(script_dir)"
   ]
  },
  {
   "cell_type": "code",
   "execution_count": null,
   "metadata": {},
   "outputs": [],
   "source": [
    "import task\n",
    "db_path = '{}/data/hcp_task'.format(module_dir)\n",
    "group = task.Group(db_path)"
   ]
  },
  {
   "cell_type": "code",
   "execution_count": null,
   "metadata": {},
   "outputs": [],
   "source": [
    "# Load 0-back data - X are the features, y are the labels\n",
    "X_0back, y_0back = group.extract_cons(['0bk_faces', '0bk_tools', '0bk_places', '0bk_body'])"
   ]
  },
  {
   "cell_type": "code",
   "execution_count": null,
   "metadata": {},
   "outputs": [],
   "source": [
    "# Sanity check\n",
    "print(X_0back.shape, y_0back.shape)"
   ]
  },
  {
   "cell_type": "code",
   "execution_count": null,
   "metadata": {},
   "outputs": [],
   "source": [
    "# Load 2-back data\n",
    "X_2back, y_2back = group.extract_cons(['2bk_faces', '2bk_tools', '2bk_places', '2bk_body'])"
   ]
  },
  {
   "cell_type": "code",
   "execution_count": null,
   "metadata": {
    "scrolled": true
   },
   "outputs": [],
   "source": [
    "print(X_2back.shape, y_2back.shape)\n",
    "\n",
    "# 28080 - 360 (number of ROIs) x 78 (length of the time series)\n",
    "# 1356 - 339 (number of subjects) x 4 (number of conditions)"
   ]
  },
  {
   "cell_type": "markdown",
   "metadata": {},
   "source": [
    "#### Note:\n",
    "\n",
    "Ignore the section below."
   ]
  },
  {
   "cell_type": "code",
   "execution_count": null,
   "metadata": {},
   "outputs": [],
   "source": [
    "# Create separate arrays with ROI names and time stamps\n",
    "ROIs = np.array(df_regions['ROI'])\n",
    "ROIs_Full = pd.DataFrame(np.repeat(ROIs, 78), columns = ['ROI'])\n",
    "\n",
    "Timepoints = np.array(range(1,79))\n",
    "Timepoints_Full = pd.DataFrame(np.tile(Timepoints, 360), columns = ['Time'])"
   ]
  },
  {
   "cell_type": "code",
   "execution_count": null,
   "metadata": {},
   "outputs": [],
   "source": [
    "# Merge the two and create a combined column\n",
    "ROIs_t = ROIs_Full.merge(Timepoints_Full, left_index=True, right_index=True)\n",
    "ROIs_t['Time'] = ROIs_t['Time'].astype(str)\n",
    "ROIs_t['ROI_t'] = ROIs_t['ROI'].str.cat(ROIs_t['Time'], sep ='_')"
   ]
  },
  {
   "cell_type": "code",
   "execution_count": null,
   "metadata": {},
   "outputs": [],
   "source": [
    "# Sanity check\n",
    "print(ROIs_t)"
   ]
  },
  {
   "cell_type": "code",
   "execution_count": null,
   "metadata": {},
   "outputs": [],
   "source": [
    "# Convert the features space to pd.DataFrame\n",
    "X_0back_df = pd.DataFrame(X_0back, columns = [ROIs_t['ROI_t']])\n",
    "print(X_0back_df)"
   ]
  },
  {
   "cell_type": "code",
   "execution_count": null,
   "metadata": {},
   "outputs": [],
   "source": [
    "# Add the following column: Participant \n",
    "X_0back_df['Participant'] = np.repeat(np.array(range(0,339)), 4)"
   ]
  },
  {
   "cell_type": "code",
   "execution_count": null,
   "metadata": {},
   "outputs": [],
   "source": [
    "# Add the following column: Condition\n",
    "X_0back_df['Condition'] = pd.Series(np.tile(np.array(['faces', 'tools', 'places', 'body']), 339))"
   ]
  },
  {
   "cell_type": "code",
   "execution_count": null,
   "metadata": {},
   "outputs": [],
   "source": [
    "# Sanity check\n",
    "print(X_0back_df.head())\n",
    "X_0back_df.dtypes"
   ]
  },
  {
   "cell_type": "code",
   "execution_count": null,
   "metadata": {},
   "outputs": [],
   "source": [
    "# Test if you can run classifiers in this data structure\n",
    "from sklearn.linear_model import LogisticRegressionCV\n",
    "\n",
    "# GLM\n",
    "Classification = LogisticRegressionCV(cv = 8, random_state = 0, multi_class = 'multinomial', max_iter = 10000).fit(X_0back_df.iloc[:, 0:28], X_0back_df.iloc[:, 28081])"
   ]
  },
  {
   "cell_type": "code",
   "execution_count": null,
   "metadata": {},
   "outputs": [],
   "source": [
    "# SVM\n",
    "from sklearn import svm\n",
    "\n",
    "svm.SVC().fit(X_0back_df.iloc[:, 0:28], X_0back_df.iloc[:, 28081])"
   ]
  },
  {
   "cell_type": "markdown",
   "metadata": {},
   "source": [
    "#### Note:\n",
    "\n",
    "Functional code for reshaping the dataframe can be found below."
   ]
  },
  {
   "cell_type": "code",
   "execution_count": null,
   "metadata": {},
   "outputs": [],
   "source": [
    "rois = regions[0]\n",
    "subjects = np.arange(339)\n",
    "conditions_0back = ['faces', 'tools', 'places', 'body']\n",
    "conditions_2back = ['faces', 'tools', 'places', 'body']"
   ]
  },
  {
   "cell_type": "code",
   "execution_count": null,
   "metadata": {},
   "outputs": [],
   "source": [
    "# Reshape the dataframe\n",
    "index_0back = []\n",
    "for cond in conditions_0back:\n",
    "    for subj in subjects:\n",
    "        for roi in rois:\n",
    "            index_0back.append((cond, subj, roi))\n",
    "len(index_0back)"
   ]
  },
  {
   "cell_type": "code",
   "execution_count": null,
   "metadata": {},
   "outputs": [],
   "source": [
    "index_2back = []\n",
    "for cond in conditions_2back:\n",
    "    for subj in subjects:\n",
    "        for roi in rois:\n",
    "            index_2back.append((cond, subj, roi))\n",
    "len(index_2back)"
   ]
  },
  {
   "cell_type": "code",
   "execution_count": null,
   "metadata": {},
   "outputs": [],
   "source": [
    "# Reshape the 0-back task dataframe\n",
    "X_new_0back = X_0back.reshape(488160, 78)\n",
    "\n",
    "index_0back = pd.MultiIndex.from_tuples(index_0back)\n",
    "X_df_0back = pd.DataFrame(X_new_0back, index = index_0back)\n",
    "X_df_0back.index.names = ['Condition', 'Subject_id', 'ROI']"
   ]
  },
  {
   "cell_type": "code",
   "execution_count": null,
   "metadata": {},
   "outputs": [],
   "source": [
    "# Sanity check\n",
    "print(X_df_0back.head())\n",
    "print(X_df_0back.shape)"
   ]
  },
  {
   "cell_type": "code",
   "execution_count": null,
   "metadata": {},
   "outputs": [],
   "source": [
    "# Reshape the 2-back task dataframe\n",
    "X_new_2back = X_2back.reshape(488160, 78)\n",
    "\n",
    "index_2back = pd.MultiIndex.from_tuples(index_2back)\n",
    "X_df_2back = pd.DataFrame(X_new_2back, index = index_2back)\n",
    "X_df_2back.index.names = ['Condition', 'Subject_id', 'ROI']"
   ]
  },
  {
   "cell_type": "code",
   "execution_count": null,
   "metadata": {},
   "outputs": [],
   "source": [
    "# Sanity check\n",
    "print(X_df_2back.head())\n",
    "print(X_df_2back.shape)"
   ]
  },
  {
   "cell_type": "code",
   "execution_count": null,
   "metadata": {},
   "outputs": [],
   "source": [
    "# Run to unpack indices (to convert them to columns) - 0-back\n",
    "X_df_0back.reset_index(level=0, inplace=True)\n",
    "X_df_0back.reset_index(level=0, inplace=True)\n",
    "X_df_0back.reset_index(level=0, inplace=True)"
   ]
  },
  {
   "cell_type": "code",
   "execution_count": null,
   "metadata": {},
   "outputs": [],
   "source": [
    "# Run to unpack indices (to convert them to columns) - 2-back\n",
    "X_df_2back.reset_index(level=0, inplace=True)\n",
    "X_df_2back.reset_index(level=0, inplace=True)\n",
    "X_df_2back.reset_index(level=0, inplace=True)"
   ]
  },
  {
   "cell_type": "code",
   "execution_count": null,
   "metadata": {},
   "outputs": [],
   "source": [
    "# Add the network column\n",
    "df_regions.reset_index(level=0, inplace=True)\n",
    "print(df_regions)"
   ]
  },
  {
   "cell_type": "code",
   "execution_count": null,
   "metadata": {},
   "outputs": [],
   "source": [
    "# Sanity check\n",
    "print(X_df_0back.head())\n",
    "print(X_df_0back.shape)"
   ]
  },
  {
   "cell_type": "code",
   "execution_count": null,
   "metadata": {},
   "outputs": [],
   "source": [
    "# Adding the information about the brain network to the data frame\n",
    "X_0back_full = X_df_0back.merge(df_regions, left_on='ROI', right_on='ROI')\n",
    "X_2back_full = X_df_2back.merge(df_regions, left_on='ROI', right_on='ROI')"
   ]
  },
  {
   "cell_type": "code",
   "execution_count": null,
   "metadata": {},
   "outputs": [],
   "source": [
    "# Sanity check\n",
    "X_0back_full.head()"
   ]
  },
  {
   "cell_type": "code",
   "execution_count": null,
   "metadata": {},
   "outputs": [],
   "source": [
    "# Sanity check\n",
    "X_2back_full.head()"
   ]
  },
  {
   "cell_type": "code",
   "execution_count": null,
   "metadata": {},
   "outputs": [],
   "source": [
    "X_0back_full_net.head()"
   ]
  },
  {
   "cell_type": "code",
   "execution_count": null,
   "metadata": {},
   "outputs": [],
   "source": [
    "X_2back_full_net.head()"
   ]
  },
  {
   "cell_type": "code",
   "execution_count": null,
   "metadata": {},
   "outputs": [],
   "source": [
    "# Set indices\n",
    "X_0back_full = X_0back_full.set_index(['Subject_id', 'Condition', 'ROI', 'Network'])\n",
    "X_2back_full = X_2back_full.set_index(['Subject_id', 'Condition', 'ROI', 'Network'])"
   ]
  },
  {
   "cell_type": "code",
   "execution_count": null,
   "metadata": {},
   "outputs": [],
   "source": [
    "# Delete unnecessary columns\n",
    "del X_0back_full[\"index\"]\n",
    "del X_0back_full[\"Hemi\"]\n",
    "del X_2back_full[\"index\"]\n",
    "del X_2back_full[\"Hemi\"]"
   ]
  },
  {
   "cell_type": "code",
   "execution_count": null,
   "metadata": {},
   "outputs": [],
   "source": [
    "X_2back_0back_contr_ROI = X_2back_full - X_0back_full"
   ]
  },
  {
   "cell_type": "code",
   "execution_count": null,
   "metadata": {},
   "outputs": [],
   "source": [
    "# Sanity check\n",
    "X_2back_0back_contr_ROI.head()"
   ]
  },
  {
   "cell_type": "code",
   "execution_count": null,
   "metadata": {},
   "outputs": [],
   "source": [
    "X_0back_full_grouped = X_0back_full.groupby(['Subject_id', 'ROI'])\n",
    "#scaler = preprocessing.StandardScaler().fit(X_0back_full_grouped.iloc[:, 3:81])\n",
    "nilearn.signal.clean(X_0back_full.iloc[:, 3:81], runs=None, detrend=True, standardize='zscore') \n",
    "#data_example_df_zscore = scaler.transform(data_example_df)"
   ]
  },
  {
   "cell_type": "markdown",
   "metadata": {},
   "source": [
    "#### Note: \n",
    "\n",
    "Calculate the mean activity on the network level."
   ]
  },
  {
   "cell_type": "code",
   "execution_count": null,
   "metadata": {},
   "outputs": [],
   "source": [
    "# Group by condition, network and participant and calculate the mean network activity at each of the 78 time steps\n",
    "X_0back_full_net = X_0back_full.groupby(['Subject_id', 'Condition', 'Network']).mean()\n",
    "X_2back_full_net = X_2back_full.groupby(['Subject_id', 'Condition', 'Network']).mean()"
   ]
  },
  {
   "cell_type": "code",
   "execution_count": null,
   "metadata": {},
   "outputs": [],
   "source": [
    "# 339 (subj) x 4 (cond) x 12 (net) = 16272 rows\n",
    "X_0back_full_net.shape"
   ]
  },
  {
   "cell_type": "code",
   "execution_count": null,
   "metadata": {},
   "outputs": [],
   "source": [
    "# Sanity check\n",
    "X_0back_full_net.head()"
   ]
  },
  {
   "cell_type": "code",
   "execution_count": null,
   "metadata": {},
   "outputs": [],
   "source": [
    "# Return indices to columns (0-back)\n",
    "X_0back_full_net.reset_index(level=0, inplace=True)\n",
    "X_0back_full_net.reset_index(level=0, inplace=True)\n",
    "X_0back_full_net.reset_index(level=0, inplace=True)"
   ]
  },
  {
   "cell_type": "code",
   "execution_count": null,
   "metadata": {},
   "outputs": [],
   "source": [
    "# Return indices to columns (2-back)\n",
    "X_2back_full_net.reset_index(level=0, inplace=True)\n",
    "X_2back_full_net.reset_index(level=0, inplace=True)\n",
    "X_2back_full_net.reset_index(level=0, inplace=True)"
   ]
  },
  {
   "cell_type": "code",
   "execution_count": null,
   "metadata": {},
   "outputs": [],
   "source": [
    "# Sanity check\n",
    "X_0back_full_net.head()"
   ]
  },
  {
   "cell_type": "code",
   "execution_count": null,
   "metadata": {},
   "outputs": [],
   "source": [
    "# Sanity check\n",
    "X_2back_full_net.head()"
   ]
  },
  {
   "cell_type": "code",
   "execution_count": null,
   "metadata": {},
   "outputs": [],
   "source": [
    "# Delete the column you don't need\n",
    "del X_0back_full_net[\"index\"]\n",
    "del X_2back_full_net[\"index\"]"
   ]
  },
  {
   "cell_type": "markdown",
   "metadata": {},
   "source": [
    "#### Note:\n",
    "\n",
    "Ignore the code below - DO NOT rename the columns as that will throw an error when you try to subtract the 2-back and 0-back dataframes."
   ]
  },
  {
   "cell_type": "code",
   "execution_count": null,
   "metadata": {},
   "outputs": [],
   "source": [
    "# Rename time point columns\n",
    "cols_0back = X_0back_full_net.columns\n",
    "cols_2back = X_2back_full_net.columns"
   ]
  },
  {
   "cell_type": "code",
   "execution_count": null,
   "metadata": {},
   "outputs": [],
   "source": [
    "cols_0back = np.asarray(cols_0back, dtype=str)\n",
    "cols_2back = np.asarray(cols_2back, dtype=str)"
   ]
  },
  {
   "cell_type": "code",
   "execution_count": null,
   "metadata": {},
   "outputs": [],
   "source": [
    "cols_0back = np.core.defchararray.add(cols_0back, '_0_back')\n",
    "cols_2back = np.core.defchararray.add(cols_2back, '_2_back')\n",
    "\n",
    "cols_0back[0] = 'Network'\n",
    "cols_0back[1] = 'Condition'\n",
    "cols_0back[2] = 'Subject_id'\n",
    "\n",
    "cols_2back[0] = 'Network'\n",
    "cols_2back[1] = 'Condition'\n",
    "cols_2back[2] = 'Subject_id'"
   ]
  },
  {
   "cell_type": "code",
   "execution_count": null,
   "metadata": {},
   "outputs": [],
   "source": [
    "# Sanity check\n",
    "print(cols_0back)\n",
    "print(cols_2back)"
   ]
  },
  {
   "cell_type": "code",
   "execution_count": null,
   "metadata": {},
   "outputs": [],
   "source": [
    "# Change the column names\n",
    "X_0back_full_net.columns = cols_0back\n",
    "X_2back_full_net.columns = cols_2back"
   ]
  },
  {
   "cell_type": "code",
   "execution_count": null,
   "metadata": {},
   "outputs": [],
   "source": [
    "# Sanity check\n",
    "X_0back_full_net.head()"
   ]
  },
  {
   "cell_type": "code",
   "execution_count": null,
   "metadata": {},
   "outputs": [],
   "source": [
    "# Sanity check\n",
    "X_2back_full_net.head()"
   ]
  },
  {
   "cell_type": "code",
   "execution_count": null,
   "metadata": {},
   "outputs": [],
   "source": [
    "# Merge 0-back and 2-back tasks\n",
    "X_0back_2back = X_0back_full_net.merge(X_2back_full_net, left_on=['Network', 'Condition', 'Subject_id'], right_on=['Network', 'Condition', 'Subject_id'])"
   ]
  },
  {
   "cell_type": "code",
   "execution_count": null,
   "metadata": {},
   "outputs": [],
   "source": [
    "# Sanity check\n",
    "X_0back_2back.head(12)"
   ]
  },
  {
   "cell_type": "markdown",
   "metadata": {},
   "source": [
    "#### Note:\n",
    "\n",
    "Create a contrast dataframe."
   ]
  },
  {
   "cell_type": "code",
   "execution_count": null,
   "metadata": {},
   "outputs": [],
   "source": [
    "# Contrast 2-back - 0-back\n",
    "X_0back_full_net = X_0back_full_net.set_index(['Network', 'Condition', 'Subject_id'])\n",
    "X_2back_full_net = X_2back_full_net.set_index(['Network', 'Condition', 'Subject_id'])"
   ]
  },
  {
   "cell_type": "code",
   "execution_count": null,
   "metadata": {},
   "outputs": [],
   "source": [
    "# Sanity check\n",
    "X_0back_full_net.head()"
   ]
  },
  {
   "cell_type": "code",
   "execution_count": null,
   "metadata": {},
   "outputs": [],
   "source": [
    "# Sanity check\n",
    "X_2back_full_net.head()"
   ]
  },
  {
   "cell_type": "code",
   "execution_count": null,
   "metadata": {},
   "outputs": [],
   "source": [
    "# Create a contrast dataframe\n",
    "X_2back_0back_contr = X_2back_full_net - X_0back_full_net"
   ]
  },
  {
   "cell_type": "code",
   "execution_count": null,
   "metadata": {},
   "outputs": [],
   "source": [
    "X_2back_0back_contr.head()"
   ]
  },
  {
   "cell_type": "code",
   "execution_count": null,
   "metadata": {},
   "outputs": [],
   "source": [
    "# Return indices to columns (2-back)\n",
    "X_2back_0back_contr.reset_index(level=0, inplace=True)\n",
    "X_2back_0back_contr.reset_index(level=0, inplace=True)\n",
    "X_2back_0back_contr.reset_index(level=0, inplace=True)"
   ]
  },
  {
   "cell_type": "code",
   "execution_count": null,
   "metadata": {},
   "outputs": [],
   "source": [
    "X_2back_0back_contr_ROI.reset_index(level=0, inplace=True)\n",
    "X_2back_0back_contr_ROI.reset_index(level=0, inplace=True)\n",
    "X_2back_0back_contr_ROI.reset_index(level=0, inplace=True)\n",
    "X_2back_0back_contr_ROI.reset_index(level=0, inplace=True)"
   ]
  },
  {
   "cell_type": "code",
   "execution_count": null,
   "metadata": {},
   "outputs": [],
   "source": [
    "# Split the networks - Original ROI activity\n",
    "Visual1 = X_2back_0back_contr_ROI.loc[X_2back_0back_contr_ROI['Network'] == 'Visual1']\n",
    "Visual2 = X_2back_0back_contr_ROI.loc[X_2back_0back_contr_ROI['Network'] == 'Visual2']\n",
    "Somatomotor = X_2back_0back_contr_ROI.loc[X_2back_0back_contr_ROI['Network'] == 'Somatomotor']\n",
    "Cingulo_Oper = X_2back_0back_contr_ROI.loc[X_2back_0back_contr_ROI['Network'] == 'Cingulo-Oper']\n",
    "Language = X_2back_0back_contr_ROI.loc[X_2back_0back_contr_ROI['Network'] == 'Language']\n",
    "Default = X_2back_0back_contr_ROI.loc[X_2back_0back_contr_ROI['Network'] == 'Default']\n",
    "Frontopariet = X_2back_0back_contr_ROI.loc[X_2back_0back_contr_ROI['Network'] == 'Frontopariet']\n",
    "Auditory = X_2back_0back_contr_ROI.loc[X_2back_0back_contr_ROI['Network'] == 'Auditory']\n",
    "Dorsal_atten = X_2back_0back_contr_ROI.loc[X_2back_0back_contr_ROI['Network'] == 'Dorsal-atten']\n",
    "Posterior_Mu = X_2back_0back_contr_ROI.loc[X_2back_0back_contr_ROI['Network'] == 'Posterior-Mu']\n",
    "Orbito_Affec = X_2back_0back_contr_ROI.loc[X_2back_0back_contr_ROI['Network'] == 'Orbito-Affec']\n",
    "Ventral_Mult = X_2back_0back_contr_ROI.loc[X_2back_0back_contr_ROI['Network'] == 'Ventral-Mult']"
   ]
  },
  {
   "cell_type": "code",
   "execution_count": null,
   "metadata": {},
   "outputs": [],
   "source": [
    "# Split the networks - Mean activity\n",
    "Visual1_mean = X_2back_0back_contr.loc[X_2back_0back_contr['Network'] == 'Visual1']\n",
    "Visual2_mean = X_2back_0back_contr.loc[X_2back_0back_contr['Network'] == 'Visual2']\n",
    "Somatomotor_mean = X_2back_0back_contr.loc[X_2back_0back_contr['Network'] == 'Somatomotor']\n",
    "Cingulo_Oper_mean = X_2back_0back_contr.loc[X_2back_0back_contr['Network'] == 'Cingulo-Oper']\n",
    "Language_mean = X_2back_0back_contr.loc[X_2back_0back_contr['Network'] == 'Language']\n",
    "Default_mean = X_2back_0back_contr.loc[X_2back_0back_contr['Network'] == 'Default']\n",
    "Frontopariet_mean = X_2back_0back_contr.loc[X_2back_0back_contr['Network'] == 'Frontopariet']\n",
    "Auditory_mean = X_2back_0back_contr.loc[X_2back_0back_contr['Network'] == 'Auditory']\n",
    "Dorsal_atten_mean = X_2back_0back_contr.loc[X_2back_0back_contr['Network'] == 'Dorsal-atten']\n",
    "Posterior_Mu_mean = X_2back_0back_contr.loc[X_2back_0back_contr['Network'] == 'Posterior-Mu']\n",
    "Orbito_Affec_mean = X_2back_0back_contr.loc[X_2back_0back_contr['Network'] == 'Orbito-Affec']\n",
    "Ventral_Mult_mean = X_2back_0back_contr.loc[X_2back_0back_contr['Network'] == 'Ventral-Mult']"
   ]
  },
  {
   "cell_type": "code",
   "execution_count": null,
   "metadata": {},
   "outputs": [],
   "source": [
    "Visual2.head(12)"
   ]
  },
  {
   "cell_type": "code",
   "execution_count": null,
   "metadata": {},
   "outputs": [],
   "source": [
    "Visual2_mean.head(12)"
   ]
  },
  {
   "cell_type": "markdown",
   "metadata": {},
   "source": [
    "#### NEXT STEPS:"
   ]
  },
  {
   "cell_type": "code",
   "execution_count": null,
   "metadata": {},
   "outputs": [],
   "source": [
    "# TO DO:\n",
    "# NORMALIZING DATA - It is very important to figure out what is meant by this and how to execute it.\n",
    "# NORMALIZING DATA - This might probably need to be done before creating contrasts or anything.\n",
    "# WITHIN-NETWORK CLASSIFICATION - Doing the classification within each network + Regularization?\n",
    "# CROSS-VALIDATION - Are we 'manually' splitting the data into train/test or is the function doing that for us?\n",
    "# REGULARIZATION - L2 applied everywhere"
   ]
  },
  {
   "cell_type": "code",
   "execution_count": 30,
   "metadata": {},
   "outputs": [],
   "source": [
    "# sklearn imports\n",
    "from sklearn.model_selection import train_test_split\n",
    "from sklearn.model_selection import cross_val_score\n",
    "from sklearn.model_selection import RepeatedStratifiedKFold\n",
    "from sklearn.linear_model import LogisticRegression"
   ]
  },
  {
   "cell_type": "markdown",
   "metadata": {},
   "source": [
    "#### Note:\n",
    "Fitting the GLM"
   ]
  },
  {
   "cell_type": "code",
   "execution_count": 31,
   "metadata": {},
   "outputs": [],
   "source": [
    "# Define the model - Same for all networks\n",
    "# Dimensionality:\n",
    "# 1) ROI-level\n",
    "# 2) Average network activity\n",
    "model = LogisticRegression(multi_class = 'multinomial', max_iter = 10000, solver='lbfgs', penalty='l2', C=1)\n",
    "\n",
    "# Define the model evaluation procedure - Same for all networks\n",
    "cv = RepeatedStratifiedKFold(n_splits=10, n_repeats=3, random_state=1)"
   ]
  },
  {
   "cell_type": "markdown",
   "metadata": {},
   "source": [
    "#### Note: \n",
    "\n",
    "Network-by-network analysis (with ROI-level activity)"
   ]
  },
  {
   "cell_type": "code",
   "execution_count": null,
   "metadata": {},
   "outputs": [],
   "source": [
    "# Evaluate the model and collect the scores - Visual 1\n",
    "n_scores_V1_ROI = cross_val_score(model, Visual1.iloc[:, 4:82], Visual1.iloc[:, 2], scoring='accuracy', cv=cv, n_jobs=-1)\n",
    "\n",
    "# Report the model performance (M = 0.480, SD = 0.018)\n",
    "print('Mean Accuracy: %.3f (%.3f)' % (np.mean(n_scores_V1_ROI), np.std(n_scores_V1_ROI)))"
   ]
  },
  {
   "cell_type": "code",
   "execution_count": null,
   "metadata": {},
   "outputs": [],
   "source": [
    "# Evaluate the model and collect the scores - Visual 2\n",
    "n_scores_V2_ROI = cross_val_score(model, Visual2.iloc[:, 4:82], Visual2.iloc[:, 2], scoring='accuracy', cv=cv, n_jobs=-1)\n",
    "\n",
    "# Report the model performance (M = 0.526, SD = 0.005)\n",
    "print('Mean Accuracy: %.3f (%.3f)' % (np.mean(n_scores_V2_ROI), np.std(n_scores_V2_ROI)))"
   ]
  },
  {
   "cell_type": "code",
   "execution_count": null,
   "metadata": {},
   "outputs": [],
   "source": [
    "# Evaluate the model and collect the scores - Somatomotor\n",
    "n_scores_SM_ROI = cross_val_score(model, Somatomotor.iloc[:, 4:82], Somatomotor.iloc[:, 2], scoring='accuracy', cv=cv, n_jobs=-1)\n",
    "\n",
    "# Report the model performance (M = 0.404, SD = 0.007)\n",
    "print('Mean Accuracy: %.3f (%.3f)' % (np.mean(n_scores_SM_ROI), np.std(n_scores_SM_ROI)))"
   ]
  },
  {
   "cell_type": "code",
   "execution_count": null,
   "metadata": {},
   "outputs": [],
   "source": [
    "# Evaluate the model and collect the scores - Cingulo-Oper\n",
    "n_scores_CO_ROI = cross_val_score(model, Cingulo_Oper.iloc[:, 4:82], Cingulo_Oper.iloc[:, 2], scoring='accuracy', cv=cv, n_jobs=-1)\n",
    "\n",
    "# Report the model performance (M = 0.412, SD = 0.005)\n",
    "print('Mean Accuracy: %.3f (%.3f)' % (np.mean(n_scores_CO_ROI), np.std(n_scores_CO_ROI)))"
   ]
  },
  {
   "cell_type": "code",
   "execution_count": null,
   "metadata": {},
   "outputs": [],
   "source": [
    "# Evaluate the model and collect the scores - Language\n",
    "n_scores_LA_ROI = cross_val_score(model, Language.iloc[:, 4:82], Language.iloc[:, 2], scoring='accuracy', cv=cv, n_jobs=-1)\n",
    "\n",
    "# Report the model performance (M = 0.51, SD = 0.008)\n",
    "print('Mean Accuracy: %.3f (%.3f)' % (np.mean(n_scores_LA_ROI), np.std(n_scores_LA_ROI)))"
   ]
  },
  {
   "cell_type": "code",
   "execution_count": null,
   "metadata": {},
   "outputs": [],
   "source": [
    "# Evaluate the model and collect the scores - Default\n",
    "n_scores_DE_ROI = cross_val_score(model, Default.iloc[:, 4:82], Default.iloc[:, 2], scoring='accuracy', cv=cv, n_jobs=-1)\n",
    "\n",
    "# Report the model performance (M = 0.424, SD = 0.009)\n",
    "print('Mean Accuracy: %.3f (%.3f)' % (np.mean(n_scores_DE_ROI), np.std(n_scores_DE_ROI)))"
   ]
  },
  {
   "cell_type": "code",
   "execution_count": null,
   "metadata": {},
   "outputs": [],
   "source": [
    "# Evaluate the model and collect the scores - Frontopariet\n",
    "n_scores_FP_ROI = cross_val_score(model, Frontopariet.iloc[:, 4:82], Frontopariet.iloc[:, 2], scoring='accuracy', cv=cv, n_jobs=-1)\n",
    "\n",
    "# Report the model performance (M = 0.468, SD = 0.008)\n",
    "print('Mean Accuracy: %.3f (%.3f)' % (np.mean(n_scores_FP_ROI), np.std(n_scores_FP_ROI)))"
   ]
  },
  {
   "cell_type": "code",
   "execution_count": null,
   "metadata": {},
   "outputs": [],
   "source": [
    "# Evaluate the model and collect the scores - Auditory\n",
    "n_scores_AU_ROI = cross_val_score(model, Auditory.iloc[:, 4:82], Auditory.iloc[:, 2], scoring='accuracy', cv=cv, n_jobs=-1)\n",
    "\n",
    "# Report the model performance (M = 0.459, SD = 0.010)\n",
    "print('Mean Accuracy: %.3f (%.3f)' % (np.mean(n_scores_AU_ROI), np.std(n_scores_AU_ROI)))"
   ]
  },
  {
   "cell_type": "code",
   "execution_count": null,
   "metadata": {},
   "outputs": [],
   "source": [
    "# Evaluate the model and collect the scores - Dorsal-atten\n",
    "n_scores_DA_ROI = cross_val_score(model, Dorsal_atten.iloc[:, 4:82], Dorsal_atten.iloc[:, 2], scoring='accuracy', cv=cv, n_jobs=-1)\n",
    "\n",
    "# Report the model performance (M = 0.414, SD = 0.016)\n",
    "print('Mean Accuracy: %.3f (%.3f)' % (np.mean(n_scores_DA_ROI), np.std(n_scores_DA_ROI)))"
   ]
  },
  {
   "cell_type": "code",
   "execution_count": null,
   "metadata": {},
   "outputs": [],
   "source": [
    "# Evaluate the model and collect the scores - Posterior-Mu\n",
    "n_scores_PM_ROI = cross_val_score(model, Posterior_Mu.iloc[:, 4:82], Posterior_Mu.iloc[:, 2], scoring='accuracy', cv=cv, n_jobs=-1)\n",
    "\n",
    "# Report the model performance (M = 0.397, SD = 0.004)\n",
    "print('Mean Accuracy: %.3f (%.3f)' % (np.mean(n_scores_PM_ROI), np.std(n_scores_PM_ROI)))"
   ]
  },
  {
   "cell_type": "code",
   "execution_count": null,
   "metadata": {},
   "outputs": [],
   "source": [
    "# Evaluate the model and collect the scores - Orbito-Affec\n",
    "n_scores_OA_ROI = cross_val_score(model, Orbito_Affec.iloc[:, 4:82], Orbito_Affec.iloc[:, 2], scoring='accuracy', cv=cv, n_jobs=-1)\n",
    "\n",
    "# Report the model performance (M = 0.329, SD = 0.016)\n",
    "print('Mean Accuracy: %.3f (%.3f)' % (np.mean(n_scores_OA_ROI), np.std(n_scores_OA_ROI)))"
   ]
  },
  {
   "cell_type": "code",
   "execution_count": null,
   "metadata": {},
   "outputs": [],
   "source": [
    "# Evaluate the model and collect the scores - Ventral-Mult\n",
    "n_scores_VM_ROI = cross_val_score(model, Ventral_Mult.iloc[:, 4:82], Ventral_Mult.iloc[:, 2], scoring='accuracy', cv=cv, n_jobs=-1)\n",
    "\n",
    "# Report the model performance (M = 0.423, SD = 0.018)\n",
    "print('Mean Accuracy: %.3f (%.3f)' % (np.mean(n_scores_VM_ROI), np.std(n_scores_VM_ROI)))"
   ]
  },
  {
   "cell_type": "markdown",
   "metadata": {},
   "source": [
    "#### Note: \n",
    "\n",
    "Network-by-network analysis (with mean network-level activity)"
   ]
  },
  {
   "cell_type": "code",
   "execution_count": null,
   "metadata": {},
   "outputs": [],
   "source": [
    "# Evaluate the model and collect the scores - Visual 1\n",
    "n_scores_V1 = cross_val_score(model, Visual1_mean.iloc[:, 3:81], Visual1_mean.iloc[:, 1], scoring='accuracy', cv=cv, n_jobs=-1)\n",
    "\n",
    "# Report the model performance (M = 0.51, SD = 0.034)\n",
    "print('Mean Accuracy: %.3f (%.3f)' % (np.mean(n_scores_V1), np.std(n_scores_V1)))"
   ]
  },
  {
   "cell_type": "markdown",
   "metadata": {},
   "source": [
    "#### FOCUS ON VISUAL 2:"
   ]
  },
  {
   "cell_type": "code",
   "execution_count": 463,
   "metadata": {},
   "outputs": [
    {
     "name": "stdout",
     "output_type": "stream",
     "text": [
      "Mean Accuracy: 0.653 (0.040)\n"
     ]
    }
   ],
   "source": [
    "# Evaluate the model and collect the scores - Visual 2\n",
    "n_scores_V2 = cross_val_score(model, Visual2_mean.iloc[:, 3:81], Visual2_mean.iloc[:, 1], scoring='accuracy', cv=cv, n_jobs=-1)\n",
    "\n",
    "# Report the model performance (M = 0.653, SD = 0.040)\n",
    "print('Mean Accuracy: %.3f (%.3f)' % (np.mean(n_scores_V2), np.std(n_scores_V2)))"
   ]
  },
  {
   "cell_type": "code",
   "execution_count": null,
   "metadata": {},
   "outputs": [],
   "source": [
    "# Visual 2\n",
    "model.fit(Visual2_mean.iloc[:, 3:81], Visual2_mean.iloc[:, 1])\n",
    "model.coef_.shape #(4,78) - 4 classes, 78 features\n",
    "model.intercept_.shape #4"
   ]
  },
  {
   "cell_type": "code",
   "execution_count": null,
   "metadata": {},
   "outputs": [],
   "source": [
    "# Visual 2\n",
    "# Split into the training and testing set\n",
    "X_train,X_test,y_train,y_test=train_test_split(Visual2_mean.iloc[:, 3:81], Visual2_mean.iloc[:, 1], test_size=0.25, random_state=0)"
   ]
  },
  {
   "cell_type": "code",
   "execution_count": null,
   "metadata": {},
   "outputs": [],
   "source": [
    "# Instantiate the model \n",
    "logreg = LogisticRegression(multi_class = 'multinomial', max_iter = 10000, solver='lbfgs', penalty='l2', C=1)\n",
    "\n",
    "# Fit the model with data\n",
    "logreg.fit(X_train,y_train)\n",
    "\n",
    "# Predict \n",
    "y_pred = logreg.predict(X_test)"
   ]
  },
  {
   "cell_type": "code",
   "execution_count": 464,
   "metadata": {},
   "outputs": [
    {
     "data": {
      "text/plain": [
       "0.7445624822693215"
      ]
     },
     "execution_count": 464,
     "metadata": {},
     "output_type": "execute_result"
    }
   ],
   "source": [
    "lb = preprocessing.LabelBinarizer()\n",
    "lb.fit(y_test)\n",
    "\n",
    "y_test_lb = lb.transform(y_test)\n",
    "y_pred_lb = lb.transform(y_pred)\n",
    "\n",
    "roc_auc_score(y_test_lb, y_pred_lb, average='macro')"
   ]
  },
  {
   "cell_type": "code",
   "execution_count": 466,
   "metadata": {},
   "outputs": [
    {
     "data": {
      "text/html": [
       "<div>\n",
       "<style scoped>\n",
       "    .dataframe tbody tr th:only-of-type {\n",
       "        vertical-align: middle;\n",
       "    }\n",
       "\n",
       "    .dataframe tbody tr th {\n",
       "        vertical-align: top;\n",
       "    }\n",
       "\n",
       "    .dataframe thead th {\n",
       "        text-align: right;\n",
       "    }\n",
       "</style>\n",
       "<table border=\"1\" class=\"dataframe\">\n",
       "  <thead>\n",
       "    <tr style=\"text-align: right;\">\n",
       "      <th></th>\n",
       "      <th>Expected Output</th>\n",
       "      <th>Predicted Output</th>\n",
       "    </tr>\n",
       "  </thead>\n",
       "  <tbody>\n",
       "    <tr>\n",
       "      <th>10067</th>\n",
       "      <td>places</td>\n",
       "      <td>places</td>\n",
       "    </tr>\n",
       "    <tr>\n",
       "      <th>7595</th>\n",
       "      <td>body</td>\n",
       "      <td>body</td>\n",
       "    </tr>\n",
       "    <tr>\n",
       "      <th>11975</th>\n",
       "      <td>faces</td>\n",
       "      <td>places</td>\n",
       "    </tr>\n",
       "    <tr>\n",
       "      <th>10967</th>\n",
       "      <td>faces</td>\n",
       "      <td>tools</td>\n",
       "    </tr>\n",
       "    <tr>\n",
       "      <th>9551</th>\n",
       "      <td>tools</td>\n",
       "      <td>tools</td>\n",
       "    </tr>\n",
       "    <tr>\n",
       "      <th>6983</th>\n",
       "      <td>faces</td>\n",
       "      <td>tools</td>\n",
       "    </tr>\n",
       "    <tr>\n",
       "      <th>7991</th>\n",
       "      <td>faces</td>\n",
       "      <td>faces</td>\n",
       "    </tr>\n",
       "    <tr>\n",
       "      <th>2903</th>\n",
       "      <td>faces</td>\n",
       "      <td>faces</td>\n",
       "    </tr>\n",
       "    <tr>\n",
       "      <th>6695</th>\n",
       "      <td>faces</td>\n",
       "      <td>faces</td>\n",
       "    </tr>\n",
       "    <tr>\n",
       "      <th>15587</th>\n",
       "      <td>places</td>\n",
       "      <td>places</td>\n",
       "    </tr>\n",
       "    <tr>\n",
       "      <th>11123</th>\n",
       "      <td>places</td>\n",
       "      <td>places</td>\n",
       "    </tr>\n",
       "    <tr>\n",
       "      <th>12743</th>\n",
       "      <td>faces</td>\n",
       "      <td>faces</td>\n",
       "    </tr>\n",
       "    <tr>\n",
       "      <th>6071</th>\n",
       "      <td>faces</td>\n",
       "      <td>faces</td>\n",
       "    </tr>\n",
       "    <tr>\n",
       "      <th>6839</th>\n",
       "      <td>faces</td>\n",
       "      <td>faces</td>\n",
       "    </tr>\n",
       "    <tr>\n",
       "      <th>11171</th>\n",
       "      <td>places</td>\n",
       "      <td>places</td>\n",
       "    </tr>\n",
       "    <tr>\n",
       "      <th>12851</th>\n",
       "      <td>places</td>\n",
       "      <td>tools</td>\n",
       "    </tr>\n",
       "    <tr>\n",
       "      <th>3875</th>\n",
       "      <td>places</td>\n",
       "      <td>places</td>\n",
       "    </tr>\n",
       "    <tr>\n",
       "      <th>3599</th>\n",
       "      <td>tools</td>\n",
       "      <td>tools</td>\n",
       "    </tr>\n",
       "    <tr>\n",
       "      <th>5267</th>\n",
       "      <td>places</td>\n",
       "      <td>places</td>\n",
       "    </tr>\n",
       "    <tr>\n",
       "      <th>14435</th>\n",
       "      <td>places</td>\n",
       "      <td>places</td>\n",
       "    </tr>\n",
       "  </tbody>\n",
       "</table>\n",
       "</div>"
      ],
      "text/plain": [
       "      Expected Output Predicted Output\n",
       "10067          places           places\n",
       "7595             body             body\n",
       "11975           faces           places\n",
       "10967           faces            tools\n",
       "9551            tools            tools\n",
       "6983            faces            tools\n",
       "7991            faces            faces\n",
       "2903            faces            faces\n",
       "6695            faces            faces\n",
       "15587          places           places\n",
       "11123          places           places\n",
       "12743           faces            faces\n",
       "6071            faces            faces\n",
       "6839            faces            faces\n",
       "11171          places           places\n",
       "12851          places            tools\n",
       "3875           places           places\n",
       "3599            tools            tools\n",
       "5267           places           places\n",
       "14435          places           places"
      ]
     },
     "execution_count": 466,
     "metadata": {},
     "output_type": "execute_result"
    }
   ],
   "source": [
    "# Visually compare output\n",
    "output = pd.DataFrame()\n",
    "output['Expected Output'] = y_test\n",
    "output['Predicted Output'] = y_pred\n",
    "output.head(20)"
   ]
  },
  {
   "cell_type": "code",
   "execution_count": null,
   "metadata": {},
   "outputs": [],
   "source": [
    "from sklearn import metrics \n",
    "\n",
    "cnf_matrix = metrics.confusion_matrix(y_test, y_pred)"
   ]
  },
  {
   "cell_type": "code",
   "execution_count": 445,
   "metadata": {},
   "outputs": [
    {
     "data": {
      "text/plain": [
       "Text(0.5, 257.44, 'Predicted label')"
      ]
     },
     "execution_count": 445,
     "metadata": {},
     "output_type": "execute_result"
    },
    {
     "data": {
      "image/png": "[encoded data removed]",
      "text/plain": [
       "<Figure size 432x288 with 2 Axes>"
      ]
     },
     "metadata": {
      "needs_background": "light"
     },
     "output_type": "display_data"
    }
   ],
   "source": [
    "class_names=['Faces', 'Tools', 'Places', 'Body parts'] # Name  of classes\n",
    "fig, ax = plt.subplots()\n",
    "tick_marks = np.arange(len(class_names))\n",
    "plt.xticks(tick_marks, class_names)\n",
    "plt.yticks(tick_marks, class_names)\n",
    "\n",
    "# Create heatmap\n",
    "sns.heatmap(pd.DataFrame(cnf_matrix), annot=True, cmap=\"YlGnBu\" ,fmt='g')\n",
    "ax.xaxis.set_label_position(\"top\")\n",
    "plt.tight_layout()\n",
    "plt.title('Confusion matrix', y=1.1)\n",
    "plt.ylabel('Actual label')\n",
    "plt.xlabel('Predicted label')"
   ]
  },
  {
   "cell_type": "code",
   "execution_count": 462,
   "metadata": {},
   "outputs": [
    {
     "name": "stdout",
     "output_type": "stream",
     "text": [
      "\n",
      "Logistic Regression\n",
      "{'body': 0.7624551888960382, 'tools': 0.6646921780509567, 'faces': 0.7390756302521009, 'places': 0.8120269318781905}\n"
     ]
    }
   ],
   "source": [
    "from sklearn.metrics import roc_curve, auc, roc_auc_score\n",
    "\n",
    "def roc_auc_score_multiclass(actual_class, pred_class, average = \"macro\"):\n",
    "\n",
    "  # Creating a set of all the unique classes using the actual class list\n",
    "  unique_class = set(actual_class)\n",
    "  roc_auc_dict = {}\n",
    "  for per_class in unique_class:\n",
    "    # Creating a list of all the classes except the current class \n",
    "    other_class = [x for x in unique_class if x != per_class]\n",
    "\n",
    "    # Narking the current class as 1 and all other classes as 0\n",
    "    new_actual_class = [0 if x in other_class else 1 for x in actual_class]\n",
    "    new_pred_class = [0 if x in other_class else 1 for x in pred_class]\n",
    "\n",
    "    # Using the sklearn metrics method to calculate the roc_auc_score\n",
    "    roc_auc = roc_auc_score(new_actual_class, new_pred_class, average = average)\n",
    "    roc_auc_dict[per_class] = roc_auc\n",
    "\n",
    "  return roc_auc_dict\n",
    "\n",
    "print(\"\\nLogistic Regression\")\n",
    "\n",
    "# Assuming your already have a list of actual_class and predicted_class from the logistic regression classifier\n",
    "lr_roc_auc_multiclass = roc_auc_score_multiclass(y_test, y_pred)\n",
    "print(lr_roc_auc_multiclass) #0.25 would be worthless classifier, 1 is perfect"
   ]
  },
  {
   "cell_type": "code",
   "execution_count": null,
   "metadata": {},
   "outputs": [],
   "source": [
    "print(\"Accuracy:\",metrics.accuracy_score(y_train, y_pred_train))\n",
    "print(\"Accuracy:\",metrics.accuracy_score(y_test, y_pred))"
   ]
  },
  {
   "cell_type": "code",
   "execution_count": null,
   "metadata": {},
   "outputs": [],
   "source": [
    "# Evaluate the model and collect the scores - Somatomotor\n",
    "n_scores_SM = cross_val_score(model, Somatomotor_mean.iloc[:, 3:81], Somatomotor_mean.iloc[:, 1], scoring='accuracy', cv=cv, n_jobs=-1)\n",
    "\n",
    "# Eeport the model performance (M = 0.44, SD = 0.041)\n",
    "print('Mean Accuracy: %.3f (%.3f)' % (np.mean(n_scores_SM), np.std(n_scores_SM)))"
   ]
  },
  {
   "cell_type": "code",
   "execution_count": null,
   "metadata": {},
   "outputs": [],
   "source": [
    "# Evaluate the model and collect the scores - Cingulo-Oper\n",
    "n_scores_CO = cross_val_score(model, Cingulo_Oper_mean.iloc[:, 3:81], Cingulo_Oper_mean.iloc[:, 1], scoring='accuracy', cv=cv, n_jobs=-1)\n",
    "\n",
    "# Report the model performance (M = 0.47, SD = 0.039)\n",
    "print('Mean Accuracy: %.3f (%.3f)' % (np.mean(n_scores_CO), np.std(n_scores_CO)))"
   ]
  },
  {
   "cell_type": "code",
   "execution_count": null,
   "metadata": {},
   "outputs": [],
   "source": [
    "# Evaluate the model and collect the scores - Language\n",
    "n_scores_LA = cross_val_score(model, Language_mean.iloc[:, 3:81], Language_mean.iloc[:, 1], scoring='accuracy', cv=cv, n_jobs=-1)\n",
    "\n",
    "# Report the model performance (M = 0.61, SD = 0.043)\n",
    "print('Mean Accuracy: %.3f (%.3f)' % (np.mean(n_scores_LA), np.std(n_scores_LA)))"
   ]
  },
  {
   "cell_type": "code",
   "execution_count": null,
   "metadata": {},
   "outputs": [],
   "source": [
    "# Evaluate the model and collect the scores - Default\n",
    "n_scores_DE = cross_val_score(model, Default_mean.iloc[:, 3:81], Default_mean.iloc[:, 1], scoring='accuracy', cv=cv, n_jobs=-1)\n",
    "\n",
    "# Report the model performance (M = 0.49, SD = 0.039)\n",
    "print('Mean Accuracy: %.3f (%.3f)' % (np.mean(n_scores_DE), np.std(n_scores_DE)))"
   ]
  },
  {
   "cell_type": "code",
   "execution_count": null,
   "metadata": {},
   "outputs": [],
   "source": [
    "# Evaluate the model and collect the scores - Frontopariet\n",
    "n_scores_FP = cross_val_score(model, Frontopariet_mean.iloc[:, 3:81], Frontopariet_mean.iloc[:, 1], scoring='accuracy', cv=cv, n_jobs=-1)\n",
    "\n",
    "# Report the model performance (M = 0.56, SD = 0.033)\n",
    "print('Mean Accuracy: %.3f (%.3f)' % (np.mean(n_scores_FP), np.std(n_scores_FP)))"
   ]
  },
  {
   "cell_type": "code",
   "execution_count": null,
   "metadata": {},
   "outputs": [],
   "source": [
    "# Evaluate the model and collect the scores - Auditory\n",
    "n_scores_AU = cross_val_score(model, Auditory_mean.iloc[:, 3:81], Auditory_mean.iloc[:, 1], scoring='accuracy', cv=cv, n_jobs=-1)\n",
    "\n",
    "# Eeport the model performance (M = 0.50, SD = 0.036)\n",
    "print('Mean Accuracy: %.3f (%.3f)' % (np.mean(n_scores_AU), np.std(n_scores_AU)))"
   ]
  },
  {
   "cell_type": "code",
   "execution_count": null,
   "metadata": {},
   "outputs": [],
   "source": [
    "# Evaluate the model and collect the scores - Dorsal-atten\n",
    "n_scores_DA = cross_val_score(model, Dorsal_atten_mean.iloc[:, 3:81], Dorsal_atten_mean.iloc[:, 1], scoring='accuracy', cv=cv, n_jobs=-1)\n",
    "\n",
    "# Report the model performance (M = 0.45, SD = 0.038)\n",
    "print('Mean Accuracy: %.3f (%.3f)' % (np.mean(n_scores_DA), np.std(n_scores_DA)))"
   ]
  },
  {
   "cell_type": "code",
   "execution_count": null,
   "metadata": {},
   "outputs": [],
   "source": [
    "# Evaluate the model and collect the scores - Posterior-Mu\n",
    "n_scores_PM = cross_val_score(model, Posterior_Mu_mean.iloc[:, 3:81], Posterior_Mu_mean.iloc[:, 1], scoring='accuracy', cv=cv, n_jobs=-1)\n",
    "\n",
    "# Report the model performance (M = 0.46, SD = 0.041)\n",
    "print('Mean Accuracy: %.3f (%.3f)' % (np.mean(n_scores_PM), np.std(n_scores_PM)))"
   ]
  },
  {
   "cell_type": "code",
   "execution_count": null,
   "metadata": {},
   "outputs": [],
   "source": [
    "# Evaluate the model and collect the scores - Orbito-Affec\n",
    "n_scores_OA = cross_val_score(model, Orbito_Affec_mean.iloc[:, 3:81], Orbito_Affec_mean.iloc[:, 1], scoring='accuracy', cv=cv, n_jobs=-1)\n",
    "\n",
    "# Report the model performance (M = 0.37, SD = 0.035)\n",
    "print('Mean Accuracy: %.3f (%.3f)' % (np.mean(n_scores_OA), np.std(n_scores_OA)))"
   ]
  },
  {
   "cell_type": "code",
   "execution_count": null,
   "metadata": {},
   "outputs": [],
   "source": [
    "# Evaluate the model and collect the scores - Ventral-Mult\n",
    "n_scores_VM = cross_val_score(model, Ventral_Mult_mean.iloc[:, 3:81], Ventral_Mult_mean.iloc[:, 1], scoring='accuracy', cv=cv, n_jobs=-1)\n",
    "\n",
    "# Report the model performance (M = 0.49, SD = 0.044)\n",
    "print('Mean Accuracy: %.3f (%.3f)' % (np.mean(n_scores_VM), np.std(n_scores_VM)))"
   ]
  },
  {
   "cell_type": "markdown",
   "metadata": {},
   "source": [
    "#### Note: \n",
    "\n",
    "Trying out the 2-back task."
   ]
  },
  {
   "cell_type": "code",
   "execution_count": null,
   "metadata": {},
   "outputs": [],
   "source": [
    "# Return indices to columns (2-back)\n",
    "X_2back_full_net.reset_index(level=0, inplace=True)\n",
    "X_2back_full_net.reset_index(level=0, inplace=True)\n",
    "X_2back_full_net.reset_index(level=0, inplace=True)"
   ]
  },
  {
   "cell_type": "code",
   "execution_count": null,
   "metadata": {},
   "outputs": [],
   "source": [
    "# Visual 2 - 2-back\n",
    "Visual2_2back = X_2back_full_net.loc[X_2back_full_net['Network'] == 'Visual2']"
   ]
  },
  {
   "cell_type": "code",
   "execution_count": null,
   "metadata": {},
   "outputs": [],
   "source": [
    "# Sanity check\n",
    "unique(Visual2_2back['Network'])"
   ]
  },
  {
   "cell_type": "code",
   "execution_count": null,
   "metadata": {},
   "outputs": [],
   "source": [
    "# 2-back task\n",
    "\n",
    "# Evaluate the model and collect the scores - Visual 2\n",
    "n_scores_V2_2back = cross_val_score(model, Visual2_2back.iloc[:, 3:81], Visual2_2back.iloc[:, 1], scoring='accuracy', cv=cv, n_jobs=-1)\n",
    "\n",
    "# Report the model performance \n",
    "print('Mean Accuracy: %.3f (%.3f)' % (np.mean(n_scores_V2_2back), np.std(n_scores_V2_2back)))"
   ]
  },
  {
   "cell_type": "code",
   "execution_count": null,
   "metadata": {},
   "outputs": [],
   "source": [
    "# See the entire accuracy array\n",
    "print(n_scores_V2_2back)"
   ]
  },
  {
   "cell_type": "markdown",
   "metadata": {},
   "source": [
    "#### Note:\n",
    "\n",
    "Normalization - Jelka\n",
    "\n",
    "Fourier transform - Alaleh"
   ]
  },
  {
   "cell_type": "code",
   "execution_count": 468,
   "metadata": {},
   "outputs": [],
   "source": [
    "# Export the data to deal with it in R\n",
    "X_2back_full.to_csv(\"/Users/jelkastojanov/Downloads/Two_back_task_NMA.csv\")\n",
    "X_0back_full.to_csv(\"/Users/jelkastojanov/Downloads/Zero_back_task_NMA.csv\")"
   ]
  },
  {
   "cell_type": "code",
   "execution_count": 12,
   "metadata": {},
   "outputs": [],
   "source": [
    "# Import the z-transformed data\n",
    "WM_0back_z = pd.read_csv(\"WM_0back_z.csv\")\n",
    "WM_2back_z = pd.read_csv(\"WM_2back_z.csv\")"
   ]
  },
  {
   "cell_type": "code",
   "execution_count": 22,
   "metadata": {},
   "outputs": [
    {
     "data": {
      "text/html": [
       "<div>\n",
       "<style scoped>\n",
       "    .dataframe tbody tr th:only-of-type {\n",
       "        vertical-align: middle;\n",
       "    }\n",
       "\n",
       "    .dataframe tbody tr th {\n",
       "        vertical-align: top;\n",
       "    }\n",
       "\n",
       "    .dataframe thead th {\n",
       "        text-align: right;\n",
       "    }\n",
       "</style>\n",
       "<table border=\"1\" class=\"dataframe\">\n",
       "  <thead>\n",
       "    <tr style=\"text-align: right;\">\n",
       "      <th></th>\n",
       "      <th></th>\n",
       "      <th></th>\n",
       "      <th></th>\n",
       "      <th>X0</th>\n",
       "      <th>X1</th>\n",
       "      <th>X2</th>\n",
       "      <th>X3</th>\n",
       "      <th>X4</th>\n",
       "      <th>X5</th>\n",
       "      <th>X6</th>\n",
       "      <th>X7</th>\n",
       "      <th>X8</th>\n",
       "      <th>X9</th>\n",
       "      <th>...</th>\n",
       "      <th>X68</th>\n",
       "      <th>X69</th>\n",
       "      <th>X70</th>\n",
       "      <th>X71</th>\n",
       "      <th>X72</th>\n",
       "      <th>X73</th>\n",
       "      <th>X74</th>\n",
       "      <th>X75</th>\n",
       "      <th>X76</th>\n",
       "      <th>X77</th>\n",
       "    </tr>\n",
       "    <tr>\n",
       "      <th>Subject_id</th>\n",
       "      <th>ROI</th>\n",
       "      <th>Network</th>\n",
       "      <th>Condition</th>\n",
       "      <th></th>\n",
       "      <th></th>\n",
       "      <th></th>\n",
       "      <th></th>\n",
       "      <th></th>\n",
       "      <th></th>\n",
       "      <th></th>\n",
       "      <th></th>\n",
       "      <th></th>\n",
       "      <th></th>\n",
       "      <th></th>\n",
       "      <th></th>\n",
       "      <th></th>\n",
       "      <th></th>\n",
       "      <th></th>\n",
       "      <th></th>\n",
       "      <th></th>\n",
       "      <th></th>\n",
       "      <th></th>\n",
       "      <th></th>\n",
       "      <th></th>\n",
       "    </tr>\n",
       "  </thead>\n",
       "  <tbody>\n",
       "    <tr>\n",
       "      <th rowspan=\"5\" valign=\"top\">0</th>\n",
       "      <th>L_1</th>\n",
       "      <th>Somatomotor</th>\n",
       "      <th>body</th>\n",
       "      <td>0.914651</td>\n",
       "      <td>0.968170</td>\n",
       "      <td>0.487816</td>\n",
       "      <td>0.924406</td>\n",
       "      <td>0.944443</td>\n",
       "      <td>0.863241</td>\n",
       "      <td>0.740912</td>\n",
       "      <td>0.616737</td>\n",
       "      <td>0.534744</td>\n",
       "      <td>0.647055</td>\n",
       "      <td>...</td>\n",
       "      <td>-0.089558</td>\n",
       "      <td>0.216793</td>\n",
       "      <td>-0.155468</td>\n",
       "      <td>0.383414</td>\n",
       "      <td>0.257394</td>\n",
       "      <td>0.606982</td>\n",
       "      <td>0.360214</td>\n",
       "      <td>0.736166</td>\n",
       "      <td>0.580354</td>\n",
       "      <td>0.610937</td>\n",
       "    </tr>\n",
       "    <tr>\n",
       "      <th>L_10d</th>\n",
       "      <th>Posterior-Mu</th>\n",
       "      <th>body</th>\n",
       "      <td>1.015905</td>\n",
       "      <td>0.923057</td>\n",
       "      <td>1.076530</td>\n",
       "      <td>1.074618</td>\n",
       "      <td>1.023005</td>\n",
       "      <td>1.116400</td>\n",
       "      <td>1.151901</td>\n",
       "      <td>1.091549</td>\n",
       "      <td>1.199144</td>\n",
       "      <td>1.114488</td>\n",
       "      <td>...</td>\n",
       "      <td>-0.846522</td>\n",
       "      <td>-0.750397</td>\n",
       "      <td>-0.903869</td>\n",
       "      <td>-0.960124</td>\n",
       "      <td>-1.012010</td>\n",
       "      <td>-0.935274</td>\n",
       "      <td>-0.930631</td>\n",
       "      <td>-0.949474</td>\n",
       "      <td>-0.933362</td>\n",
       "      <td>-0.854987</td>\n",
       "    </tr>\n",
       "    <tr>\n",
       "      <th>L_10pp</th>\n",
       "      <th>Posterior-Mu</th>\n",
       "      <th>body</th>\n",
       "      <td>1.177523</td>\n",
       "      <td>1.046406</td>\n",
       "      <td>1.377539</td>\n",
       "      <td>1.384139</td>\n",
       "      <td>1.119632</td>\n",
       "      <td>1.124232</td>\n",
       "      <td>1.132119</td>\n",
       "      <td>1.068532</td>\n",
       "      <td>1.033617</td>\n",
       "      <td>1.110266</td>\n",
       "      <td>...</td>\n",
       "      <td>-1.216925</td>\n",
       "      <td>-0.908876</td>\n",
       "      <td>-1.061490</td>\n",
       "      <td>-1.223826</td>\n",
       "      <td>-0.990647</td>\n",
       "      <td>-0.959702</td>\n",
       "      <td>-0.923664</td>\n",
       "      <td>-1.061189</td>\n",
       "      <td>-1.008693</td>\n",
       "      <td>-0.985745</td>\n",
       "    </tr>\n",
       "    <tr>\n",
       "      <th>L_10r</th>\n",
       "      <th>Posterior-Mu</th>\n",
       "      <th>body</th>\n",
       "      <td>0.962691</td>\n",
       "      <td>0.845115</td>\n",
       "      <td>0.699552</td>\n",
       "      <td>0.759277</td>\n",
       "      <td>0.693492</td>\n",
       "      <td>0.720614</td>\n",
       "      <td>0.987649</td>\n",
       "      <td>1.063244</td>\n",
       "      <td>1.112727</td>\n",
       "      <td>1.136531</td>\n",
       "      <td>...</td>\n",
       "      <td>-0.949976</td>\n",
       "      <td>-0.815954</td>\n",
       "      <td>-0.976521</td>\n",
       "      <td>-0.963826</td>\n",
       "      <td>-1.052116</td>\n",
       "      <td>-1.090924</td>\n",
       "      <td>-1.115737</td>\n",
       "      <td>-1.044182</td>\n",
       "      <td>-0.963105</td>\n",
       "      <td>-0.898041</td>\n",
       "    </tr>\n",
       "    <tr>\n",
       "      <th>L_10v</th>\n",
       "      <th>Posterior-Mu</th>\n",
       "      <th>body</th>\n",
       "      <td>0.930579</td>\n",
       "      <td>0.929043</td>\n",
       "      <td>0.918289</td>\n",
       "      <td>0.871254</td>\n",
       "      <td>0.903871</td>\n",
       "      <td>0.934951</td>\n",
       "      <td>0.970523</td>\n",
       "      <td>0.985649</td>\n",
       "      <td>1.074281</td>\n",
       "      <td>0.990258</td>\n",
       "      <td>...</td>\n",
       "      <td>-1.018683</td>\n",
       "      <td>-1.023386</td>\n",
       "      <td>-0.976068</td>\n",
       "      <td>-1.124202</td>\n",
       "      <td>-1.121803</td>\n",
       "      <td>-0.996182</td>\n",
       "      <td>-1.021944</td>\n",
       "      <td>-1.127807</td>\n",
       "      <td>-1.105271</td>\n",
       "      <td>-1.045296</td>\n",
       "    </tr>\n",
       "  </tbody>\n",
       "</table>\n",
       "<p>5 rows × 78 columns</p>\n",
       "</div>"
      ],
      "text/plain": [
       "                                                X0        X1        X2  \\\n",
       "Subject_id ROI    Network      Condition                                 \n",
       "0          L_1    Somatomotor  body       0.914651  0.968170  0.487816   \n",
       "           L_10d  Posterior-Mu body       1.015905  0.923057  1.076530   \n",
       "           L_10pp Posterior-Mu body       1.177523  1.046406  1.377539   \n",
       "           L_10r  Posterior-Mu body       0.962691  0.845115  0.699552   \n",
       "           L_10v  Posterior-Mu body       0.930579  0.929043  0.918289   \n",
       "\n",
       "                                                X3        X4        X5  \\\n",
       "Subject_id ROI    Network      Condition                                 \n",
       "0          L_1    Somatomotor  body       0.924406  0.944443  0.863241   \n",
       "           L_10d  Posterior-Mu body       1.074618  1.023005  1.116400   \n",
       "           L_10pp Posterior-Mu body       1.384139  1.119632  1.124232   \n",
       "           L_10r  Posterior-Mu body       0.759277  0.693492  0.720614   \n",
       "           L_10v  Posterior-Mu body       0.871254  0.903871  0.934951   \n",
       "\n",
       "                                                X6        X7        X8  \\\n",
       "Subject_id ROI    Network      Condition                                 \n",
       "0          L_1    Somatomotor  body       0.740912  0.616737  0.534744   \n",
       "           L_10d  Posterior-Mu body       1.151901  1.091549  1.199144   \n",
       "           L_10pp Posterior-Mu body       1.132119  1.068532  1.033617   \n",
       "           L_10r  Posterior-Mu body       0.987649  1.063244  1.112727   \n",
       "           L_10v  Posterior-Mu body       0.970523  0.985649  1.074281   \n",
       "\n",
       "                                                X9  ...       X68       X69  \\\n",
       "Subject_id ROI    Network      Condition            ...                       \n",
       "0          L_1    Somatomotor  body       0.647055  ... -0.089558  0.216793   \n",
       "           L_10d  Posterior-Mu body       1.114488  ... -0.846522 -0.750397   \n",
       "           L_10pp Posterior-Mu body       1.110266  ... -1.216925 -0.908876   \n",
       "           L_10r  Posterior-Mu body       1.136531  ... -0.949976 -0.815954   \n",
       "           L_10v  Posterior-Mu body       0.990258  ... -1.018683 -1.023386   \n",
       "\n",
       "                                               X70       X71       X72  \\\n",
       "Subject_id ROI    Network      Condition                                 \n",
       "0          L_1    Somatomotor  body      -0.155468  0.383414  0.257394   \n",
       "           L_10d  Posterior-Mu body      -0.903869 -0.960124 -1.012010   \n",
       "           L_10pp Posterior-Mu body      -1.061490 -1.223826 -0.990647   \n",
       "           L_10r  Posterior-Mu body      -0.976521 -0.963826 -1.052116   \n",
       "           L_10v  Posterior-Mu body      -0.976068 -1.124202 -1.121803   \n",
       "\n",
       "                                               X73       X74       X75  \\\n",
       "Subject_id ROI    Network      Condition                                 \n",
       "0          L_1    Somatomotor  body       0.606982  0.360214  0.736166   \n",
       "           L_10d  Posterior-Mu body      -0.935274 -0.930631 -0.949474   \n",
       "           L_10pp Posterior-Mu body      -0.959702 -0.923664 -1.061189   \n",
       "           L_10r  Posterior-Mu body      -1.090924 -1.115737 -1.044182   \n",
       "           L_10v  Posterior-Mu body      -0.996182 -1.021944 -1.127807   \n",
       "\n",
       "                                               X76       X77  \n",
       "Subject_id ROI    Network      Condition                      \n",
       "0          L_1    Somatomotor  body       0.580354  0.610937  \n",
       "           L_10d  Posterior-Mu body      -0.933362 -0.854987  \n",
       "           L_10pp Posterior-Mu body      -1.008693 -0.985745  \n",
       "           L_10r  Posterior-Mu body      -0.963105 -0.898041  \n",
       "           L_10v  Posterior-Mu body      -1.105271 -1.045296  \n",
       "\n",
       "[5 rows x 78 columns]"
      ]
     },
     "execution_count": 22,
     "metadata": {},
     "output_type": "execute_result"
    }
   ],
   "source": [
    "WM_0back_z.head()"
   ]
  },
  {
   "cell_type": "code",
   "execution_count": 16,
   "metadata": {},
   "outputs": [],
   "source": [
    "del WM_0back_z[\"Unnamed: 0\"]"
   ]
  },
  {
   "cell_type": "code",
   "execution_count": 21,
   "metadata": {},
   "outputs": [
    {
     "data": {
      "text/html": [
       "<div>\n",
       "<style scoped>\n",
       "    .dataframe tbody tr th:only-of-type {\n",
       "        vertical-align: middle;\n",
       "    }\n",
       "\n",
       "    .dataframe tbody tr th {\n",
       "        vertical-align: top;\n",
       "    }\n",
       "\n",
       "    .dataframe thead th {\n",
       "        text-align: right;\n",
       "    }\n",
       "</style>\n",
       "<table border=\"1\" class=\"dataframe\">\n",
       "  <thead>\n",
       "    <tr style=\"text-align: right;\">\n",
       "      <th></th>\n",
       "      <th></th>\n",
       "      <th></th>\n",
       "      <th></th>\n",
       "      <th>X0</th>\n",
       "      <th>X1</th>\n",
       "      <th>X2</th>\n",
       "      <th>X3</th>\n",
       "      <th>X4</th>\n",
       "      <th>X5</th>\n",
       "      <th>X6</th>\n",
       "      <th>X7</th>\n",
       "      <th>X8</th>\n",
       "      <th>X9</th>\n",
       "      <th>...</th>\n",
       "      <th>X68</th>\n",
       "      <th>X69</th>\n",
       "      <th>X70</th>\n",
       "      <th>X71</th>\n",
       "      <th>X72</th>\n",
       "      <th>X73</th>\n",
       "      <th>X74</th>\n",
       "      <th>X75</th>\n",
       "      <th>X76</th>\n",
       "      <th>X77</th>\n",
       "    </tr>\n",
       "    <tr>\n",
       "      <th>Subject_id</th>\n",
       "      <th>ROI</th>\n",
       "      <th>Network</th>\n",
       "      <th>Condition</th>\n",
       "      <th></th>\n",
       "      <th></th>\n",
       "      <th></th>\n",
       "      <th></th>\n",
       "      <th></th>\n",
       "      <th></th>\n",
       "      <th></th>\n",
       "      <th></th>\n",
       "      <th></th>\n",
       "      <th></th>\n",
       "      <th></th>\n",
       "      <th></th>\n",
       "      <th></th>\n",
       "      <th></th>\n",
       "      <th></th>\n",
       "      <th></th>\n",
       "      <th></th>\n",
       "      <th></th>\n",
       "      <th></th>\n",
       "      <th></th>\n",
       "      <th></th>\n",
       "    </tr>\n",
       "  </thead>\n",
       "  <tbody>\n",
       "    <tr>\n",
       "      <th rowspan=\"5\" valign=\"top\">0</th>\n",
       "      <th>L_1</th>\n",
       "      <th>Somatomotor</th>\n",
       "      <th>body</th>\n",
       "      <td>-0.012866</td>\n",
       "      <td>-0.286564</td>\n",
       "      <td>-0.208907</td>\n",
       "      <td>-0.335919</td>\n",
       "      <td>-0.420133</td>\n",
       "      <td>0.126225</td>\n",
       "      <td>0.349187</td>\n",
       "      <td>0.673620</td>\n",
       "      <td>0.943175</td>\n",
       "      <td>1.047753</td>\n",
       "      <td>...</td>\n",
       "      <td>0.239087</td>\n",
       "      <td>-0.120205</td>\n",
       "      <td>0.173510</td>\n",
       "      <td>-0.528508</td>\n",
       "      <td>-0.418753</td>\n",
       "      <td>0.101720</td>\n",
       "      <td>0.014055</td>\n",
       "      <td>-0.141604</td>\n",
       "      <td>-0.110196</td>\n",
       "      <td>-0.047035</td>\n",
       "    </tr>\n",
       "    <tr>\n",
       "      <th>L_10d</th>\n",
       "      <th>Posterior-Mu</th>\n",
       "      <th>body</th>\n",
       "      <td>0.988963</td>\n",
       "      <td>0.991403</td>\n",
       "      <td>1.061339</td>\n",
       "      <td>0.966465</td>\n",
       "      <td>1.208258</td>\n",
       "      <td>1.040195</td>\n",
       "      <td>1.173019</td>\n",
       "      <td>1.206090</td>\n",
       "      <td>1.209614</td>\n",
       "      <td>1.161634</td>\n",
       "      <td>...</td>\n",
       "      <td>-1.020202</td>\n",
       "      <td>-0.933731</td>\n",
       "      <td>-0.920178</td>\n",
       "      <td>-0.896053</td>\n",
       "      <td>-0.874909</td>\n",
       "      <td>-0.787083</td>\n",
       "      <td>-0.962736</td>\n",
       "      <td>-1.041888</td>\n",
       "      <td>-0.809581</td>\n",
       "      <td>-1.055712</td>\n",
       "    </tr>\n",
       "    <tr>\n",
       "      <th>L_10pp</th>\n",
       "      <th>Posterior-Mu</th>\n",
       "      <th>body</th>\n",
       "      <td>0.689139</td>\n",
       "      <td>0.803459</td>\n",
       "      <td>0.602027</td>\n",
       "      <td>0.771881</td>\n",
       "      <td>0.827142</td>\n",
       "      <td>0.982275</td>\n",
       "      <td>0.955762</td>\n",
       "      <td>0.916240</td>\n",
       "      <td>0.859837</td>\n",
       "      <td>0.910977</td>\n",
       "      <td>...</td>\n",
       "      <td>-1.002454</td>\n",
       "      <td>-0.761227</td>\n",
       "      <td>-0.816612</td>\n",
       "      <td>-0.940763</td>\n",
       "      <td>-0.789875</td>\n",
       "      <td>-0.889872</td>\n",
       "      <td>-0.817556</td>\n",
       "      <td>-0.876118</td>\n",
       "      <td>-0.925173</td>\n",
       "      <td>-0.853875</td>\n",
       "    </tr>\n",
       "    <tr>\n",
       "      <th>L_10r</th>\n",
       "      <th>Posterior-Mu</th>\n",
       "      <th>body</th>\n",
       "      <td>1.189766</td>\n",
       "      <td>1.293927</td>\n",
       "      <td>1.094811</td>\n",
       "      <td>1.150489</td>\n",
       "      <td>1.109342</td>\n",
       "      <td>1.222568</td>\n",
       "      <td>1.041436</td>\n",
       "      <td>1.143008</td>\n",
       "      <td>1.215231</td>\n",
       "      <td>0.985902</td>\n",
       "      <td>...</td>\n",
       "      <td>-1.032739</td>\n",
       "      <td>-0.940662</td>\n",
       "      <td>-0.997491</td>\n",
       "      <td>-1.051442</td>\n",
       "      <td>-0.994325</td>\n",
       "      <td>-0.989146</td>\n",
       "      <td>-1.059499</td>\n",
       "      <td>-1.117766</td>\n",
       "      <td>-1.112587</td>\n",
       "      <td>-1.014036</td>\n",
       "    </tr>\n",
       "    <tr>\n",
       "      <th>L_10v</th>\n",
       "      <th>Posterior-Mu</th>\n",
       "      <th>body</th>\n",
       "      <td>1.103358</td>\n",
       "      <td>1.162124</td>\n",
       "      <td>1.043778</td>\n",
       "      <td>1.082685</td>\n",
       "      <td>1.105448</td>\n",
       "      <td>1.117991</td>\n",
       "      <td>1.086634</td>\n",
       "      <td>1.104287</td>\n",
       "      <td>1.032629</td>\n",
       "      <td>1.111604</td>\n",
       "      <td>...</td>\n",
       "      <td>-0.958969</td>\n",
       "      <td>-0.895847</td>\n",
       "      <td>-0.891747</td>\n",
       "      <td>-0.984717</td>\n",
       "      <td>-0.930259</td>\n",
       "      <td>-0.963266</td>\n",
       "      <td>-1.033612</td>\n",
       "      <td>-0.996180</td>\n",
       "      <td>-1.055667</td>\n",
       "      <td>-1.048315</td>\n",
       "    </tr>\n",
       "  </tbody>\n",
       "</table>\n",
       "<p>5 rows × 78 columns</p>\n",
       "</div>"
      ],
      "text/plain": [
       "                                                X0        X1        X2  \\\n",
       "Subject_id ROI    Network      Condition                                 \n",
       "0          L_1    Somatomotor  body      -0.012866 -0.286564 -0.208907   \n",
       "           L_10d  Posterior-Mu body       0.988963  0.991403  1.061339   \n",
       "           L_10pp Posterior-Mu body       0.689139  0.803459  0.602027   \n",
       "           L_10r  Posterior-Mu body       1.189766  1.293927  1.094811   \n",
       "           L_10v  Posterior-Mu body       1.103358  1.162124  1.043778   \n",
       "\n",
       "                                                X3        X4        X5  \\\n",
       "Subject_id ROI    Network      Condition                                 \n",
       "0          L_1    Somatomotor  body      -0.335919 -0.420133  0.126225   \n",
       "           L_10d  Posterior-Mu body       0.966465  1.208258  1.040195   \n",
       "           L_10pp Posterior-Mu body       0.771881  0.827142  0.982275   \n",
       "           L_10r  Posterior-Mu body       1.150489  1.109342  1.222568   \n",
       "           L_10v  Posterior-Mu body       1.082685  1.105448  1.117991   \n",
       "\n",
       "                                                X6        X7        X8  \\\n",
       "Subject_id ROI    Network      Condition                                 \n",
       "0          L_1    Somatomotor  body       0.349187  0.673620  0.943175   \n",
       "           L_10d  Posterior-Mu body       1.173019  1.206090  1.209614   \n",
       "           L_10pp Posterior-Mu body       0.955762  0.916240  0.859837   \n",
       "           L_10r  Posterior-Mu body       1.041436  1.143008  1.215231   \n",
       "           L_10v  Posterior-Mu body       1.086634  1.104287  1.032629   \n",
       "\n",
       "                                                X9  ...       X68       X69  \\\n",
       "Subject_id ROI    Network      Condition            ...                       \n",
       "0          L_1    Somatomotor  body       1.047753  ...  0.239087 -0.120205   \n",
       "           L_10d  Posterior-Mu body       1.161634  ... -1.020202 -0.933731   \n",
       "           L_10pp Posterior-Mu body       0.910977  ... -1.002454 -0.761227   \n",
       "           L_10r  Posterior-Mu body       0.985902  ... -1.032739 -0.940662   \n",
       "           L_10v  Posterior-Mu body       1.111604  ... -0.958969 -0.895847   \n",
       "\n",
       "                                               X70       X71       X72  \\\n",
       "Subject_id ROI    Network      Condition                                 \n",
       "0          L_1    Somatomotor  body       0.173510 -0.528508 -0.418753   \n",
       "           L_10d  Posterior-Mu body      -0.920178 -0.896053 -0.874909   \n",
       "           L_10pp Posterior-Mu body      -0.816612 -0.940763 -0.789875   \n",
       "           L_10r  Posterior-Mu body      -0.997491 -1.051442 -0.994325   \n",
       "           L_10v  Posterior-Mu body      -0.891747 -0.984717 -0.930259   \n",
       "\n",
       "                                               X73       X74       X75  \\\n",
       "Subject_id ROI    Network      Condition                                 \n",
       "0          L_1    Somatomotor  body       0.101720  0.014055 -0.141604   \n",
       "           L_10d  Posterior-Mu body      -0.787083 -0.962736 -1.041888   \n",
       "           L_10pp Posterior-Mu body      -0.889872 -0.817556 -0.876118   \n",
       "           L_10r  Posterior-Mu body      -0.989146 -1.059499 -1.117766   \n",
       "           L_10v  Posterior-Mu body      -0.963266 -1.033612 -0.996180   \n",
       "\n",
       "                                               X76       X77  \n",
       "Subject_id ROI    Network      Condition                      \n",
       "0          L_1    Somatomotor  body      -0.110196 -0.047035  \n",
       "           L_10d  Posterior-Mu body      -0.809581 -1.055712  \n",
       "           L_10pp Posterior-Mu body      -0.925173 -0.853875  \n",
       "           L_10r  Posterior-Mu body      -1.112587 -1.014036  \n",
       "           L_10v  Posterior-Mu body      -1.055667 -1.048315  \n",
       "\n",
       "[5 rows x 78 columns]"
      ]
     },
     "execution_count": 21,
     "metadata": {},
     "output_type": "execute_result"
    }
   ],
   "source": [
    "WM_2back_z.head()"
   ]
  },
  {
   "cell_type": "code",
   "execution_count": 17,
   "metadata": {},
   "outputs": [],
   "source": [
    "del WM_2back_z[\"Unnamed: 0\"]"
   ]
  },
  {
   "cell_type": "code",
   "execution_count": 20,
   "metadata": {},
   "outputs": [],
   "source": [
    "WM_0back_z = WM_0back_z.set_index(['Subject_id', 'ROI', 'Network', 'Condition'])\n",
    "WM_2back_z = WM_2back_z.set_index(['Subject_id', 'ROI', 'Network', 'Condition'])"
   ]
  },
  {
   "cell_type": "markdown",
   "metadata": {},
   "source": [
    "#### ROI-LEVEL GLM CLASSIFICATION:"
   ]
  },
  {
   "cell_type": "code",
   "execution_count": 23,
   "metadata": {},
   "outputs": [],
   "source": [
    "WM_2back_0back_contr_z = WM_2back_z - WM_0back_z"
   ]
  },
  {
   "cell_type": "code",
   "execution_count": 26,
   "metadata": {},
   "outputs": [
    {
     "data": {
      "text/html": [
       "<div>\n",
       "<style scoped>\n",
       "    .dataframe tbody tr th:only-of-type {\n",
       "        vertical-align: middle;\n",
       "    }\n",
       "\n",
       "    .dataframe tbody tr th {\n",
       "        vertical-align: top;\n",
       "    }\n",
       "\n",
       "    .dataframe thead th {\n",
       "        text-align: right;\n",
       "    }\n",
       "</style>\n",
       "<table border=\"1\" class=\"dataframe\">\n",
       "  <thead>\n",
       "    <tr style=\"text-align: right;\">\n",
       "      <th></th>\n",
       "      <th>Condition</th>\n",
       "      <th>Network</th>\n",
       "      <th>ROI</th>\n",
       "      <th>Subject_id</th>\n",
       "      <th>X0</th>\n",
       "      <th>X1</th>\n",
       "      <th>X2</th>\n",
       "      <th>X3</th>\n",
       "      <th>X4</th>\n",
       "      <th>X5</th>\n",
       "      <th>...</th>\n",
       "      <th>X68</th>\n",
       "      <th>X69</th>\n",
       "      <th>X70</th>\n",
       "      <th>X71</th>\n",
       "      <th>X72</th>\n",
       "      <th>X73</th>\n",
       "      <th>X74</th>\n",
       "      <th>X75</th>\n",
       "      <th>X76</th>\n",
       "      <th>X77</th>\n",
       "    </tr>\n",
       "  </thead>\n",
       "  <tbody>\n",
       "    <tr>\n",
       "      <th>0</th>\n",
       "      <td>body</td>\n",
       "      <td>Somatomotor</td>\n",
       "      <td>L_1</td>\n",
       "      <td>0</td>\n",
       "      <td>-0.927518</td>\n",
       "      <td>-1.254734</td>\n",
       "      <td>-0.696723</td>\n",
       "      <td>-1.260325</td>\n",
       "      <td>-1.364576</td>\n",
       "      <td>-0.737016</td>\n",
       "      <td>...</td>\n",
       "      <td>0.328644</td>\n",
       "      <td>-0.336999</td>\n",
       "      <td>0.328978</td>\n",
       "      <td>-0.911922</td>\n",
       "      <td>-0.676147</td>\n",
       "      <td>-0.505262</td>\n",
       "      <td>-0.346159</td>\n",
       "      <td>-0.877770</td>\n",
       "      <td>-0.690551</td>\n",
       "      <td>-0.657972</td>\n",
       "    </tr>\n",
       "    <tr>\n",
       "      <th>1</th>\n",
       "      <td>body</td>\n",
       "      <td>Posterior-Mu</td>\n",
       "      <td>L_10d</td>\n",
       "      <td>0</td>\n",
       "      <td>-0.026942</td>\n",
       "      <td>0.068346</td>\n",
       "      <td>-0.015191</td>\n",
       "      <td>-0.108154</td>\n",
       "      <td>0.185253</td>\n",
       "      <td>-0.076204</td>\n",
       "      <td>...</td>\n",
       "      <td>-0.173680</td>\n",
       "      <td>-0.183335</td>\n",
       "      <td>-0.016308</td>\n",
       "      <td>0.064072</td>\n",
       "      <td>0.137101</td>\n",
       "      <td>0.148191</td>\n",
       "      <td>-0.032104</td>\n",
       "      <td>-0.092414</td>\n",
       "      <td>0.123781</td>\n",
       "      <td>-0.200725</td>\n",
       "    </tr>\n",
       "    <tr>\n",
       "      <th>2</th>\n",
       "      <td>body</td>\n",
       "      <td>Posterior-Mu</td>\n",
       "      <td>L_10pp</td>\n",
       "      <td>0</td>\n",
       "      <td>-0.488384</td>\n",
       "      <td>-0.242947</td>\n",
       "      <td>-0.775512</td>\n",
       "      <td>-0.612258</td>\n",
       "      <td>-0.292490</td>\n",
       "      <td>-0.141957</td>\n",
       "      <td>...</td>\n",
       "      <td>0.214471</td>\n",
       "      <td>0.147649</td>\n",
       "      <td>0.244878</td>\n",
       "      <td>0.283062</td>\n",
       "      <td>0.200771</td>\n",
       "      <td>0.069830</td>\n",
       "      <td>0.106108</td>\n",
       "      <td>0.185071</td>\n",
       "      <td>0.083520</td>\n",
       "      <td>0.131870</td>\n",
       "    </tr>\n",
       "    <tr>\n",
       "      <th>3</th>\n",
       "      <td>body</td>\n",
       "      <td>Posterior-Mu</td>\n",
       "      <td>L_10r</td>\n",
       "      <td>0</td>\n",
       "      <td>0.227074</td>\n",
       "      <td>0.448812</td>\n",
       "      <td>0.395260</td>\n",
       "      <td>0.391212</td>\n",
       "      <td>0.415850</td>\n",
       "      <td>0.501954</td>\n",
       "      <td>...</td>\n",
       "      <td>-0.082762</td>\n",
       "      <td>-0.124708</td>\n",
       "      <td>-0.020969</td>\n",
       "      <td>-0.087616</td>\n",
       "      <td>0.057791</td>\n",
       "      <td>0.101777</td>\n",
       "      <td>0.056239</td>\n",
       "      <td>-0.073584</td>\n",
       "      <td>-0.149482</td>\n",
       "      <td>-0.115995</td>\n",
       "    </tr>\n",
       "    <tr>\n",
       "      <th>4</th>\n",
       "      <td>body</td>\n",
       "      <td>Posterior-Mu</td>\n",
       "      <td>L_10v</td>\n",
       "      <td>0</td>\n",
       "      <td>0.172779</td>\n",
       "      <td>0.233082</td>\n",
       "      <td>0.125489</td>\n",
       "      <td>0.211430</td>\n",
       "      <td>0.201577</td>\n",
       "      <td>0.183040</td>\n",
       "      <td>...</td>\n",
       "      <td>0.059714</td>\n",
       "      <td>0.127539</td>\n",
       "      <td>0.084321</td>\n",
       "      <td>0.139486</td>\n",
       "      <td>0.191544</td>\n",
       "      <td>0.032916</td>\n",
       "      <td>-0.011667</td>\n",
       "      <td>0.131627</td>\n",
       "      <td>0.049604</td>\n",
       "      <td>-0.003019</td>\n",
       "    </tr>\n",
       "  </tbody>\n",
       "</table>\n",
       "<p>5 rows × 82 columns</p>\n",
       "</div>"
      ],
      "text/plain": [
       "  Condition       Network     ROI  Subject_id        X0        X1        X2  \\\n",
       "0      body   Somatomotor     L_1           0 -0.927518 -1.254734 -0.696723   \n",
       "1      body  Posterior-Mu   L_10d           0 -0.026942  0.068346 -0.015191   \n",
       "2      body  Posterior-Mu  L_10pp           0 -0.488384 -0.242947 -0.775512   \n",
       "3      body  Posterior-Mu   L_10r           0  0.227074  0.448812  0.395260   \n",
       "4      body  Posterior-Mu   L_10v           0  0.172779  0.233082  0.125489   \n",
       "\n",
       "         X3        X4        X5  ...       X68       X69       X70       X71  \\\n",
       "0 -1.260325 -1.364576 -0.737016  ...  0.328644 -0.336999  0.328978 -0.911922   \n",
       "1 -0.108154  0.185253 -0.076204  ... -0.173680 -0.183335 -0.016308  0.064072   \n",
       "2 -0.612258 -0.292490 -0.141957  ...  0.214471  0.147649  0.244878  0.283062   \n",
       "3  0.391212  0.415850  0.501954  ... -0.082762 -0.124708 -0.020969 -0.087616   \n",
       "4  0.211430  0.201577  0.183040  ...  0.059714  0.127539  0.084321  0.139486   \n",
       "\n",
       "        X72       X73       X74       X75       X76       X77  \n",
       "0 -0.676147 -0.505262 -0.346159 -0.877770 -0.690551 -0.657972  \n",
       "1  0.137101  0.148191 -0.032104 -0.092414  0.123781 -0.200725  \n",
       "2  0.200771  0.069830  0.106108  0.185071  0.083520  0.131870  \n",
       "3  0.057791  0.101777  0.056239 -0.073584 -0.149482 -0.115995  \n",
       "4  0.191544  0.032916 -0.011667  0.131627  0.049604 -0.003019  \n",
       "\n",
       "[5 rows x 82 columns]"
      ]
     },
     "execution_count": 26,
     "metadata": {},
     "output_type": "execute_result"
    }
   ],
   "source": [
    "WM_2back_0back_contr_z.head()"
   ]
  },
  {
   "cell_type": "code",
   "execution_count": 25,
   "metadata": {},
   "outputs": [],
   "source": [
    "WM_2back_0back_contr_z.reset_index(level=0, inplace=True)\n",
    "WM_2back_0back_contr_z.reset_index(level=0, inplace=True)\n",
    "WM_2back_0back_contr_z.reset_index(level=0, inplace=True)\n",
    "WM_2back_0back_contr_z.reset_index(level=0, inplace=True)"
   ]
  },
  {
   "cell_type": "code",
   "execution_count": 27,
   "metadata": {},
   "outputs": [],
   "source": [
    "Visual1_z = WM_2back_0back_contr_z.loc[WM_2back_0back_contr_z['Network'] == 'Visual1']\n",
    "Visual2_z = WM_2back_0back_contr_z.loc[WM_2back_0back_contr_z['Network'] == 'Visual2']\n",
    "Somatomotor_z = WM_2back_0back_contr_z.loc[WM_2back_0back_contr_z['Network'] == 'Somatomotor']\n",
    "Cingulo_Oper_z = WM_2back_0back_contr_z.loc[WM_2back_0back_contr_z['Network'] == 'Cingulo-Oper']\n",
    "Language_z = WM_2back_0back_contr_z.loc[WM_2back_0back_contr_z['Network'] == 'Language']\n",
    "Default_z = WM_2back_0back_contr_z.loc[WM_2back_0back_contr_z['Network'] == 'Default']\n",
    "Frontopariet_z = WM_2back_0back_contr_z.loc[WM_2back_0back_contr_z['Network'] == 'Frontopariet']\n",
    "Auditory_z = WM_2back_0back_contr_z.loc[WM_2back_0back_contr_z['Network'] == 'Auditory']\n",
    "Dorsal_atten_z = WM_2back_0back_contr_z.loc[WM_2back_0back_contr_z['Network'] == 'Dorsal-atten']\n",
    "Posterior_Mu_z = WM_2back_0back_contr_z.loc[WM_2back_0back_contr_z['Network'] == 'Posterior-Mu']\n",
    "Orbito_Affec_z = WM_2back_0back_contr_z.loc[WM_2back_0back_contr_z['Network'] == 'Orbito-Affec']\n",
    "Ventral_Mult_z = WM_2back_0back_contr_z.loc[WM_2back_0back_contr_z['Network'] == 'Ventral-Mult']"
   ]
  },
  {
   "cell_type": "code",
   "execution_count": 36,
   "metadata": {},
   "outputs": [
    {
     "name": "stdout",
     "output_type": "stream",
     "text": [
      "Mean Accuracy: 0.486 (0.018)\n"
     ]
    }
   ],
   "source": [
    "# Evaluate the model and collect the scores - Visual 1\n",
    "n_scores_V1_ROI_z = cross_val_score(model, Visual1_z.iloc[:, 4:82], Visual1_z.iloc[:, 0], scoring='accuracy', cv=cv, n_jobs=-1)\n",
    "\n",
    "# Report the model performance (M = 0.486, SD = 0.018)\n",
    "print('Mean Accuracy: %.3f (%.3f)' % (np.mean(n_scores_V1_ROI_z), np.std(n_scores_V1_ROI_z)))"
   ]
  },
  {
   "cell_type": "code",
   "execution_count": 37,
   "metadata": {},
   "outputs": [
    {
     "name": "stdout",
     "output_type": "stream",
     "text": [
      "Mean Accuracy: 0.523 (0.004)\n"
     ]
    }
   ],
   "source": [
    "# Evaluate the model and collect the scores - Visual 2\n",
    "n_scores_V2_ROI_z = cross_val_score(model, Visual2_z.iloc[:, 4:82], Visual2_z.iloc[:, 0], scoring='accuracy', cv=cv, n_jobs=-1)\n",
    "\n",
    "# Report the model performance (M = 0.523, SD = 0.004)\n",
    "print('Mean Accuracy: %.3f (%.3f)' % (np.mean(n_scores_V2_ROI_z), np.std(n_scores_V2_ROI_z)))"
   ]
  },
  {
   "cell_type": "markdown",
   "metadata": {},
   "source": [
    "#### NETWORK-LEVEL (AVERAGE ACTIVITY) GLM CLASSIFICATION:"
   ]
  },
  {
   "cell_type": "code",
   "execution_count": 38,
   "metadata": {},
   "outputs": [],
   "source": [
    "WM_0back_z_net = WM_0back_z.groupby(['Subject_id', 'Condition', 'Network']).mean()\n",
    "WM_2back_z_net = WM_2back_z.groupby(['Subject_id', 'Condition', 'Network']).mean()"
   ]
  },
  {
   "cell_type": "code",
   "execution_count": 40,
   "metadata": {},
   "outputs": [
    {
     "data": {
      "text/html": [
       "<div>\n",
       "<style scoped>\n",
       "    .dataframe tbody tr th:only-of-type {\n",
       "        vertical-align: middle;\n",
       "    }\n",
       "\n",
       "    .dataframe tbody tr th {\n",
       "        vertical-align: top;\n",
       "    }\n",
       "\n",
       "    .dataframe thead th {\n",
       "        text-align: right;\n",
       "    }\n",
       "</style>\n",
       "<table border=\"1\" class=\"dataframe\">\n",
       "  <thead>\n",
       "    <tr style=\"text-align: right;\">\n",
       "      <th></th>\n",
       "      <th></th>\n",
       "      <th></th>\n",
       "      <th>X0</th>\n",
       "      <th>X1</th>\n",
       "      <th>X2</th>\n",
       "      <th>X3</th>\n",
       "      <th>X4</th>\n",
       "      <th>X5</th>\n",
       "      <th>X6</th>\n",
       "      <th>X7</th>\n",
       "      <th>X8</th>\n",
       "      <th>X9</th>\n",
       "      <th>...</th>\n",
       "      <th>X68</th>\n",
       "      <th>X69</th>\n",
       "      <th>X70</th>\n",
       "      <th>X71</th>\n",
       "      <th>X72</th>\n",
       "      <th>X73</th>\n",
       "      <th>X74</th>\n",
       "      <th>X75</th>\n",
       "      <th>X76</th>\n",
       "      <th>X77</th>\n",
       "    </tr>\n",
       "    <tr>\n",
       "      <th>Subject_id</th>\n",
       "      <th>Condition</th>\n",
       "      <th>Network</th>\n",
       "      <th></th>\n",
       "      <th></th>\n",
       "      <th></th>\n",
       "      <th></th>\n",
       "      <th></th>\n",
       "      <th></th>\n",
       "      <th></th>\n",
       "      <th></th>\n",
       "      <th></th>\n",
       "      <th></th>\n",
       "      <th></th>\n",
       "      <th></th>\n",
       "      <th></th>\n",
       "      <th></th>\n",
       "      <th></th>\n",
       "      <th></th>\n",
       "      <th></th>\n",
       "      <th></th>\n",
       "      <th></th>\n",
       "      <th></th>\n",
       "      <th></th>\n",
       "    </tr>\n",
       "  </thead>\n",
       "  <tbody>\n",
       "    <tr>\n",
       "      <th rowspan=\"5\" valign=\"top\">0</th>\n",
       "      <th rowspan=\"5\" valign=\"top\">body</th>\n",
       "      <th>Auditory</th>\n",
       "      <td>0.581276</td>\n",
       "      <td>0.487395</td>\n",
       "      <td>0.530768</td>\n",
       "      <td>0.506426</td>\n",
       "      <td>0.625709</td>\n",
       "      <td>0.637520</td>\n",
       "      <td>0.828447</td>\n",
       "      <td>0.403299</td>\n",
       "      <td>0.506591</td>\n",
       "      <td>0.234223</td>\n",
       "      <td>...</td>\n",
       "      <td>0.163817</td>\n",
       "      <td>0.051589</td>\n",
       "      <td>0.172692</td>\n",
       "      <td>0.119307</td>\n",
       "      <td>-0.005787</td>\n",
       "      <td>0.355330</td>\n",
       "      <td>0.327587</td>\n",
       "      <td>0.280067</td>\n",
       "      <td>0.350379</td>\n",
       "      <td>0.224484</td>\n",
       "    </tr>\n",
       "    <tr>\n",
       "      <th>Cingulo-Oper</th>\n",
       "      <td>0.580012</td>\n",
       "      <td>0.550748</td>\n",
       "      <td>0.580458</td>\n",
       "      <td>0.652646</td>\n",
       "      <td>0.606847</td>\n",
       "      <td>0.627506</td>\n",
       "      <td>0.589796</td>\n",
       "      <td>0.635245</td>\n",
       "      <td>0.652308</td>\n",
       "      <td>0.707901</td>\n",
       "      <td>...</td>\n",
       "      <td>-0.125376</td>\n",
       "      <td>-0.091074</td>\n",
       "      <td>-0.133193</td>\n",
       "      <td>-0.191871</td>\n",
       "      <td>-0.196019</td>\n",
       "      <td>-0.090721</td>\n",
       "      <td>-0.039163</td>\n",
       "      <td>-0.097501</td>\n",
       "      <td>-0.091851</td>\n",
       "      <td>-0.018491</td>\n",
       "    </tr>\n",
       "    <tr>\n",
       "      <th>Default</th>\n",
       "      <td>0.314663</td>\n",
       "      <td>0.387188</td>\n",
       "      <td>0.375999</td>\n",
       "      <td>0.431662</td>\n",
       "      <td>0.359512</td>\n",
       "      <td>0.393785</td>\n",
       "      <td>0.536335</td>\n",
       "      <td>0.507850</td>\n",
       "      <td>0.411773</td>\n",
       "      <td>0.460275</td>\n",
       "      <td>...</td>\n",
       "      <td>0.089322</td>\n",
       "      <td>0.172539</td>\n",
       "      <td>0.145491</td>\n",
       "      <td>0.023272</td>\n",
       "      <td>0.070801</td>\n",
       "      <td>0.041311</td>\n",
       "      <td>0.155180</td>\n",
       "      <td>0.116009</td>\n",
       "      <td>0.182336</td>\n",
       "      <td>0.112363</td>\n",
       "    </tr>\n",
       "    <tr>\n",
       "      <th>Dorsal-atten</th>\n",
       "      <td>0.416022</td>\n",
       "      <td>0.451785</td>\n",
       "      <td>0.344705</td>\n",
       "      <td>0.468453</td>\n",
       "      <td>0.400323</td>\n",
       "      <td>0.688386</td>\n",
       "      <td>0.977476</td>\n",
       "      <td>0.799232</td>\n",
       "      <td>0.684332</td>\n",
       "      <td>0.841950</td>\n",
       "      <td>...</td>\n",
       "      <td>-0.146568</td>\n",
       "      <td>-0.101156</td>\n",
       "      <td>0.287267</td>\n",
       "      <td>-0.112662</td>\n",
       "      <td>0.050177</td>\n",
       "      <td>-0.019428</td>\n",
       "      <td>-0.001738</td>\n",
       "      <td>0.009377</td>\n",
       "      <td>-0.161148</td>\n",
       "      <td>0.125696</td>\n",
       "    </tr>\n",
       "    <tr>\n",
       "      <th>Frontopariet</th>\n",
       "      <td>0.518326</td>\n",
       "      <td>0.505303</td>\n",
       "      <td>0.547777</td>\n",
       "      <td>0.593401</td>\n",
       "      <td>0.599850</td>\n",
       "      <td>0.656510</td>\n",
       "      <td>0.733986</td>\n",
       "      <td>0.625978</td>\n",
       "      <td>0.624656</td>\n",
       "      <td>0.648525</td>\n",
       "      <td>...</td>\n",
       "      <td>-0.257540</td>\n",
       "      <td>-0.209149</td>\n",
       "      <td>-0.180784</td>\n",
       "      <td>-0.247783</td>\n",
       "      <td>-0.249673</td>\n",
       "      <td>-0.235179</td>\n",
       "      <td>-0.177649</td>\n",
       "      <td>-0.250534</td>\n",
       "      <td>-0.227468</td>\n",
       "      <td>-0.177819</td>\n",
       "    </tr>\n",
       "  </tbody>\n",
       "</table>\n",
       "<p>5 rows × 78 columns</p>\n",
       "</div>"
      ],
      "text/plain": [
       "                                         X0        X1        X2        X3  \\\n",
       "Subject_id Condition Network                                                \n",
       "0          body      Auditory      0.581276  0.487395  0.530768  0.506426   \n",
       "                     Cingulo-Oper  0.580012  0.550748  0.580458  0.652646   \n",
       "                     Default       0.314663  0.387188  0.375999  0.431662   \n",
       "                     Dorsal-atten  0.416022  0.451785  0.344705  0.468453   \n",
       "                     Frontopariet  0.518326  0.505303  0.547777  0.593401   \n",
       "\n",
       "                                         X4        X5        X6        X7  \\\n",
       "Subject_id Condition Network                                                \n",
       "0          body      Auditory      0.625709  0.637520  0.828447  0.403299   \n",
       "                     Cingulo-Oper  0.606847  0.627506  0.589796  0.635245   \n",
       "                     Default       0.359512  0.393785  0.536335  0.507850   \n",
       "                     Dorsal-atten  0.400323  0.688386  0.977476  0.799232   \n",
       "                     Frontopariet  0.599850  0.656510  0.733986  0.625978   \n",
       "\n",
       "                                         X8        X9  ...       X68  \\\n",
       "Subject_id Condition Network                           ...             \n",
       "0          body      Auditory      0.506591  0.234223  ...  0.163817   \n",
       "                     Cingulo-Oper  0.652308  0.707901  ... -0.125376   \n",
       "                     Default       0.411773  0.460275  ...  0.089322   \n",
       "                     Dorsal-atten  0.684332  0.841950  ... -0.146568   \n",
       "                     Frontopariet  0.624656  0.648525  ... -0.257540   \n",
       "\n",
       "                                        X69       X70       X71       X72  \\\n",
       "Subject_id Condition Network                                                \n",
       "0          body      Auditory      0.051589  0.172692  0.119307 -0.005787   \n",
       "                     Cingulo-Oper -0.091074 -0.133193 -0.191871 -0.196019   \n",
       "                     Default       0.172539  0.145491  0.023272  0.070801   \n",
       "                     Dorsal-atten -0.101156  0.287267 -0.112662  0.050177   \n",
       "                     Frontopariet -0.209149 -0.180784 -0.247783 -0.249673   \n",
       "\n",
       "                                        X73       X74       X75       X76  \\\n",
       "Subject_id Condition Network                                                \n",
       "0          body      Auditory      0.355330  0.327587  0.280067  0.350379   \n",
       "                     Cingulo-Oper -0.090721 -0.039163 -0.097501 -0.091851   \n",
       "                     Default       0.041311  0.155180  0.116009  0.182336   \n",
       "                     Dorsal-atten -0.019428 -0.001738  0.009377 -0.161148   \n",
       "                     Frontopariet -0.235179 -0.177649 -0.250534 -0.227468   \n",
       "\n",
       "                                        X77  \n",
       "Subject_id Condition Network                 \n",
       "0          body      Auditory      0.224484  \n",
       "                     Cingulo-Oper -0.018491  \n",
       "                     Default       0.112363  \n",
       "                     Dorsal-atten  0.125696  \n",
       "                     Frontopariet -0.177819  \n",
       "\n",
       "[5 rows x 78 columns]"
      ]
     },
     "execution_count": 40,
     "metadata": {},
     "output_type": "execute_result"
    }
   ],
   "source": [
    "WM_0back_z_net.head()"
   ]
  },
  {
   "cell_type": "code",
   "execution_count": 41,
   "metadata": {},
   "outputs": [
    {
     "data": {
      "text/html": [
       "<div>\n",
       "<style scoped>\n",
       "    .dataframe tbody tr th:only-of-type {\n",
       "        vertical-align: middle;\n",
       "    }\n",
       "\n",
       "    .dataframe tbody tr th {\n",
       "        vertical-align: top;\n",
       "    }\n",
       "\n",
       "    .dataframe thead th {\n",
       "        text-align: right;\n",
       "    }\n",
       "</style>\n",
       "<table border=\"1\" class=\"dataframe\">\n",
       "  <thead>\n",
       "    <tr style=\"text-align: right;\">\n",
       "      <th></th>\n",
       "      <th></th>\n",
       "      <th></th>\n",
       "      <th>X0</th>\n",
       "      <th>X1</th>\n",
       "      <th>X2</th>\n",
       "      <th>X3</th>\n",
       "      <th>X4</th>\n",
       "      <th>X5</th>\n",
       "      <th>X6</th>\n",
       "      <th>X7</th>\n",
       "      <th>X8</th>\n",
       "      <th>X9</th>\n",
       "      <th>...</th>\n",
       "      <th>X68</th>\n",
       "      <th>X69</th>\n",
       "      <th>X70</th>\n",
       "      <th>X71</th>\n",
       "      <th>X72</th>\n",
       "      <th>X73</th>\n",
       "      <th>X74</th>\n",
       "      <th>X75</th>\n",
       "      <th>X76</th>\n",
       "      <th>X77</th>\n",
       "    </tr>\n",
       "    <tr>\n",
       "      <th>Subject_id</th>\n",
       "      <th>Condition</th>\n",
       "      <th>Network</th>\n",
       "      <th></th>\n",
       "      <th></th>\n",
       "      <th></th>\n",
       "      <th></th>\n",
       "      <th></th>\n",
       "      <th></th>\n",
       "      <th></th>\n",
       "      <th></th>\n",
       "      <th></th>\n",
       "      <th></th>\n",
       "      <th></th>\n",
       "      <th></th>\n",
       "      <th></th>\n",
       "      <th></th>\n",
       "      <th></th>\n",
       "      <th></th>\n",
       "      <th></th>\n",
       "      <th></th>\n",
       "      <th></th>\n",
       "      <th></th>\n",
       "      <th></th>\n",
       "    </tr>\n",
       "  </thead>\n",
       "  <tbody>\n",
       "    <tr>\n",
       "      <th rowspan=\"5\" valign=\"top\">0</th>\n",
       "      <th rowspan=\"5\" valign=\"top\">body</th>\n",
       "      <th>Auditory</th>\n",
       "      <td>0.045126</td>\n",
       "      <td>0.024163</td>\n",
       "      <td>0.270127</td>\n",
       "      <td>0.135299</td>\n",
       "      <td>0.091891</td>\n",
       "      <td>0.261172</td>\n",
       "      <td>0.306866</td>\n",
       "      <td>0.528011</td>\n",
       "      <td>0.422396</td>\n",
       "      <td>0.490265</td>\n",
       "      <td>...</td>\n",
       "      <td>0.126090</td>\n",
       "      <td>0.187361</td>\n",
       "      <td>0.461620</td>\n",
       "      <td>0.425886</td>\n",
       "      <td>0.137563</td>\n",
       "      <td>0.185155</td>\n",
       "      <td>0.261077</td>\n",
       "      <td>0.191991</td>\n",
       "      <td>0.256640</td>\n",
       "      <td>0.407726</td>\n",
       "    </tr>\n",
       "    <tr>\n",
       "      <th>Cingulo-Oper</th>\n",
       "      <td>0.307721</td>\n",
       "      <td>0.226213</td>\n",
       "      <td>0.303059</td>\n",
       "      <td>0.253319</td>\n",
       "      <td>0.226079</td>\n",
       "      <td>0.217430</td>\n",
       "      <td>0.365002</td>\n",
       "      <td>0.405696</td>\n",
       "      <td>0.542375</td>\n",
       "      <td>0.574075</td>\n",
       "      <td>...</td>\n",
       "      <td>-0.219875</td>\n",
       "      <td>-0.155908</td>\n",
       "      <td>-0.223187</td>\n",
       "      <td>-0.105797</td>\n",
       "      <td>-0.166461</td>\n",
       "      <td>-0.186631</td>\n",
       "      <td>-0.115210</td>\n",
       "      <td>-0.276908</td>\n",
       "      <td>-0.082936</td>\n",
       "      <td>-0.122851</td>\n",
       "    </tr>\n",
       "    <tr>\n",
       "      <th>Default</th>\n",
       "      <td>0.009460</td>\n",
       "      <td>-0.098876</td>\n",
       "      <td>-0.067312</td>\n",
       "      <td>-0.114233</td>\n",
       "      <td>-0.195488</td>\n",
       "      <td>-0.063590</td>\n",
       "      <td>0.196559</td>\n",
       "      <td>0.238080</td>\n",
       "      <td>0.289719</td>\n",
       "      <td>0.198981</td>\n",
       "      <td>...</td>\n",
       "      <td>0.174332</td>\n",
       "      <td>0.219005</td>\n",
       "      <td>0.256219</td>\n",
       "      <td>0.260042</td>\n",
       "      <td>0.243289</td>\n",
       "      <td>0.280131</td>\n",
       "      <td>0.269047</td>\n",
       "      <td>0.053617</td>\n",
       "      <td>0.112054</td>\n",
       "      <td>0.196834</td>\n",
       "    </tr>\n",
       "    <tr>\n",
       "      <th>Dorsal-atten</th>\n",
       "      <td>-0.093091</td>\n",
       "      <td>0.219809</td>\n",
       "      <td>-0.371164</td>\n",
       "      <td>-0.265765</td>\n",
       "      <td>-0.234957</td>\n",
       "      <td>0.001669</td>\n",
       "      <td>0.094116</td>\n",
       "      <td>0.249498</td>\n",
       "      <td>0.344634</td>\n",
       "      <td>0.420910</td>\n",
       "      <td>...</td>\n",
       "      <td>0.089782</td>\n",
       "      <td>0.277016</td>\n",
       "      <td>0.347705</td>\n",
       "      <td>0.261589</td>\n",
       "      <td>0.394325</td>\n",
       "      <td>0.505316</td>\n",
       "      <td>0.516618</td>\n",
       "      <td>0.361445</td>\n",
       "      <td>0.619032</td>\n",
       "      <td>0.562945</td>\n",
       "    </tr>\n",
       "    <tr>\n",
       "      <th>Frontopariet</th>\n",
       "      <td>-0.045473</td>\n",
       "      <td>-0.151587</td>\n",
       "      <td>-0.212290</td>\n",
       "      <td>-0.179811</td>\n",
       "      <td>-0.110520</td>\n",
       "      <td>-0.031384</td>\n",
       "      <td>0.154265</td>\n",
       "      <td>0.232866</td>\n",
       "      <td>0.307758</td>\n",
       "      <td>0.347304</td>\n",
       "      <td>...</td>\n",
       "      <td>-0.100479</td>\n",
       "      <td>0.022678</td>\n",
       "      <td>0.032878</td>\n",
       "      <td>0.025601</td>\n",
       "      <td>0.007464</td>\n",
       "      <td>0.115923</td>\n",
       "      <td>0.062516</td>\n",
       "      <td>0.044005</td>\n",
       "      <td>0.029049</td>\n",
       "      <td>0.018617</td>\n",
       "    </tr>\n",
       "  </tbody>\n",
       "</table>\n",
       "<p>5 rows × 78 columns</p>\n",
       "</div>"
      ],
      "text/plain": [
       "                                         X0        X1        X2        X3  \\\n",
       "Subject_id Condition Network                                                \n",
       "0          body      Auditory      0.045126  0.024163  0.270127  0.135299   \n",
       "                     Cingulo-Oper  0.307721  0.226213  0.303059  0.253319   \n",
       "                     Default       0.009460 -0.098876 -0.067312 -0.114233   \n",
       "                     Dorsal-atten -0.093091  0.219809 -0.371164 -0.265765   \n",
       "                     Frontopariet -0.045473 -0.151587 -0.212290 -0.179811   \n",
       "\n",
       "                                         X4        X5        X6        X7  \\\n",
       "Subject_id Condition Network                                                \n",
       "0          body      Auditory      0.091891  0.261172  0.306866  0.528011   \n",
       "                     Cingulo-Oper  0.226079  0.217430  0.365002  0.405696   \n",
       "                     Default      -0.195488 -0.063590  0.196559  0.238080   \n",
       "                     Dorsal-atten -0.234957  0.001669  0.094116  0.249498   \n",
       "                     Frontopariet -0.110520 -0.031384  0.154265  0.232866   \n",
       "\n",
       "                                         X8        X9  ...       X68  \\\n",
       "Subject_id Condition Network                           ...             \n",
       "0          body      Auditory      0.422396  0.490265  ...  0.126090   \n",
       "                     Cingulo-Oper  0.542375  0.574075  ... -0.219875   \n",
       "                     Default       0.289719  0.198981  ...  0.174332   \n",
       "                     Dorsal-atten  0.344634  0.420910  ...  0.089782   \n",
       "                     Frontopariet  0.307758  0.347304  ... -0.100479   \n",
       "\n",
       "                                        X69       X70       X71       X72  \\\n",
       "Subject_id Condition Network                                                \n",
       "0          body      Auditory      0.187361  0.461620  0.425886  0.137563   \n",
       "                     Cingulo-Oper -0.155908 -0.223187 -0.105797 -0.166461   \n",
       "                     Default       0.219005  0.256219  0.260042  0.243289   \n",
       "                     Dorsal-atten  0.277016  0.347705  0.261589  0.394325   \n",
       "                     Frontopariet  0.022678  0.032878  0.025601  0.007464   \n",
       "\n",
       "                                        X73       X74       X75       X76  \\\n",
       "Subject_id Condition Network                                                \n",
       "0          body      Auditory      0.185155  0.261077  0.191991  0.256640   \n",
       "                     Cingulo-Oper -0.186631 -0.115210 -0.276908 -0.082936   \n",
       "                     Default       0.280131  0.269047  0.053617  0.112054   \n",
       "                     Dorsal-atten  0.505316  0.516618  0.361445  0.619032   \n",
       "                     Frontopariet  0.115923  0.062516  0.044005  0.029049   \n",
       "\n",
       "                                        X77  \n",
       "Subject_id Condition Network                 \n",
       "0          body      Auditory      0.407726  \n",
       "                     Cingulo-Oper -0.122851  \n",
       "                     Default       0.196834  \n",
       "                     Dorsal-atten  0.562945  \n",
       "                     Frontopariet  0.018617  \n",
       "\n",
       "[5 rows x 78 columns]"
      ]
     },
     "execution_count": 41,
     "metadata": {},
     "output_type": "execute_result"
    }
   ],
   "source": [
    "WM_2back_z_net.head()"
   ]
  },
  {
   "cell_type": "code",
   "execution_count": 59,
   "metadata": {},
   "outputs": [],
   "source": [
    "WM_2back_0back_z_net_contr = WM_2back_z_net - WM_0back_z_net"
   ]
  },
  {
   "cell_type": "code",
   "execution_count": 53,
   "metadata": {},
   "outputs": [
    {
     "data": {
      "text/html": [
       "<div>\n",
       "<style scoped>\n",
       "    .dataframe tbody tr th:only-of-type {\n",
       "        vertical-align: middle;\n",
       "    }\n",
       "\n",
       "    .dataframe tbody tr th {\n",
       "        vertical-align: top;\n",
       "    }\n",
       "\n",
       "    .dataframe thead th {\n",
       "        text-align: right;\n",
       "    }\n",
       "</style>\n",
       "<table border=\"1\" class=\"dataframe\">\n",
       "  <thead>\n",
       "    <tr style=\"text-align: right;\">\n",
       "      <th></th>\n",
       "      <th></th>\n",
       "      <th></th>\n",
       "      <th>X0</th>\n",
       "      <th>X1</th>\n",
       "      <th>X2</th>\n",
       "      <th>X3</th>\n",
       "      <th>X4</th>\n",
       "      <th>X5</th>\n",
       "      <th>X6</th>\n",
       "      <th>X7</th>\n",
       "      <th>X8</th>\n",
       "      <th>X9</th>\n",
       "      <th>...</th>\n",
       "      <th>X68</th>\n",
       "      <th>X69</th>\n",
       "      <th>X70</th>\n",
       "      <th>X71</th>\n",
       "      <th>X72</th>\n",
       "      <th>X73</th>\n",
       "      <th>X74</th>\n",
       "      <th>X75</th>\n",
       "      <th>X76</th>\n",
       "      <th>X77</th>\n",
       "    </tr>\n",
       "    <tr>\n",
       "      <th>Subject_id</th>\n",
       "      <th>Condition</th>\n",
       "      <th>Network</th>\n",
       "      <th></th>\n",
       "      <th></th>\n",
       "      <th></th>\n",
       "      <th></th>\n",
       "      <th></th>\n",
       "      <th></th>\n",
       "      <th></th>\n",
       "      <th></th>\n",
       "      <th></th>\n",
       "      <th></th>\n",
       "      <th></th>\n",
       "      <th></th>\n",
       "      <th></th>\n",
       "      <th></th>\n",
       "      <th></th>\n",
       "      <th></th>\n",
       "      <th></th>\n",
       "      <th></th>\n",
       "      <th></th>\n",
       "      <th></th>\n",
       "      <th></th>\n",
       "    </tr>\n",
       "  </thead>\n",
       "  <tbody>\n",
       "    <tr>\n",
       "      <th rowspan=\"5\" valign=\"top\">0</th>\n",
       "      <th rowspan=\"5\" valign=\"top\">body</th>\n",
       "      <th>Auditory</th>\n",
       "      <td>-0.536150</td>\n",
       "      <td>-0.463232</td>\n",
       "      <td>-0.260641</td>\n",
       "      <td>-0.371127</td>\n",
       "      <td>-0.533818</td>\n",
       "      <td>-0.376349</td>\n",
       "      <td>-0.521581</td>\n",
       "      <td>0.124713</td>\n",
       "      <td>-0.084195</td>\n",
       "      <td>0.256042</td>\n",
       "      <td>...</td>\n",
       "      <td>-0.037727</td>\n",
       "      <td>0.135772</td>\n",
       "      <td>0.288928</td>\n",
       "      <td>0.306578</td>\n",
       "      <td>0.143350</td>\n",
       "      <td>-0.170175</td>\n",
       "      <td>-0.066510</td>\n",
       "      <td>-0.088076</td>\n",
       "      <td>-0.093739</td>\n",
       "      <td>0.183242</td>\n",
       "    </tr>\n",
       "    <tr>\n",
       "      <th>Cingulo-Oper</th>\n",
       "      <td>-0.272291</td>\n",
       "      <td>-0.324535</td>\n",
       "      <td>-0.277398</td>\n",
       "      <td>-0.399327</td>\n",
       "      <td>-0.380768</td>\n",
       "      <td>-0.410076</td>\n",
       "      <td>-0.224794</td>\n",
       "      <td>-0.229549</td>\n",
       "      <td>-0.109933</td>\n",
       "      <td>-0.133826</td>\n",
       "      <td>...</td>\n",
       "      <td>-0.094498</td>\n",
       "      <td>-0.064834</td>\n",
       "      <td>-0.089995</td>\n",
       "      <td>0.086074</td>\n",
       "      <td>0.029558</td>\n",
       "      <td>-0.095910</td>\n",
       "      <td>-0.076048</td>\n",
       "      <td>-0.179407</td>\n",
       "      <td>0.008915</td>\n",
       "      <td>-0.104360</td>\n",
       "    </tr>\n",
       "    <tr>\n",
       "      <th>Default</th>\n",
       "      <td>-0.305204</td>\n",
       "      <td>-0.486064</td>\n",
       "      <td>-0.443311</td>\n",
       "      <td>-0.545896</td>\n",
       "      <td>-0.554999</td>\n",
       "      <td>-0.457375</td>\n",
       "      <td>-0.339776</td>\n",
       "      <td>-0.269770</td>\n",
       "      <td>-0.122054</td>\n",
       "      <td>-0.261295</td>\n",
       "      <td>...</td>\n",
       "      <td>0.085010</td>\n",
       "      <td>0.046466</td>\n",
       "      <td>0.110728</td>\n",
       "      <td>0.236770</td>\n",
       "      <td>0.172487</td>\n",
       "      <td>0.238820</td>\n",
       "      <td>0.113867</td>\n",
       "      <td>-0.062392</td>\n",
       "      <td>-0.070282</td>\n",
       "      <td>0.084471</td>\n",
       "    </tr>\n",
       "    <tr>\n",
       "      <th>Dorsal-atten</th>\n",
       "      <td>-0.509113</td>\n",
       "      <td>-0.231975</td>\n",
       "      <td>-0.715868</td>\n",
       "      <td>-0.734218</td>\n",
       "      <td>-0.635280</td>\n",
       "      <td>-0.686718</td>\n",
       "      <td>-0.883359</td>\n",
       "      <td>-0.549735</td>\n",
       "      <td>-0.339699</td>\n",
       "      <td>-0.421041</td>\n",
       "      <td>...</td>\n",
       "      <td>0.236351</td>\n",
       "      <td>0.378172</td>\n",
       "      <td>0.060439</td>\n",
       "      <td>0.374250</td>\n",
       "      <td>0.344148</td>\n",
       "      <td>0.524744</td>\n",
       "      <td>0.518355</td>\n",
       "      <td>0.352067</td>\n",
       "      <td>0.780180</td>\n",
       "      <td>0.437249</td>\n",
       "    </tr>\n",
       "    <tr>\n",
       "      <th>Frontopariet</th>\n",
       "      <td>-0.563799</td>\n",
       "      <td>-0.656890</td>\n",
       "      <td>-0.760067</td>\n",
       "      <td>-0.773211</td>\n",
       "      <td>-0.710369</td>\n",
       "      <td>-0.687894</td>\n",
       "      <td>-0.579721</td>\n",
       "      <td>-0.393112</td>\n",
       "      <td>-0.316898</td>\n",
       "      <td>-0.301221</td>\n",
       "      <td>...</td>\n",
       "      <td>0.157061</td>\n",
       "      <td>0.231827</td>\n",
       "      <td>0.213662</td>\n",
       "      <td>0.273384</td>\n",
       "      <td>0.257137</td>\n",
       "      <td>0.351102</td>\n",
       "      <td>0.240165</td>\n",
       "      <td>0.294539</td>\n",
       "      <td>0.256516</td>\n",
       "      <td>0.196436</td>\n",
       "    </tr>\n",
       "  </tbody>\n",
       "</table>\n",
       "<p>5 rows × 78 columns</p>\n",
       "</div>"
      ],
      "text/plain": [
       "                                         X0        X1        X2        X3  \\\n",
       "Subject_id Condition Network                                                \n",
       "0          body      Auditory     -0.536150 -0.463232 -0.260641 -0.371127   \n",
       "                     Cingulo-Oper -0.272291 -0.324535 -0.277398 -0.399327   \n",
       "                     Default      -0.305204 -0.486064 -0.443311 -0.545896   \n",
       "                     Dorsal-atten -0.509113 -0.231975 -0.715868 -0.734218   \n",
       "                     Frontopariet -0.563799 -0.656890 -0.760067 -0.773211   \n",
       "\n",
       "                                         X4        X5        X6        X7  \\\n",
       "Subject_id Condition Network                                                \n",
       "0          body      Auditory     -0.533818 -0.376349 -0.521581  0.124713   \n",
       "                     Cingulo-Oper -0.380768 -0.410076 -0.224794 -0.229549   \n",
       "                     Default      -0.554999 -0.457375 -0.339776 -0.269770   \n",
       "                     Dorsal-atten -0.635280 -0.686718 -0.883359 -0.549735   \n",
       "                     Frontopariet -0.710369 -0.687894 -0.579721 -0.393112   \n",
       "\n",
       "                                         X8        X9  ...       X68  \\\n",
       "Subject_id Condition Network                           ...             \n",
       "0          body      Auditory     -0.084195  0.256042  ... -0.037727   \n",
       "                     Cingulo-Oper -0.109933 -0.133826  ... -0.094498   \n",
       "                     Default      -0.122054 -0.261295  ...  0.085010   \n",
       "                     Dorsal-atten -0.339699 -0.421041  ...  0.236351   \n",
       "                     Frontopariet -0.316898 -0.301221  ...  0.157061   \n",
       "\n",
       "                                        X69       X70       X71       X72  \\\n",
       "Subject_id Condition Network                                                \n",
       "0          body      Auditory      0.135772  0.288928  0.306578  0.143350   \n",
       "                     Cingulo-Oper -0.064834 -0.089995  0.086074  0.029558   \n",
       "                     Default       0.046466  0.110728  0.236770  0.172487   \n",
       "                     Dorsal-atten  0.378172  0.060439  0.374250  0.344148   \n",
       "                     Frontopariet  0.231827  0.213662  0.273384  0.257137   \n",
       "\n",
       "                                        X73       X74       X75       X76  \\\n",
       "Subject_id Condition Network                                                \n",
       "0          body      Auditory     -0.170175 -0.066510 -0.088076 -0.093739   \n",
       "                     Cingulo-Oper -0.095910 -0.076048 -0.179407  0.008915   \n",
       "                     Default       0.238820  0.113867 -0.062392 -0.070282   \n",
       "                     Dorsal-atten  0.524744  0.518355  0.352067  0.780180   \n",
       "                     Frontopariet  0.351102  0.240165  0.294539  0.256516   \n",
       "\n",
       "                                        X77  \n",
       "Subject_id Condition Network                 \n",
       "0          body      Auditory      0.183242  \n",
       "                     Cingulo-Oper -0.104360  \n",
       "                     Default       0.084471  \n",
       "                     Dorsal-atten  0.437249  \n",
       "                     Frontopariet  0.196436  \n",
       "\n",
       "[5 rows x 78 columns]"
      ]
     },
     "execution_count": 53,
     "metadata": {},
     "output_type": "execute_result"
    }
   ],
   "source": [
    "WM_2back_0back_z_net_contr.head()"
   ]
  },
  {
   "cell_type": "code",
   "execution_count": 60,
   "metadata": {},
   "outputs": [],
   "source": [
    "WM_2back_0back_z_net_contr.reset_index(level=0, inplace=True)\n",
    "WM_2back_0back_z_net_contr.reset_index(level=0, inplace=True)\n",
    "WM_2back_0back_z_net_contr.reset_index(level=0, inplace=True)"
   ]
  },
  {
   "cell_type": "code",
   "execution_count": 61,
   "metadata": {},
   "outputs": [],
   "source": [
    "# Split networks\n",
    "Visual1_mean_z = WM_2back_0back_z_net_contr.loc[WM_2back_0back_z_net_contr['Network'] == 'Visual1']\n",
    "Visual2_mean_z = WM_2back_0back_z_net_contr.loc[WM_2back_0back_z_net_contr['Network'] == 'Visual2']\n",
    "Somatomotor_mean_z = WM_2back_0back_z_net_contr.loc[WM_2back_0back_z_net_contr['Network'] == 'Somatomotor']\n",
    "Cingulo_Oper_mean_z = WM_2back_0back_z_net_contr.loc[WM_2back_0back_z_net_contr['Network'] == 'Cingulo-Oper']\n",
    "Language_mean_z = WM_2back_0back_z_net_contr.loc[WM_2back_0back_z_net_contr['Network'] == 'Language']\n",
    "Default_mean_z = WM_2back_0back_z_net_contr.loc[WM_2back_0back_z_net_contr['Network'] == 'Default']\n",
    "Frontopariet_mean_z = WM_2back_0back_z_net_contr.loc[WM_2back_0back_z_net_contr['Network'] == 'Frontopariet']\n",
    "Auditory_mean_z = WM_2back_0back_z_net_contr.loc[WM_2back_0back_z_net_contr['Network'] == 'Auditory']\n",
    "Dorsal_atten_mean_z = WM_2back_0back_z_net_contr.loc[WM_2back_0back_z_net_contr['Network'] == 'Dorsal-atten']\n",
    "Posterior_Mu_mean_z = WM_2back_0back_z_net_contr.loc[WM_2back_0back_z_net_contr['Network'] == 'Posterior-Mu']\n",
    "Orbito_Affec_mean_z = WM_2back_0back_z_net_contr.loc[WM_2back_0back_z_net_contr['Network'] == 'Orbito-Affec']\n",
    "Ventral_Mult_mean_z = WM_2back_0back_z_net_contr.loc[WM_2back_0back_z_net_contr['Network'] == 'Ventral-Mult']"
   ]
  },
  {
   "cell_type": "code",
   "execution_count": 62,
   "metadata": {},
   "outputs": [
    {
     "data": {
      "text/html": [
       "<div>\n",
       "<style scoped>\n",
       "    .dataframe tbody tr th:only-of-type {\n",
       "        vertical-align: middle;\n",
       "    }\n",
       "\n",
       "    .dataframe tbody tr th {\n",
       "        vertical-align: top;\n",
       "    }\n",
       "\n",
       "    .dataframe thead th {\n",
       "        text-align: right;\n",
       "    }\n",
       "</style>\n",
       "<table border=\"1\" class=\"dataframe\">\n",
       "  <thead>\n",
       "    <tr style=\"text-align: right;\">\n",
       "      <th></th>\n",
       "      <th>Network</th>\n",
       "      <th>Condition</th>\n",
       "      <th>Subject_id</th>\n",
       "      <th>X0</th>\n",
       "      <th>X1</th>\n",
       "      <th>X2</th>\n",
       "      <th>X3</th>\n",
       "      <th>X4</th>\n",
       "      <th>X5</th>\n",
       "      <th>X6</th>\n",
       "      <th>...</th>\n",
       "      <th>X68</th>\n",
       "      <th>X69</th>\n",
       "      <th>X70</th>\n",
       "      <th>X71</th>\n",
       "      <th>X72</th>\n",
       "      <th>X73</th>\n",
       "      <th>X74</th>\n",
       "      <th>X75</th>\n",
       "      <th>X76</th>\n",
       "      <th>X77</th>\n",
       "    </tr>\n",
       "  </thead>\n",
       "  <tbody>\n",
       "    <tr>\n",
       "      <th>10</th>\n",
       "      <td>Visual1</td>\n",
       "      <td>body</td>\n",
       "      <td>0</td>\n",
       "      <td>-0.446414</td>\n",
       "      <td>-0.557629</td>\n",
       "      <td>-0.374468</td>\n",
       "      <td>-0.585057</td>\n",
       "      <td>-0.862383</td>\n",
       "      <td>-0.493350</td>\n",
       "      <td>-0.543312</td>\n",
       "      <td>...</td>\n",
       "      <td>0.376802</td>\n",
       "      <td>0.511162</td>\n",
       "      <td>1.068575</td>\n",
       "      <td>0.381296</td>\n",
       "      <td>0.517113</td>\n",
       "      <td>0.035874</td>\n",
       "      <td>0.104045</td>\n",
       "      <td>0.219317</td>\n",
       "      <td>-0.083733</td>\n",
       "      <td>0.027254</td>\n",
       "    </tr>\n",
       "    <tr>\n",
       "      <th>22</th>\n",
       "      <td>Visual1</td>\n",
       "      <td>faces</td>\n",
       "      <td>0</td>\n",
       "      <td>-0.359677</td>\n",
       "      <td>-0.135465</td>\n",
       "      <td>0.054980</td>\n",
       "      <td>0.315545</td>\n",
       "      <td>-0.056072</td>\n",
       "      <td>-0.136702</td>\n",
       "      <td>-0.076620</td>\n",
       "      <td>...</td>\n",
       "      <td>0.666613</td>\n",
       "      <td>0.765921</td>\n",
       "      <td>0.968386</td>\n",
       "      <td>1.297284</td>\n",
       "      <td>0.989735</td>\n",
       "      <td>1.426075</td>\n",
       "      <td>0.980523</td>\n",
       "      <td>1.369752</td>\n",
       "      <td>0.924935</td>\n",
       "      <td>0.768457</td>\n",
       "    </tr>\n",
       "    <tr>\n",
       "      <th>34</th>\n",
       "      <td>Visual1</td>\n",
       "      <td>places</td>\n",
       "      <td>0</td>\n",
       "      <td>-0.869974</td>\n",
       "      <td>-0.719346</td>\n",
       "      <td>-0.436157</td>\n",
       "      <td>-0.581525</td>\n",
       "      <td>-0.261237</td>\n",
       "      <td>-0.729432</td>\n",
       "      <td>-0.576830</td>\n",
       "      <td>...</td>\n",
       "      <td>-0.381664</td>\n",
       "      <td>-0.399787</td>\n",
       "      <td>-0.223081</td>\n",
       "      <td>-0.003831</td>\n",
       "      <td>0.267380</td>\n",
       "      <td>0.140609</td>\n",
       "      <td>0.225396</td>\n",
       "      <td>0.001574</td>\n",
       "      <td>0.091747</td>\n",
       "      <td>-0.311211</td>\n",
       "    </tr>\n",
       "    <tr>\n",
       "      <th>46</th>\n",
       "      <td>Visual1</td>\n",
       "      <td>tools</td>\n",
       "      <td>0</td>\n",
       "      <td>-0.769366</td>\n",
       "      <td>-0.488403</td>\n",
       "      <td>-0.164718</td>\n",
       "      <td>0.330031</td>\n",
       "      <td>0.840623</td>\n",
       "      <td>0.849262</td>\n",
       "      <td>0.622443</td>\n",
       "      <td>...</td>\n",
       "      <td>0.390614</td>\n",
       "      <td>0.545197</td>\n",
       "      <td>0.565815</td>\n",
       "      <td>0.020661</td>\n",
       "      <td>0.136695</td>\n",
       "      <td>0.111817</td>\n",
       "      <td>0.452446</td>\n",
       "      <td>0.447776</td>\n",
       "      <td>0.646179</td>\n",
       "      <td>0.516717</td>\n",
       "    </tr>\n",
       "    <tr>\n",
       "      <th>58</th>\n",
       "      <td>Visual1</td>\n",
       "      <td>body</td>\n",
       "      <td>1</td>\n",
       "      <td>-0.488002</td>\n",
       "      <td>-1.375254</td>\n",
       "      <td>-1.564614</td>\n",
       "      <td>-1.032797</td>\n",
       "      <td>-1.124337</td>\n",
       "      <td>-0.887611</td>\n",
       "      <td>0.201504</td>\n",
       "      <td>...</td>\n",
       "      <td>0.147275</td>\n",
       "      <td>0.207330</td>\n",
       "      <td>-0.113793</td>\n",
       "      <td>-0.682963</td>\n",
       "      <td>-0.262465</td>\n",
       "      <td>-0.572429</td>\n",
       "      <td>-0.862533</td>\n",
       "      <td>-1.046447</td>\n",
       "      <td>-1.156365</td>\n",
       "      <td>-0.737522</td>\n",
       "    </tr>\n",
       "  </tbody>\n",
       "</table>\n",
       "<p>5 rows × 81 columns</p>\n",
       "</div>"
      ],
      "text/plain": [
       "    Network Condition  Subject_id        X0        X1        X2        X3  \\\n",
       "10  Visual1      body           0 -0.446414 -0.557629 -0.374468 -0.585057   \n",
       "22  Visual1     faces           0 -0.359677 -0.135465  0.054980  0.315545   \n",
       "34  Visual1    places           0 -0.869974 -0.719346 -0.436157 -0.581525   \n",
       "46  Visual1     tools           0 -0.769366 -0.488403 -0.164718  0.330031   \n",
       "58  Visual1      body           1 -0.488002 -1.375254 -1.564614 -1.032797   \n",
       "\n",
       "          X4        X5        X6  ...       X68       X69       X70       X71  \\\n",
       "10 -0.862383 -0.493350 -0.543312  ...  0.376802  0.511162  1.068575  0.381296   \n",
       "22 -0.056072 -0.136702 -0.076620  ...  0.666613  0.765921  0.968386  1.297284   \n",
       "34 -0.261237 -0.729432 -0.576830  ... -0.381664 -0.399787 -0.223081 -0.003831   \n",
       "46  0.840623  0.849262  0.622443  ...  0.390614  0.545197  0.565815  0.020661   \n",
       "58 -1.124337 -0.887611  0.201504  ...  0.147275  0.207330 -0.113793 -0.682963   \n",
       "\n",
       "         X72       X73       X74       X75       X76       X77  \n",
       "10  0.517113  0.035874  0.104045  0.219317 -0.083733  0.027254  \n",
       "22  0.989735  1.426075  0.980523  1.369752  0.924935  0.768457  \n",
       "34  0.267380  0.140609  0.225396  0.001574  0.091747 -0.311211  \n",
       "46  0.136695  0.111817  0.452446  0.447776  0.646179  0.516717  \n",
       "58 -0.262465 -0.572429 -0.862533 -1.046447 -1.156365 -0.737522  \n",
       "\n",
       "[5 rows x 81 columns]"
      ]
     },
     "execution_count": 62,
     "metadata": {},
     "output_type": "execute_result"
    }
   ],
   "source": [
    "# Sanity check\n",
    "Visual1_mean_z.head()"
   ]
  },
  {
   "cell_type": "code",
   "execution_count": 68,
   "metadata": {},
   "outputs": [
    {
     "name": "stdout",
     "output_type": "stream",
     "text": [
      "Mean Accuracy: 0.540 (0.032)\n"
     ]
    }
   ],
   "source": [
    "# Evaluate the model and collect the scores - Visual 1\n",
    "n_scores_V1_z = cross_val_score(model, Visual1_mean_z.iloc[:, 3:82], Visual1_mean_z.iloc[:, 1], scoring='accuracy', cv=cv, n_jobs=-1)\n",
    "\n",
    "# Report the model performance (M = 0.540, SD = 0.0032)\n",
    "print('Mean Accuracy: %.3f (%.3f)' % (np.mean(n_scores_V1_z), np.std(n_scores_V1_z)))"
   ]
  },
  {
   "cell_type": "code",
   "execution_count": 70,
   "metadata": {},
   "outputs": [
    {
     "name": "stdout",
     "output_type": "stream",
     "text": [
      "Mean Accuracy: 0.650 (0.045)\n"
     ]
    }
   ],
   "source": [
    "# Evaluate the model and collect the scores - Visual 2\n",
    "n_scores_V2_z = cross_val_score(model, Visual2_mean_z.iloc[:, 3:82], Visual2_mean_z.iloc[:, 1], scoring='accuracy', cv=cv, n_jobs=-1)\n",
    "\n",
    "# Report the model performance (M = 0.650, SD = 0.045)\n",
    "print('Mean Accuracy: %.3f (%.3f)' % (np.mean(n_scores_V2_z), np.std(n_scores_V2_z)))"
   ]
  },
  {
   "cell_type": "code",
   "execution_count": null,
   "metadata": {},
   "outputs": [],
   "source": []
  }
 ],
 "metadata": {
  "kernelspec": {
   "display_name": "Python 3",
   "language": "python",
   "name": "python3"
  },
  "language_info": {
   "codemirror_mode": {
    "name": "ipython",
    "version": 3
   },
   "file_extension": ".py",
   "mimetype": "text/x-python",
   "name": "python",
   "nbconvert_exporter": "python",
   "pygments_lexer": "ipython3",
   "version": "3.7.3"
  }
 },
 "nbformat": 4,
 "nbformat_minor": 2
}
