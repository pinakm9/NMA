{
 "cells": [
  {
   "cell_type": "markdown",
   "metadata": {},
   "source": [
    "#### Note: \n",
    "\n",
    " This section was originally written to play around with the data from a single participant. "
   ]
  },
  {
   "cell_type": "code",
   "execution_count": 94,
   "metadata": {},
   "outputs": [
    {
     "name": "stdout",
     "output_type": "stream",
     "text": [
      "/Users/jelkastojanov/anaconda3/bin/python\n",
      "['/Users/jelkastojanov/Documents/GitHub/NMA/modules', '/Users/jelkastojanov/Documents/GitHub/NMA/garbage', '/Users/jelkastojanov/anaconda3/lib/python37.zip', '/Users/jelkastojanov/anaconda3/lib/python3.7', '/Users/jelkastojanov/anaconda3/lib/python3.7/lib-dynload', '', '/Users/jelkastojanov/anaconda3/lib/python3.7/site-packages', '/Users/jelkastojanov/anaconda3/lib/python3.7/site-packages/aeosa', '/Users/jelkastojanov/anaconda3/lib/python3.7/site-packages/IPython/extensions', '/Users/jelkastojanov/.ipython']\n"
     ]
    }
   ],
   "source": [
    "import os, sys\n",
    "\n",
    "print(sys.executable) # This is where this notebook is running in\n",
    "print(sys.path) # This is where the downloaded modules are - sys.executable and sys.path need to be the same to be able to load the module.\n",
    "\n",
    "# Solution:\n",
    "# Run this in Terminal: (output of sys.executable) -m pip install (package name)"
   ]
  },
  {
   "cell_type": "code",
   "execution_count": 95,
   "metadata": {},
   "outputs": [],
   "source": [
    "# Load packages to convert formats\n",
    "import nibabel as nib\n",
    "import numpy as np\n",
    "import matplotlib.pyplot as plt\n",
    "import pandas as pd\n",
    "import seaborn as sn\n",
    "import pingouin\n",
    "from sklearn import preprocessing\n",
    "import numpy as np\n",
    "from numpy.core import einsumfunc\n",
    "import utility as ut\n",
    "from nilearn import signal\n",
    "import seaborn as sns\n",
    "%matplotlib inline"
   ]
  },
  {
   "cell_type": "code",
   "execution_count": null,
   "metadata": {},
   "outputs": [],
   "source": [
    "# File where the NMA fMRI data are\n",
    "path_data = \"/Volumes/DPhil_Jelka/fmri_data/hcp_task\"\n",
    "\n",
    "try: \n",
    "    os.chdir(path_data) \n",
    "except OSError as error: \n",
    "    print(error)  "
   ]
  },
  {
   "cell_type": "code",
   "execution_count": null,
   "metadata": {},
   "outputs": [],
   "source": [
    "# Check if you successfully changed directory\n",
    "os.getcwd() "
   ]
  },
  {
   "cell_type": "code",
   "execution_count": 96,
   "metadata": {},
   "outputs": [],
   "source": [
    "# Okay, you want hcp_task to be your specific directory for now\n",
    "HCP_DIR = \"/Volumes/DPhil_Jelka/fmri_data/hcp_task\"\n",
    "if not os.path.isdir(HCP_DIR):\n",
    "    os.mkdir(HCP_DIR)\n",
    "\n",
    "# The data shared for NMA projects is a subset of the full HCP dataset (0-338)\n",
    "N_SUBJECTS = 339\n",
    "\n",
    "# The data have already been aggregated into ROIs from the Glasser parcellation\n",
    "N_PARCELS = 360\n",
    "\n",
    "# The acquisition parameters for all tasks were identical\n",
    "TR = 0.72  # Time resolution, in seconds\n",
    "\n",
    "# The parcels are matched across hemispheres with the same order\n",
    "HEMIS = [\"Right\", \"Left\"]\n",
    "\n",
    "# Each experiment was repeated twice in each subject\n",
    "N_RUNS = 2\n",
    "\n",
    "# There are 7 tasks. Each has a number of 'conditions'\n",
    "\n",
    "EXPERIMENTS = {\n",
    "    'MOTOR'      : {'runs': [5,6],   'cond':['lf','rf','lh','rh','t','cue']},\n",
    "    'WM'         : {'runs': [7,8],   'cond':['0bk_body','0bk_faces','0bk_places','0bk_tools','2bk_body','2bk_faces','2bk_places','2bk_tools']},\n",
    "    'EMOTION'    : {'runs': [9,10],  'cond':['fear','neut']},\n",
    "    'GAMBLING'   : {'runs': [11,12], 'cond':['loss','win']},\n",
    "    'LANGUAGE'   : {'runs': [13,14], 'cond':['math','story']},\n",
    "    'RELATIONAL' : {'runs': [15,16], 'cond':['match','relation']},\n",
    "    'SOCIAL'     : {'runs': [17,18], 'cond':['mental','rnd']}\n",
    "}\n",
    "\n",
    "# You may want to limit the subjects used during code development. This will use all subjects."
   ]
  },
  {
   "cell_type": "code",
   "execution_count": 97,
   "metadata": {},
   "outputs": [],
   "source": [
    "# Function to load one .npy timeseries file\n",
    "\n",
    "def load_single_timeseries(subject, experiment, run, remove_mean=True):\n",
    "    \"\"\"\n",
    "    Load timeseries data for a single subject and single run.\n",
    "  \n",
    "    Args:\n",
    "    subject (int):      0-based subject ID to load\n",
    "    experiment (str):   Name of experiment \n",
    "    run (int):          0-based run index, across all tasks\n",
    "    remove_mean (bool): If True, subtract the parcel-wise mean (typically the mean BOLD signal is not of interest)\n",
    "\n",
    "    Returns\n",
    "    ts (n_parcel x n_timepoint array): Array of BOLD data values\n",
    "\n",
    "    \"\"\"\n",
    "    bold_run  = EXPERIMENTS[experiment]['runs'][run]\n",
    "    bold_path = f\"{HCP_DIR}/subjects/{subject}/timeseries\"\n",
    "    bold_file = f\"bold{bold_run}_Atlas_MSMAll_Glasser360Cortical.npy\"\n",
    "    ts = np.load(f\"{bold_path}/{bold_file}\")\n",
    "    if remove_mean:\n",
    "        ts -= ts.mean(axis=1, keepdims=True)\n",
    "    return ts\n",
    "\n",
    "\n",
    "def load_evs(subject, experiment, run):\n",
    "    \"\"\"Load EVs (explanatory variables) data for one task experiment.\n",
    "\n",
    "    Args:\n",
    "    subject (int): 0-based subject ID to load\n",
    "    experiment (str) : Name of experiment\n",
    "\n",
    "    Returns\n",
    "    evs (list of lists): A list of frames associated with each condition\n",
    "\n",
    "    \"\"\"\n",
    "    frames_list = []\n",
    "    task_key = 'tfMRI_'+ experiment + '_'+['RL','LR'][run]\n",
    "    for cond in EXPERIMENTS[experiment]['cond']:    \n",
    "        ev_file  = f\"{HCP_DIR}/subjects/{subject}/EVs/{task_key}/{cond}.txt\"\n",
    "        ev_array = np.loadtxt(ev_file, ndmin=2, unpack=True)\n",
    "        ev       = dict(zip([\"onset\", \"duration\", \"amplitude\"], ev_array))\n",
    "    \n",
    "    # Determine when trial starts, rounded down\n",
    "        start = np.floor(ev[\"onset\"] / TR).astype(int)\n",
    "    \n",
    "    # Use trial duration to determine how many frames to include for trial\n",
    "        duration = np.ceil(ev[\"duration\"] / TR).astype(int)\n",
    "    \n",
    "    # Take the range of frames that correspond to this specific trial\n",
    "        frames = [s + np.arange(0, d) for s, d in zip(start, duration)]\n",
    "        frames_list.append(frames)\n",
    "    \n",
    "    return frames_list"
   ]
  },
  {
   "cell_type": "code",
   "execution_count": 98,
   "metadata": {},
   "outputs": [
    {
     "name": "stdout",
     "output_type": "stream",
     "text": [
      "(360, 405)\n",
      "[[   9.89654321  -45.70345679 -100.30345679 ...  -82.00345679\n",
      "   -71.80345679 -104.70345679]\n",
      " [ 127.42671605   40.91671605    4.46671605 ...  -81.68328395\n",
      "   -29.55328395  -37.92328395]\n",
      " [  29.50725926  -18.74274074  -35.67274074 ...    7.54725926\n",
      "    82.27725926   68.85725926]\n",
      " ...\n",
      " [ 111.59012346   53.39012346  205.99012346 ...    6.89012346\n",
      "   100.49012346   27.09012346]\n",
      " [  96.77901235  -37.82098765  -49.42098765 ... -122.52098765\n",
      "   -42.02098765  -36.32098765]\n",
      " [  47.53679012  -26.16320988    9.93679012 ...  -76.96320988\n",
      "   -34.66320988  -63.46320988]]\n"
     ]
    }
   ],
   "source": [
    "my_exp  = 'WM'\n",
    "my_subj = 2\n",
    "my_run  = 0\n",
    "\n",
    "data_example = load_single_timeseries(subject = my_subj, experiment = my_exp, run = my_run, remove_mean = True)\n",
    "\n",
    "print(data_example.shape) # 360 ROIs, 405 timepoints\n",
    "print(data_example) # np.ndarray"
   ]
  },
  {
   "cell_type": "code",
   "execution_count": 99,
   "metadata": {},
   "outputs": [],
   "source": [
    "# Info about regions\n",
    "regions = np.load(f\"{HCP_DIR}/regions.npy\").T\n",
    "region_info = dict(\n",
    "    name=regions[0].tolist(),\n",
    "    network=regions[1],\n",
    "    hemi=['Right']*int(N_PARCELS/2) + ['Left']*int(N_PARCELS/2),\n",
    ")"
   ]
  },
  {
   "cell_type": "code",
   "execution_count": 11,
   "metadata": {},
   "outputs": [],
   "source": [
    "# We want ROIs in columns\n",
    "regions_T = np.transpose(regions)"
   ]
  },
  {
   "cell_type": "code",
   "execution_count": 12,
   "metadata": {},
   "outputs": [
    {
     "name": "stdout",
     "output_type": "stream",
     "text": [
      "Visual1 Visual2 Somatomotor Cingulo-Oper Language Default Frontopariet Auditory Dorsal-atten Posterior-Mu Orbito-Affec Ventral-Mult\n"
     ]
    }
   ],
   "source": [
    "# Check how many networks are there\n",
    "from collections import Counter\n",
    "\n",
    "# Function to get unique values\n",
    "def unique(list1):\n",
    "   \n",
    "    # Print directly by using * symbol\n",
    "    print(*Counter(list1))\n",
    "\n",
    "unique(regions[1]) #12 networks"
   ]
  },
  {
   "cell_type": "code",
   "execution_count": 100,
   "metadata": {},
   "outputs": [],
   "source": [
    "# Load explanatory variables - No clue what they current mean\n",
    "evs = load_evs(subject = my_subj, experiment = my_exp, run = my_run)"
   ]
  },
  {
   "cell_type": "code",
   "execution_count": 101,
   "metadata": {},
   "outputs": [
    {
     "name": "stdout",
     "output_type": "stream",
     "text": [
      "         ROI       Network     Hemi\n",
      "0       R_V1       Visual1    2.209\n",
      "1      R_MST       Visual2  2.05561\n",
      "2       R_V6       Visual2   2.1498\n",
      "3       R_V2       Visual2  2.15347\n",
      "4       R_V3       Visual2  2.07251\n",
      "..       ...           ...      ...\n",
      "355  L_STSva  Posterior-Mu   1.7608\n",
      "356   L_TE1m  Frontopariet  1.74175\n",
      "357     L_PI  Cingulo-Oper  1.74335\n",
      "358  L_a32pr  Cingulo-Oper  1.73082\n",
      "359    L_p24  Cingulo-Oper  1.65968\n",
      "\n",
      "[360 rows x 3 columns]\n"
     ]
    }
   ],
   "source": [
    "# Turn regions into a pd.dataframe\n",
    "df_regions = pd.DataFrame(regions_T, columns = ['ROI', 'Network', 'Hemi'])\n",
    "print(df_regions)"
   ]
  },
  {
   "cell_type": "code",
   "execution_count": 102,
   "metadata": {},
   "outputs": [
    {
     "data": {
      "text/plain": [
       "Posterior-Mu    77\n",
       "Cingulo-Oper    56\n",
       "Visual2         54\n",
       "Frontopariet    50\n",
       "Somatomotor     39\n",
       "Language        23\n",
       "Default         23\n",
       "Auditory        15\n",
       "Dorsal-atten     7\n",
       "Orbito-Affec     6\n",
       "Visual1          6\n",
       "Ventral-Mult     4\n",
       "Name: Network, dtype: int64"
      ]
     },
     "execution_count": 102,
     "metadata": {},
     "output_type": "execute_result"
    }
   ],
   "source": [
    "# See how many regions you have for each network\n",
    "df_regions['Network'].value_counts() # Not even close to an equal number"
   ]
  },
  {
   "cell_type": "code",
   "execution_count": 103,
   "metadata": {},
   "outputs": [
    {
     "name": "stdout",
     "output_type": "stream",
     "text": [
      "(405, 360)\n"
     ]
    }
   ],
   "source": [
    "# Again, we want ROIs in columns\n",
    "data_example_T = np.transpose(data_example)\n",
    "data_example_df = pd.DataFrame(data_example_T, columns = [df_regions['ROI'], df_regions['Network']])\n",
    "print(data_example_df.shape) #405 time points, 360 ROIs"
   ]
  },
  {
   "cell_type": "code",
   "execution_count": 104,
   "metadata": {},
   "outputs": [
    {
     "name": "stdout",
     "output_type": "stream",
     "text": [
      "            0          1           2           3           4           5    \\\n",
      "0      9.896543 -45.703457 -100.303457 -140.403457 -124.403457  -99.203457   \n",
      "1    127.426716  40.916716    4.466716   14.216716   64.766716   54.056716   \n",
      "2     29.507259 -18.742741  -35.672741 -101.732741   -5.712741  -32.682741   \n",
      "3     30.120247 -34.179753  -68.579753  -82.879753  -66.279753  -48.779753   \n",
      "4     -3.957531 -37.257531  -61.157531  -86.857531  -61.657531  -48.157531   \n",
      "..          ...        ...         ...         ...         ...         ...   \n",
      "355  117.937037  63.037037   54.937037   53.737037   63.737037   14.137037   \n",
      "356   89.855407  71.595407   -9.004593   21.285407   46.815407  -15.004593   \n",
      "357  111.590123  53.390123  205.990123   51.290123  -42.209877   82.590123   \n",
      "358   96.779012 -37.820988  -49.420988   16.879012    0.079012   85.479012   \n",
      "359   47.536790 -26.163210    9.936790   48.936790  105.636790  125.636790   \n",
      "\n",
      "            6          7           8           9    ...         395  \\\n",
      "0   -100.303457 -43.903457  -53.103457  -88.103457  ... -113.203457   \n",
      "1    108.866716  99.156716   96.686716  111.626716  ...  -65.103284   \n",
      "2    -54.012741   1.987259    5.257259    9.017259  ...    4.177259   \n",
      "3    -72.579753 -39.479753  -26.379753  -74.279753  ...  -84.279753   \n",
      "4    -51.657531 -30.757531  -21.757531  -34.557531  ... -133.157531   \n",
      "..          ...        ...         ...         ...  ...         ...   \n",
      "355  -30.362963  44.037037   38.137037    3.437037  ...  -38.462963   \n",
      "356  -16.594593  13.915407   -3.514593   -6.884593  ...  -40.754593   \n",
      "357   -0.409877 -40.609877   46.790123   28.990123  ...   49.490123   \n",
      "358  -26.820988 -33.020988   14.179012  -56.120988  ...   87.079012   \n",
      "359  109.736790 -10.963210 -115.563210   20.636790  ...  -35.663210   \n",
      "\n",
      "            396         397         398         399         400         401  \\\n",
      "0   -138.503457 -130.703457 -141.503457 -145.103457 -108.803457 -112.203457   \n",
      "1    -93.353284  -90.103284 -130.413284  -54.813284  -75.883284  -50.523284   \n",
      "2    -18.252741  -10.932741   16.087259  -45.002741   -5.552741  -19.512741   \n",
      "3    -89.979753 -111.779753 -124.579753  -99.479753  -84.379753 -105.279753   \n",
      "4   -135.757531 -146.357531 -154.957531 -123.657531 -125.357531 -126.757531   \n",
      "..          ...         ...         ...         ...         ...         ...   \n",
      "355   19.037037    3.337037   59.437037   16.137037   21.137037   23.037037   \n",
      "356  -13.504593  -54.394593  -30.854593  -14.154593  -40.034593  -59.464593   \n",
      "357   76.990123   41.490123   15.490123  -40.209877   56.990123  -72.309877   \n",
      "358 -144.620988  -80.820988 -101.420988 -107.620988    6.579012  -85.220988   \n",
      "359 -118.763210 -135.363210   23.536790  -62.063210  -67.263210  -86.863210   \n",
      "\n",
      "            402         403         404  \n",
      "0    -82.003457  -71.803457 -104.703457  \n",
      "1    -81.683284  -29.553284  -37.923284  \n",
      "2      7.547259   82.277259   68.857259  \n",
      "3    -76.679753  -70.979753  -60.879753  \n",
      "4   -129.757531 -107.657531 -115.157531  \n",
      "..          ...         ...         ...  \n",
      "355    1.037037   19.937037   10.337037  \n",
      "356  -38.194593  -65.684593   17.415407  \n",
      "357    6.890123  100.490123   27.090123  \n",
      "358 -122.520988  -42.020988  -36.320988  \n",
      "359  -76.963210  -34.663210  -63.463210  \n",
      "\n",
      "[360 rows x 405 columns]\n"
     ]
    }
   ],
   "source": [
    "# Transform original data_example to a pd.DataFrame\n",
    "data_example_df_original = pd.DataFrame(data_example)\n",
    "print(data_example_df_original)"
   ]
  },
  {
   "cell_type": "code",
   "execution_count": 105,
   "metadata": {},
   "outputs": [],
   "source": [
    "# Merge ROIs and networks\n",
    "Regions_Neural = df_regions.merge(data_example_df_original, left_index=True, right_index=True)"
   ]
  },
  {
   "cell_type": "code",
   "execution_count": 23,
   "metadata": {},
   "outputs": [
    {
     "data": {
      "text/html": [
       "<div>\n",
       "<style scoped>\n",
       "    .dataframe tbody tr th:only-of-type {\n",
       "        vertical-align: middle;\n",
       "    }\n",
       "\n",
       "    .dataframe tbody tr th {\n",
       "        vertical-align: top;\n",
       "    }\n",
       "\n",
       "    .dataframe thead th {\n",
       "        text-align: right;\n",
       "    }\n",
       "</style>\n",
       "<table border=\"1\" class=\"dataframe\">\n",
       "  <thead>\n",
       "    <tr style=\"text-align: right;\">\n",
       "      <th></th>\n",
       "      <th>ROI</th>\n",
       "      <th>Network</th>\n",
       "      <th>Hemi</th>\n",
       "      <th>0</th>\n",
       "      <th>1</th>\n",
       "      <th>2</th>\n",
       "      <th>3</th>\n",
       "      <th>4</th>\n",
       "      <th>5</th>\n",
       "      <th>6</th>\n",
       "      <th>...</th>\n",
       "      <th>395</th>\n",
       "      <th>396</th>\n",
       "      <th>397</th>\n",
       "      <th>398</th>\n",
       "      <th>399</th>\n",
       "      <th>400</th>\n",
       "      <th>401</th>\n",
       "      <th>402</th>\n",
       "      <th>403</th>\n",
       "      <th>404</th>\n",
       "    </tr>\n",
       "  </thead>\n",
       "  <tbody>\n",
       "    <tr>\n",
       "      <th>0</th>\n",
       "      <td>R_V1</td>\n",
       "      <td>Visual1</td>\n",
       "      <td>2.209</td>\n",
       "      <td>9.896543</td>\n",
       "      <td>-45.703457</td>\n",
       "      <td>-100.303457</td>\n",
       "      <td>-140.403457</td>\n",
       "      <td>-124.403457</td>\n",
       "      <td>-99.203457</td>\n",
       "      <td>-100.303457</td>\n",
       "      <td>...</td>\n",
       "      <td>-113.203457</td>\n",
       "      <td>-138.503457</td>\n",
       "      <td>-130.703457</td>\n",
       "      <td>-141.503457</td>\n",
       "      <td>-145.103457</td>\n",
       "      <td>-108.803457</td>\n",
       "      <td>-112.203457</td>\n",
       "      <td>-82.003457</td>\n",
       "      <td>-71.803457</td>\n",
       "      <td>-104.703457</td>\n",
       "    </tr>\n",
       "    <tr>\n",
       "      <th>1</th>\n",
       "      <td>R_MST</td>\n",
       "      <td>Visual2</td>\n",
       "      <td>2.05561</td>\n",
       "      <td>127.426716</td>\n",
       "      <td>40.916716</td>\n",
       "      <td>4.466716</td>\n",
       "      <td>14.216716</td>\n",
       "      <td>64.766716</td>\n",
       "      <td>54.056716</td>\n",
       "      <td>108.866716</td>\n",
       "      <td>...</td>\n",
       "      <td>-65.103284</td>\n",
       "      <td>-93.353284</td>\n",
       "      <td>-90.103284</td>\n",
       "      <td>-130.413284</td>\n",
       "      <td>-54.813284</td>\n",
       "      <td>-75.883284</td>\n",
       "      <td>-50.523284</td>\n",
       "      <td>-81.683284</td>\n",
       "      <td>-29.553284</td>\n",
       "      <td>-37.923284</td>\n",
       "    </tr>\n",
       "    <tr>\n",
       "      <th>2</th>\n",
       "      <td>R_V6</td>\n",
       "      <td>Visual2</td>\n",
       "      <td>2.1498</td>\n",
       "      <td>29.507259</td>\n",
       "      <td>-18.742741</td>\n",
       "      <td>-35.672741</td>\n",
       "      <td>-101.732741</td>\n",
       "      <td>-5.712741</td>\n",
       "      <td>-32.682741</td>\n",
       "      <td>-54.012741</td>\n",
       "      <td>...</td>\n",
       "      <td>4.177259</td>\n",
       "      <td>-18.252741</td>\n",
       "      <td>-10.932741</td>\n",
       "      <td>16.087259</td>\n",
       "      <td>-45.002741</td>\n",
       "      <td>-5.552741</td>\n",
       "      <td>-19.512741</td>\n",
       "      <td>7.547259</td>\n",
       "      <td>82.277259</td>\n",
       "      <td>68.857259</td>\n",
       "    </tr>\n",
       "    <tr>\n",
       "      <th>3</th>\n",
       "      <td>R_V2</td>\n",
       "      <td>Visual2</td>\n",
       "      <td>2.15347</td>\n",
       "      <td>30.120247</td>\n",
       "      <td>-34.179753</td>\n",
       "      <td>-68.579753</td>\n",
       "      <td>-82.879753</td>\n",
       "      <td>-66.279753</td>\n",
       "      <td>-48.779753</td>\n",
       "      <td>-72.579753</td>\n",
       "      <td>...</td>\n",
       "      <td>-84.279753</td>\n",
       "      <td>-89.979753</td>\n",
       "      <td>-111.779753</td>\n",
       "      <td>-124.579753</td>\n",
       "      <td>-99.479753</td>\n",
       "      <td>-84.379753</td>\n",
       "      <td>-105.279753</td>\n",
       "      <td>-76.679753</td>\n",
       "      <td>-70.979753</td>\n",
       "      <td>-60.879753</td>\n",
       "    </tr>\n",
       "    <tr>\n",
       "      <th>4</th>\n",
       "      <td>R_V3</td>\n",
       "      <td>Visual2</td>\n",
       "      <td>2.07251</td>\n",
       "      <td>-3.957531</td>\n",
       "      <td>-37.257531</td>\n",
       "      <td>-61.157531</td>\n",
       "      <td>-86.857531</td>\n",
       "      <td>-61.657531</td>\n",
       "      <td>-48.157531</td>\n",
       "      <td>-51.657531</td>\n",
       "      <td>...</td>\n",
       "      <td>-133.157531</td>\n",
       "      <td>-135.757531</td>\n",
       "      <td>-146.357531</td>\n",
       "      <td>-154.957531</td>\n",
       "      <td>-123.657531</td>\n",
       "      <td>-125.357531</td>\n",
       "      <td>-126.757531</td>\n",
       "      <td>-129.757531</td>\n",
       "      <td>-107.657531</td>\n",
       "      <td>-115.157531</td>\n",
       "    </tr>\n",
       "  </tbody>\n",
       "</table>\n",
       "<p>5 rows × 408 columns</p>\n",
       "</div>"
      ],
      "text/plain": [
       "     ROI  Network     Hemi           0          1           2           3  \\\n",
       "0   R_V1  Visual1    2.209    9.896543 -45.703457 -100.303457 -140.403457   \n",
       "1  R_MST  Visual2  2.05561  127.426716  40.916716    4.466716   14.216716   \n",
       "2   R_V6  Visual2   2.1498   29.507259 -18.742741  -35.672741 -101.732741   \n",
       "3   R_V2  Visual2  2.15347   30.120247 -34.179753  -68.579753  -82.879753   \n",
       "4   R_V3  Visual2  2.07251   -3.957531 -37.257531  -61.157531  -86.857531   \n",
       "\n",
       "            4          5           6  ...         395         396         397  \\\n",
       "0 -124.403457 -99.203457 -100.303457  ... -113.203457 -138.503457 -130.703457   \n",
       "1   64.766716  54.056716  108.866716  ...  -65.103284  -93.353284  -90.103284   \n",
       "2   -5.712741 -32.682741  -54.012741  ...    4.177259  -18.252741  -10.932741   \n",
       "3  -66.279753 -48.779753  -72.579753  ...  -84.279753  -89.979753 -111.779753   \n",
       "4  -61.657531 -48.157531  -51.657531  ... -133.157531 -135.757531 -146.357531   \n",
       "\n",
       "          398         399         400         401         402         403  \\\n",
       "0 -141.503457 -145.103457 -108.803457 -112.203457  -82.003457  -71.803457   \n",
       "1 -130.413284  -54.813284  -75.883284  -50.523284  -81.683284  -29.553284   \n",
       "2   16.087259  -45.002741   -5.552741  -19.512741    7.547259   82.277259   \n",
       "3 -124.579753  -99.479753  -84.379753 -105.279753  -76.679753  -70.979753   \n",
       "4 -154.957531 -123.657531 -125.357531 -126.757531 -129.757531 -107.657531   \n",
       "\n",
       "          404  \n",
       "0 -104.703457  \n",
       "1  -37.923284  \n",
       "2   68.857259  \n",
       "3  -60.879753  \n",
       "4 -115.157531  \n",
       "\n",
       "[5 rows x 408 columns]"
      ]
     },
     "execution_count": 23,
     "metadata": {},
     "output_type": "execute_result"
    }
   ],
   "source": [
    "Regions_Neural.head()"
   ]
  },
  {
   "cell_type": "code",
   "execution_count": 106,
   "metadata": {},
   "outputs": [
    {
     "name": "stdout",
     "output_type": "stream",
     "text": [
      "[  0   1   2   3   4   5   6   7   8   9  10  11  12  13  14  15  16  17\n",
      "  18  19  20  21  22  23  24  25  26  27  28  29  30  31  32  33  34  35\n",
      "  36  37  38  39  40  41  42  43  44  45  46  47  48  49  50  51  52  53\n",
      "  54  55  56  57  58  59  60  61  62  63  64  65  66  67  68  69  70  71\n",
      "  72  73  74  75  76  77  78  79  80  81  82  83  84  85  86  87  88  89\n",
      "  90  91  92  93  94  95  96  97  98  99 100 101 102 103 104 105 106 107\n",
      " 108 109 110 111 112 113 114 115 116 117 118 119 120 121 122 123 124 125\n",
      " 126 127 128 129 130 131 132 133 134 135 136 137 138 139 140 141 142 143\n",
      " 144 145 146 147 148 149 150 151 152 153 154 155 156 157 158 159 160 161\n",
      " 162 163 164 165 166 167 168 169 170 171 172 173 174 175 176 177 178 179\n",
      " 180 181 182 183 184 185 186 187 188 189 190 191 192 193 194 195 196 197\n",
      " 198 199 200 201 202 203 204 205 206 207 208 209 210 211 212 213 214 215\n",
      " 216 217 218 219 220 221 222 223 224 225 226 227 228 229 230 231 232 233\n",
      " 234 235 236 237 238 239 240 241 242 243 244 245 246 247 248 249 250 251\n",
      " 252 253 254 255 256 257 258 259 260 261 262 263 264 265 266 267 268 269\n",
      " 270 271 272 273 274 275 276 277 278 279 280 281 282 283 284 285 286 287\n",
      " 288 289 290 291 292 293 294 295 296 297 298 299 300 301 302 303 304 305\n",
      " 306 307 308 309 310 311 312 313 314 315 316 317 318 319 320 321 322 323\n",
      " 324 325 326 327 328 329 330 331 332 333 334 335 336 337 338 339 340 341\n",
      " 342 343 344 345 346 347 348 349 350 351 352 353 354 355 356 357 358 359]\n"
     ]
    }
   ],
   "source": [
    "index_Network = np.arange(0, 360)\n",
    "print(index_Network)"
   ]
  },
  {
   "cell_type": "code",
   "execution_count": 18,
   "metadata": {},
   "outputs": [
    {
     "name": "stdout",
     "output_type": "stream",
     "text": [
      "Index([    'ROI', 'Network',    'Hemi',         0,         1,         2,\n",
      "               3,         4,         5,         6,\n",
      "       ...\n",
      "             395,       396,       397,       398,       399,       400,\n",
      "             401,       402,       403,       404],\n",
      "      dtype='object', length=408)\n"
     ]
    }
   ],
   "source": [
    "columns_Network = Regions_Neural.columns\n",
    "print(columns_Network)"
   ]
  },
  {
   "cell_type": "code",
   "execution_count": null,
   "metadata": {},
   "outputs": [],
   "source": [
    "# Uncorrected full correlations between ROIs\n",
    "ROI_CorrMatrix_Full = data_example_df.corr()\n",
    "print(ROI_CorrMatrix_Full)"
   ]
  },
  {
   "cell_type": "code",
   "execution_count": null,
   "metadata": {},
   "outputs": [],
   "source": [
    "# Uncorrected partial correlations between ROIs\n",
    "ROI_CorrMatrix_Partial = data_example_df.pcorr()\n",
    "print(ROI_CorrMatrix_Partial)"
   ]
  },
  {
   "cell_type": "code",
   "execution_count": 19,
   "metadata": {},
   "outputs": [],
   "source": [
    "# The following procedure normalizes the response within ROIs over time\n",
    "scaler = preprocessing.StandardScaler().fit(data_example_df)\n",
    "data_example_df_zscore = scaler.transform(data_example_df)\n",
    "data_example_df_zscore = pd.DataFrame(data_example_df_zscore, columns = data_example_df.columns)"
   ]
  },
  {
   "cell_type": "code",
   "execution_count": null,
   "metadata": {},
   "outputs": [],
   "source": [
    "print(data_example_df)"
   ]
  },
  {
   "cell_type": "code",
   "execution_count": 20,
   "metadata": {},
   "outputs": [
    {
     "data": {
      "text/plain": [
       "Network\n",
       "Somatomotor   -1.480297e-17\n",
       "dtype: float64"
      ]
     },
     "execution_count": 20,
     "metadata": {},
     "output_type": "execute_result"
    }
   ],
   "source": [
    "# Sanity check - Mean\n",
    "np.mean(data_example_df_zscore['R_4'])"
   ]
  },
  {
   "cell_type": "code",
   "execution_count": 21,
   "metadata": {},
   "outputs": [
    {
     "data": {
      "text/plain": [
       "Network\n",
       "Somatomotor    1.0\n",
       "dtype: float64"
      ]
     },
     "execution_count": 21,
     "metadata": {},
     "output_type": "execute_result"
    }
   ],
   "source": [
    "# Sanity check - SD\n",
    "np.std(data_example_df_zscore['R_4'])"
   ]
  },
  {
   "cell_type": "markdown",
   "metadata": {},
   "source": [
    "#### Note:\n",
    "\n",
    "Data for all participants and tasks (0-back and 2-back) are downloaded, pre-processed and analysed from here."
   ]
  },
  {
   "cell_type": "code",
   "execution_count": 107,
   "metadata": {},
   "outputs": [
    {
     "name": "stdout",
     "output_type": "stream",
     "text": [
      "/Users/jelkastojanov/Documents/GitHub/NMA\n",
      "/Users/jelkastojanov/Documents/GitHub/NMA/garbage\n"
     ]
    }
   ],
   "source": [
    "# Add modules folder to Python's search path\n",
    "from os import times\n",
    "import sys\n",
    "from pathlib import Path\n",
    "from os.path import dirname, realpath, abspath\n",
    "script_dir = Path(abspath(''))\n",
    "module_dir = str(script_dir.parent)\n",
    "sys.path.insert(0, module_dir + '/modules')\n",
    "print(module_dir)\n",
    "print(script_dir)"
   ]
  },
  {
   "cell_type": "code",
   "execution_count": 108,
   "metadata": {},
   "outputs": [],
   "source": [
    "import task\n",
    "db_path = '{}/data/hcp_task'.format(module_dir)\n",
    "group = task.Group(db_path)"
   ]
  },
  {
   "cell_type": "code",
   "execution_count": 109,
   "metadata": {},
   "outputs": [
    {
     "name": "stdout",
     "output_type": "stream",
     "text": [
      "Time taken by extract_con is 2.394129991531372 seconds\n",
      "Time taken by extract_con is 0.915626049041748 seconds\n",
      "Time taken by extract_con is 0.8012411594390869 seconds\n",
      "Time taken by extract_con is 0.9831032752990723 seconds\n",
      "Time taken by extract_cons is 5.327161073684692 seconds\n"
     ]
    }
   ],
   "source": [
    "# Load 0-back data - X are the features, y are the labels\n",
    "X_0back, y_0back = group.extract_cons(['0bk_faces', '0bk_tools', '0bk_places', '0bk_body'])"
   ]
  },
  {
   "cell_type": "code",
   "execution_count": 23,
   "metadata": {},
   "outputs": [
    {
     "name": "stdout",
     "output_type": "stream",
     "text": [
      "(1356, 360, 78) (1356,)\n"
     ]
    }
   ],
   "source": [
    "# Sanity check\n",
    "print(X_0back.shape, y_0back.shape)"
   ]
  },
  {
   "cell_type": "code",
   "execution_count": 110,
   "metadata": {},
   "outputs": [
    {
     "name": "stdout",
     "output_type": "stream",
     "text": [
      "Time taken by extract_con is 0.8435328006744385 seconds\n",
      "Time taken by extract_con is 0.7551469802856445 seconds\n",
      "Time taken by extract_con is 0.7051777839660645 seconds\n",
      "Time taken by extract_con is 0.7445549964904785 seconds\n",
      "Time taken by extract_cons is 3.452713966369629 seconds\n"
     ]
    }
   ],
   "source": [
    "# Load 2-back data\n",
    "X_2back, y_2back = group.extract_cons(['2bk_faces', '2bk_tools', '2bk_places', '2bk_body'])"
   ]
  },
  {
   "cell_type": "code",
   "execution_count": null,
   "metadata": {
    "scrolled": true
   },
   "outputs": [],
   "source": [
    "print(X_2back.shape, y_2back.shape)\n",
    "\n",
    "# 28080 - 360 (number of ROIs) x 78 (length of the time series)\n",
    "# 1356 - 339 (number of subjects) x 4 (number of conditions)"
   ]
  },
  {
   "cell_type": "markdown",
   "metadata": {},
   "source": [
    "#### Note:\n",
    "\n",
    "Ignore the section below."
   ]
  },
  {
   "cell_type": "code",
   "execution_count": null,
   "metadata": {},
   "outputs": [],
   "source": [
    "# Create separate arrays with ROI names and time stamps\n",
    "ROIs = np.array(df_regions['ROI'])\n",
    "ROIs_Full = pd.DataFrame(np.repeat(ROIs, 78), columns = ['ROI'])\n",
    "\n",
    "Timepoints = np.array(range(1,79))\n",
    "Timepoints_Full = pd.DataFrame(np.tile(Timepoints, 360), columns = ['Time'])"
   ]
  },
  {
   "cell_type": "code",
   "execution_count": null,
   "metadata": {},
   "outputs": [],
   "source": [
    "# Merge the two and create a combined column\n",
    "ROIs_t = ROIs_Full.merge(Timepoints_Full, left_index=True, right_index=True)\n",
    "ROIs_t['Time'] = ROIs_t['Time'].astype(str)\n",
    "ROIs_t['ROI_t'] = ROIs_t['ROI'].str.cat(ROIs_t['Time'], sep ='_')"
   ]
  },
  {
   "cell_type": "code",
   "execution_count": null,
   "metadata": {},
   "outputs": [],
   "source": [
    "# Sanity check\n",
    "print(ROIs_t)"
   ]
  },
  {
   "cell_type": "code",
   "execution_count": null,
   "metadata": {},
   "outputs": [],
   "source": [
    "# Convert the features space to pd.DataFrame\n",
    "X_0back_df = pd.DataFrame(X_0back, columns = [ROIs_t['ROI_t']])\n",
    "print(X_0back_df)"
   ]
  },
  {
   "cell_type": "code",
   "execution_count": null,
   "metadata": {},
   "outputs": [],
   "source": [
    "# Add the following column: Participant \n",
    "X_0back_df['Participant'] = np.repeat(np.array(range(0,339)), 4)"
   ]
  },
  {
   "cell_type": "code",
   "execution_count": null,
   "metadata": {},
   "outputs": [],
   "source": [
    "# Add the following column: Condition\n",
    "X_0back_df['Condition'] = pd.Series(np.tile(np.array(['faces', 'tools', 'places', 'body']), 339))"
   ]
  },
  {
   "cell_type": "code",
   "execution_count": null,
   "metadata": {},
   "outputs": [],
   "source": [
    "# Sanity check\n",
    "print(X_0back_df.head())\n",
    "X_0back_df.dtypes"
   ]
  },
  {
   "cell_type": "code",
   "execution_count": null,
   "metadata": {},
   "outputs": [],
   "source": [
    "# Test if you can run classifiers in this data structure\n",
    "from sklearn.linear_model import LogisticRegressionCV\n",
    "\n",
    "# GLM\n",
    "Classification = LogisticRegressionCV(cv = 8, random_state = 0, multi_class = 'multinomial', max_iter = 10000).fit(X_0back_df.iloc[:, 0:28], X_0back_df.iloc[:, 28081])"
   ]
  },
  {
   "cell_type": "code",
   "execution_count": null,
   "metadata": {},
   "outputs": [],
   "source": [
    "# SVM\n",
    "from sklearn import svm\n",
    "\n",
    "svm.SVC().fit(X_0back_df.iloc[:, 0:28], X_0back_df.iloc[:, 28081])"
   ]
  },
  {
   "cell_type": "markdown",
   "metadata": {},
   "source": [
    "#### Note:\n",
    "\n",
    "Functional code for reshaping the dataframe can be found below."
   ]
  },
  {
   "cell_type": "code",
   "execution_count": 111,
   "metadata": {},
   "outputs": [],
   "source": [
    "rois = regions[0]\n",
    "subjects = np.arange(339)\n",
    "conditions_0back = ['faces', 'tools', 'places', 'body']\n",
    "conditions_2back = ['faces', 'tools', 'places', 'body']"
   ]
  },
  {
   "cell_type": "code",
   "execution_count": 112,
   "metadata": {},
   "outputs": [
    {
     "data": {
      "text/plain": [
       "488160"
      ]
     },
     "execution_count": 112,
     "metadata": {},
     "output_type": "execute_result"
    }
   ],
   "source": [
    "# Reshape the dataframe\n",
    "index_0back = []\n",
    "for cond in conditions_0back:\n",
    "    for subj in subjects:\n",
    "        for roi in rois:\n",
    "            index_0back.append((cond, subj, roi))\n",
    "len(index_0back)"
   ]
  },
  {
   "cell_type": "code",
   "execution_count": 113,
   "metadata": {},
   "outputs": [
    {
     "data": {
      "text/plain": [
       "488160"
      ]
     },
     "execution_count": 113,
     "metadata": {},
     "output_type": "execute_result"
    }
   ],
   "source": [
    "index_2back = []\n",
    "for cond in conditions_2back:\n",
    "    for subj in subjects:\n",
    "        for roi in rois:\n",
    "            index_2back.append((cond, subj, roi))\n",
    "len(index_2back)"
   ]
  },
  {
   "cell_type": "code",
   "execution_count": 114,
   "metadata": {},
   "outputs": [],
   "source": [
    "# Reshape the 0-back task dataframe\n",
    "X_new_0back = X_0back.reshape(488160, 78)\n",
    "\n",
    "index_0back = pd.MultiIndex.from_tuples(index_0back)\n",
    "X_df_0back = pd.DataFrame(X_new_0back, index = index_0back)\n",
    "X_df_0back.index.names = ['Condition', 'Subject_id', 'ROI']"
   ]
  },
  {
   "cell_type": "code",
   "execution_count": 115,
   "metadata": {},
   "outputs": [
    {
     "name": "stdout",
     "output_type": "stream",
     "text": [
      "                                 0        1        2        3        4   \\\n",
      "Condition Subject_id ROI                                                  \n",
      "faces     0          R_V1   12028.0  11983.2  11991.3  11979.2  12006.0   \n",
      "                     R_MST  10374.7  10356.4  10295.0  10341.2  10320.6   \n",
      "                     R_V6   12376.7  12335.6  12296.3  12325.5  12326.1   \n",
      "                     R_V2   12099.2  12095.5  12120.9  12080.0  12093.1   \n",
      "                     R_V3   11593.1  11553.0  11543.1  11552.2  11588.7   \n",
      "\n",
      "                                 5        6        7        8        9   ...  \\\n",
      "Condition Subject_id ROI                                                 ...   \n",
      "faces     0          R_V1   11998.1  12008.0  12009.8  11986.2  12008.8  ...   \n",
      "                     R_MST  10329.0  10340.4  10283.0  10346.5  10368.5  ...   \n",
      "                     R_V6   12342.4  12351.6  12299.0  12411.3  12301.9  ...   \n",
      "                     R_V2   12087.4  12114.3  12112.9  12113.8  12152.6  ...   \n",
      "                     R_V3   11567.7  11579.6  11557.6  11617.5  11594.2  ...   \n",
      "\n",
      "                                 68       69       70       71       72  \\\n",
      "Condition Subject_id ROI                                                  \n",
      "faces     0          R_V1   12078.0  12048.5  12029.4  12021.9  12003.7   \n",
      "                     R_MST  10367.6  10343.9  10358.8  10380.3  10395.0   \n",
      "                     R_V6   12424.0  12465.6  12482.8  12499.3  12472.8   \n",
      "                     R_V2   12119.4  12123.8  12135.1  12107.3  12083.2   \n",
      "                     R_V3   11598.3  11609.5  11624.7  11638.2  11580.7   \n",
      "\n",
      "                                 73       74       75       76       77  \n",
      "Condition Subject_id ROI                                                 \n",
      "faces     0          R_V1   11981.9  12006.8  11996.9  12034.0  12051.1  \n",
      "                     R_MST  10398.0  10402.3  10367.7  10381.3  10351.5  \n",
      "                     R_V6   12455.6  12544.5  12482.3  12491.8  12545.8  \n",
      "                     R_V2   12097.8  12105.4  12096.7  12115.4  12177.3  \n",
      "                     R_V3   11613.6  11610.8  11580.6  11622.3  11621.1  \n",
      "\n",
      "[5 rows x 78 columns]\n",
      "(488160, 78)\n"
     ]
    }
   ],
   "source": [
    "# Sanity check\n",
    "print(X_df_0back.head())\n",
    "print(X_df_0back.shape)"
   ]
  },
  {
   "cell_type": "code",
   "execution_count": 116,
   "metadata": {},
   "outputs": [],
   "source": [
    "# Reshape the 2-back task dataframe\n",
    "X_new_2back = X_2back.reshape(488160, 78)\n",
    "\n",
    "index_2back = pd.MultiIndex.from_tuples(index_2back)\n",
    "X_df_2back = pd.DataFrame(X_new_2back, index = index_2back)\n",
    "X_df_2back.index.names = ['Condition', 'Subject_id', 'ROI']"
   ]
  },
  {
   "cell_type": "code",
   "execution_count": 117,
   "metadata": {},
   "outputs": [
    {
     "name": "stdout",
     "output_type": "stream",
     "text": [
      "                                 0        1        2        3        4   \\\n",
      "Condition Subject_id ROI                                                  \n",
      "faces     0          R_V1   12004.5  12000.5  12004.1  12000.5  12023.5   \n",
      "                     R_MST  10417.4  10358.0  10386.2  10399.9  10351.4   \n",
      "                     R_V6   12266.4  12277.7  12283.8  12232.4  12354.0   \n",
      "                     R_V2   12077.8  12094.1  12080.8  12110.0  12109.9   \n",
      "                     R_V3   11602.7  11603.4  11629.0  11608.6  11636.5   \n",
      "\n",
      "                                 5        6        7        8        9   ...  \\\n",
      "Condition Subject_id ROI                                                 ...   \n",
      "faces     0          R_V1   12060.8  12069.9  12122.1  12146.9  12136.2  ...   \n",
      "                     R_MST  10418.7  10487.7  10418.0  10465.7  10435.9  ...   \n",
      "                     R_V6   12397.7  12411.1  12395.5  12381.8  12325.5  ...   \n",
      "                     R_V2   12154.5  12138.6  12209.3  12162.9  12216.0  ...   \n",
      "                     R_V3   11649.8  11669.8  11704.3  11664.0  11707.0  ...   \n",
      "\n",
      "                                 68       69       70       71       72  \\\n",
      "Condition Subject_id ROI                                                  \n",
      "faces     0          R_V1   12172.4  12146.1  12176.3  12157.9  12134.1   \n",
      "                     R_MST  10382.8  10383.8  10349.8  10444.2  10395.7   \n",
      "                     R_V6   12605.8  12565.4  12584.7  12591.6  12529.0   \n",
      "                     R_V2   12205.2  12209.6  12233.0  12237.2  12178.6   \n",
      "                     R_V3   11705.4  11719.5  11711.7  11730.7  11688.2   \n",
      "\n",
      "                                 73       74       75       76       77  \n",
      "Condition Subject_id ROI                                                 \n",
      "faces     0          R_V1   12170.2  12142.1  12151.8  12126.5  12158.7  \n",
      "                     R_MST  10448.2  10406.3  10435.2  10418.7  10364.0  \n",
      "                     R_V6   12534.6  12571.2  12556.0  12567.4  12497.2  \n",
      "                     R_V2   12185.7  12226.9  12229.9  12183.7  12190.7  \n",
      "                     R_V3   11716.2  11751.3  11733.3  11706.0  11726.2  \n",
      "\n",
      "[5 rows x 78 columns]\n",
      "(488160, 78)\n"
     ]
    }
   ],
   "source": [
    "# Sanity check\n",
    "print(X_df_2back.head())\n",
    "print(X_df_2back.shape)"
   ]
  },
  {
   "cell_type": "code",
   "execution_count": 118,
   "metadata": {},
   "outputs": [],
   "source": [
    "# Run to unpack indices (to convert them to columns) - 0-back\n",
    "X_df_0back.reset_index(level=0, inplace=True)\n",
    "X_df_0back.reset_index(level=0, inplace=True)\n",
    "X_df_0back.reset_index(level=0, inplace=True)"
   ]
  },
  {
   "cell_type": "code",
   "execution_count": 119,
   "metadata": {},
   "outputs": [],
   "source": [
    "# Run to unpack indices (to convert them to columns) - 2-back\n",
    "X_df_2back.reset_index(level=0, inplace=True)\n",
    "X_df_2back.reset_index(level=0, inplace=True)\n",
    "X_df_2back.reset_index(level=0, inplace=True)"
   ]
  },
  {
   "cell_type": "code",
   "execution_count": 120,
   "metadata": {},
   "outputs": [
    {
     "name": "stdout",
     "output_type": "stream",
     "text": [
      "     index      ROI       Network     Hemi\n",
      "0        0     R_V1       Visual1    2.209\n",
      "1        1    R_MST       Visual2  2.05561\n",
      "2        2     R_V6       Visual2   2.1498\n",
      "3        3     R_V2       Visual2  2.15347\n",
      "4        4     R_V3       Visual2  2.07251\n",
      "..     ...      ...           ...      ...\n",
      "355    355  L_STSva  Posterior-Mu   1.7608\n",
      "356    356   L_TE1m  Frontopariet  1.74175\n",
      "357    357     L_PI  Cingulo-Oper  1.74335\n",
      "358    358  L_a32pr  Cingulo-Oper  1.73082\n",
      "359    359    L_p24  Cingulo-Oper  1.65968\n",
      "\n",
      "[360 rows x 4 columns]\n"
     ]
    }
   ],
   "source": [
    "# Add the network column\n",
    "df_regions.reset_index(level=0, inplace=True)\n",
    "print(df_regions)"
   ]
  },
  {
   "cell_type": "code",
   "execution_count": 38,
   "metadata": {},
   "outputs": [
    {
     "name": "stdout",
     "output_type": "stream",
     "text": [
      "     ROI  Subject_id Condition        0        1        2        3        4  \\\n",
      "0   R_V1           0     faces  12028.0  11983.2  11991.3  11979.2  12006.0   \n",
      "1  R_MST           0     faces  10374.7  10356.4  10295.0  10341.2  10320.6   \n",
      "2   R_V6           0     faces  12376.7  12335.6  12296.3  12325.5  12326.1   \n",
      "3   R_V2           0     faces  12099.2  12095.5  12120.9  12080.0  12093.1   \n",
      "4   R_V3           0     faces  11593.1  11553.0  11543.1  11552.2  11588.7   \n",
      "\n",
      "         5        6  ...       68       69       70       71       72  \\\n",
      "0  11998.1  12008.0  ...  12078.0  12048.5  12029.4  12021.9  12003.7   \n",
      "1  10329.0  10340.4  ...  10367.6  10343.9  10358.8  10380.3  10395.0   \n",
      "2  12342.4  12351.6  ...  12424.0  12465.6  12482.8  12499.3  12472.8   \n",
      "3  12087.4  12114.3  ...  12119.4  12123.8  12135.1  12107.3  12083.2   \n",
      "4  11567.7  11579.6  ...  11598.3  11609.5  11624.7  11638.2  11580.7   \n",
      "\n",
      "        73       74       75       76       77  \n",
      "0  11981.9  12006.8  11996.9  12034.0  12051.1  \n",
      "1  10398.0  10402.3  10367.7  10381.3  10351.5  \n",
      "2  12455.6  12544.5  12482.3  12491.8  12545.8  \n",
      "3  12097.8  12105.4  12096.7  12115.4  12177.3  \n",
      "4  11613.6  11610.8  11580.6  11622.3  11621.1  \n",
      "\n",
      "[5 rows x 81 columns]\n",
      "(488160, 81)\n"
     ]
    }
   ],
   "source": [
    "# Sanity check\n",
    "print(X_df_0back.head())\n",
    "print(X_df_0back.shape)"
   ]
  },
  {
   "cell_type": "code",
   "execution_count": 121,
   "metadata": {},
   "outputs": [],
   "source": [
    "# Adding the information about the brain network to the data frame\n",
    "X_0back_full = X_df_0back.merge(df_regions, left_on='ROI', right_on='ROI')\n",
    "X_2back_full = X_df_2back.merge(df_regions, left_on='ROI', right_on='ROI')"
   ]
  },
  {
   "cell_type": "code",
   "execution_count": 122,
   "metadata": {},
   "outputs": [
    {
     "data": {
      "text/html": [
       "<div>\n",
       "<style scoped>\n",
       "    .dataframe tbody tr th:only-of-type {\n",
       "        vertical-align: middle;\n",
       "    }\n",
       "\n",
       "    .dataframe tbody tr th {\n",
       "        vertical-align: top;\n",
       "    }\n",
       "\n",
       "    .dataframe thead th {\n",
       "        text-align: right;\n",
       "    }\n",
       "</style>\n",
       "<table border=\"1\" class=\"dataframe\">\n",
       "  <thead>\n",
       "    <tr style=\"text-align: right;\">\n",
       "      <th></th>\n",
       "      <th>ROI</th>\n",
       "      <th>Subject_id</th>\n",
       "      <th>Condition</th>\n",
       "      <th>0</th>\n",
       "      <th>1</th>\n",
       "      <th>2</th>\n",
       "      <th>3</th>\n",
       "      <th>4</th>\n",
       "      <th>5</th>\n",
       "      <th>6</th>\n",
       "      <th>...</th>\n",
       "      <th>71</th>\n",
       "      <th>72</th>\n",
       "      <th>73</th>\n",
       "      <th>74</th>\n",
       "      <th>75</th>\n",
       "      <th>76</th>\n",
       "      <th>77</th>\n",
       "      <th>index</th>\n",
       "      <th>Network</th>\n",
       "      <th>Hemi</th>\n",
       "    </tr>\n",
       "  </thead>\n",
       "  <tbody>\n",
       "    <tr>\n",
       "      <th>0</th>\n",
       "      <td>R_V1</td>\n",
       "      <td>0</td>\n",
       "      <td>faces</td>\n",
       "      <td>12028.00</td>\n",
       "      <td>11983.20</td>\n",
       "      <td>11991.30</td>\n",
       "      <td>11979.20</td>\n",
       "      <td>12006.00</td>\n",
       "      <td>11998.1</td>\n",
       "      <td>12008.00</td>\n",
       "      <td>...</td>\n",
       "      <td>12021.90</td>\n",
       "      <td>12003.70</td>\n",
       "      <td>11981.90</td>\n",
       "      <td>12006.80</td>\n",
       "      <td>11996.90</td>\n",
       "      <td>12034.00</td>\n",
       "      <td>12051.10</td>\n",
       "      <td>0</td>\n",
       "      <td>Visual1</td>\n",
       "      <td>2.209</td>\n",
       "    </tr>\n",
       "    <tr>\n",
       "      <th>1</th>\n",
       "      <td>R_V1</td>\n",
       "      <td>1</td>\n",
       "      <td>faces</td>\n",
       "      <td>9663.47</td>\n",
       "      <td>9690.52</td>\n",
       "      <td>9682.68</td>\n",
       "      <td>9653.18</td>\n",
       "      <td>9666.53</td>\n",
       "      <td>9698.1</td>\n",
       "      <td>9670.03</td>\n",
       "      <td>...</td>\n",
       "      <td>9680.88</td>\n",
       "      <td>9668.43</td>\n",
       "      <td>9641.42</td>\n",
       "      <td>9651.17</td>\n",
       "      <td>9621.19</td>\n",
       "      <td>9628.23</td>\n",
       "      <td>9635.76</td>\n",
       "      <td>0</td>\n",
       "      <td>Visual1</td>\n",
       "      <td>2.209</td>\n",
       "    </tr>\n",
       "    <tr>\n",
       "      <th>2</th>\n",
       "      <td>R_V1</td>\n",
       "      <td>2</td>\n",
       "      <td>faces</td>\n",
       "      <td>10948.80</td>\n",
       "      <td>10945.20</td>\n",
       "      <td>10931.50</td>\n",
       "      <td>10923.60</td>\n",
       "      <td>10973.60</td>\n",
       "      <td>10961.0</td>\n",
       "      <td>10985.00</td>\n",
       "      <td>...</td>\n",
       "      <td>10986.70</td>\n",
       "      <td>10985.20</td>\n",
       "      <td>11004.30</td>\n",
       "      <td>10956.50</td>\n",
       "      <td>10963.70</td>\n",
       "      <td>10980.10</td>\n",
       "      <td>10975.30</td>\n",
       "      <td>0</td>\n",
       "      <td>Visual1</td>\n",
       "      <td>2.209</td>\n",
       "    </tr>\n",
       "    <tr>\n",
       "      <th>3</th>\n",
       "      <td>R_V1</td>\n",
       "      <td>3</td>\n",
       "      <td>faces</td>\n",
       "      <td>11508.60</td>\n",
       "      <td>11518.10</td>\n",
       "      <td>11465.00</td>\n",
       "      <td>11477.70</td>\n",
       "      <td>11469.70</td>\n",
       "      <td>11524.6</td>\n",
       "      <td>11527.30</td>\n",
       "      <td>...</td>\n",
       "      <td>11719.50</td>\n",
       "      <td>11737.20</td>\n",
       "      <td>11684.80</td>\n",
       "      <td>11738.30</td>\n",
       "      <td>11735.60</td>\n",
       "      <td>11705.20</td>\n",
       "      <td>11721.20</td>\n",
       "      <td>0</td>\n",
       "      <td>Visual1</td>\n",
       "      <td>2.209</td>\n",
       "    </tr>\n",
       "    <tr>\n",
       "      <th>4</th>\n",
       "      <td>R_V1</td>\n",
       "      <td>4</td>\n",
       "      <td>faces</td>\n",
       "      <td>11814.20</td>\n",
       "      <td>11780.40</td>\n",
       "      <td>11793.60</td>\n",
       "      <td>11780.60</td>\n",
       "      <td>11783.40</td>\n",
       "      <td>11801.0</td>\n",
       "      <td>11841.90</td>\n",
       "      <td>...</td>\n",
       "      <td>11412.90</td>\n",
       "      <td>11448.60</td>\n",
       "      <td>11434.10</td>\n",
       "      <td>11434.60</td>\n",
       "      <td>11371.30</td>\n",
       "      <td>11365.40</td>\n",
       "      <td>11371.70</td>\n",
       "      <td>0</td>\n",
       "      <td>Visual1</td>\n",
       "      <td>2.209</td>\n",
       "    </tr>\n",
       "  </tbody>\n",
       "</table>\n",
       "<p>5 rows × 84 columns</p>\n",
       "</div>"
      ],
      "text/plain": [
       "    ROI  Subject_id Condition         0         1         2         3  \\\n",
       "0  R_V1           0     faces  12028.00  11983.20  11991.30  11979.20   \n",
       "1  R_V1           1     faces   9663.47   9690.52   9682.68   9653.18   \n",
       "2  R_V1           2     faces  10948.80  10945.20  10931.50  10923.60   \n",
       "3  R_V1           3     faces  11508.60  11518.10  11465.00  11477.70   \n",
       "4  R_V1           4     faces  11814.20  11780.40  11793.60  11780.60   \n",
       "\n",
       "          4        5         6  ...        71        72        73        74  \\\n",
       "0  12006.00  11998.1  12008.00  ...  12021.90  12003.70  11981.90  12006.80   \n",
       "1   9666.53   9698.1   9670.03  ...   9680.88   9668.43   9641.42   9651.17   \n",
       "2  10973.60  10961.0  10985.00  ...  10986.70  10985.20  11004.30  10956.50   \n",
       "3  11469.70  11524.6  11527.30  ...  11719.50  11737.20  11684.80  11738.30   \n",
       "4  11783.40  11801.0  11841.90  ...  11412.90  11448.60  11434.10  11434.60   \n",
       "\n",
       "         75        76        77  index  Network   Hemi  \n",
       "0  11996.90  12034.00  12051.10      0  Visual1  2.209  \n",
       "1   9621.19   9628.23   9635.76      0  Visual1  2.209  \n",
       "2  10963.70  10980.10  10975.30      0  Visual1  2.209  \n",
       "3  11735.60  11705.20  11721.20      0  Visual1  2.209  \n",
       "4  11371.30  11365.40  11371.70      0  Visual1  2.209  \n",
       "\n",
       "[5 rows x 84 columns]"
      ]
     },
     "execution_count": 122,
     "metadata": {},
     "output_type": "execute_result"
    }
   ],
   "source": [
    "# Sanity check\n",
    "X_0back_full.head()"
   ]
  },
  {
   "cell_type": "code",
   "execution_count": 123,
   "metadata": {},
   "outputs": [
    {
     "data": {
      "text/html": [
       "<div>\n",
       "<style scoped>\n",
       "    .dataframe tbody tr th:only-of-type {\n",
       "        vertical-align: middle;\n",
       "    }\n",
       "\n",
       "    .dataframe tbody tr th {\n",
       "        vertical-align: top;\n",
       "    }\n",
       "\n",
       "    .dataframe thead th {\n",
       "        text-align: right;\n",
       "    }\n",
       "</style>\n",
       "<table border=\"1\" class=\"dataframe\">\n",
       "  <thead>\n",
       "    <tr style=\"text-align: right;\">\n",
       "      <th></th>\n",
       "      <th>ROI</th>\n",
       "      <th>Subject_id</th>\n",
       "      <th>Condition</th>\n",
       "      <th>0</th>\n",
       "      <th>1</th>\n",
       "      <th>2</th>\n",
       "      <th>3</th>\n",
       "      <th>4</th>\n",
       "      <th>5</th>\n",
       "      <th>6</th>\n",
       "      <th>...</th>\n",
       "      <th>71</th>\n",
       "      <th>72</th>\n",
       "      <th>73</th>\n",
       "      <th>74</th>\n",
       "      <th>75</th>\n",
       "      <th>76</th>\n",
       "      <th>77</th>\n",
       "      <th>index</th>\n",
       "      <th>Network</th>\n",
       "      <th>Hemi</th>\n",
       "    </tr>\n",
       "  </thead>\n",
       "  <tbody>\n",
       "    <tr>\n",
       "      <th>0</th>\n",
       "      <td>R_V1</td>\n",
       "      <td>0</td>\n",
       "      <td>faces</td>\n",
       "      <td>12004.50</td>\n",
       "      <td>12000.50</td>\n",
       "      <td>12004.10</td>\n",
       "      <td>12000.50</td>\n",
       "      <td>12023.50</td>\n",
       "      <td>12060.80</td>\n",
       "      <td>12069.90</td>\n",
       "      <td>...</td>\n",
       "      <td>12157.90</td>\n",
       "      <td>12134.10</td>\n",
       "      <td>12170.20</td>\n",
       "      <td>12142.10</td>\n",
       "      <td>12151.80</td>\n",
       "      <td>12126.50</td>\n",
       "      <td>12158.70</td>\n",
       "      <td>0</td>\n",
       "      <td>Visual1</td>\n",
       "      <td>2.209</td>\n",
       "    </tr>\n",
       "    <tr>\n",
       "      <th>1</th>\n",
       "      <td>R_V1</td>\n",
       "      <td>1</td>\n",
       "      <td>faces</td>\n",
       "      <td>9667.16</td>\n",
       "      <td>9649.17</td>\n",
       "      <td>9678.08</td>\n",
       "      <td>9662.16</td>\n",
       "      <td>9649.98</td>\n",
       "      <td>9615.69</td>\n",
       "      <td>9627.43</td>\n",
       "      <td>...</td>\n",
       "      <td>9724.27</td>\n",
       "      <td>9738.19</td>\n",
       "      <td>9735.02</td>\n",
       "      <td>9716.98</td>\n",
       "      <td>9751.03</td>\n",
       "      <td>9728.04</td>\n",
       "      <td>9706.46</td>\n",
       "      <td>0</td>\n",
       "      <td>Visual1</td>\n",
       "      <td>2.209</td>\n",
       "    </tr>\n",
       "    <tr>\n",
       "      <th>2</th>\n",
       "      <td>R_V1</td>\n",
       "      <td>2</td>\n",
       "      <td>faces</td>\n",
       "      <td>10919.50</td>\n",
       "      <td>10912.50</td>\n",
       "      <td>10885.30</td>\n",
       "      <td>10913.40</td>\n",
       "      <td>10922.50</td>\n",
       "      <td>10946.30</td>\n",
       "      <td>10940.10</td>\n",
       "      <td>...</td>\n",
       "      <td>11020.00</td>\n",
       "      <td>11024.20</td>\n",
       "      <td>11025.00</td>\n",
       "      <td>11014.30</td>\n",
       "      <td>10997.30</td>\n",
       "      <td>10999.80</td>\n",
       "      <td>11018.60</td>\n",
       "      <td>0</td>\n",
       "      <td>Visual1</td>\n",
       "      <td>2.209</td>\n",
       "    </tr>\n",
       "    <tr>\n",
       "      <th>3</th>\n",
       "      <td>R_V1</td>\n",
       "      <td>3</td>\n",
       "      <td>faces</td>\n",
       "      <td>11495.60</td>\n",
       "      <td>11472.30</td>\n",
       "      <td>11534.30</td>\n",
       "      <td>11518.80</td>\n",
       "      <td>11514.30</td>\n",
       "      <td>11561.60</td>\n",
       "      <td>11562.70</td>\n",
       "      <td>...</td>\n",
       "      <td>11825.60</td>\n",
       "      <td>11812.40</td>\n",
       "      <td>11807.60</td>\n",
       "      <td>11804.40</td>\n",
       "      <td>11757.80</td>\n",
       "      <td>11750.10</td>\n",
       "      <td>11763.40</td>\n",
       "      <td>0</td>\n",
       "      <td>Visual1</td>\n",
       "      <td>2.209</td>\n",
       "    </tr>\n",
       "    <tr>\n",
       "      <th>4</th>\n",
       "      <td>R_V1</td>\n",
       "      <td>4</td>\n",
       "      <td>faces</td>\n",
       "      <td>11726.70</td>\n",
       "      <td>11802.10</td>\n",
       "      <td>11779.90</td>\n",
       "      <td>11769.50</td>\n",
       "      <td>11790.20</td>\n",
       "      <td>11787.40</td>\n",
       "      <td>11832.50</td>\n",
       "      <td>...</td>\n",
       "      <td>11352.20</td>\n",
       "      <td>11371.60</td>\n",
       "      <td>11327.40</td>\n",
       "      <td>11346.90</td>\n",
       "      <td>11340.70</td>\n",
       "      <td>11344.00</td>\n",
       "      <td>11368.90</td>\n",
       "      <td>0</td>\n",
       "      <td>Visual1</td>\n",
       "      <td>2.209</td>\n",
       "    </tr>\n",
       "  </tbody>\n",
       "</table>\n",
       "<p>5 rows × 84 columns</p>\n",
       "</div>"
      ],
      "text/plain": [
       "    ROI  Subject_id Condition         0         1         2         3  \\\n",
       "0  R_V1           0     faces  12004.50  12000.50  12004.10  12000.50   \n",
       "1  R_V1           1     faces   9667.16   9649.17   9678.08   9662.16   \n",
       "2  R_V1           2     faces  10919.50  10912.50  10885.30  10913.40   \n",
       "3  R_V1           3     faces  11495.60  11472.30  11534.30  11518.80   \n",
       "4  R_V1           4     faces  11726.70  11802.10  11779.90  11769.50   \n",
       "\n",
       "          4         5         6  ...        71        72        73        74  \\\n",
       "0  12023.50  12060.80  12069.90  ...  12157.90  12134.10  12170.20  12142.10   \n",
       "1   9649.98   9615.69   9627.43  ...   9724.27   9738.19   9735.02   9716.98   \n",
       "2  10922.50  10946.30  10940.10  ...  11020.00  11024.20  11025.00  11014.30   \n",
       "3  11514.30  11561.60  11562.70  ...  11825.60  11812.40  11807.60  11804.40   \n",
       "4  11790.20  11787.40  11832.50  ...  11352.20  11371.60  11327.40  11346.90   \n",
       "\n",
       "         75        76        77  index  Network   Hemi  \n",
       "0  12151.80  12126.50  12158.70      0  Visual1  2.209  \n",
       "1   9751.03   9728.04   9706.46      0  Visual1  2.209  \n",
       "2  10997.30  10999.80  11018.60      0  Visual1  2.209  \n",
       "3  11757.80  11750.10  11763.40      0  Visual1  2.209  \n",
       "4  11340.70  11344.00  11368.90      0  Visual1  2.209  \n",
       "\n",
       "[5 rows x 84 columns]"
      ]
     },
     "execution_count": 123,
     "metadata": {},
     "output_type": "execute_result"
    }
   ],
   "source": [
    "# Sanity check\n",
    "X_2back_full.head()"
   ]
  },
  {
   "cell_type": "code",
   "execution_count": 124,
   "metadata": {},
   "outputs": [],
   "source": [
    "# Set indices\n",
    "X_0back_full = X_0back_full.set_index(['Subject_id', 'Condition', 'ROI', 'Network'])\n",
    "X_2back_full = X_2back_full.set_index(['Subject_id', 'Condition', 'ROI', 'Network'])"
   ]
  },
  {
   "cell_type": "code",
   "execution_count": 125,
   "metadata": {},
   "outputs": [],
   "source": [
    "# Delete unnecessary columns\n",
    "del X_0back_full[\"index\"]\n",
    "del X_0back_full[\"Hemi\"]\n",
    "del X_2back_full[\"index\"]\n",
    "del X_2back_full[\"Hemi\"]"
   ]
  },
  {
   "cell_type": "code",
   "execution_count": 126,
   "metadata": {},
   "outputs": [],
   "source": [
    "X_2back_0back_contr_ROI = X_2back_full - X_0back_full"
   ]
  },
  {
   "cell_type": "code",
   "execution_count": 127,
   "metadata": {},
   "outputs": [
    {
     "data": {
      "text/html": [
       "<div>\n",
       "<style scoped>\n",
       "    .dataframe tbody tr th:only-of-type {\n",
       "        vertical-align: middle;\n",
       "    }\n",
       "\n",
       "    .dataframe tbody tr th {\n",
       "        vertical-align: top;\n",
       "    }\n",
       "\n",
       "    .dataframe thead th {\n",
       "        text-align: right;\n",
       "    }\n",
       "</style>\n",
       "<table border=\"1\" class=\"dataframe\">\n",
       "  <thead>\n",
       "    <tr style=\"text-align: right;\">\n",
       "      <th></th>\n",
       "      <th></th>\n",
       "      <th></th>\n",
       "      <th></th>\n",
       "      <th>0</th>\n",
       "      <th>1</th>\n",
       "      <th>2</th>\n",
       "      <th>3</th>\n",
       "      <th>4</th>\n",
       "      <th>5</th>\n",
       "      <th>6</th>\n",
       "      <th>7</th>\n",
       "      <th>8</th>\n",
       "      <th>9</th>\n",
       "      <th>...</th>\n",
       "      <th>68</th>\n",
       "      <th>69</th>\n",
       "      <th>70</th>\n",
       "      <th>71</th>\n",
       "      <th>72</th>\n",
       "      <th>73</th>\n",
       "      <th>74</th>\n",
       "      <th>75</th>\n",
       "      <th>76</th>\n",
       "      <th>77</th>\n",
       "    </tr>\n",
       "    <tr>\n",
       "      <th>Subject_id</th>\n",
       "      <th>Condition</th>\n",
       "      <th>ROI</th>\n",
       "      <th>Network</th>\n",
       "      <th></th>\n",
       "      <th></th>\n",
       "      <th></th>\n",
       "      <th></th>\n",
       "      <th></th>\n",
       "      <th></th>\n",
       "      <th></th>\n",
       "      <th></th>\n",
       "      <th></th>\n",
       "      <th></th>\n",
       "      <th></th>\n",
       "      <th></th>\n",
       "      <th></th>\n",
       "      <th></th>\n",
       "      <th></th>\n",
       "      <th></th>\n",
       "      <th></th>\n",
       "      <th></th>\n",
       "      <th></th>\n",
       "      <th></th>\n",
       "      <th></th>\n",
       "    </tr>\n",
       "  </thead>\n",
       "  <tbody>\n",
       "    <tr>\n",
       "      <th>0</th>\n",
       "      <th>faces</th>\n",
       "      <th>R_V1</th>\n",
       "      <th>Visual1</th>\n",
       "      <td>-23.50</td>\n",
       "      <td>17.30</td>\n",
       "      <td>12.8</td>\n",
       "      <td>21.30</td>\n",
       "      <td>17.50</td>\n",
       "      <td>62.70</td>\n",
       "      <td>61.9</td>\n",
       "      <td>112.30</td>\n",
       "      <td>160.70</td>\n",
       "      <td>127.40</td>\n",
       "      <td>...</td>\n",
       "      <td>94.4</td>\n",
       "      <td>97.60</td>\n",
       "      <td>146.90</td>\n",
       "      <td>136.00</td>\n",
       "      <td>130.40</td>\n",
       "      <td>188.3</td>\n",
       "      <td>135.30</td>\n",
       "      <td>154.90</td>\n",
       "      <td>92.50</td>\n",
       "      <td>107.6</td>\n",
       "    </tr>\n",
       "    <tr>\n",
       "      <th>1</th>\n",
       "      <th>faces</th>\n",
       "      <th>R_V1</th>\n",
       "      <th>Visual1</th>\n",
       "      <td>3.69</td>\n",
       "      <td>-41.35</td>\n",
       "      <td>-4.6</td>\n",
       "      <td>8.98</td>\n",
       "      <td>-16.55</td>\n",
       "      <td>-82.41</td>\n",
       "      <td>-42.6</td>\n",
       "      <td>-57.13</td>\n",
       "      <td>-58.66</td>\n",
       "      <td>-36.18</td>\n",
       "      <td>...</td>\n",
       "      <td>63.5</td>\n",
       "      <td>55.57</td>\n",
       "      <td>66.56</td>\n",
       "      <td>43.39</td>\n",
       "      <td>69.76</td>\n",
       "      <td>93.6</td>\n",
       "      <td>65.81</td>\n",
       "      <td>129.84</td>\n",
       "      <td>99.81</td>\n",
       "      <td>70.7</td>\n",
       "    </tr>\n",
       "    <tr>\n",
       "      <th>2</th>\n",
       "      <th>faces</th>\n",
       "      <th>R_V1</th>\n",
       "      <th>Visual1</th>\n",
       "      <td>-29.30</td>\n",
       "      <td>-32.70</td>\n",
       "      <td>-46.2</td>\n",
       "      <td>-10.20</td>\n",
       "      <td>-51.10</td>\n",
       "      <td>-14.70</td>\n",
       "      <td>-44.9</td>\n",
       "      <td>-28.60</td>\n",
       "      <td>15.80</td>\n",
       "      <td>45.10</td>\n",
       "      <td>...</td>\n",
       "      <td>67.7</td>\n",
       "      <td>58.10</td>\n",
       "      <td>104.20</td>\n",
       "      <td>33.30</td>\n",
       "      <td>39.00</td>\n",
       "      <td>20.7</td>\n",
       "      <td>57.80</td>\n",
       "      <td>33.60</td>\n",
       "      <td>19.70</td>\n",
       "      <td>43.3</td>\n",
       "    </tr>\n",
       "    <tr>\n",
       "      <th>3</th>\n",
       "      <th>faces</th>\n",
       "      <th>R_V1</th>\n",
       "      <th>Visual1</th>\n",
       "      <td>-13.00</td>\n",
       "      <td>-45.80</td>\n",
       "      <td>69.3</td>\n",
       "      <td>41.10</td>\n",
       "      <td>44.60</td>\n",
       "      <td>37.00</td>\n",
       "      <td>35.4</td>\n",
       "      <td>-22.40</td>\n",
       "      <td>34.40</td>\n",
       "      <td>1.30</td>\n",
       "      <td>...</td>\n",
       "      <td>78.1</td>\n",
       "      <td>50.50</td>\n",
       "      <td>52.90</td>\n",
       "      <td>106.10</td>\n",
       "      <td>75.20</td>\n",
       "      <td>122.8</td>\n",
       "      <td>66.10</td>\n",
       "      <td>22.20</td>\n",
       "      <td>44.90</td>\n",
       "      <td>42.2</td>\n",
       "    </tr>\n",
       "    <tr>\n",
       "      <th>4</th>\n",
       "      <th>faces</th>\n",
       "      <th>R_V1</th>\n",
       "      <th>Visual1</th>\n",
       "      <td>-87.50</td>\n",
       "      <td>21.70</td>\n",
       "      <td>-13.7</td>\n",
       "      <td>-11.10</td>\n",
       "      <td>6.80</td>\n",
       "      <td>-13.60</td>\n",
       "      <td>-9.4</td>\n",
       "      <td>-17.90</td>\n",
       "      <td>-46.70</td>\n",
       "      <td>-58.30</td>\n",
       "      <td>...</td>\n",
       "      <td>-19.4</td>\n",
       "      <td>-23.90</td>\n",
       "      <td>-46.60</td>\n",
       "      <td>-60.70</td>\n",
       "      <td>-77.00</td>\n",
       "      <td>-106.7</td>\n",
       "      <td>-87.70</td>\n",
       "      <td>-30.60</td>\n",
       "      <td>-21.40</td>\n",
       "      <td>-2.8</td>\n",
       "    </tr>\n",
       "  </tbody>\n",
       "</table>\n",
       "<p>5 rows × 78 columns</p>\n",
       "</div>"
      ],
      "text/plain": [
       "                                      0      1     2      3      4      5   \\\n",
       "Subject_id Condition ROI  Network                                            \n",
       "0          faces     R_V1 Visual1 -23.50  17.30  12.8  21.30  17.50  62.70   \n",
       "1          faces     R_V1 Visual1   3.69 -41.35  -4.6   8.98 -16.55 -82.41   \n",
       "2          faces     R_V1 Visual1 -29.30 -32.70 -46.2 -10.20 -51.10 -14.70   \n",
       "3          faces     R_V1 Visual1 -13.00 -45.80  69.3  41.10  44.60  37.00   \n",
       "4          faces     R_V1 Visual1 -87.50  21.70 -13.7 -11.10   6.80 -13.60   \n",
       "\n",
       "                                     6       7       8       9   ...    68  \\\n",
       "Subject_id Condition ROI  Network                                ...         \n",
       "0          faces     R_V1 Visual1  61.9  112.30  160.70  127.40  ...  94.4   \n",
       "1          faces     R_V1 Visual1 -42.6  -57.13  -58.66  -36.18  ...  63.5   \n",
       "2          faces     R_V1 Visual1 -44.9  -28.60   15.80   45.10  ...  67.7   \n",
       "3          faces     R_V1 Visual1  35.4  -22.40   34.40    1.30  ...  78.1   \n",
       "4          faces     R_V1 Visual1  -9.4  -17.90  -46.70  -58.30  ... -19.4   \n",
       "\n",
       "                                      69      70      71      72     73  \\\n",
       "Subject_id Condition ROI  Network                                         \n",
       "0          faces     R_V1 Visual1  97.60  146.90  136.00  130.40  188.3   \n",
       "1          faces     R_V1 Visual1  55.57   66.56   43.39   69.76   93.6   \n",
       "2          faces     R_V1 Visual1  58.10  104.20   33.30   39.00   20.7   \n",
       "3          faces     R_V1 Visual1  50.50   52.90  106.10   75.20  122.8   \n",
       "4          faces     R_V1 Visual1 -23.90  -46.60  -60.70  -77.00 -106.7   \n",
       "\n",
       "                                       74      75     76     77  \n",
       "Subject_id Condition ROI  Network                                \n",
       "0          faces     R_V1 Visual1  135.30  154.90  92.50  107.6  \n",
       "1          faces     R_V1 Visual1   65.81  129.84  99.81   70.7  \n",
       "2          faces     R_V1 Visual1   57.80   33.60  19.70   43.3  \n",
       "3          faces     R_V1 Visual1   66.10   22.20  44.90   42.2  \n",
       "4          faces     R_V1 Visual1  -87.70  -30.60 -21.40   -2.8  \n",
       "\n",
       "[5 rows x 78 columns]"
      ]
     },
     "execution_count": 127,
     "metadata": {},
     "output_type": "execute_result"
    }
   ],
   "source": [
    "# Sanity check\n",
    "X_2back_0back_contr_ROI.head()"
   ]
  },
  {
   "cell_type": "markdown",
   "metadata": {},
   "source": [
    "#### Note: \n",
    "\n",
    "Calculate the mean activity on the network level."
   ]
  },
  {
   "cell_type": "code",
   "execution_count": 128,
   "metadata": {},
   "outputs": [],
   "source": [
    "# Group by condition, network and participant and calculate the mean network activity at each of the 78 time steps\n",
    "X_0back_full_net = X_0back_full.groupby(['Subject_id', 'Condition', 'Network']).mean()\n",
    "X_2back_full_net = X_2back_full.groupby(['Subject_id', 'Condition', 'Network']).mean()"
   ]
  },
  {
   "cell_type": "code",
   "execution_count": 129,
   "metadata": {},
   "outputs": [
    {
     "data": {
      "text/plain": [
       "(16272, 78)"
      ]
     },
     "execution_count": 129,
     "metadata": {},
     "output_type": "execute_result"
    }
   ],
   "source": [
    "# 339 (subj) x 4 (cond) x 12 (net) = 16272 rows\n",
    "X_0back_full_net.shape"
   ]
  },
  {
   "cell_type": "code",
   "execution_count": 130,
   "metadata": {},
   "outputs": [
    {
     "data": {
      "text/html": [
       "<div>\n",
       "<style scoped>\n",
       "    .dataframe tbody tr th:only-of-type {\n",
       "        vertical-align: middle;\n",
       "    }\n",
       "\n",
       "    .dataframe tbody tr th {\n",
       "        vertical-align: top;\n",
       "    }\n",
       "\n",
       "    .dataframe thead th {\n",
       "        text-align: right;\n",
       "    }\n",
       "</style>\n",
       "<table border=\"1\" class=\"dataframe\">\n",
       "  <thead>\n",
       "    <tr style=\"text-align: right;\">\n",
       "      <th></th>\n",
       "      <th></th>\n",
       "      <th></th>\n",
       "      <th>0</th>\n",
       "      <th>1</th>\n",
       "      <th>2</th>\n",
       "      <th>3</th>\n",
       "      <th>4</th>\n",
       "      <th>5</th>\n",
       "      <th>6</th>\n",
       "      <th>7</th>\n",
       "      <th>8</th>\n",
       "      <th>9</th>\n",
       "      <th>...</th>\n",
       "      <th>68</th>\n",
       "      <th>69</th>\n",
       "      <th>70</th>\n",
       "      <th>71</th>\n",
       "      <th>72</th>\n",
       "      <th>73</th>\n",
       "      <th>74</th>\n",
       "      <th>75</th>\n",
       "      <th>76</th>\n",
       "      <th>77</th>\n",
       "    </tr>\n",
       "    <tr>\n",
       "      <th>Subject_id</th>\n",
       "      <th>Condition</th>\n",
       "      <th>Network</th>\n",
       "      <th></th>\n",
       "      <th></th>\n",
       "      <th></th>\n",
       "      <th></th>\n",
       "      <th></th>\n",
       "      <th></th>\n",
       "      <th></th>\n",
       "      <th></th>\n",
       "      <th></th>\n",
       "      <th></th>\n",
       "      <th></th>\n",
       "      <th></th>\n",
       "      <th></th>\n",
       "      <th></th>\n",
       "      <th></th>\n",
       "      <th></th>\n",
       "      <th></th>\n",
       "      <th></th>\n",
       "      <th></th>\n",
       "      <th></th>\n",
       "      <th></th>\n",
       "    </tr>\n",
       "  </thead>\n",
       "  <tbody>\n",
       "    <tr>\n",
       "      <th rowspan=\"5\" valign=\"top\">0</th>\n",
       "      <th rowspan=\"5\" valign=\"top\">body</th>\n",
       "      <th>Auditory</th>\n",
       "      <td>10570.910667</td>\n",
       "      <td>10559.482667</td>\n",
       "      <td>10558.042667</td>\n",
       "      <td>10557.971333</td>\n",
       "      <td>10569.071333</td>\n",
       "      <td>10575.828667</td>\n",
       "      <td>10597.588667</td>\n",
       "      <td>10548.816000</td>\n",
       "      <td>10557.684667</td>\n",
       "      <td>10530.911333</td>\n",
       "      <td>...</td>\n",
       "      <td>10537.397333</td>\n",
       "      <td>10533.365333</td>\n",
       "      <td>10545.706667</td>\n",
       "      <td>10537.018667</td>\n",
       "      <td>10525.060667</td>\n",
       "      <td>10566.845333</td>\n",
       "      <td>10558.225333</td>\n",
       "      <td>10555.538667</td>\n",
       "      <td>10565.348000</td>\n",
       "      <td>10548.770667</td>\n",
       "    </tr>\n",
       "    <tr>\n",
       "      <th>Cingulo-Oper</th>\n",
       "      <td>11404.612143</td>\n",
       "      <td>11397.947500</td>\n",
       "      <td>11405.201250</td>\n",
       "      <td>11412.923036</td>\n",
       "      <td>11407.661429</td>\n",
       "      <td>11411.467500</td>\n",
       "      <td>11409.143214</td>\n",
       "      <td>11409.967500</td>\n",
       "      <td>11416.129107</td>\n",
       "      <td>11426.297857</td>\n",
       "      <td>...</td>\n",
       "      <td>11191.768214</td>\n",
       "      <td>11197.067857</td>\n",
       "      <td>11194.273929</td>\n",
       "      <td>11182.231071</td>\n",
       "      <td>11174.226964</td>\n",
       "      <td>11193.356786</td>\n",
       "      <td>11200.759107</td>\n",
       "      <td>11195.005714</td>\n",
       "      <td>11199.488214</td>\n",
       "      <td>11212.151607</td>\n",
       "    </tr>\n",
       "    <tr>\n",
       "      <th>Default</th>\n",
       "      <td>10302.066087</td>\n",
       "      <td>10315.360435</td>\n",
       "      <td>10316.175217</td>\n",
       "      <td>10319.676522</td>\n",
       "      <td>10305.984783</td>\n",
       "      <td>10312.207391</td>\n",
       "      <td>10331.403043</td>\n",
       "      <td>10331.197391</td>\n",
       "      <td>10324.156087</td>\n",
       "      <td>10331.242609</td>\n",
       "      <td>...</td>\n",
       "      <td>10332.352174</td>\n",
       "      <td>10348.643913</td>\n",
       "      <td>10341.022174</td>\n",
       "      <td>10325.472609</td>\n",
       "      <td>10336.795217</td>\n",
       "      <td>10330.170000</td>\n",
       "      <td>10345.498696</td>\n",
       "      <td>10332.387391</td>\n",
       "      <td>10347.660435</td>\n",
       "      <td>10340.260435</td>\n",
       "    </tr>\n",
       "    <tr>\n",
       "      <th>Dorsal-atten</th>\n",
       "      <td>10436.618571</td>\n",
       "      <td>10437.545714</td>\n",
       "      <td>10429.855714</td>\n",
       "      <td>10442.552857</td>\n",
       "      <td>10440.542857</td>\n",
       "      <td>10467.337143</td>\n",
       "      <td>10493.134286</td>\n",
       "      <td>10476.871429</td>\n",
       "      <td>10461.774286</td>\n",
       "      <td>10481.645714</td>\n",
       "      <td>...</td>\n",
       "      <td>10344.114286</td>\n",
       "      <td>10351.944286</td>\n",
       "      <td>10383.840000</td>\n",
       "      <td>10349.467143</td>\n",
       "      <td>10362.028571</td>\n",
       "      <td>10356.758571</td>\n",
       "      <td>10358.641429</td>\n",
       "      <td>10358.995714</td>\n",
       "      <td>10341.261429</td>\n",
       "      <td>10370.198571</td>\n",
       "    </tr>\n",
       "    <tr>\n",
       "      <th>Frontopariet</th>\n",
       "      <td>10976.498000</td>\n",
       "      <td>10976.870400</td>\n",
       "      <td>10979.375600</td>\n",
       "      <td>10989.695800</td>\n",
       "      <td>10992.549800</td>\n",
       "      <td>11001.456600</td>\n",
       "      <td>11014.737800</td>\n",
       "      <td>10986.691000</td>\n",
       "      <td>10981.526000</td>\n",
       "      <td>10992.998000</td>\n",
       "      <td>...</td>\n",
       "      <td>10622.288000</td>\n",
       "      <td>10639.027400</td>\n",
       "      <td>10635.935400</td>\n",
       "      <td>10619.900600</td>\n",
       "      <td>10626.532600</td>\n",
       "      <td>10621.213600</td>\n",
       "      <td>10636.832000</td>\n",
       "      <td>10629.505400</td>\n",
       "      <td>10625.407200</td>\n",
       "      <td>10645.620800</td>\n",
       "    </tr>\n",
       "  </tbody>\n",
       "</table>\n",
       "<p>5 rows × 78 columns</p>\n",
       "</div>"
      ],
      "text/plain": [
       "                                             0             1             2   \\\n",
       "Subject_id Condition Network                                                  \n",
       "0          body      Auditory      10570.910667  10559.482667  10558.042667   \n",
       "                     Cingulo-Oper  11404.612143  11397.947500  11405.201250   \n",
       "                     Default       10302.066087  10315.360435  10316.175217   \n",
       "                     Dorsal-atten  10436.618571  10437.545714  10429.855714   \n",
       "                     Frontopariet  10976.498000  10976.870400  10979.375600   \n",
       "\n",
       "                                             3             4             5   \\\n",
       "Subject_id Condition Network                                                  \n",
       "0          body      Auditory      10557.971333  10569.071333  10575.828667   \n",
       "                     Cingulo-Oper  11412.923036  11407.661429  11411.467500   \n",
       "                     Default       10319.676522  10305.984783  10312.207391   \n",
       "                     Dorsal-atten  10442.552857  10440.542857  10467.337143   \n",
       "                     Frontopariet  10989.695800  10992.549800  11001.456600   \n",
       "\n",
       "                                             6             7             8   \\\n",
       "Subject_id Condition Network                                                  \n",
       "0          body      Auditory      10597.588667  10548.816000  10557.684667   \n",
       "                     Cingulo-Oper  11409.143214  11409.967500  11416.129107   \n",
       "                     Default       10331.403043  10331.197391  10324.156087   \n",
       "                     Dorsal-atten  10493.134286  10476.871429  10461.774286   \n",
       "                     Frontopariet  11014.737800  10986.691000  10981.526000   \n",
       "\n",
       "                                             9   ...            68  \\\n",
       "Subject_id Condition Network                     ...                 \n",
       "0          body      Auditory      10530.911333  ...  10537.397333   \n",
       "                     Cingulo-Oper  11426.297857  ...  11191.768214   \n",
       "                     Default       10331.242609  ...  10332.352174   \n",
       "                     Dorsal-atten  10481.645714  ...  10344.114286   \n",
       "                     Frontopariet  10992.998000  ...  10622.288000   \n",
       "\n",
       "                                             69            70            71  \\\n",
       "Subject_id Condition Network                                                  \n",
       "0          body      Auditory      10533.365333  10545.706667  10537.018667   \n",
       "                     Cingulo-Oper  11197.067857  11194.273929  11182.231071   \n",
       "                     Default       10348.643913  10341.022174  10325.472609   \n",
       "                     Dorsal-atten  10351.944286  10383.840000  10349.467143   \n",
       "                     Frontopariet  10639.027400  10635.935400  10619.900600   \n",
       "\n",
       "                                             72            73            74  \\\n",
       "Subject_id Condition Network                                                  \n",
       "0          body      Auditory      10525.060667  10566.845333  10558.225333   \n",
       "                     Cingulo-Oper  11174.226964  11193.356786  11200.759107   \n",
       "                     Default       10336.795217  10330.170000  10345.498696   \n",
       "                     Dorsal-atten  10362.028571  10356.758571  10358.641429   \n",
       "                     Frontopariet  10626.532600  10621.213600  10636.832000   \n",
       "\n",
       "                                             75            76            77  \n",
       "Subject_id Condition Network                                                 \n",
       "0          body      Auditory      10555.538667  10565.348000  10548.770667  \n",
       "                     Cingulo-Oper  11195.005714  11199.488214  11212.151607  \n",
       "                     Default       10332.387391  10347.660435  10340.260435  \n",
       "                     Dorsal-atten  10358.995714  10341.261429  10370.198571  \n",
       "                     Frontopariet  10629.505400  10625.407200  10645.620800  \n",
       "\n",
       "[5 rows x 78 columns]"
      ]
     },
     "execution_count": 130,
     "metadata": {},
     "output_type": "execute_result"
    }
   ],
   "source": [
    "# Sanity check\n",
    "X_0back_full_net.head()"
   ]
  },
  {
   "cell_type": "code",
   "execution_count": 131,
   "metadata": {},
   "outputs": [],
   "source": [
    "# Return indices to columns (0-back)\n",
    "X_0back_full_net.reset_index(level=0, inplace=True)\n",
    "X_0back_full_net.reset_index(level=0, inplace=True)\n",
    "X_0back_full_net.reset_index(level=0, inplace=True)"
   ]
  },
  {
   "cell_type": "code",
   "execution_count": 132,
   "metadata": {},
   "outputs": [],
   "source": [
    "# Return indices to columns (2-back)\n",
    "X_2back_full_net.reset_index(level=0, inplace=True)\n",
    "X_2back_full_net.reset_index(level=0, inplace=True)\n",
    "X_2back_full_net.reset_index(level=0, inplace=True)"
   ]
  },
  {
   "cell_type": "code",
   "execution_count": 133,
   "metadata": {},
   "outputs": [
    {
     "data": {
      "text/html": [
       "<div>\n",
       "<style scoped>\n",
       "    .dataframe tbody tr th:only-of-type {\n",
       "        vertical-align: middle;\n",
       "    }\n",
       "\n",
       "    .dataframe tbody tr th {\n",
       "        vertical-align: top;\n",
       "    }\n",
       "\n",
       "    .dataframe thead th {\n",
       "        text-align: right;\n",
       "    }\n",
       "</style>\n",
       "<table border=\"1\" class=\"dataframe\">\n",
       "  <thead>\n",
       "    <tr style=\"text-align: right;\">\n",
       "      <th></th>\n",
       "      <th>Network</th>\n",
       "      <th>Condition</th>\n",
       "      <th>Subject_id</th>\n",
       "      <th>0</th>\n",
       "      <th>1</th>\n",
       "      <th>2</th>\n",
       "      <th>3</th>\n",
       "      <th>4</th>\n",
       "      <th>5</th>\n",
       "      <th>6</th>\n",
       "      <th>...</th>\n",
       "      <th>68</th>\n",
       "      <th>69</th>\n",
       "      <th>70</th>\n",
       "      <th>71</th>\n",
       "      <th>72</th>\n",
       "      <th>73</th>\n",
       "      <th>74</th>\n",
       "      <th>75</th>\n",
       "      <th>76</th>\n",
       "      <th>77</th>\n",
       "    </tr>\n",
       "  </thead>\n",
       "  <tbody>\n",
       "    <tr>\n",
       "      <th>0</th>\n",
       "      <td>Auditory</td>\n",
       "      <td>body</td>\n",
       "      <td>0</td>\n",
       "      <td>10570.910667</td>\n",
       "      <td>10559.482667</td>\n",
       "      <td>10558.042667</td>\n",
       "      <td>10557.971333</td>\n",
       "      <td>10569.071333</td>\n",
       "      <td>10575.828667</td>\n",
       "      <td>10597.588667</td>\n",
       "      <td>...</td>\n",
       "      <td>10537.397333</td>\n",
       "      <td>10533.365333</td>\n",
       "      <td>10545.706667</td>\n",
       "      <td>10537.018667</td>\n",
       "      <td>10525.060667</td>\n",
       "      <td>10566.845333</td>\n",
       "      <td>10558.225333</td>\n",
       "      <td>10555.538667</td>\n",
       "      <td>10565.348000</td>\n",
       "      <td>10548.770667</td>\n",
       "    </tr>\n",
       "    <tr>\n",
       "      <th>1</th>\n",
       "      <td>Cingulo-Oper</td>\n",
       "      <td>body</td>\n",
       "      <td>0</td>\n",
       "      <td>11404.612143</td>\n",
       "      <td>11397.947500</td>\n",
       "      <td>11405.201250</td>\n",
       "      <td>11412.923036</td>\n",
       "      <td>11407.661429</td>\n",
       "      <td>11411.467500</td>\n",
       "      <td>11409.143214</td>\n",
       "      <td>...</td>\n",
       "      <td>11191.768214</td>\n",
       "      <td>11197.067857</td>\n",
       "      <td>11194.273929</td>\n",
       "      <td>11182.231071</td>\n",
       "      <td>11174.226964</td>\n",
       "      <td>11193.356786</td>\n",
       "      <td>11200.759107</td>\n",
       "      <td>11195.005714</td>\n",
       "      <td>11199.488214</td>\n",
       "      <td>11212.151607</td>\n",
       "    </tr>\n",
       "    <tr>\n",
       "      <th>2</th>\n",
       "      <td>Default</td>\n",
       "      <td>body</td>\n",
       "      <td>0</td>\n",
       "      <td>10302.066087</td>\n",
       "      <td>10315.360435</td>\n",
       "      <td>10316.175217</td>\n",
       "      <td>10319.676522</td>\n",
       "      <td>10305.984783</td>\n",
       "      <td>10312.207391</td>\n",
       "      <td>10331.403043</td>\n",
       "      <td>...</td>\n",
       "      <td>10332.352174</td>\n",
       "      <td>10348.643913</td>\n",
       "      <td>10341.022174</td>\n",
       "      <td>10325.472609</td>\n",
       "      <td>10336.795217</td>\n",
       "      <td>10330.170000</td>\n",
       "      <td>10345.498696</td>\n",
       "      <td>10332.387391</td>\n",
       "      <td>10347.660435</td>\n",
       "      <td>10340.260435</td>\n",
       "    </tr>\n",
       "    <tr>\n",
       "      <th>3</th>\n",
       "      <td>Dorsal-atten</td>\n",
       "      <td>body</td>\n",
       "      <td>0</td>\n",
       "      <td>10436.618571</td>\n",
       "      <td>10437.545714</td>\n",
       "      <td>10429.855714</td>\n",
       "      <td>10442.552857</td>\n",
       "      <td>10440.542857</td>\n",
       "      <td>10467.337143</td>\n",
       "      <td>10493.134286</td>\n",
       "      <td>...</td>\n",
       "      <td>10344.114286</td>\n",
       "      <td>10351.944286</td>\n",
       "      <td>10383.840000</td>\n",
       "      <td>10349.467143</td>\n",
       "      <td>10362.028571</td>\n",
       "      <td>10356.758571</td>\n",
       "      <td>10358.641429</td>\n",
       "      <td>10358.995714</td>\n",
       "      <td>10341.261429</td>\n",
       "      <td>10370.198571</td>\n",
       "    </tr>\n",
       "    <tr>\n",
       "      <th>4</th>\n",
       "      <td>Frontopariet</td>\n",
       "      <td>body</td>\n",
       "      <td>0</td>\n",
       "      <td>10976.498000</td>\n",
       "      <td>10976.870400</td>\n",
       "      <td>10979.375600</td>\n",
       "      <td>10989.695800</td>\n",
       "      <td>10992.549800</td>\n",
       "      <td>11001.456600</td>\n",
       "      <td>11014.737800</td>\n",
       "      <td>...</td>\n",
       "      <td>10622.288000</td>\n",
       "      <td>10639.027400</td>\n",
       "      <td>10635.935400</td>\n",
       "      <td>10619.900600</td>\n",
       "      <td>10626.532600</td>\n",
       "      <td>10621.213600</td>\n",
       "      <td>10636.832000</td>\n",
       "      <td>10629.505400</td>\n",
       "      <td>10625.407200</td>\n",
       "      <td>10645.620800</td>\n",
       "    </tr>\n",
       "  </tbody>\n",
       "</table>\n",
       "<p>5 rows × 81 columns</p>\n",
       "</div>"
      ],
      "text/plain": [
       "        Network Condition  Subject_id             0             1  \\\n",
       "0      Auditory      body           0  10570.910667  10559.482667   \n",
       "1  Cingulo-Oper      body           0  11404.612143  11397.947500   \n",
       "2       Default      body           0  10302.066087  10315.360435   \n",
       "3  Dorsal-atten      body           0  10436.618571  10437.545714   \n",
       "4  Frontopariet      body           0  10976.498000  10976.870400   \n",
       "\n",
       "              2             3             4             5             6  ...  \\\n",
       "0  10558.042667  10557.971333  10569.071333  10575.828667  10597.588667  ...   \n",
       "1  11405.201250  11412.923036  11407.661429  11411.467500  11409.143214  ...   \n",
       "2  10316.175217  10319.676522  10305.984783  10312.207391  10331.403043  ...   \n",
       "3  10429.855714  10442.552857  10440.542857  10467.337143  10493.134286  ...   \n",
       "4  10979.375600  10989.695800  10992.549800  11001.456600  11014.737800  ...   \n",
       "\n",
       "             68            69            70            71            72  \\\n",
       "0  10537.397333  10533.365333  10545.706667  10537.018667  10525.060667   \n",
       "1  11191.768214  11197.067857  11194.273929  11182.231071  11174.226964   \n",
       "2  10332.352174  10348.643913  10341.022174  10325.472609  10336.795217   \n",
       "3  10344.114286  10351.944286  10383.840000  10349.467143  10362.028571   \n",
       "4  10622.288000  10639.027400  10635.935400  10619.900600  10626.532600   \n",
       "\n",
       "             73            74            75            76            77  \n",
       "0  10566.845333  10558.225333  10555.538667  10565.348000  10548.770667  \n",
       "1  11193.356786  11200.759107  11195.005714  11199.488214  11212.151607  \n",
       "2  10330.170000  10345.498696  10332.387391  10347.660435  10340.260435  \n",
       "3  10356.758571  10358.641429  10358.995714  10341.261429  10370.198571  \n",
       "4  10621.213600  10636.832000  10629.505400  10625.407200  10645.620800  \n",
       "\n",
       "[5 rows x 81 columns]"
      ]
     },
     "execution_count": 133,
     "metadata": {},
     "output_type": "execute_result"
    }
   ],
   "source": [
    "# Sanity check\n",
    "X_0back_full_net.head()"
   ]
  },
  {
   "cell_type": "code",
   "execution_count": 134,
   "metadata": {},
   "outputs": [
    {
     "data": {
      "text/html": [
       "<div>\n",
       "<style scoped>\n",
       "    .dataframe tbody tr th:only-of-type {\n",
       "        vertical-align: middle;\n",
       "    }\n",
       "\n",
       "    .dataframe tbody tr th {\n",
       "        vertical-align: top;\n",
       "    }\n",
       "\n",
       "    .dataframe thead th {\n",
       "        text-align: right;\n",
       "    }\n",
       "</style>\n",
       "<table border=\"1\" class=\"dataframe\">\n",
       "  <thead>\n",
       "    <tr style=\"text-align: right;\">\n",
       "      <th></th>\n",
       "      <th>Network</th>\n",
       "      <th>Condition</th>\n",
       "      <th>Subject_id</th>\n",
       "      <th>0</th>\n",
       "      <th>1</th>\n",
       "      <th>2</th>\n",
       "      <th>3</th>\n",
       "      <th>4</th>\n",
       "      <th>5</th>\n",
       "      <th>6</th>\n",
       "      <th>...</th>\n",
       "      <th>68</th>\n",
       "      <th>69</th>\n",
       "      <th>70</th>\n",
       "      <th>71</th>\n",
       "      <th>72</th>\n",
       "      <th>73</th>\n",
       "      <th>74</th>\n",
       "      <th>75</th>\n",
       "      <th>76</th>\n",
       "      <th>77</th>\n",
       "    </tr>\n",
       "  </thead>\n",
       "  <tbody>\n",
       "    <tr>\n",
       "      <th>0</th>\n",
       "      <td>Auditory</td>\n",
       "      <td>body</td>\n",
       "      <td>0</td>\n",
       "      <td>10513.302667</td>\n",
       "      <td>10510.148000</td>\n",
       "      <td>10535.079333</td>\n",
       "      <td>10521.920000</td>\n",
       "      <td>10515.240667</td>\n",
       "      <td>10529.814667</td>\n",
       "      <td>10548.097333</td>\n",
       "      <td>...</td>\n",
       "      <td>10547.381333</td>\n",
       "      <td>10548.404667</td>\n",
       "      <td>10581.230667</td>\n",
       "      <td>10578.819333</td>\n",
       "      <td>10552.318000</td>\n",
       "      <td>10553.810000</td>\n",
       "      <td>10557.700000</td>\n",
       "      <td>10547.729333</td>\n",
       "      <td>10555.196000</td>\n",
       "      <td>10572.920667</td>\n",
       "    </tr>\n",
       "    <tr>\n",
       "      <th>1</th>\n",
       "      <td>Cingulo-Oper</td>\n",
       "      <td>body</td>\n",
       "      <td>0</td>\n",
       "      <td>11359.838393</td>\n",
       "      <td>11350.669643</td>\n",
       "      <td>11362.828036</td>\n",
       "      <td>11357.317143</td>\n",
       "      <td>11354.753036</td>\n",
       "      <td>11354.653036</td>\n",
       "      <td>11372.082679</td>\n",
       "      <td>...</td>\n",
       "      <td>11184.943571</td>\n",
       "      <td>11190.940714</td>\n",
       "      <td>11186.418750</td>\n",
       "      <td>11194.230893</td>\n",
       "      <td>11187.954643</td>\n",
       "      <td>11196.669643</td>\n",
       "      <td>11194.907500</td>\n",
       "      <td>11183.193929</td>\n",
       "      <td>11209.787500</td>\n",
       "      <td>11206.237500</td>\n",
       "    </tr>\n",
       "    <tr>\n",
       "      <th>2</th>\n",
       "      <td>Default</td>\n",
       "      <td>body</td>\n",
       "      <td>0</td>\n",
       "      <td>10280.175217</td>\n",
       "      <td>10277.216522</td>\n",
       "      <td>10268.863913</td>\n",
       "      <td>10280.523478</td>\n",
       "      <td>10267.522174</td>\n",
       "      <td>10282.300870</td>\n",
       "      <td>10301.117391</td>\n",
       "      <td>...</td>\n",
       "      <td>10348.343478</td>\n",
       "      <td>10356.838261</td>\n",
       "      <td>10364.836957</td>\n",
       "      <td>10358.145217</td>\n",
       "      <td>10355.730000</td>\n",
       "      <td>10362.967391</td>\n",
       "      <td>10361.825217</td>\n",
       "      <td>10340.093913</td>\n",
       "      <td>10340.578696</td>\n",
       "      <td>10358.893913</td>\n",
       "    </tr>\n",
       "    <tr>\n",
       "      <th>3</th>\n",
       "      <td>Dorsal-atten</td>\n",
       "      <td>body</td>\n",
       "      <td>0</td>\n",
       "      <td>10407.442857</td>\n",
       "      <td>10426.668571</td>\n",
       "      <td>10380.267143</td>\n",
       "      <td>10386.244286</td>\n",
       "      <td>10394.920000</td>\n",
       "      <td>10415.598571</td>\n",
       "      <td>10426.321429</td>\n",
       "      <td>...</td>\n",
       "      <td>10369.707143</td>\n",
       "      <td>10384.895714</td>\n",
       "      <td>10395.381429</td>\n",
       "      <td>10389.944286</td>\n",
       "      <td>10396.580000</td>\n",
       "      <td>10404.450000</td>\n",
       "      <td>10411.432857</td>\n",
       "      <td>10394.377143</td>\n",
       "      <td>10414.470000</td>\n",
       "      <td>10411.192857</td>\n",
       "    </tr>\n",
       "    <tr>\n",
       "      <th>4</th>\n",
       "      <td>Frontopariet</td>\n",
       "      <td>body</td>\n",
       "      <td>0</td>\n",
       "      <td>10888.065600</td>\n",
       "      <td>10873.332200</td>\n",
       "      <td>10855.890200</td>\n",
       "      <td>10869.319600</td>\n",
       "      <td>10884.365800</td>\n",
       "      <td>10897.929400</td>\n",
       "      <td>10929.934000</td>\n",
       "      <td>...</td>\n",
       "      <td>10657.163000</td>\n",
       "      <td>10687.228600</td>\n",
       "      <td>10686.270600</td>\n",
       "      <td>10684.482400</td>\n",
       "      <td>10675.743600</td>\n",
       "      <td>10698.277000</td>\n",
       "      <td>10689.713600</td>\n",
       "      <td>10680.966000</td>\n",
       "      <td>10680.650800</td>\n",
       "      <td>10679.955400</td>\n",
       "    </tr>\n",
       "  </tbody>\n",
       "</table>\n",
       "<p>5 rows × 81 columns</p>\n",
       "</div>"
      ],
      "text/plain": [
       "        Network Condition  Subject_id             0             1  \\\n",
       "0      Auditory      body           0  10513.302667  10510.148000   \n",
       "1  Cingulo-Oper      body           0  11359.838393  11350.669643   \n",
       "2       Default      body           0  10280.175217  10277.216522   \n",
       "3  Dorsal-atten      body           0  10407.442857  10426.668571   \n",
       "4  Frontopariet      body           0  10888.065600  10873.332200   \n",
       "\n",
       "              2             3             4             5             6  ...  \\\n",
       "0  10535.079333  10521.920000  10515.240667  10529.814667  10548.097333  ...   \n",
       "1  11362.828036  11357.317143  11354.753036  11354.653036  11372.082679  ...   \n",
       "2  10268.863913  10280.523478  10267.522174  10282.300870  10301.117391  ...   \n",
       "3  10380.267143  10386.244286  10394.920000  10415.598571  10426.321429  ...   \n",
       "4  10855.890200  10869.319600  10884.365800  10897.929400  10929.934000  ...   \n",
       "\n",
       "             68            69            70            71            72  \\\n",
       "0  10547.381333  10548.404667  10581.230667  10578.819333  10552.318000   \n",
       "1  11184.943571  11190.940714  11186.418750  11194.230893  11187.954643   \n",
       "2  10348.343478  10356.838261  10364.836957  10358.145217  10355.730000   \n",
       "3  10369.707143  10384.895714  10395.381429  10389.944286  10396.580000   \n",
       "4  10657.163000  10687.228600  10686.270600  10684.482400  10675.743600   \n",
       "\n",
       "             73            74            75            76            77  \n",
       "0  10553.810000  10557.700000  10547.729333  10555.196000  10572.920667  \n",
       "1  11196.669643  11194.907500  11183.193929  11209.787500  11206.237500  \n",
       "2  10362.967391  10361.825217  10340.093913  10340.578696  10358.893913  \n",
       "3  10404.450000  10411.432857  10394.377143  10414.470000  10411.192857  \n",
       "4  10698.277000  10689.713600  10680.966000  10680.650800  10679.955400  \n",
       "\n",
       "[5 rows x 81 columns]"
      ]
     },
     "execution_count": 134,
     "metadata": {},
     "output_type": "execute_result"
    }
   ],
   "source": [
    "# Sanity check\n",
    "X_2back_full_net.head()"
   ]
  },
  {
   "cell_type": "markdown",
   "metadata": {},
   "source": [
    "#### Note:\n",
    "\n",
    "Ignore the code below - DO NOT rename the columns as that will throw an error when you try to subtract the 2-back and 0-back dataframes."
   ]
  },
  {
   "cell_type": "code",
   "execution_count": 54,
   "metadata": {},
   "outputs": [],
   "source": [
    "# Rename time point columns\n",
    "cols_0back = X_0back_full_net.columns\n",
    "cols_2back = X_2back_full_net.columns"
   ]
  },
  {
   "cell_type": "code",
   "execution_count": 55,
   "metadata": {},
   "outputs": [],
   "source": [
    "cols_0back = np.asarray(cols_0back, dtype=str)\n",
    "cols_2back = np.asarray(cols_2back, dtype=str)"
   ]
  },
  {
   "cell_type": "code",
   "execution_count": null,
   "metadata": {},
   "outputs": [],
   "source": [
    "cols_0back = np.core.defchararray.add(cols_0back, '_0_back')\n",
    "cols_2back = np.core.defchararray.add(cols_2back, '_2_back')\n",
    "\n",
    "cols_0back[0] = 'Network'\n",
    "cols_0back[1] = 'Condition'\n",
    "cols_0back[2] = 'Subject_id'\n",
    "\n",
    "cols_2back[0] = 'Network'\n",
    "cols_2back[1] = 'Condition'\n",
    "cols_2back[2] = 'Subject_id'"
   ]
  },
  {
   "cell_type": "code",
   "execution_count": null,
   "metadata": {},
   "outputs": [],
   "source": [
    "# Sanity check\n",
    "print(cols_0back)\n",
    "print(cols_2back)"
   ]
  },
  {
   "cell_type": "code",
   "execution_count": null,
   "metadata": {},
   "outputs": [],
   "source": [
    "# Change the column names\n",
    "X_0back_full_net.columns = cols_0back\n",
    "X_2back_full_net.columns = cols_2back"
   ]
  },
  {
   "cell_type": "code",
   "execution_count": null,
   "metadata": {},
   "outputs": [],
   "source": [
    "# Sanity check\n",
    "X_0back_full_net.head()"
   ]
  },
  {
   "cell_type": "code",
   "execution_count": null,
   "metadata": {},
   "outputs": [],
   "source": [
    "# Sanity check\n",
    "X_2back_full_net.head()"
   ]
  },
  {
   "cell_type": "code",
   "execution_count": null,
   "metadata": {},
   "outputs": [],
   "source": [
    "# Merge 0-back and 2-back tasks\n",
    "X_0back_2back = X_0back_full_net.merge(X_2back_full_net, left_on=['Network', 'Condition', 'Subject_id'], right_on=['Network', 'Condition', 'Subject_id'])"
   ]
  },
  {
   "cell_type": "code",
   "execution_count": null,
   "metadata": {},
   "outputs": [],
   "source": [
    "# Sanity check\n",
    "X_0back_2back.head(12)"
   ]
  },
  {
   "cell_type": "markdown",
   "metadata": {},
   "source": [
    "#### Note:\n",
    "\n",
    "Create a contrast dataframe."
   ]
  },
  {
   "cell_type": "code",
   "execution_count": 135,
   "metadata": {},
   "outputs": [],
   "source": [
    "# Contrast 2-back - 0-back\n",
    "X_0back_full_net = X_0back_full_net.set_index(['Network', 'Condition', 'Subject_id'])\n",
    "X_2back_full_net = X_2back_full_net.set_index(['Network', 'Condition', 'Subject_id'])"
   ]
  },
  {
   "cell_type": "code",
   "execution_count": 57,
   "metadata": {},
   "outputs": [
    {
     "data": {
      "text/html": [
       "<div>\n",
       "<style scoped>\n",
       "    .dataframe tbody tr th:only-of-type {\n",
       "        vertical-align: middle;\n",
       "    }\n",
       "\n",
       "    .dataframe tbody tr th {\n",
       "        vertical-align: top;\n",
       "    }\n",
       "\n",
       "    .dataframe thead th {\n",
       "        text-align: right;\n",
       "    }\n",
       "</style>\n",
       "<table border=\"1\" class=\"dataframe\">\n",
       "  <thead>\n",
       "    <tr style=\"text-align: right;\">\n",
       "      <th></th>\n",
       "      <th></th>\n",
       "      <th></th>\n",
       "      <th>0</th>\n",
       "      <th>1</th>\n",
       "      <th>2</th>\n",
       "      <th>3</th>\n",
       "      <th>4</th>\n",
       "      <th>5</th>\n",
       "      <th>6</th>\n",
       "      <th>7</th>\n",
       "      <th>8</th>\n",
       "      <th>9</th>\n",
       "      <th>...</th>\n",
       "      <th>68</th>\n",
       "      <th>69</th>\n",
       "      <th>70</th>\n",
       "      <th>71</th>\n",
       "      <th>72</th>\n",
       "      <th>73</th>\n",
       "      <th>74</th>\n",
       "      <th>75</th>\n",
       "      <th>76</th>\n",
       "      <th>77</th>\n",
       "    </tr>\n",
       "    <tr>\n",
       "      <th>Network</th>\n",
       "      <th>Condition</th>\n",
       "      <th>Subject_id</th>\n",
       "      <th></th>\n",
       "      <th></th>\n",
       "      <th></th>\n",
       "      <th></th>\n",
       "      <th></th>\n",
       "      <th></th>\n",
       "      <th></th>\n",
       "      <th></th>\n",
       "      <th></th>\n",
       "      <th></th>\n",
       "      <th></th>\n",
       "      <th></th>\n",
       "      <th></th>\n",
       "      <th></th>\n",
       "      <th></th>\n",
       "      <th></th>\n",
       "      <th></th>\n",
       "      <th></th>\n",
       "      <th></th>\n",
       "      <th></th>\n",
       "      <th></th>\n",
       "    </tr>\n",
       "  </thead>\n",
       "  <tbody>\n",
       "    <tr>\n",
       "      <th>Auditory</th>\n",
       "      <th>body</th>\n",
       "      <th>0</th>\n",
       "      <td>10570.910667</td>\n",
       "      <td>10559.482667</td>\n",
       "      <td>10558.042667</td>\n",
       "      <td>10557.971333</td>\n",
       "      <td>10569.071333</td>\n",
       "      <td>10575.828667</td>\n",
       "      <td>10597.588667</td>\n",
       "      <td>10548.816000</td>\n",
       "      <td>10557.684667</td>\n",
       "      <td>10530.911333</td>\n",
       "      <td>...</td>\n",
       "      <td>10537.397333</td>\n",
       "      <td>10533.365333</td>\n",
       "      <td>10545.706667</td>\n",
       "      <td>10537.018667</td>\n",
       "      <td>10525.060667</td>\n",
       "      <td>10566.845333</td>\n",
       "      <td>10558.225333</td>\n",
       "      <td>10555.538667</td>\n",
       "      <td>10565.348000</td>\n",
       "      <td>10548.770667</td>\n",
       "    </tr>\n",
       "    <tr>\n",
       "      <th>Cingulo-Oper</th>\n",
       "      <th>body</th>\n",
       "      <th>0</th>\n",
       "      <td>11404.612143</td>\n",
       "      <td>11397.947500</td>\n",
       "      <td>11405.201250</td>\n",
       "      <td>11412.923036</td>\n",
       "      <td>11407.661429</td>\n",
       "      <td>11411.467500</td>\n",
       "      <td>11409.143214</td>\n",
       "      <td>11409.967500</td>\n",
       "      <td>11416.129107</td>\n",
       "      <td>11426.297857</td>\n",
       "      <td>...</td>\n",
       "      <td>11191.768214</td>\n",
       "      <td>11197.067857</td>\n",
       "      <td>11194.273929</td>\n",
       "      <td>11182.231071</td>\n",
       "      <td>11174.226964</td>\n",
       "      <td>11193.356786</td>\n",
       "      <td>11200.759107</td>\n",
       "      <td>11195.005714</td>\n",
       "      <td>11199.488214</td>\n",
       "      <td>11212.151607</td>\n",
       "    </tr>\n",
       "    <tr>\n",
       "      <th>Default</th>\n",
       "      <th>body</th>\n",
       "      <th>0</th>\n",
       "      <td>10302.066087</td>\n",
       "      <td>10315.360435</td>\n",
       "      <td>10316.175217</td>\n",
       "      <td>10319.676522</td>\n",
       "      <td>10305.984783</td>\n",
       "      <td>10312.207391</td>\n",
       "      <td>10331.403043</td>\n",
       "      <td>10331.197391</td>\n",
       "      <td>10324.156087</td>\n",
       "      <td>10331.242609</td>\n",
       "      <td>...</td>\n",
       "      <td>10332.352174</td>\n",
       "      <td>10348.643913</td>\n",
       "      <td>10341.022174</td>\n",
       "      <td>10325.472609</td>\n",
       "      <td>10336.795217</td>\n",
       "      <td>10330.170000</td>\n",
       "      <td>10345.498696</td>\n",
       "      <td>10332.387391</td>\n",
       "      <td>10347.660435</td>\n",
       "      <td>10340.260435</td>\n",
       "    </tr>\n",
       "    <tr>\n",
       "      <th>Dorsal-atten</th>\n",
       "      <th>body</th>\n",
       "      <th>0</th>\n",
       "      <td>10436.618571</td>\n",
       "      <td>10437.545714</td>\n",
       "      <td>10429.855714</td>\n",
       "      <td>10442.552857</td>\n",
       "      <td>10440.542857</td>\n",
       "      <td>10467.337143</td>\n",
       "      <td>10493.134286</td>\n",
       "      <td>10476.871429</td>\n",
       "      <td>10461.774286</td>\n",
       "      <td>10481.645714</td>\n",
       "      <td>...</td>\n",
       "      <td>10344.114286</td>\n",
       "      <td>10351.944286</td>\n",
       "      <td>10383.840000</td>\n",
       "      <td>10349.467143</td>\n",
       "      <td>10362.028571</td>\n",
       "      <td>10356.758571</td>\n",
       "      <td>10358.641429</td>\n",
       "      <td>10358.995714</td>\n",
       "      <td>10341.261429</td>\n",
       "      <td>10370.198571</td>\n",
       "    </tr>\n",
       "    <tr>\n",
       "      <th>Frontopariet</th>\n",
       "      <th>body</th>\n",
       "      <th>0</th>\n",
       "      <td>10976.498000</td>\n",
       "      <td>10976.870400</td>\n",
       "      <td>10979.375600</td>\n",
       "      <td>10989.695800</td>\n",
       "      <td>10992.549800</td>\n",
       "      <td>11001.456600</td>\n",
       "      <td>11014.737800</td>\n",
       "      <td>10986.691000</td>\n",
       "      <td>10981.526000</td>\n",
       "      <td>10992.998000</td>\n",
       "      <td>...</td>\n",
       "      <td>10622.288000</td>\n",
       "      <td>10639.027400</td>\n",
       "      <td>10635.935400</td>\n",
       "      <td>10619.900600</td>\n",
       "      <td>10626.532600</td>\n",
       "      <td>10621.213600</td>\n",
       "      <td>10636.832000</td>\n",
       "      <td>10629.505400</td>\n",
       "      <td>10625.407200</td>\n",
       "      <td>10645.620800</td>\n",
       "    </tr>\n",
       "  </tbody>\n",
       "</table>\n",
       "<p>5 rows × 78 columns</p>\n",
       "</div>"
      ],
      "text/plain": [
       "                                             0             1             2   \\\n",
       "Network      Condition Subject_id                                             \n",
       "Auditory     body      0           10570.910667  10559.482667  10558.042667   \n",
       "Cingulo-Oper body      0           11404.612143  11397.947500  11405.201250   \n",
       "Default      body      0           10302.066087  10315.360435  10316.175217   \n",
       "Dorsal-atten body      0           10436.618571  10437.545714  10429.855714   \n",
       "Frontopariet body      0           10976.498000  10976.870400  10979.375600   \n",
       "\n",
       "                                             3             4             5   \\\n",
       "Network      Condition Subject_id                                             \n",
       "Auditory     body      0           10557.971333  10569.071333  10575.828667   \n",
       "Cingulo-Oper body      0           11412.923036  11407.661429  11411.467500   \n",
       "Default      body      0           10319.676522  10305.984783  10312.207391   \n",
       "Dorsal-atten body      0           10442.552857  10440.542857  10467.337143   \n",
       "Frontopariet body      0           10989.695800  10992.549800  11001.456600   \n",
       "\n",
       "                                             6             7             8   \\\n",
       "Network      Condition Subject_id                                             \n",
       "Auditory     body      0           10597.588667  10548.816000  10557.684667   \n",
       "Cingulo-Oper body      0           11409.143214  11409.967500  11416.129107   \n",
       "Default      body      0           10331.403043  10331.197391  10324.156087   \n",
       "Dorsal-atten body      0           10493.134286  10476.871429  10461.774286   \n",
       "Frontopariet body      0           11014.737800  10986.691000  10981.526000   \n",
       "\n",
       "                                             9   ...            68  \\\n",
       "Network      Condition Subject_id                ...                 \n",
       "Auditory     body      0           10530.911333  ...  10537.397333   \n",
       "Cingulo-Oper body      0           11426.297857  ...  11191.768214   \n",
       "Default      body      0           10331.242609  ...  10332.352174   \n",
       "Dorsal-atten body      0           10481.645714  ...  10344.114286   \n",
       "Frontopariet body      0           10992.998000  ...  10622.288000   \n",
       "\n",
       "                                             69            70            71  \\\n",
       "Network      Condition Subject_id                                             \n",
       "Auditory     body      0           10533.365333  10545.706667  10537.018667   \n",
       "Cingulo-Oper body      0           11197.067857  11194.273929  11182.231071   \n",
       "Default      body      0           10348.643913  10341.022174  10325.472609   \n",
       "Dorsal-atten body      0           10351.944286  10383.840000  10349.467143   \n",
       "Frontopariet body      0           10639.027400  10635.935400  10619.900600   \n",
       "\n",
       "                                             72            73            74  \\\n",
       "Network      Condition Subject_id                                             \n",
       "Auditory     body      0           10525.060667  10566.845333  10558.225333   \n",
       "Cingulo-Oper body      0           11174.226964  11193.356786  11200.759107   \n",
       "Default      body      0           10336.795217  10330.170000  10345.498696   \n",
       "Dorsal-atten body      0           10362.028571  10356.758571  10358.641429   \n",
       "Frontopariet body      0           10626.532600  10621.213600  10636.832000   \n",
       "\n",
       "                                             75            76            77  \n",
       "Network      Condition Subject_id                                            \n",
       "Auditory     body      0           10555.538667  10565.348000  10548.770667  \n",
       "Cingulo-Oper body      0           11195.005714  11199.488214  11212.151607  \n",
       "Default      body      0           10332.387391  10347.660435  10340.260435  \n",
       "Dorsal-atten body      0           10358.995714  10341.261429  10370.198571  \n",
       "Frontopariet body      0           10629.505400  10625.407200  10645.620800  \n",
       "\n",
       "[5 rows x 78 columns]"
      ]
     },
     "execution_count": 57,
     "metadata": {},
     "output_type": "execute_result"
    }
   ],
   "source": [
    "# Sanity check\n",
    "X_0back_full_net.head()"
   ]
  },
  {
   "cell_type": "code",
   "execution_count": 58,
   "metadata": {},
   "outputs": [
    {
     "data": {
      "text/html": [
       "<div>\n",
       "<style scoped>\n",
       "    .dataframe tbody tr th:only-of-type {\n",
       "        vertical-align: middle;\n",
       "    }\n",
       "\n",
       "    .dataframe tbody tr th {\n",
       "        vertical-align: top;\n",
       "    }\n",
       "\n",
       "    .dataframe thead th {\n",
       "        text-align: right;\n",
       "    }\n",
       "</style>\n",
       "<table border=\"1\" class=\"dataframe\">\n",
       "  <thead>\n",
       "    <tr style=\"text-align: right;\">\n",
       "      <th></th>\n",
       "      <th></th>\n",
       "      <th></th>\n",
       "      <th>0</th>\n",
       "      <th>1</th>\n",
       "      <th>2</th>\n",
       "      <th>3</th>\n",
       "      <th>4</th>\n",
       "      <th>5</th>\n",
       "      <th>6</th>\n",
       "      <th>7</th>\n",
       "      <th>8</th>\n",
       "      <th>9</th>\n",
       "      <th>...</th>\n",
       "      <th>68</th>\n",
       "      <th>69</th>\n",
       "      <th>70</th>\n",
       "      <th>71</th>\n",
       "      <th>72</th>\n",
       "      <th>73</th>\n",
       "      <th>74</th>\n",
       "      <th>75</th>\n",
       "      <th>76</th>\n",
       "      <th>77</th>\n",
       "    </tr>\n",
       "    <tr>\n",
       "      <th>Network</th>\n",
       "      <th>Condition</th>\n",
       "      <th>Subject_id</th>\n",
       "      <th></th>\n",
       "      <th></th>\n",
       "      <th></th>\n",
       "      <th></th>\n",
       "      <th></th>\n",
       "      <th></th>\n",
       "      <th></th>\n",
       "      <th></th>\n",
       "      <th></th>\n",
       "      <th></th>\n",
       "      <th></th>\n",
       "      <th></th>\n",
       "      <th></th>\n",
       "      <th></th>\n",
       "      <th></th>\n",
       "      <th></th>\n",
       "      <th></th>\n",
       "      <th></th>\n",
       "      <th></th>\n",
       "      <th></th>\n",
       "      <th></th>\n",
       "    </tr>\n",
       "  </thead>\n",
       "  <tbody>\n",
       "    <tr>\n",
       "      <th>Auditory</th>\n",
       "      <th>body</th>\n",
       "      <th>0</th>\n",
       "      <td>10513.302667</td>\n",
       "      <td>10510.148000</td>\n",
       "      <td>10535.079333</td>\n",
       "      <td>10521.920000</td>\n",
       "      <td>10515.240667</td>\n",
       "      <td>10529.814667</td>\n",
       "      <td>10548.097333</td>\n",
       "      <td>10561.133333</td>\n",
       "      <td>10554.373333</td>\n",
       "      <td>10564.174000</td>\n",
       "      <td>...</td>\n",
       "      <td>10547.381333</td>\n",
       "      <td>10548.404667</td>\n",
       "      <td>10581.230667</td>\n",
       "      <td>10578.819333</td>\n",
       "      <td>10552.318000</td>\n",
       "      <td>10553.810000</td>\n",
       "      <td>10557.700000</td>\n",
       "      <td>10547.729333</td>\n",
       "      <td>10555.196000</td>\n",
       "      <td>10572.920667</td>\n",
       "    </tr>\n",
       "    <tr>\n",
       "      <th>Cingulo-Oper</th>\n",
       "      <th>body</th>\n",
       "      <th>0</th>\n",
       "      <td>11359.838393</td>\n",
       "      <td>11350.669643</td>\n",
       "      <td>11362.828036</td>\n",
       "      <td>11357.317143</td>\n",
       "      <td>11354.753036</td>\n",
       "      <td>11354.653036</td>\n",
       "      <td>11372.082679</td>\n",
       "      <td>11388.209643</td>\n",
       "      <td>11399.702857</td>\n",
       "      <td>11410.989464</td>\n",
       "      <td>...</td>\n",
       "      <td>11184.943571</td>\n",
       "      <td>11190.940714</td>\n",
       "      <td>11186.418750</td>\n",
       "      <td>11194.230893</td>\n",
       "      <td>11187.954643</td>\n",
       "      <td>11196.669643</td>\n",
       "      <td>11194.907500</td>\n",
       "      <td>11183.193929</td>\n",
       "      <td>11209.787500</td>\n",
       "      <td>11206.237500</td>\n",
       "    </tr>\n",
       "    <tr>\n",
       "      <th>Default</th>\n",
       "      <th>body</th>\n",
       "      <th>0</th>\n",
       "      <td>10280.175217</td>\n",
       "      <td>10277.216522</td>\n",
       "      <td>10268.863913</td>\n",
       "      <td>10280.523478</td>\n",
       "      <td>10267.522174</td>\n",
       "      <td>10282.300870</td>\n",
       "      <td>10301.117391</td>\n",
       "      <td>10311.949130</td>\n",
       "      <td>10314.795652</td>\n",
       "      <td>10310.440435</td>\n",
       "      <td>...</td>\n",
       "      <td>10348.343478</td>\n",
       "      <td>10356.838261</td>\n",
       "      <td>10364.836957</td>\n",
       "      <td>10358.145217</td>\n",
       "      <td>10355.730000</td>\n",
       "      <td>10362.967391</td>\n",
       "      <td>10361.825217</td>\n",
       "      <td>10340.093913</td>\n",
       "      <td>10340.578696</td>\n",
       "      <td>10358.893913</td>\n",
       "    </tr>\n",
       "    <tr>\n",
       "      <th>Dorsal-atten</th>\n",
       "      <th>body</th>\n",
       "      <th>0</th>\n",
       "      <td>10407.442857</td>\n",
       "      <td>10426.668571</td>\n",
       "      <td>10380.267143</td>\n",
       "      <td>10386.244286</td>\n",
       "      <td>10394.920000</td>\n",
       "      <td>10415.598571</td>\n",
       "      <td>10426.321429</td>\n",
       "      <td>10443.237143</td>\n",
       "      <td>10453.041429</td>\n",
       "      <td>10457.281429</td>\n",
       "      <td>...</td>\n",
       "      <td>10369.707143</td>\n",
       "      <td>10384.895714</td>\n",
       "      <td>10395.381429</td>\n",
       "      <td>10389.944286</td>\n",
       "      <td>10396.580000</td>\n",
       "      <td>10404.450000</td>\n",
       "      <td>10411.432857</td>\n",
       "      <td>10394.377143</td>\n",
       "      <td>10414.470000</td>\n",
       "      <td>10411.192857</td>\n",
       "    </tr>\n",
       "    <tr>\n",
       "      <th>Frontopariet</th>\n",
       "      <th>body</th>\n",
       "      <th>0</th>\n",
       "      <td>10888.065600</td>\n",
       "      <td>10873.332200</td>\n",
       "      <td>10855.890200</td>\n",
       "      <td>10869.319600</td>\n",
       "      <td>10884.365800</td>\n",
       "      <td>10897.929400</td>\n",
       "      <td>10929.934000</td>\n",
       "      <td>10956.846200</td>\n",
       "      <td>10962.209800</td>\n",
       "      <td>10965.212200</td>\n",
       "      <td>...</td>\n",
       "      <td>10657.163000</td>\n",
       "      <td>10687.228600</td>\n",
       "      <td>10686.270600</td>\n",
       "      <td>10684.482400</td>\n",
       "      <td>10675.743600</td>\n",
       "      <td>10698.277000</td>\n",
       "      <td>10689.713600</td>\n",
       "      <td>10680.966000</td>\n",
       "      <td>10680.650800</td>\n",
       "      <td>10679.955400</td>\n",
       "    </tr>\n",
       "  </tbody>\n",
       "</table>\n",
       "<p>5 rows × 78 columns</p>\n",
       "</div>"
      ],
      "text/plain": [
       "                                             0             1             2   \\\n",
       "Network      Condition Subject_id                                             \n",
       "Auditory     body      0           10513.302667  10510.148000  10535.079333   \n",
       "Cingulo-Oper body      0           11359.838393  11350.669643  11362.828036   \n",
       "Default      body      0           10280.175217  10277.216522  10268.863913   \n",
       "Dorsal-atten body      0           10407.442857  10426.668571  10380.267143   \n",
       "Frontopariet body      0           10888.065600  10873.332200  10855.890200   \n",
       "\n",
       "                                             3             4             5   \\\n",
       "Network      Condition Subject_id                                             \n",
       "Auditory     body      0           10521.920000  10515.240667  10529.814667   \n",
       "Cingulo-Oper body      0           11357.317143  11354.753036  11354.653036   \n",
       "Default      body      0           10280.523478  10267.522174  10282.300870   \n",
       "Dorsal-atten body      0           10386.244286  10394.920000  10415.598571   \n",
       "Frontopariet body      0           10869.319600  10884.365800  10897.929400   \n",
       "\n",
       "                                             6             7             8   \\\n",
       "Network      Condition Subject_id                                             \n",
       "Auditory     body      0           10548.097333  10561.133333  10554.373333   \n",
       "Cingulo-Oper body      0           11372.082679  11388.209643  11399.702857   \n",
       "Default      body      0           10301.117391  10311.949130  10314.795652   \n",
       "Dorsal-atten body      0           10426.321429  10443.237143  10453.041429   \n",
       "Frontopariet body      0           10929.934000  10956.846200  10962.209800   \n",
       "\n",
       "                                             9   ...            68  \\\n",
       "Network      Condition Subject_id                ...                 \n",
       "Auditory     body      0           10564.174000  ...  10547.381333   \n",
       "Cingulo-Oper body      0           11410.989464  ...  11184.943571   \n",
       "Default      body      0           10310.440435  ...  10348.343478   \n",
       "Dorsal-atten body      0           10457.281429  ...  10369.707143   \n",
       "Frontopariet body      0           10965.212200  ...  10657.163000   \n",
       "\n",
       "                                             69            70            71  \\\n",
       "Network      Condition Subject_id                                             \n",
       "Auditory     body      0           10548.404667  10581.230667  10578.819333   \n",
       "Cingulo-Oper body      0           11190.940714  11186.418750  11194.230893   \n",
       "Default      body      0           10356.838261  10364.836957  10358.145217   \n",
       "Dorsal-atten body      0           10384.895714  10395.381429  10389.944286   \n",
       "Frontopariet body      0           10687.228600  10686.270600  10684.482400   \n",
       "\n",
       "                                             72            73            74  \\\n",
       "Network      Condition Subject_id                                             \n",
       "Auditory     body      0           10552.318000  10553.810000  10557.700000   \n",
       "Cingulo-Oper body      0           11187.954643  11196.669643  11194.907500   \n",
       "Default      body      0           10355.730000  10362.967391  10361.825217   \n",
       "Dorsal-atten body      0           10396.580000  10404.450000  10411.432857   \n",
       "Frontopariet body      0           10675.743600  10698.277000  10689.713600   \n",
       "\n",
       "                                             75            76            77  \n",
       "Network      Condition Subject_id                                            \n",
       "Auditory     body      0           10547.729333  10555.196000  10572.920667  \n",
       "Cingulo-Oper body      0           11183.193929  11209.787500  11206.237500  \n",
       "Default      body      0           10340.093913  10340.578696  10358.893913  \n",
       "Dorsal-atten body      0           10394.377143  10414.470000  10411.192857  \n",
       "Frontopariet body      0           10680.966000  10680.650800  10679.955400  \n",
       "\n",
       "[5 rows x 78 columns]"
      ]
     },
     "execution_count": 58,
     "metadata": {},
     "output_type": "execute_result"
    }
   ],
   "source": [
    "# Sanity check\n",
    "X_2back_full_net.head()"
   ]
  },
  {
   "cell_type": "code",
   "execution_count": 136,
   "metadata": {},
   "outputs": [],
   "source": [
    "# Create a contrast dataframe\n",
    "X_2back_0back_contr = X_2back_full_net - X_0back_full_net"
   ]
  },
  {
   "cell_type": "code",
   "execution_count": 137,
   "metadata": {},
   "outputs": [
    {
     "data": {
      "text/html": [
       "<div>\n",
       "<style scoped>\n",
       "    .dataframe tbody tr th:only-of-type {\n",
       "        vertical-align: middle;\n",
       "    }\n",
       "\n",
       "    .dataframe tbody tr th {\n",
       "        vertical-align: top;\n",
       "    }\n",
       "\n",
       "    .dataframe thead th {\n",
       "        text-align: right;\n",
       "    }\n",
       "</style>\n",
       "<table border=\"1\" class=\"dataframe\">\n",
       "  <thead>\n",
       "    <tr style=\"text-align: right;\">\n",
       "      <th></th>\n",
       "      <th></th>\n",
       "      <th></th>\n",
       "      <th>0</th>\n",
       "      <th>1</th>\n",
       "      <th>2</th>\n",
       "      <th>3</th>\n",
       "      <th>4</th>\n",
       "      <th>5</th>\n",
       "      <th>6</th>\n",
       "      <th>7</th>\n",
       "      <th>8</th>\n",
       "      <th>9</th>\n",
       "      <th>...</th>\n",
       "      <th>68</th>\n",
       "      <th>69</th>\n",
       "      <th>70</th>\n",
       "      <th>71</th>\n",
       "      <th>72</th>\n",
       "      <th>73</th>\n",
       "      <th>74</th>\n",
       "      <th>75</th>\n",
       "      <th>76</th>\n",
       "      <th>77</th>\n",
       "    </tr>\n",
       "    <tr>\n",
       "      <th>Network</th>\n",
       "      <th>Condition</th>\n",
       "      <th>Subject_id</th>\n",
       "      <th></th>\n",
       "      <th></th>\n",
       "      <th></th>\n",
       "      <th></th>\n",
       "      <th></th>\n",
       "      <th></th>\n",
       "      <th></th>\n",
       "      <th></th>\n",
       "      <th></th>\n",
       "      <th></th>\n",
       "      <th></th>\n",
       "      <th></th>\n",
       "      <th></th>\n",
       "      <th></th>\n",
       "      <th></th>\n",
       "      <th></th>\n",
       "      <th></th>\n",
       "      <th></th>\n",
       "      <th></th>\n",
       "      <th></th>\n",
       "      <th></th>\n",
       "    </tr>\n",
       "  </thead>\n",
       "  <tbody>\n",
       "    <tr>\n",
       "      <th>Auditory</th>\n",
       "      <th>body</th>\n",
       "      <th>0</th>\n",
       "      <td>-57.608000</td>\n",
       "      <td>-49.334667</td>\n",
       "      <td>-22.963333</td>\n",
       "      <td>-36.051333</td>\n",
       "      <td>-53.830667</td>\n",
       "      <td>-46.014000</td>\n",
       "      <td>-49.491333</td>\n",
       "      <td>12.317333</td>\n",
       "      <td>-3.311333</td>\n",
       "      <td>33.262667</td>\n",
       "      <td>...</td>\n",
       "      <td>9.984000</td>\n",
       "      <td>15.039333</td>\n",
       "      <td>35.524000</td>\n",
       "      <td>41.800667</td>\n",
       "      <td>27.257333</td>\n",
       "      <td>-13.035333</td>\n",
       "      <td>-0.525333</td>\n",
       "      <td>-7.809333</td>\n",
       "      <td>-10.152000</td>\n",
       "      <td>24.150000</td>\n",
       "    </tr>\n",
       "    <tr>\n",
       "      <th>Cingulo-Oper</th>\n",
       "      <th>body</th>\n",
       "      <th>0</th>\n",
       "      <td>-44.773750</td>\n",
       "      <td>-47.277857</td>\n",
       "      <td>-42.373214</td>\n",
       "      <td>-55.605893</td>\n",
       "      <td>-52.908393</td>\n",
       "      <td>-56.814464</td>\n",
       "      <td>-37.060536</td>\n",
       "      <td>-21.757857</td>\n",
       "      <td>-16.426250</td>\n",
       "      <td>-15.308393</td>\n",
       "      <td>...</td>\n",
       "      <td>-6.824643</td>\n",
       "      <td>-6.127143</td>\n",
       "      <td>-7.855179</td>\n",
       "      <td>11.999821</td>\n",
       "      <td>13.727679</td>\n",
       "      <td>3.312857</td>\n",
       "      <td>-5.851607</td>\n",
       "      <td>-11.811786</td>\n",
       "      <td>10.299286</td>\n",
       "      <td>-5.914107</td>\n",
       "    </tr>\n",
       "    <tr>\n",
       "      <th>Default</th>\n",
       "      <th>body</th>\n",
       "      <th>0</th>\n",
       "      <td>-21.890870</td>\n",
       "      <td>-38.143913</td>\n",
       "      <td>-47.311304</td>\n",
       "      <td>-39.153043</td>\n",
       "      <td>-38.462609</td>\n",
       "      <td>-29.906522</td>\n",
       "      <td>-30.285652</td>\n",
       "      <td>-19.248261</td>\n",
       "      <td>-9.360435</td>\n",
       "      <td>-20.802174</td>\n",
       "      <td>...</td>\n",
       "      <td>15.991304</td>\n",
       "      <td>8.194348</td>\n",
       "      <td>23.814783</td>\n",
       "      <td>32.672609</td>\n",
       "      <td>18.934783</td>\n",
       "      <td>32.797391</td>\n",
       "      <td>16.326522</td>\n",
       "      <td>7.706522</td>\n",
       "      <td>-7.081739</td>\n",
       "      <td>18.633478</td>\n",
       "    </tr>\n",
       "    <tr>\n",
       "      <th>Dorsal-atten</th>\n",
       "      <th>body</th>\n",
       "      <th>0</th>\n",
       "      <td>-29.175714</td>\n",
       "      <td>-10.877143</td>\n",
       "      <td>-49.588571</td>\n",
       "      <td>-56.308571</td>\n",
       "      <td>-45.622857</td>\n",
       "      <td>-51.738571</td>\n",
       "      <td>-66.812857</td>\n",
       "      <td>-33.634286</td>\n",
       "      <td>-8.732857</td>\n",
       "      <td>-24.364286</td>\n",
       "      <td>...</td>\n",
       "      <td>25.592857</td>\n",
       "      <td>32.951429</td>\n",
       "      <td>11.541429</td>\n",
       "      <td>40.477143</td>\n",
       "      <td>34.551429</td>\n",
       "      <td>47.691429</td>\n",
       "      <td>52.791429</td>\n",
       "      <td>35.381429</td>\n",
       "      <td>73.208571</td>\n",
       "      <td>40.994286</td>\n",
       "    </tr>\n",
       "    <tr>\n",
       "      <th>Frontopariet</th>\n",
       "      <th>body</th>\n",
       "      <th>0</th>\n",
       "      <td>-88.432400</td>\n",
       "      <td>-103.538200</td>\n",
       "      <td>-123.485400</td>\n",
       "      <td>-120.376200</td>\n",
       "      <td>-108.184000</td>\n",
       "      <td>-103.527200</td>\n",
       "      <td>-84.803800</td>\n",
       "      <td>-29.844800</td>\n",
       "      <td>-19.316200</td>\n",
       "      <td>-27.785800</td>\n",
       "      <td>...</td>\n",
       "      <td>34.875000</td>\n",
       "      <td>48.201200</td>\n",
       "      <td>50.335200</td>\n",
       "      <td>64.581800</td>\n",
       "      <td>49.211000</td>\n",
       "      <td>77.063400</td>\n",
       "      <td>52.881600</td>\n",
       "      <td>51.460600</td>\n",
       "      <td>55.243600</td>\n",
       "      <td>34.334600</td>\n",
       "    </tr>\n",
       "  </tbody>\n",
       "</table>\n",
       "<p>5 rows × 78 columns</p>\n",
       "</div>"
      ],
      "text/plain": [
       "                                          0           1           2   \\\n",
       "Network      Condition Subject_id                                      \n",
       "Auditory     body      0          -57.608000  -49.334667  -22.963333   \n",
       "Cingulo-Oper body      0          -44.773750  -47.277857  -42.373214   \n",
       "Default      body      0          -21.890870  -38.143913  -47.311304   \n",
       "Dorsal-atten body      0          -29.175714  -10.877143  -49.588571   \n",
       "Frontopariet body      0          -88.432400 -103.538200 -123.485400   \n",
       "\n",
       "                                           3           4           5   \\\n",
       "Network      Condition Subject_id                                       \n",
       "Auditory     body      0           -36.051333  -53.830667  -46.014000   \n",
       "Cingulo-Oper body      0           -55.605893  -52.908393  -56.814464   \n",
       "Default      body      0           -39.153043  -38.462609  -29.906522   \n",
       "Dorsal-atten body      0           -56.308571  -45.622857  -51.738571   \n",
       "Frontopariet body      0          -120.376200 -108.184000 -103.527200   \n",
       "\n",
       "                                          6          7          8          9   \\\n",
       "Network      Condition Subject_id                                               \n",
       "Auditory     body      0          -49.491333  12.317333  -3.311333  33.262667   \n",
       "Cingulo-Oper body      0          -37.060536 -21.757857 -16.426250 -15.308393   \n",
       "Default      body      0          -30.285652 -19.248261  -9.360435 -20.802174   \n",
       "Dorsal-atten body      0          -66.812857 -33.634286  -8.732857 -24.364286   \n",
       "Frontopariet body      0          -84.803800 -29.844800 -19.316200 -27.785800   \n",
       "\n",
       "                                   ...         68         69         70  \\\n",
       "Network      Condition Subject_id  ...                                    \n",
       "Auditory     body      0           ...   9.984000  15.039333  35.524000   \n",
       "Cingulo-Oper body      0           ...  -6.824643  -6.127143  -7.855179   \n",
       "Default      body      0           ...  15.991304   8.194348  23.814783   \n",
       "Dorsal-atten body      0           ...  25.592857  32.951429  11.541429   \n",
       "Frontopariet body      0           ...  34.875000  48.201200  50.335200   \n",
       "\n",
       "                                          71         72         73         74  \\\n",
       "Network      Condition Subject_id                                               \n",
       "Auditory     body      0           41.800667  27.257333 -13.035333  -0.525333   \n",
       "Cingulo-Oper body      0           11.999821  13.727679   3.312857  -5.851607   \n",
       "Default      body      0           32.672609  18.934783  32.797391  16.326522   \n",
       "Dorsal-atten body      0           40.477143  34.551429  47.691429  52.791429   \n",
       "Frontopariet body      0           64.581800  49.211000  77.063400  52.881600   \n",
       "\n",
       "                                          75         76         77  \n",
       "Network      Condition Subject_id                                   \n",
       "Auditory     body      0           -7.809333 -10.152000  24.150000  \n",
       "Cingulo-Oper body      0          -11.811786  10.299286  -5.914107  \n",
       "Default      body      0            7.706522  -7.081739  18.633478  \n",
       "Dorsal-atten body      0           35.381429  73.208571  40.994286  \n",
       "Frontopariet body      0           51.460600  55.243600  34.334600  \n",
       "\n",
       "[5 rows x 78 columns]"
      ]
     },
     "execution_count": 137,
     "metadata": {},
     "output_type": "execute_result"
    }
   ],
   "source": [
    "X_2back_0back_contr.head()"
   ]
  },
  {
   "cell_type": "code",
   "execution_count": 138,
   "metadata": {},
   "outputs": [],
   "source": [
    "# Return indices to columns (2-back)\n",
    "X_2back_0back_contr.reset_index(level=0, inplace=True)\n",
    "X_2back_0back_contr.reset_index(level=0, inplace=True)\n",
    "X_2back_0back_contr.reset_index(level=0, inplace=True)"
   ]
  },
  {
   "cell_type": "code",
   "execution_count": 139,
   "metadata": {},
   "outputs": [],
   "source": [
    "X_2back_0back_contr_ROI.reset_index(level=0, inplace=True)\n",
    "X_2back_0back_contr_ROI.reset_index(level=0, inplace=True)\n",
    "X_2back_0back_contr_ROI.reset_index(level=0, inplace=True)\n",
    "X_2back_0back_contr_ROI.reset_index(level=0, inplace=True)"
   ]
  },
  {
   "cell_type": "code",
   "execution_count": 140,
   "metadata": {},
   "outputs": [],
   "source": [
    "# Split the networks - Original ROI activity\n",
    "Visual1 = X_2back_0back_contr_ROI.loc[X_2back_0back_contr_ROI['Network'] == 'Visual1']\n",
    "Visual2 = X_2back_0back_contr_ROI.loc[X_2back_0back_contr_ROI['Network'] == 'Visual2']\n",
    "Somatomotor = X_2back_0back_contr_ROI.loc[X_2back_0back_contr_ROI['Network'] == 'Somatomotor']\n",
    "Cingulo_Oper = X_2back_0back_contr_ROI.loc[X_2back_0back_contr_ROI['Network'] == 'Cingulo-Oper']\n",
    "Language = X_2back_0back_contr_ROI.loc[X_2back_0back_contr_ROI['Network'] == 'Language']\n",
    "Default = X_2back_0back_contr_ROI.loc[X_2back_0back_contr_ROI['Network'] == 'Default']\n",
    "Frontopariet = X_2back_0back_contr_ROI.loc[X_2back_0back_contr_ROI['Network'] == 'Frontopariet']\n",
    "Auditory = X_2back_0back_contr_ROI.loc[X_2back_0back_contr_ROI['Network'] == 'Auditory']\n",
    "Dorsal_atten = X_2back_0back_contr_ROI.loc[X_2back_0back_contr_ROI['Network'] == 'Dorsal-atten']\n",
    "Posterior_Mu = X_2back_0back_contr_ROI.loc[X_2back_0back_contr_ROI['Network'] == 'Posterior-Mu']\n",
    "Orbito_Affec = X_2back_0back_contr_ROI.loc[X_2back_0back_contr_ROI['Network'] == 'Orbito-Affec']\n",
    "Ventral_Mult = X_2back_0back_contr_ROI.loc[X_2back_0back_contr_ROI['Network'] == 'Ventral-Mult']"
   ]
  },
  {
   "cell_type": "code",
   "execution_count": 141,
   "metadata": {},
   "outputs": [],
   "source": [
    "# Split the networks - Mean activity\n",
    "Visual1_mean = X_2back_0back_contr.loc[X_2back_0back_contr['Network'] == 'Visual1']\n",
    "Visual2_mean = X_2back_0back_contr.loc[X_2back_0back_contr['Network'] == 'Visual2']\n",
    "Somatomotor_mean = X_2back_0back_contr.loc[X_2back_0back_contr['Network'] == 'Somatomotor']\n",
    "Cingulo_Oper_mean = X_2back_0back_contr.loc[X_2back_0back_contr['Network'] == 'Cingulo-Oper']\n",
    "Language_mean = X_2back_0back_contr.loc[X_2back_0back_contr['Network'] == 'Language']\n",
    "Default_mean = X_2back_0back_contr.loc[X_2back_0back_contr['Network'] == 'Default']\n",
    "Frontopariet_mean = X_2back_0back_contr.loc[X_2back_0back_contr['Network'] == 'Frontopariet']\n",
    "Auditory_mean = X_2back_0back_contr.loc[X_2back_0back_contr['Network'] == 'Auditory']\n",
    "Dorsal_atten_mean = X_2back_0back_contr.loc[X_2back_0back_contr['Network'] == 'Dorsal-atten']\n",
    "Posterior_Mu_mean = X_2back_0back_contr.loc[X_2back_0back_contr['Network'] == 'Posterior-Mu']\n",
    "Orbito_Affec_mean = X_2back_0back_contr.loc[X_2back_0back_contr['Network'] == 'Orbito-Affec']\n",
    "Ventral_Mult_mean = X_2back_0back_contr.loc[X_2back_0back_contr['Network'] == 'Ventral-Mult']"
   ]
  },
  {
   "cell_type": "code",
   "execution_count": 65,
   "metadata": {},
   "outputs": [
    {
     "data": {
      "text/html": [
       "<div>\n",
       "<style scoped>\n",
       "    .dataframe tbody tr th:only-of-type {\n",
       "        vertical-align: middle;\n",
       "    }\n",
       "\n",
       "    .dataframe tbody tr th {\n",
       "        vertical-align: top;\n",
       "    }\n",
       "\n",
       "    .dataframe thead th {\n",
       "        text-align: right;\n",
       "    }\n",
       "</style>\n",
       "<table border=\"1\" class=\"dataframe\">\n",
       "  <thead>\n",
       "    <tr style=\"text-align: right;\">\n",
       "      <th></th>\n",
       "      <th>Network</th>\n",
       "      <th>ROI</th>\n",
       "      <th>Condition</th>\n",
       "      <th>Subject_id</th>\n",
       "      <th>0</th>\n",
       "      <th>1</th>\n",
       "      <th>2</th>\n",
       "      <th>3</th>\n",
       "      <th>4</th>\n",
       "      <th>5</th>\n",
       "      <th>...</th>\n",
       "      <th>68</th>\n",
       "      <th>69</th>\n",
       "      <th>70</th>\n",
       "      <th>71</th>\n",
       "      <th>72</th>\n",
       "      <th>73</th>\n",
       "      <th>74</th>\n",
       "      <th>75</th>\n",
       "      <th>76</th>\n",
       "      <th>77</th>\n",
       "    </tr>\n",
       "  </thead>\n",
       "  <tbody>\n",
       "    <tr>\n",
       "      <th>1356</th>\n",
       "      <td>Visual2</td>\n",
       "      <td>R_MST</td>\n",
       "      <td>faces</td>\n",
       "      <td>0</td>\n",
       "      <td>42.70</td>\n",
       "      <td>1.60</td>\n",
       "      <td>91.20</td>\n",
       "      <td>58.70</td>\n",
       "      <td>30.80</td>\n",
       "      <td>89.70</td>\n",
       "      <td>...</td>\n",
       "      <td>15.20</td>\n",
       "      <td>39.90</td>\n",
       "      <td>-9.00</td>\n",
       "      <td>63.90</td>\n",
       "      <td>0.70</td>\n",
       "      <td>50.20</td>\n",
       "      <td>4.00</td>\n",
       "      <td>67.50</td>\n",
       "      <td>37.40</td>\n",
       "      <td>12.50</td>\n",
       "    </tr>\n",
       "    <tr>\n",
       "      <th>1357</th>\n",
       "      <td>Visual2</td>\n",
       "      <td>R_MST</td>\n",
       "      <td>faces</td>\n",
       "      <td>1</td>\n",
       "      <td>-29.84</td>\n",
       "      <td>18.53</td>\n",
       "      <td>-31.15</td>\n",
       "      <td>1.97</td>\n",
       "      <td>-34.72</td>\n",
       "      <td>-12.13</td>\n",
       "      <td>...</td>\n",
       "      <td>34.29</td>\n",
       "      <td>3.60</td>\n",
       "      <td>18.03</td>\n",
       "      <td>-39.59</td>\n",
       "      <td>8.46</td>\n",
       "      <td>46.73</td>\n",
       "      <td>70.35</td>\n",
       "      <td>65.33</td>\n",
       "      <td>54.02</td>\n",
       "      <td>41.26</td>\n",
       "    </tr>\n",
       "    <tr>\n",
       "      <th>1358</th>\n",
       "      <td>Visual2</td>\n",
       "      <td>R_MST</td>\n",
       "      <td>faces</td>\n",
       "      <td>2</td>\n",
       "      <td>13.54</td>\n",
       "      <td>-77.83</td>\n",
       "      <td>-0.83</td>\n",
       "      <td>-75.95</td>\n",
       "      <td>6.67</td>\n",
       "      <td>-30.09</td>\n",
       "      <td>...</td>\n",
       "      <td>43.26</td>\n",
       "      <td>1.98</td>\n",
       "      <td>17.40</td>\n",
       "      <td>39.81</td>\n",
       "      <td>39.01</td>\n",
       "      <td>45.92</td>\n",
       "      <td>60.35</td>\n",
       "      <td>-46.96</td>\n",
       "      <td>17.12</td>\n",
       "      <td>12.03</td>\n",
       "    </tr>\n",
       "    <tr>\n",
       "      <th>1359</th>\n",
       "      <td>Visual2</td>\n",
       "      <td>R_MST</td>\n",
       "      <td>faces</td>\n",
       "      <td>3</td>\n",
       "      <td>44.92</td>\n",
       "      <td>22.77</td>\n",
       "      <td>8.96</td>\n",
       "      <td>39.73</td>\n",
       "      <td>-74.87</td>\n",
       "      <td>40.13</td>\n",
       "      <td>...</td>\n",
       "      <td>74.31</td>\n",
       "      <td>26.80</td>\n",
       "      <td>88.28</td>\n",
       "      <td>106.57</td>\n",
       "      <td>-6.45</td>\n",
       "      <td>69.33</td>\n",
       "      <td>85.23</td>\n",
       "      <td>23.25</td>\n",
       "      <td>38.74</td>\n",
       "      <td>9.21</td>\n",
       "    </tr>\n",
       "    <tr>\n",
       "      <th>1360</th>\n",
       "      <td>Visual2</td>\n",
       "      <td>R_MST</td>\n",
       "      <td>faces</td>\n",
       "      <td>4</td>\n",
       "      <td>-178.10</td>\n",
       "      <td>-131.20</td>\n",
       "      <td>-200.90</td>\n",
       "      <td>-137.30</td>\n",
       "      <td>-174.50</td>\n",
       "      <td>-164.50</td>\n",
       "      <td>...</td>\n",
       "      <td>8.60</td>\n",
       "      <td>-10.60</td>\n",
       "      <td>-69.40</td>\n",
       "      <td>23.40</td>\n",
       "      <td>-162.10</td>\n",
       "      <td>-112.50</td>\n",
       "      <td>-79.70</td>\n",
       "      <td>-62.80</td>\n",
       "      <td>17.30</td>\n",
       "      <td>64.10</td>\n",
       "    </tr>\n",
       "    <tr>\n",
       "      <th>1361</th>\n",
       "      <td>Visual2</td>\n",
       "      <td>R_MST</td>\n",
       "      <td>faces</td>\n",
       "      <td>5</td>\n",
       "      <td>29.56</td>\n",
       "      <td>-4.60</td>\n",
       "      <td>33.24</td>\n",
       "      <td>9.22</td>\n",
       "      <td>-9.16</td>\n",
       "      <td>-22.34</td>\n",
       "      <td>...</td>\n",
       "      <td>-41.86</td>\n",
       "      <td>17.94</td>\n",
       "      <td>40.20</td>\n",
       "      <td>13.06</td>\n",
       "      <td>-6.67</td>\n",
       "      <td>60.78</td>\n",
       "      <td>67.54</td>\n",
       "      <td>-58.86</td>\n",
       "      <td>-14.45</td>\n",
       "      <td>67.57</td>\n",
       "    </tr>\n",
       "    <tr>\n",
       "      <th>1362</th>\n",
       "      <td>Visual2</td>\n",
       "      <td>R_MST</td>\n",
       "      <td>faces</td>\n",
       "      <td>6</td>\n",
       "      <td>65.75</td>\n",
       "      <td>82.96</td>\n",
       "      <td>83.67</td>\n",
       "      <td>60.55</td>\n",
       "      <td>96.42</td>\n",
       "      <td>70.80</td>\n",
       "      <td>...</td>\n",
       "      <td>28.93</td>\n",
       "      <td>-30.85</td>\n",
       "      <td>-87.07</td>\n",
       "      <td>21.99</td>\n",
       "      <td>-62.65</td>\n",
       "      <td>-46.40</td>\n",
       "      <td>-57.28</td>\n",
       "      <td>-70.46</td>\n",
       "      <td>-67.53</td>\n",
       "      <td>-108.94</td>\n",
       "    </tr>\n",
       "    <tr>\n",
       "      <th>1363</th>\n",
       "      <td>Visual2</td>\n",
       "      <td>R_MST</td>\n",
       "      <td>faces</td>\n",
       "      <td>7</td>\n",
       "      <td>-70.72</td>\n",
       "      <td>-11.99</td>\n",
       "      <td>-57.31</td>\n",
       "      <td>-122.58</td>\n",
       "      <td>-81.80</td>\n",
       "      <td>-17.85</td>\n",
       "      <td>...</td>\n",
       "      <td>-5.40</td>\n",
       "      <td>-45.08</td>\n",
       "      <td>-45.11</td>\n",
       "      <td>3.37</td>\n",
       "      <td>-7.68</td>\n",
       "      <td>-14.21</td>\n",
       "      <td>1.70</td>\n",
       "      <td>15.60</td>\n",
       "      <td>9.13</td>\n",
       "      <td>-12.15</td>\n",
       "    </tr>\n",
       "    <tr>\n",
       "      <th>1364</th>\n",
       "      <td>Visual2</td>\n",
       "      <td>R_MST</td>\n",
       "      <td>faces</td>\n",
       "      <td>8</td>\n",
       "      <td>-22.97</td>\n",
       "      <td>-58.22</td>\n",
       "      <td>-12.63</td>\n",
       "      <td>-27.37</td>\n",
       "      <td>-18.89</td>\n",
       "      <td>-24.25</td>\n",
       "      <td>...</td>\n",
       "      <td>3.91</td>\n",
       "      <td>-1.21</td>\n",
       "      <td>-143.02</td>\n",
       "      <td>36.15</td>\n",
       "      <td>57.52</td>\n",
       "      <td>-81.06</td>\n",
       "      <td>-150.69</td>\n",
       "      <td>12.69</td>\n",
       "      <td>-86.05</td>\n",
       "      <td>-141.69</td>\n",
       "    </tr>\n",
       "    <tr>\n",
       "      <th>1365</th>\n",
       "      <td>Visual2</td>\n",
       "      <td>R_MST</td>\n",
       "      <td>faces</td>\n",
       "      <td>9</td>\n",
       "      <td>-83.97</td>\n",
       "      <td>-19.18</td>\n",
       "      <td>-34.02</td>\n",
       "      <td>-75.43</td>\n",
       "      <td>17.92</td>\n",
       "      <td>-22.16</td>\n",
       "      <td>...</td>\n",
       "      <td>-137.96</td>\n",
       "      <td>-174.21</td>\n",
       "      <td>-150.85</td>\n",
       "      <td>-228.97</td>\n",
       "      <td>-156.22</td>\n",
       "      <td>-223.98</td>\n",
       "      <td>-270.39</td>\n",
       "      <td>-192.50</td>\n",
       "      <td>-254.52</td>\n",
       "      <td>-189.45</td>\n",
       "    </tr>\n",
       "    <tr>\n",
       "      <th>1366</th>\n",
       "      <td>Visual2</td>\n",
       "      <td>R_MST</td>\n",
       "      <td>faces</td>\n",
       "      <td>10</td>\n",
       "      <td>-87.74</td>\n",
       "      <td>79.45</td>\n",
       "      <td>109.02</td>\n",
       "      <td>99.78</td>\n",
       "      <td>35.92</td>\n",
       "      <td>133.59</td>\n",
       "      <td>...</td>\n",
       "      <td>-70.50</td>\n",
       "      <td>-41.30</td>\n",
       "      <td>-9.70</td>\n",
       "      <td>-67.90</td>\n",
       "      <td>13.60</td>\n",
       "      <td>62.00</td>\n",
       "      <td>60.10</td>\n",
       "      <td>11.60</td>\n",
       "      <td>-126.30</td>\n",
       "      <td>149.30</td>\n",
       "    </tr>\n",
       "    <tr>\n",
       "      <th>1367</th>\n",
       "      <td>Visual2</td>\n",
       "      <td>R_MST</td>\n",
       "      <td>faces</td>\n",
       "      <td>11</td>\n",
       "      <td>-47.90</td>\n",
       "      <td>-5.20</td>\n",
       "      <td>106.80</td>\n",
       "      <td>-48.00</td>\n",
       "      <td>46.10</td>\n",
       "      <td>4.20</td>\n",
       "      <td>...</td>\n",
       "      <td>57.50</td>\n",
       "      <td>-22.00</td>\n",
       "      <td>18.30</td>\n",
       "      <td>78.70</td>\n",
       "      <td>86.50</td>\n",
       "      <td>-63.00</td>\n",
       "      <td>46.90</td>\n",
       "      <td>16.90</td>\n",
       "      <td>34.80</td>\n",
       "      <td>24.70</td>\n",
       "    </tr>\n",
       "  </tbody>\n",
       "</table>\n",
       "<p>12 rows × 82 columns</p>\n",
       "</div>"
      ],
      "text/plain": [
       "      Network    ROI Condition  Subject_id       0       1       2       3  \\\n",
       "1356  Visual2  R_MST     faces           0   42.70    1.60   91.20   58.70   \n",
       "1357  Visual2  R_MST     faces           1  -29.84   18.53  -31.15    1.97   \n",
       "1358  Visual2  R_MST     faces           2   13.54  -77.83   -0.83  -75.95   \n",
       "1359  Visual2  R_MST     faces           3   44.92   22.77    8.96   39.73   \n",
       "1360  Visual2  R_MST     faces           4 -178.10 -131.20 -200.90 -137.30   \n",
       "1361  Visual2  R_MST     faces           5   29.56   -4.60   33.24    9.22   \n",
       "1362  Visual2  R_MST     faces           6   65.75   82.96   83.67   60.55   \n",
       "1363  Visual2  R_MST     faces           7  -70.72  -11.99  -57.31 -122.58   \n",
       "1364  Visual2  R_MST     faces           8  -22.97  -58.22  -12.63  -27.37   \n",
       "1365  Visual2  R_MST     faces           9  -83.97  -19.18  -34.02  -75.43   \n",
       "1366  Visual2  R_MST     faces          10  -87.74   79.45  109.02   99.78   \n",
       "1367  Visual2  R_MST     faces          11  -47.90   -5.20  106.80  -48.00   \n",
       "\n",
       "           4       5  ...      68      69      70      71      72      73  \\\n",
       "1356   30.80   89.70  ...   15.20   39.90   -9.00   63.90    0.70   50.20   \n",
       "1357  -34.72  -12.13  ...   34.29    3.60   18.03  -39.59    8.46   46.73   \n",
       "1358    6.67  -30.09  ...   43.26    1.98   17.40   39.81   39.01   45.92   \n",
       "1359  -74.87   40.13  ...   74.31   26.80   88.28  106.57   -6.45   69.33   \n",
       "1360 -174.50 -164.50  ...    8.60  -10.60  -69.40   23.40 -162.10 -112.50   \n",
       "1361   -9.16  -22.34  ...  -41.86   17.94   40.20   13.06   -6.67   60.78   \n",
       "1362   96.42   70.80  ...   28.93  -30.85  -87.07   21.99  -62.65  -46.40   \n",
       "1363  -81.80  -17.85  ...   -5.40  -45.08  -45.11    3.37   -7.68  -14.21   \n",
       "1364  -18.89  -24.25  ...    3.91   -1.21 -143.02   36.15   57.52  -81.06   \n",
       "1365   17.92  -22.16  ... -137.96 -174.21 -150.85 -228.97 -156.22 -223.98   \n",
       "1366   35.92  133.59  ...  -70.50  -41.30   -9.70  -67.90   13.60   62.00   \n",
       "1367   46.10    4.20  ...   57.50  -22.00   18.30   78.70   86.50  -63.00   \n",
       "\n",
       "          74      75      76      77  \n",
       "1356    4.00   67.50   37.40   12.50  \n",
       "1357   70.35   65.33   54.02   41.26  \n",
       "1358   60.35  -46.96   17.12   12.03  \n",
       "1359   85.23   23.25   38.74    9.21  \n",
       "1360  -79.70  -62.80   17.30   64.10  \n",
       "1361   67.54  -58.86  -14.45   67.57  \n",
       "1362  -57.28  -70.46  -67.53 -108.94  \n",
       "1363    1.70   15.60    9.13  -12.15  \n",
       "1364 -150.69   12.69  -86.05 -141.69  \n",
       "1365 -270.39 -192.50 -254.52 -189.45  \n",
       "1366   60.10   11.60 -126.30  149.30  \n",
       "1367   46.90   16.90   34.80   24.70  \n",
       "\n",
       "[12 rows x 82 columns]"
      ]
     },
     "execution_count": 65,
     "metadata": {},
     "output_type": "execute_result"
    }
   ],
   "source": [
    "Visual2.head(12)"
   ]
  },
  {
   "cell_type": "code",
   "execution_count": 66,
   "metadata": {},
   "outputs": [
    {
     "data": {
      "text/html": [
       "<div>\n",
       "<style scoped>\n",
       "    .dataframe tbody tr th:only-of-type {\n",
       "        vertical-align: middle;\n",
       "    }\n",
       "\n",
       "    .dataframe tbody tr th {\n",
       "        vertical-align: top;\n",
       "    }\n",
       "\n",
       "    .dataframe thead th {\n",
       "        text-align: right;\n",
       "    }\n",
       "</style>\n",
       "<table border=\"1\" class=\"dataframe\">\n",
       "  <thead>\n",
       "    <tr style=\"text-align: right;\">\n",
       "      <th></th>\n",
       "      <th>Subject_id</th>\n",
       "      <th>Condition</th>\n",
       "      <th>Network</th>\n",
       "      <th>0</th>\n",
       "      <th>1</th>\n",
       "      <th>2</th>\n",
       "      <th>3</th>\n",
       "      <th>4</th>\n",
       "      <th>5</th>\n",
       "      <th>6</th>\n",
       "      <th>...</th>\n",
       "      <th>68</th>\n",
       "      <th>69</th>\n",
       "      <th>70</th>\n",
       "      <th>71</th>\n",
       "      <th>72</th>\n",
       "      <th>73</th>\n",
       "      <th>74</th>\n",
       "      <th>75</th>\n",
       "      <th>76</th>\n",
       "      <th>77</th>\n",
       "    </tr>\n",
       "  </thead>\n",
       "  <tbody>\n",
       "    <tr>\n",
       "      <th>11</th>\n",
       "      <td>0</td>\n",
       "      <td>body</td>\n",
       "      <td>Visual2</td>\n",
       "      <td>-3.607407</td>\n",
       "      <td>-10.931481</td>\n",
       "      <td>-7.214815</td>\n",
       "      <td>-47.645741</td>\n",
       "      <td>-51.474074</td>\n",
       "      <td>-62.754074</td>\n",
       "      <td>-91.821481</td>\n",
       "      <td>...</td>\n",
       "      <td>28.232963</td>\n",
       "      <td>22.613704</td>\n",
       "      <td>24.625556</td>\n",
       "      <td>16.057778</td>\n",
       "      <td>6.462037</td>\n",
       "      <td>-4.530556</td>\n",
       "      <td>7.424074</td>\n",
       "      <td>-3.495000</td>\n",
       "      <td>19.622778</td>\n",
       "      <td>20.024074</td>\n",
       "    </tr>\n",
       "    <tr>\n",
       "      <th>23</th>\n",
       "      <td>0</td>\n",
       "      <td>faces</td>\n",
       "      <td>Visual2</td>\n",
       "      <td>13.390185</td>\n",
       "      <td>37.366852</td>\n",
       "      <td>37.070000</td>\n",
       "      <td>28.285370</td>\n",
       "      <td>36.322037</td>\n",
       "      <td>29.073333</td>\n",
       "      <td>27.559630</td>\n",
       "      <td>...</td>\n",
       "      <td>81.796667</td>\n",
       "      <td>76.416481</td>\n",
       "      <td>98.559630</td>\n",
       "      <td>88.224259</td>\n",
       "      <td>77.445926</td>\n",
       "      <td>78.972222</td>\n",
       "      <td>101.566852</td>\n",
       "      <td>111.010000</td>\n",
       "      <td>86.461667</td>\n",
       "      <td>75.451852</td>\n",
       "    </tr>\n",
       "    <tr>\n",
       "      <th>35</th>\n",
       "      <td>0</td>\n",
       "      <td>places</td>\n",
       "      <td>Visual2</td>\n",
       "      <td>-34.348889</td>\n",
       "      <td>-36.575000</td>\n",
       "      <td>-33.681481</td>\n",
       "      <td>-46.895185</td>\n",
       "      <td>-80.123519</td>\n",
       "      <td>-84.533148</td>\n",
       "      <td>-93.008519</td>\n",
       "      <td>...</td>\n",
       "      <td>-49.590370</td>\n",
       "      <td>-31.722222</td>\n",
       "      <td>-17.316111</td>\n",
       "      <td>10.305926</td>\n",
       "      <td>7.691481</td>\n",
       "      <td>28.383148</td>\n",
       "      <td>42.388889</td>\n",
       "      <td>4.655000</td>\n",
       "      <td>16.852593</td>\n",
       "      <td>-0.552037</td>\n",
       "    </tr>\n",
       "    <tr>\n",
       "      <th>47</th>\n",
       "      <td>0</td>\n",
       "      <td>tools</td>\n",
       "      <td>Visual2</td>\n",
       "      <td>-20.753333</td>\n",
       "      <td>2.430741</td>\n",
       "      <td>33.306667</td>\n",
       "      <td>71.204074</td>\n",
       "      <td>103.899444</td>\n",
       "      <td>69.708519</td>\n",
       "      <td>22.531852</td>\n",
       "      <td>...</td>\n",
       "      <td>24.234259</td>\n",
       "      <td>24.549259</td>\n",
       "      <td>-1.071111</td>\n",
       "      <td>-12.052963</td>\n",
       "      <td>-23.698704</td>\n",
       "      <td>16.854815</td>\n",
       "      <td>39.316852</td>\n",
       "      <td>32.021667</td>\n",
       "      <td>49.406111</td>\n",
       "      <td>75.030926</td>\n",
       "    </tr>\n",
       "    <tr>\n",
       "      <th>59</th>\n",
       "      <td>1</td>\n",
       "      <td>body</td>\n",
       "      <td>Visual2</td>\n",
       "      <td>-31.268889</td>\n",
       "      <td>-56.462778</td>\n",
       "      <td>-55.969630</td>\n",
       "      <td>-47.154074</td>\n",
       "      <td>-32.855000</td>\n",
       "      <td>-21.134444</td>\n",
       "      <td>-24.807222</td>\n",
       "      <td>...</td>\n",
       "      <td>-19.331667</td>\n",
       "      <td>15.488148</td>\n",
       "      <td>-2.783148</td>\n",
       "      <td>-35.139630</td>\n",
       "      <td>-38.497593</td>\n",
       "      <td>-29.020370</td>\n",
       "      <td>-43.212778</td>\n",
       "      <td>-56.997593</td>\n",
       "      <td>-55.122222</td>\n",
       "      <td>-46.978704</td>\n",
       "    </tr>\n",
       "    <tr>\n",
       "      <th>71</th>\n",
       "      <td>1</td>\n",
       "      <td>faces</td>\n",
       "      <td>Visual2</td>\n",
       "      <td>-67.159630</td>\n",
       "      <td>-61.589815</td>\n",
       "      <td>-53.539815</td>\n",
       "      <td>-65.684259</td>\n",
       "      <td>-73.891481</td>\n",
       "      <td>-95.873148</td>\n",
       "      <td>-83.621296</td>\n",
       "      <td>...</td>\n",
       "      <td>49.159444</td>\n",
       "      <td>66.305185</td>\n",
       "      <td>73.583704</td>\n",
       "      <td>73.623704</td>\n",
       "      <td>63.570926</td>\n",
       "      <td>83.950926</td>\n",
       "      <td>89.534444</td>\n",
       "      <td>95.534259</td>\n",
       "      <td>67.605926</td>\n",
       "      <td>73.748519</td>\n",
       "    </tr>\n",
       "    <tr>\n",
       "      <th>83</th>\n",
       "      <td>1</td>\n",
       "      <td>places</td>\n",
       "      <td>Visual2</td>\n",
       "      <td>-40.489444</td>\n",
       "      <td>-5.580000</td>\n",
       "      <td>23.472037</td>\n",
       "      <td>22.206296</td>\n",
       "      <td>1.755185</td>\n",
       "      <td>-38.569444</td>\n",
       "      <td>-45.710926</td>\n",
       "      <td>...</td>\n",
       "      <td>-6.319444</td>\n",
       "      <td>7.571481</td>\n",
       "      <td>15.360741</td>\n",
       "      <td>25.779630</td>\n",
       "      <td>45.577593</td>\n",
       "      <td>37.615556</td>\n",
       "      <td>43.033519</td>\n",
       "      <td>9.422593</td>\n",
       "      <td>-22.328704</td>\n",
       "      <td>-46.665185</td>\n",
       "    </tr>\n",
       "    <tr>\n",
       "      <th>95</th>\n",
       "      <td>1</td>\n",
       "      <td>tools</td>\n",
       "      <td>Visual2</td>\n",
       "      <td>5.203704</td>\n",
       "      <td>-8.340370</td>\n",
       "      <td>-0.077222</td>\n",
       "      <td>6.343333</td>\n",
       "      <td>20.336296</td>\n",
       "      <td>0.234444</td>\n",
       "      <td>-6.525926</td>\n",
       "      <td>...</td>\n",
       "      <td>24.808333</td>\n",
       "      <td>25.724074</td>\n",
       "      <td>11.482407</td>\n",
       "      <td>26.283519</td>\n",
       "      <td>34.252778</td>\n",
       "      <td>28.106111</td>\n",
       "      <td>15.113148</td>\n",
       "      <td>15.258333</td>\n",
       "      <td>-4.578333</td>\n",
       "      <td>13.512037</td>\n",
       "    </tr>\n",
       "    <tr>\n",
       "      <th>107</th>\n",
       "      <td>2</td>\n",
       "      <td>body</td>\n",
       "      <td>Visual2</td>\n",
       "      <td>-5.808704</td>\n",
       "      <td>-33.031667</td>\n",
       "      <td>-17.879630</td>\n",
       "      <td>-20.068519</td>\n",
       "      <td>-21.595741</td>\n",
       "      <td>-25.275185</td>\n",
       "      <td>-42.127407</td>\n",
       "      <td>...</td>\n",
       "      <td>11.858148</td>\n",
       "      <td>40.294259</td>\n",
       "      <td>51.170185</td>\n",
       "      <td>46.883519</td>\n",
       "      <td>43.200926</td>\n",
       "      <td>37.489815</td>\n",
       "      <td>27.415926</td>\n",
       "      <td>42.401852</td>\n",
       "      <td>40.809074</td>\n",
       "      <td>25.513148</td>\n",
       "    </tr>\n",
       "    <tr>\n",
       "      <th>119</th>\n",
       "      <td>2</td>\n",
       "      <td>faces</td>\n",
       "      <td>Visual2</td>\n",
       "      <td>-52.503519</td>\n",
       "      <td>-47.090741</td>\n",
       "      <td>-53.570926</td>\n",
       "      <td>-45.723519</td>\n",
       "      <td>-67.766111</td>\n",
       "      <td>-50.779815</td>\n",
       "      <td>-76.796481</td>\n",
       "      <td>...</td>\n",
       "      <td>40.111667</td>\n",
       "      <td>38.292963</td>\n",
       "      <td>58.110000</td>\n",
       "      <td>47.391481</td>\n",
       "      <td>22.541296</td>\n",
       "      <td>25.939630</td>\n",
       "      <td>36.347963</td>\n",
       "      <td>27.633519</td>\n",
       "      <td>22.660185</td>\n",
       "      <td>13.665926</td>\n",
       "    </tr>\n",
       "    <tr>\n",
       "      <th>131</th>\n",
       "      <td>2</td>\n",
       "      <td>places</td>\n",
       "      <td>Visual2</td>\n",
       "      <td>34.535926</td>\n",
       "      <td>43.975926</td>\n",
       "      <td>50.889259</td>\n",
       "      <td>56.987778</td>\n",
       "      <td>19.385926</td>\n",
       "      <td>5.553519</td>\n",
       "      <td>-6.024815</td>\n",
       "      <td>...</td>\n",
       "      <td>9.191296</td>\n",
       "      <td>9.931481</td>\n",
       "      <td>18.687407</td>\n",
       "      <td>7.838704</td>\n",
       "      <td>13.143333</td>\n",
       "      <td>-9.673148</td>\n",
       "      <td>1.416667</td>\n",
       "      <td>1.921852</td>\n",
       "      <td>10.612037</td>\n",
       "      <td>12.647407</td>\n",
       "    </tr>\n",
       "    <tr>\n",
       "      <th>143</th>\n",
       "      <td>2</td>\n",
       "      <td>tools</td>\n",
       "      <td>Visual2</td>\n",
       "      <td>85.527963</td>\n",
       "      <td>108.007037</td>\n",
       "      <td>110.620926</td>\n",
       "      <td>98.943148</td>\n",
       "      <td>94.345000</td>\n",
       "      <td>83.148148</td>\n",
       "      <td>55.569630</td>\n",
       "      <td>...</td>\n",
       "      <td>33.659815</td>\n",
       "      <td>32.045556</td>\n",
       "      <td>46.548704</td>\n",
       "      <td>25.388333</td>\n",
       "      <td>22.136481</td>\n",
       "      <td>7.292593</td>\n",
       "      <td>7.360556</td>\n",
       "      <td>-5.084444</td>\n",
       "      <td>-2.462963</td>\n",
       "      <td>-10.092778</td>\n",
       "    </tr>\n",
       "  </tbody>\n",
       "</table>\n",
       "<p>12 rows × 81 columns</p>\n",
       "</div>"
      ],
      "text/plain": [
       "     Subject_id Condition  Network          0           1           2  \\\n",
       "11            0      body  Visual2  -3.607407  -10.931481   -7.214815   \n",
       "23            0     faces  Visual2  13.390185   37.366852   37.070000   \n",
       "35            0    places  Visual2 -34.348889  -36.575000  -33.681481   \n",
       "47            0     tools  Visual2 -20.753333    2.430741   33.306667   \n",
       "59            1      body  Visual2 -31.268889  -56.462778  -55.969630   \n",
       "71            1     faces  Visual2 -67.159630  -61.589815  -53.539815   \n",
       "83            1    places  Visual2 -40.489444   -5.580000   23.472037   \n",
       "95            1     tools  Visual2   5.203704   -8.340370   -0.077222   \n",
       "107           2      body  Visual2  -5.808704  -33.031667  -17.879630   \n",
       "119           2     faces  Visual2 -52.503519  -47.090741  -53.570926   \n",
       "131           2    places  Visual2  34.535926   43.975926   50.889259   \n",
       "143           2     tools  Visual2  85.527963  108.007037  110.620926   \n",
       "\n",
       "             3           4          5          6  ...         68         69  \\\n",
       "11  -47.645741  -51.474074 -62.754074 -91.821481  ...  28.232963  22.613704   \n",
       "23   28.285370   36.322037  29.073333  27.559630  ...  81.796667  76.416481   \n",
       "35  -46.895185  -80.123519 -84.533148 -93.008519  ... -49.590370 -31.722222   \n",
       "47   71.204074  103.899444  69.708519  22.531852  ...  24.234259  24.549259   \n",
       "59  -47.154074  -32.855000 -21.134444 -24.807222  ... -19.331667  15.488148   \n",
       "71  -65.684259  -73.891481 -95.873148 -83.621296  ...  49.159444  66.305185   \n",
       "83   22.206296    1.755185 -38.569444 -45.710926  ...  -6.319444   7.571481   \n",
       "95    6.343333   20.336296   0.234444  -6.525926  ...  24.808333  25.724074   \n",
       "107 -20.068519  -21.595741 -25.275185 -42.127407  ...  11.858148  40.294259   \n",
       "119 -45.723519  -67.766111 -50.779815 -76.796481  ...  40.111667  38.292963   \n",
       "131  56.987778   19.385926   5.553519  -6.024815  ...   9.191296   9.931481   \n",
       "143  98.943148   94.345000  83.148148  55.569630  ...  33.659815  32.045556   \n",
       "\n",
       "            70         71         72         73          74          75  \\\n",
       "11   24.625556  16.057778   6.462037  -4.530556    7.424074   -3.495000   \n",
       "23   98.559630  88.224259  77.445926  78.972222  101.566852  111.010000   \n",
       "35  -17.316111  10.305926   7.691481  28.383148   42.388889    4.655000   \n",
       "47   -1.071111 -12.052963 -23.698704  16.854815   39.316852   32.021667   \n",
       "59   -2.783148 -35.139630 -38.497593 -29.020370  -43.212778  -56.997593   \n",
       "71   73.583704  73.623704  63.570926  83.950926   89.534444   95.534259   \n",
       "83   15.360741  25.779630  45.577593  37.615556   43.033519    9.422593   \n",
       "95   11.482407  26.283519  34.252778  28.106111   15.113148   15.258333   \n",
       "107  51.170185  46.883519  43.200926  37.489815   27.415926   42.401852   \n",
       "119  58.110000  47.391481  22.541296  25.939630   36.347963   27.633519   \n",
       "131  18.687407   7.838704  13.143333  -9.673148    1.416667    1.921852   \n",
       "143  46.548704  25.388333  22.136481   7.292593    7.360556   -5.084444   \n",
       "\n",
       "            76         77  \n",
       "11   19.622778  20.024074  \n",
       "23   86.461667  75.451852  \n",
       "35   16.852593  -0.552037  \n",
       "47   49.406111  75.030926  \n",
       "59  -55.122222 -46.978704  \n",
       "71   67.605926  73.748519  \n",
       "83  -22.328704 -46.665185  \n",
       "95   -4.578333  13.512037  \n",
       "107  40.809074  25.513148  \n",
       "119  22.660185  13.665926  \n",
       "131  10.612037  12.647407  \n",
       "143  -2.462963 -10.092778  \n",
       "\n",
       "[12 rows x 81 columns]"
      ]
     },
     "execution_count": 66,
     "metadata": {},
     "output_type": "execute_result"
    }
   ],
   "source": [
    "Visual2_mean.head(12)"
   ]
  },
  {
   "cell_type": "markdown",
   "metadata": {},
   "source": [
    "#### NEXT STEPS:"
   ]
  },
  {
   "cell_type": "code",
   "execution_count": null,
   "metadata": {},
   "outputs": [],
   "source": [
    "# TO DO:\n",
    "# NORMALIZING DATA - It is very important to figure out what is meant by this and how to execute it.\n",
    "# NORMALIZING DATA - This might probably need to be done before creating contrasts or anything.\n",
    "# WITHIN-NETWORK CLASSIFICATION - Doing the classification within each network + Regularization?\n",
    "# CROSS-VALIDATION - Are we 'manually' splitting the data into train/test or is the function doing that for us?\n",
    "# REGULARIZATION - L2 applied everywhere"
   ]
  },
  {
   "cell_type": "code",
   "execution_count": 142,
   "metadata": {},
   "outputs": [],
   "source": [
    "# sklearn imports\n",
    "from sklearn.model_selection import train_test_split\n",
    "from sklearn.model_selection import cross_val_score\n",
    "from sklearn.model_selection import RepeatedStratifiedKFold\n",
    "from sklearn.linear_model import LogisticRegression"
   ]
  },
  {
   "cell_type": "markdown",
   "metadata": {},
   "source": [
    "#### Note:\n",
    "Fitting the GLM"
   ]
  },
  {
   "cell_type": "code",
   "execution_count": 230,
   "metadata": {},
   "outputs": [],
   "source": [
    "# Define the model - Same for all networks\n",
    "# Dimensionality:\n",
    "# 1) ROI-level\n",
    "# 2) Average network activity\n",
    "model = LogisticRegression(multi_class = 'multinomial', max_iter = 10000, solver='lbfgs', penalty='l2', C=1)\n",
    "\n",
    "# Define the model evaluation procedure - Same for all networks\n",
    "cv = RepeatedStratifiedKFold(n_splits=10, n_repeats=3, random_state=1)"
   ]
  },
  {
   "cell_type": "markdown",
   "metadata": {},
   "source": [
    "#### Note: \n",
    "\n",
    "Network-by-network analysis (with ROI-level activity)"
   ]
  },
  {
   "cell_type": "code",
   "execution_count": null,
   "metadata": {},
   "outputs": [],
   "source": [
    "# Evaluate the model and collect the scores - Visual 1\n",
    "n_scores_V1_ROI = cross_val_score(model, Visual1.iloc[:, 4:82], Visual1.iloc[:, 2], scoring='accuracy', cv=cv, n_jobs=-1)\n",
    "\n",
    "# Report the model performance (M = 0.480, SD = 0.018)\n",
    "print('Mean Accuracy: %.3f (%.3f)' % (np.mean(n_scores_V1_ROI), np.std(n_scores_V1_ROI)))"
   ]
  },
  {
   "cell_type": "code",
   "execution_count": null,
   "metadata": {},
   "outputs": [],
   "source": [
    "# Evaluate the model and collect the scores - Visual 2\n",
    "n_scores_V2_ROI = cross_val_score(model, Visual2.iloc[:, 4:82], Visual2.iloc[:, 2], scoring='accuracy', cv=cv, n_jobs=-1)\n",
    "\n",
    "# Report the model performance (M = 0.526, SD = 0.005)\n",
    "print('Mean Accuracy: %.3f (%.3f)' % (np.mean(n_scores_V2_ROI), np.std(n_scores_V2_ROI)))"
   ]
  },
  {
   "cell_type": "code",
   "execution_count": null,
   "metadata": {},
   "outputs": [],
   "source": [
    "# Evaluate the model and collect the scores - Somatomotor\n",
    "n_scores_SM_ROI = cross_val_score(model, Somatomotor.iloc[:, 4:82], Somatomotor.iloc[:, 2], scoring='accuracy', cv=cv, n_jobs=-1)\n",
    "\n",
    "# Report the model performance (M = 0.404, SD = 0.007)\n",
    "print('Mean Accuracy: %.3f (%.3f)' % (np.mean(n_scores_SM_ROI), np.std(n_scores_SM_ROI)))"
   ]
  },
  {
   "cell_type": "code",
   "execution_count": null,
   "metadata": {},
   "outputs": [],
   "source": [
    "# Evaluate the model and collect the scores - Cingulo-Oper\n",
    "n_scores_CO_ROI = cross_val_score(model, Cingulo_Oper.iloc[:, 4:82], Cingulo_Oper.iloc[:, 2], scoring='accuracy', cv=cv, n_jobs=-1)\n",
    "\n",
    "# Report the model performance (M = 0.412, SD = 0.005)\n",
    "print('Mean Accuracy: %.3f (%.3f)' % (np.mean(n_scores_CO_ROI), np.std(n_scores_CO_ROI)))"
   ]
  },
  {
   "cell_type": "code",
   "execution_count": null,
   "metadata": {},
   "outputs": [],
   "source": [
    "# Evaluate the model and collect the scores - Language\n",
    "n_scores_LA_ROI = cross_val_score(model, Language.iloc[:, 4:82], Language.iloc[:, 2], scoring='accuracy', cv=cv, n_jobs=-1)\n",
    "\n",
    "# Report the model performance (M = 0.51, SD = 0.008)\n",
    "print('Mean Accuracy: %.3f (%.3f)' % (np.mean(n_scores_LA_ROI), np.std(n_scores_LA_ROI)))"
   ]
  },
  {
   "cell_type": "code",
   "execution_count": null,
   "metadata": {},
   "outputs": [],
   "source": [
    "# Evaluate the model and collect the scores - Default\n",
    "n_scores_DE_ROI = cross_val_score(model, Default.iloc[:, 4:82], Default.iloc[:, 2], scoring='accuracy', cv=cv, n_jobs=-1)\n",
    "\n",
    "# Report the model performance (M = 0.424, SD = 0.009)\n",
    "print('Mean Accuracy: %.3f (%.3f)' % (np.mean(n_scores_DE_ROI), np.std(n_scores_DE_ROI)))"
   ]
  },
  {
   "cell_type": "code",
   "execution_count": null,
   "metadata": {},
   "outputs": [],
   "source": [
    "# Evaluate the model and collect the scores - Frontopariet\n",
    "n_scores_FP_ROI = cross_val_score(model, Frontopariet.iloc[:, 4:82], Frontopariet.iloc[:, 2], scoring='accuracy', cv=cv, n_jobs=-1)\n",
    "\n",
    "# Report the model performance (M = 0.468, SD = 0.008)\n",
    "print('Mean Accuracy: %.3f (%.3f)' % (np.mean(n_scores_FP_ROI), np.std(n_scores_FP_ROI)))"
   ]
  },
  {
   "cell_type": "code",
   "execution_count": null,
   "metadata": {},
   "outputs": [],
   "source": [
    "# Evaluate the model and collect the scores - Auditory\n",
    "n_scores_AU_ROI = cross_val_score(model, Auditory.iloc[:, 4:82], Auditory.iloc[:, 2], scoring='accuracy', cv=cv, n_jobs=-1)\n",
    "\n",
    "# Report the model performance (M = 0.459, SD = 0.010)\n",
    "print('Mean Accuracy: %.3f (%.3f)' % (np.mean(n_scores_AU_ROI), np.std(n_scores_AU_ROI)))"
   ]
  },
  {
   "cell_type": "code",
   "execution_count": null,
   "metadata": {},
   "outputs": [],
   "source": [
    "# Evaluate the model and collect the scores - Dorsal-atten\n",
    "n_scores_DA_ROI = cross_val_score(model, Dorsal_atten.iloc[:, 4:82], Dorsal_atten.iloc[:, 2], scoring='accuracy', cv=cv, n_jobs=-1)\n",
    "\n",
    "# Report the model performance (M = 0.414, SD = 0.016)\n",
    "print('Mean Accuracy: %.3f (%.3f)' % (np.mean(n_scores_DA_ROI), np.std(n_scores_DA_ROI)))"
   ]
  },
  {
   "cell_type": "code",
   "execution_count": null,
   "metadata": {},
   "outputs": [],
   "source": [
    "# Evaluate the model and collect the scores - Posterior-Mu\n",
    "n_scores_PM_ROI = cross_val_score(model, Posterior_Mu.iloc[:, 4:82], Posterior_Mu.iloc[:, 2], scoring='accuracy', cv=cv, n_jobs=-1)\n",
    "\n",
    "# Report the model performance (M = 0.397, SD = 0.004)\n",
    "print('Mean Accuracy: %.3f (%.3f)' % (np.mean(n_scores_PM_ROI), np.std(n_scores_PM_ROI)))"
   ]
  },
  {
   "cell_type": "code",
   "execution_count": null,
   "metadata": {},
   "outputs": [],
   "source": [
    "# Evaluate the model and collect the scores - Orbito-Affec\n",
    "n_scores_OA_ROI = cross_val_score(model, Orbito_Affec.iloc[:, 4:82], Orbito_Affec.iloc[:, 2], scoring='accuracy', cv=cv, n_jobs=-1)\n",
    "\n",
    "# Report the model performance (M = 0.329, SD = 0.016)\n",
    "print('Mean Accuracy: %.3f (%.3f)' % (np.mean(n_scores_OA_ROI), np.std(n_scores_OA_ROI)))"
   ]
  },
  {
   "cell_type": "code",
   "execution_count": null,
   "metadata": {},
   "outputs": [],
   "source": [
    "# Evaluate the model and collect the scores - Ventral-Mult\n",
    "n_scores_VM_ROI = cross_val_score(model, Ventral_Mult.iloc[:, 4:82], Ventral_Mult.iloc[:, 2], scoring='accuracy', cv=cv, n_jobs=-1)\n",
    "\n",
    "# Report the model performance (M = 0.423, SD = 0.018)\n",
    "print('Mean Accuracy: %.3f (%.3f)' % (np.mean(n_scores_VM_ROI), np.std(n_scores_VM_ROI)))"
   ]
  },
  {
   "cell_type": "markdown",
   "metadata": {},
   "source": [
    "#### Note: \n",
    "\n",
    "Network-by-network analysis (with mean network-level activity)"
   ]
  },
  {
   "cell_type": "code",
   "execution_count": 69,
   "metadata": {},
   "outputs": [
    {
     "name": "stdout",
     "output_type": "stream",
     "text": [
      "Mean Accuracy: 0.507 (0.034)\n"
     ]
    }
   ],
   "source": [
    "# Evaluate the model and collect the scores - Visual 1\n",
    "n_scores_V1 = cross_val_score(model, Visual1_mean.iloc[:, 3:81], Visual1_mean.iloc[:, 1], scoring='accuracy', cv=cv, n_jobs=-1)\n",
    "\n",
    "# Report the model performance (M = 0.51, SD = 0.034)\n",
    "print('Mean Accuracy: %.3f (%.3f)' % (np.mean(n_scores_V1), np.std(n_scores_V1)))"
   ]
  },
  {
   "cell_type": "markdown",
   "metadata": {},
   "source": [
    "#### FOCUS ON VISUAL 2:"
   ]
  },
  {
   "cell_type": "code",
   "execution_count": 231,
   "metadata": {},
   "outputs": [
    {
     "name": "stdout",
     "output_type": "stream",
     "text": [
      "Mean Accuracy: 0.653 (0.040)\n"
     ]
    }
   ],
   "source": [
    "# Evaluate the model and collect the scores - Visual 2\n",
    "n_scores_V2 = cross_val_score(model, Visual2_mean.iloc[:, 3:81], Visual2_mean.iloc[:, 1], scoring='accuracy', cv=cv, n_jobs=-1)\n",
    "\n",
    "# Report the model performance (M = 0.653, SD = 0.040)\n",
    "print('Mean Accuracy: %.3f (%.3f)' % (np.mean(n_scores_V2), np.std(n_scores_V2)))"
   ]
  },
  {
   "cell_type": "code",
   "execution_count": 232,
   "metadata": {},
   "outputs": [
    {
     "data": {
      "text/plain": [
       "(4,)"
      ]
     },
     "execution_count": 232,
     "metadata": {},
     "output_type": "execute_result"
    }
   ],
   "source": [
    "# Visual 2\n",
    "model.fit(Visual2_mean.iloc[:, 3:81], Visual2_mean.iloc[:, 1])\n",
    "model.coef_.shape #(4,78) - 4 classes, 78 features\n",
    "model.intercept_.shape #4"
   ]
  },
  {
   "cell_type": "code",
   "execution_count": 233,
   "metadata": {},
   "outputs": [],
   "source": [
    "# Visual 2\n",
    "# Split into the training and testing set\n",
    "X_train,X_test,y_train,y_test=train_test_split(Visual2_mean.iloc[:, 3:81], Visual2_mean.iloc[:, 1], test_size=0.25, random_state=0)"
   ]
  },
  {
   "cell_type": "code",
   "execution_count": 234,
   "metadata": {},
   "outputs": [],
   "source": [
    "# Instantiate the model \n",
    "logreg = LogisticRegression(multi_class = 'multinomial', max_iter = 10000, solver='lbfgs', penalty='l2', C=1)\n",
    "\n",
    "# Fit the model with data\n",
    "logreg.fit(X_train,y_train)\n",
    "\n",
    "# Predict \n",
    "y_pred = logreg.predict(X_test)"
   ]
  },
  {
   "cell_type": "code",
   "execution_count": null,
   "metadata": {},
   "outputs": [],
   "source": [
    "lb = preprocessing.LabelBinarizer()\n",
    "lb.fit(y_test)\n",
    "\n",
    "y_test_lb = lb.transform(y_test)\n",
    "y_pred_lb = lb.transform(y_pred)\n",
    "\n",
    "roc_auc_score(y_test_lb, y_pred_lb, average='macro')"
   ]
  },
  {
   "cell_type": "code",
   "execution_count": 236,
   "metadata": {},
   "outputs": [
    {
     "data": {
      "text/html": [
       "<div>\n",
       "<style scoped>\n",
       "    .dataframe tbody tr th:only-of-type {\n",
       "        vertical-align: middle;\n",
       "    }\n",
       "\n",
       "    .dataframe tbody tr th {\n",
       "        vertical-align: top;\n",
       "    }\n",
       "\n",
       "    .dataframe thead th {\n",
       "        text-align: right;\n",
       "    }\n",
       "</style>\n",
       "<table border=\"1\" class=\"dataframe\">\n",
       "  <thead>\n",
       "    <tr style=\"text-align: right;\">\n",
       "      <th></th>\n",
       "      <th>Expected Output</th>\n",
       "      <th>Predicted Output</th>\n",
       "    </tr>\n",
       "  </thead>\n",
       "  <tbody>\n",
       "    <tr>\n",
       "      <th>10067</th>\n",
       "      <td>places</td>\n",
       "      <td>places</td>\n",
       "    </tr>\n",
       "    <tr>\n",
       "      <th>7595</th>\n",
       "      <td>body</td>\n",
       "      <td>body</td>\n",
       "    </tr>\n",
       "    <tr>\n",
       "      <th>11975</th>\n",
       "      <td>faces</td>\n",
       "      <td>places</td>\n",
       "    </tr>\n",
       "    <tr>\n",
       "      <th>10967</th>\n",
       "      <td>faces</td>\n",
       "      <td>tools</td>\n",
       "    </tr>\n",
       "    <tr>\n",
       "      <th>9551</th>\n",
       "      <td>tools</td>\n",
       "      <td>tools</td>\n",
       "    </tr>\n",
       "    <tr>\n",
       "      <th>6983</th>\n",
       "      <td>faces</td>\n",
       "      <td>tools</td>\n",
       "    </tr>\n",
       "    <tr>\n",
       "      <th>7991</th>\n",
       "      <td>faces</td>\n",
       "      <td>faces</td>\n",
       "    </tr>\n",
       "    <tr>\n",
       "      <th>2903</th>\n",
       "      <td>faces</td>\n",
       "      <td>faces</td>\n",
       "    </tr>\n",
       "    <tr>\n",
       "      <th>6695</th>\n",
       "      <td>faces</td>\n",
       "      <td>faces</td>\n",
       "    </tr>\n",
       "    <tr>\n",
       "      <th>15587</th>\n",
       "      <td>places</td>\n",
       "      <td>places</td>\n",
       "    </tr>\n",
       "    <tr>\n",
       "      <th>11123</th>\n",
       "      <td>places</td>\n",
       "      <td>places</td>\n",
       "    </tr>\n",
       "    <tr>\n",
       "      <th>12743</th>\n",
       "      <td>faces</td>\n",
       "      <td>faces</td>\n",
       "    </tr>\n",
       "    <tr>\n",
       "      <th>6071</th>\n",
       "      <td>faces</td>\n",
       "      <td>faces</td>\n",
       "    </tr>\n",
       "    <tr>\n",
       "      <th>6839</th>\n",
       "      <td>faces</td>\n",
       "      <td>faces</td>\n",
       "    </tr>\n",
       "    <tr>\n",
       "      <th>11171</th>\n",
       "      <td>places</td>\n",
       "      <td>places</td>\n",
       "    </tr>\n",
       "    <tr>\n",
       "      <th>12851</th>\n",
       "      <td>places</td>\n",
       "      <td>tools</td>\n",
       "    </tr>\n",
       "    <tr>\n",
       "      <th>3875</th>\n",
       "      <td>places</td>\n",
       "      <td>places</td>\n",
       "    </tr>\n",
       "    <tr>\n",
       "      <th>3599</th>\n",
       "      <td>tools</td>\n",
       "      <td>tools</td>\n",
       "    </tr>\n",
       "    <tr>\n",
       "      <th>5267</th>\n",
       "      <td>places</td>\n",
       "      <td>places</td>\n",
       "    </tr>\n",
       "    <tr>\n",
       "      <th>14435</th>\n",
       "      <td>places</td>\n",
       "      <td>places</td>\n",
       "    </tr>\n",
       "  </tbody>\n",
       "</table>\n",
       "</div>"
      ],
      "text/plain": [
       "      Expected Output Predicted Output\n",
       "10067          places           places\n",
       "7595             body             body\n",
       "11975           faces           places\n",
       "10967           faces            tools\n",
       "9551            tools            tools\n",
       "6983            faces            tools\n",
       "7991            faces            faces\n",
       "2903            faces            faces\n",
       "6695            faces            faces\n",
       "15587          places           places\n",
       "11123          places           places\n",
       "12743           faces            faces\n",
       "6071            faces            faces\n",
       "6839            faces            faces\n",
       "11171          places           places\n",
       "12851          places            tools\n",
       "3875           places           places\n",
       "3599            tools            tools\n",
       "5267           places           places\n",
       "14435          places           places"
      ]
     },
     "execution_count": 236,
     "metadata": {},
     "output_type": "execute_result"
    }
   ],
   "source": [
    "# Visually compare output\n",
    "output = pd.DataFrame()\n",
    "output['Expected Output'] = y_test\n",
    "output['Predicted Output'] = y_pred\n",
    "output.head(20)"
   ]
  },
  {
   "cell_type": "code",
   "execution_count": 237,
   "metadata": {},
   "outputs": [],
   "source": [
    "from sklearn import metrics \n",
    "\n",
    "cnf_matrix = metrics.confusion_matrix(y_test, y_pred)"
   ]
  },
  {
   "cell_type": "code",
   "execution_count": 238,
   "metadata": {},
   "outputs": [
    {
     "data": {
      "text/plain": [
       "Text(0.5, 257.44, 'Predicted label')"
      ]
     },
     "execution_count": 238,
     "metadata": {},
     "output_type": "execute_result"
    },
    {
     "data": {
      "image/png": "[encoded data removed]",
      "text/plain": [
       "<Figure size 432x288 with 2 Axes>"
      ]
     },
     "metadata": {
      "needs_background": "light"
     },
     "output_type": "display_data"
    }
   ],
   "source": [
    "class_names=['Faces', 'Tools', 'Places', 'Body parts'] # Name  of classes\n",
    "fig, ax = plt.subplots()\n",
    "tick_marks = np.arange(len(class_names))\n",
    "plt.xticks(tick_marks, class_names)\n",
    "plt.yticks(tick_marks, class_names)\n",
    "\n",
    "# Create heatmap\n",
    "sns.heatmap(pd.DataFrame(cnf_matrix), annot=True, cmap=\"YlGnBu\" ,fmt='g')\n",
    "ax.xaxis.set_label_position(\"top\")\n",
    "plt.tight_layout()\n",
    "plt.title('Confusion matrix', y=1.1)\n",
    "plt.ylabel('Actual label')\n",
    "plt.xlabel('Predicted label')"
   ]
  },
  {
   "cell_type": "code",
   "execution_count": null,
   "metadata": {},
   "outputs": [],
   "source": [
    "from sklearn.metrics import roc_curve, auc, roc_auc_score\n",
    "\n",
    "def roc_auc_score_multiclass(actual_class, pred_class, average = \"macro\"):\n",
    "\n",
    "  # Creating a set of all the unique classes using the actual class list\n",
    "  unique_class = set(actual_class)\n",
    "  roc_auc_dict = {}\n",
    "  for per_class in unique_class:\n",
    "    # Creating a list of all the classes except the current class \n",
    "    other_class = [x for x in unique_class if x != per_class]\n",
    "\n",
    "    # Narking the current class as 1 and all other classes as 0\n",
    "    new_actual_class = [0 if x in other_class else 1 for x in actual_class]\n",
    "    new_pred_class = [0 if x in other_class else 1 for x in pred_class]\n",
    "\n",
    "    # Using the sklearn metrics method to calculate the roc_auc_score\n",
    "    roc_auc = roc_auc_score(new_actual_class, new_pred_class, average = average)\n",
    "    roc_auc_dict[per_class] = roc_auc\n",
    "\n",
    "  return roc_auc_dict\n",
    "\n",
    "print(\"\\nLogistic Regression\")\n",
    "\n",
    "# Assuming your already have a list of actual_class and predicted_class from the logistic regression classifier\n",
    "lr_roc_auc_multiclass = roc_auc_score_multiclass(y_test, y_pred)\n",
    "print(lr_roc_auc_multiclass) #0.25 would be worthless classifier, 1 is perfect"
   ]
  },
  {
   "cell_type": "code",
   "execution_count": null,
   "metadata": {},
   "outputs": [],
   "source": [
    "print(\"Accuracy:\",metrics.accuracy_score(y_train, y_pred_train))\n",
    "print(\"Accuracy:\",metrics.accuracy_score(y_test, y_pred))"
   ]
  },
  {
   "cell_type": "code",
   "execution_count": 74,
   "metadata": {},
   "outputs": [
    {
     "name": "stdout",
     "output_type": "stream",
     "text": [
      "Mean Accuracy: 0.437 (0.041)\n"
     ]
    }
   ],
   "source": [
    "# Evaluate the model and collect the scores - Somatomotor\n",
    "n_scores_SM = cross_val_score(model, Somatomotor_mean.iloc[:, 3:81], Somatomotor_mean.iloc[:, 1], scoring='accuracy', cv=cv, n_jobs=-1)\n",
    "\n",
    "# Eeport the model performance (M = 0.44, SD = 0.041)\n",
    "print('Mean Accuracy: %.3f (%.3f)' % (np.mean(n_scores_SM), np.std(n_scores_SM)))"
   ]
  },
  {
   "cell_type": "code",
   "execution_count": 75,
   "metadata": {},
   "outputs": [
    {
     "name": "stdout",
     "output_type": "stream",
     "text": [
      "Mean Accuracy: 0.474 (0.039)\n"
     ]
    }
   ],
   "source": [
    "# Evaluate the model and collect the scores - Cingulo-Oper\n",
    "n_scores_CO = cross_val_score(model, Cingulo_Oper_mean.iloc[:, 3:81], Cingulo_Oper_mean.iloc[:, 1], scoring='accuracy', cv=cv, n_jobs=-1)\n",
    "\n",
    "# Report the model performance (M = 0.47, SD = 0.039)\n",
    "print('Mean Accuracy: %.3f (%.3f)' % (np.mean(n_scores_CO), np.std(n_scores_CO))) "
   ]
  },
  {
   "cell_type": "code",
   "execution_count": 76,
   "metadata": {},
   "outputs": [
    {
     "name": "stdout",
     "output_type": "stream",
     "text": [
      "Mean Accuracy: 0.605 (0.043)\n"
     ]
    }
   ],
   "source": [
    "# Evaluate the model and collect the scores - Language\n",
    "n_scores_LA = cross_val_score(model, Language_mean.iloc[:, 3:81], Language_mean.iloc[:, 1], scoring='accuracy', cv=cv, n_jobs=-1)\n",
    "\n",
    "# Report the model performance (M = 0.61, SD = 0.043)\n",
    "print('Mean Accuracy: %.3f (%.3f)' % (np.mean(n_scores_LA), np.std(n_scores_LA))) "
   ]
  },
  {
   "cell_type": "code",
   "execution_count": 77,
   "metadata": {},
   "outputs": [
    {
     "name": "stdout",
     "output_type": "stream",
     "text": [
      "Mean Accuracy: 0.492 (0.039)\n"
     ]
    }
   ],
   "source": [
    "# Evaluate the model and collect the scores - Default\n",
    "n_scores_DE = cross_val_score(model, Default_mean.iloc[:, 3:81], Default_mean.iloc[:, 1], scoring='accuracy', cv=cv, n_jobs=-1)\n",
    "\n",
    "# Report the model performance (M = 0.49, SD = 0.039)\n",
    "print('Mean Accuracy: %.3f (%.3f)' % (np.mean(n_scores_DE), np.std(n_scores_DE)))"
   ]
  },
  {
   "cell_type": "code",
   "execution_count": 78,
   "metadata": {},
   "outputs": [
    {
     "name": "stdout",
     "output_type": "stream",
     "text": [
      "Mean Accuracy: 0.560 (0.033)\n"
     ]
    }
   ],
   "source": [
    "# Evaluate the model and collect the scores - Frontopariet\n",
    "n_scores_FP = cross_val_score(model, Frontopariet_mean.iloc[:, 3:81], Frontopariet_mean.iloc[:, 1], scoring='accuracy', cv=cv, n_jobs=-1)\n",
    "\n",
    "# Report the model performance (M = 0.56, SD = 0.033)\n",
    "print('Mean Accuracy: %.3f (%.3f)' % (np.mean(n_scores_FP), np.std(n_scores_FP)))"
   ]
  },
  {
   "cell_type": "code",
   "execution_count": 79,
   "metadata": {},
   "outputs": [
    {
     "name": "stdout",
     "output_type": "stream",
     "text": [
      "Mean Accuracy: 0.502 (0.036)\n"
     ]
    }
   ],
   "source": [
    "# Evaluate the model and collect the scores - Auditory\n",
    "n_scores_AU = cross_val_score(model, Auditory_mean.iloc[:, 3:81], Auditory_mean.iloc[:, 1], scoring='accuracy', cv=cv, n_jobs=-1)\n",
    "\n",
    "# Eeport the model performance (M = 0.50, SD = 0.036)\n",
    "print('Mean Accuracy: %.3f (%.3f)' % (np.mean(n_scores_AU), np.std(n_scores_AU)))"
   ]
  },
  {
   "cell_type": "code",
   "execution_count": 80,
   "metadata": {},
   "outputs": [
    {
     "name": "stdout",
     "output_type": "stream",
     "text": [
      "Mean Accuracy: 0.448 (0.038)\n"
     ]
    }
   ],
   "source": [
    "# Evaluate the model and collect the scores - Dorsal-atten\n",
    "n_scores_DA = cross_val_score(model, Dorsal_atten_mean.iloc[:, 3:81], Dorsal_atten_mean.iloc[:, 1], scoring='accuracy', cv=cv, n_jobs=-1)\n",
    "\n",
    "# Report the model performance (M = 0.45, SD = 0.038)\n",
    "print('Mean Accuracy: %.3f (%.3f)' % (np.mean(n_scores_DA), np.std(n_scores_DA))) "
   ]
  },
  {
   "cell_type": "code",
   "execution_count": 81,
   "metadata": {},
   "outputs": [
    {
     "name": "stdout",
     "output_type": "stream",
     "text": [
      "Mean Accuracy: 0.459 (0.041)\n"
     ]
    }
   ],
   "source": [
    "# Evaluate the model and collect the scores - Posterior-Mu\n",
    "n_scores_PM = cross_val_score(model, Posterior_Mu_mean.iloc[:, 3:81], Posterior_Mu_mean.iloc[:, 1], scoring='accuracy', cv=cv, n_jobs=-1)\n",
    "\n",
    "# Report the model performance (M = 0.46, SD = 0.041)\n",
    "print('Mean Accuracy: %.3f (%.3f)' % (np.mean(n_scores_PM), np.std(n_scores_PM)))"
   ]
  },
  {
   "cell_type": "code",
   "execution_count": 82,
   "metadata": {},
   "outputs": [
    {
     "name": "stdout",
     "output_type": "stream",
     "text": [
      "Mean Accuracy: 0.365 (0.035)\n"
     ]
    }
   ],
   "source": [
    "# Evaluate the model and collect the scores - Orbito-Affec\n",
    "n_scores_OA = cross_val_score(model, Orbito_Affec_mean.iloc[:, 3:81], Orbito_Affec_mean.iloc[:, 1], scoring='accuracy', cv=cv, n_jobs=-1)\n",
    "\n",
    "# Report the model performance (M = 0.37, SD = 0.035)\n",
    "print('Mean Accuracy: %.3f (%.3f)' % (np.mean(n_scores_OA), np.std(n_scores_OA)))"
   ]
  },
  {
   "cell_type": "code",
   "execution_count": 83,
   "metadata": {},
   "outputs": [
    {
     "name": "stdout",
     "output_type": "stream",
     "text": [
      "Mean Accuracy: 0.489 (0.044)\n"
     ]
    }
   ],
   "source": [
    "# Evaluate the model and collect the scores - Ventral-Mult\n",
    "n_scores_VM = cross_val_score(model, Ventral_Mult_mean.iloc[:, 3:81], Ventral_Mult_mean.iloc[:, 1], scoring='accuracy', cv=cv, n_jobs=-1)\n",
    "\n",
    "# Report the model performance (M = 0.49, SD = 0.044)\n",
    "print('Mean Accuracy: %.3f (%.3f)' % (np.mean(n_scores_VM), np.std(n_scores_VM))) "
   ]
  },
  {
   "cell_type": "markdown",
   "metadata": {},
   "source": [
    "#### Note: \n",
    "\n",
    "Trying out the 2-back task."
   ]
  },
  {
   "cell_type": "code",
   "execution_count": null,
   "metadata": {},
   "outputs": [],
   "source": [
    "# Return indices to columns (2-back)\n",
    "X_2back_full_net.reset_index(level=0, inplace=True)\n",
    "X_2back_full_net.reset_index(level=0, inplace=True)\n",
    "X_2back_full_net.reset_index(level=0, inplace=True)"
   ]
  },
  {
   "cell_type": "code",
   "execution_count": null,
   "metadata": {},
   "outputs": [],
   "source": [
    "# Visual 2 - 2-back\n",
    "Visual2_2back = X_2back_full_net.loc[X_2back_full_net['Network'] == 'Visual2']"
   ]
  },
  {
   "cell_type": "code",
   "execution_count": null,
   "metadata": {},
   "outputs": [],
   "source": [
    "# Sanity check\n",
    "unique(Visual2_2back['Network'])"
   ]
  },
  {
   "cell_type": "code",
   "execution_count": null,
   "metadata": {},
   "outputs": [],
   "source": [
    "# 2-back task\n",
    "\n",
    "# Evaluate the model and collect the scores - Visual 2\n",
    "n_scores_V2_2back = cross_val_score(model, Visual2_2back.iloc[:, 3:81], Visual2_2back.iloc[:, 1], scoring='accuracy', cv=cv, n_jobs=-1)\n",
    "\n",
    "# Report the model performance \n",
    "print('Mean Accuracy: %.3f (%.3f)' % (np.mean(n_scores_V2_2back), np.std(n_scores_V2_2back)))"
   ]
  },
  {
   "cell_type": "code",
   "execution_count": null,
   "metadata": {},
   "outputs": [],
   "source": [
    "# See the entire accuracy array\n",
    "print(n_scores_V2_2back)"
   ]
  },
  {
   "cell_type": "markdown",
   "metadata": {},
   "source": [
    "#### Note:\n",
    "\n",
    "Normalization - Jelka\n",
    "\n",
    "Fourier transform - Alaleh"
   ]
  },
  {
   "cell_type": "code",
   "execution_count": null,
   "metadata": {},
   "outputs": [],
   "source": [
    "# Export the data to deal with it in R\n",
    "X_2back_full.to_csv(\"/Users/jelkastojanov/Downloads/Two_back_task_NMA.csv\")\n",
    "X_0back_full.to_csv(\"/Users/jelkastojanov/Downloads/Zero_back_task_NMA.csv\")"
   ]
  },
  {
   "cell_type": "code",
   "execution_count": null,
   "metadata": {},
   "outputs": [],
   "source": [
    "# Import the z-transformed data\n",
    "WM_0back_z = pd.read_csv(\"WM_0back_z.csv\")\n",
    "WM_2back_z = pd.read_csv(\"WM_2back_z.csv\")"
   ]
  },
  {
   "cell_type": "code",
   "execution_count": null,
   "metadata": {},
   "outputs": [],
   "source": [
    "WM_0back_z.head()"
   ]
  },
  {
   "cell_type": "code",
   "execution_count": null,
   "metadata": {},
   "outputs": [],
   "source": [
    "del WM_0back_z[\"Unnamed: 0\"]"
   ]
  },
  {
   "cell_type": "code",
   "execution_count": null,
   "metadata": {},
   "outputs": [],
   "source": [
    "WM_2back_z.head()"
   ]
  },
  {
   "cell_type": "code",
   "execution_count": null,
   "metadata": {},
   "outputs": [],
   "source": [
    "del WM_2back_z[\"Unnamed: 0\"]"
   ]
  },
  {
   "cell_type": "code",
   "execution_count": null,
   "metadata": {},
   "outputs": [],
   "source": [
    "WM_0back_z = WM_0back_z.set_index(['Subject_id', 'ROI', 'Network', 'Condition'])\n",
    "WM_2back_z = WM_2back_z.set_index(['Subject_id', 'ROI', 'Network', 'Condition'])"
   ]
  },
  {
   "cell_type": "markdown",
   "metadata": {},
   "source": [
    "#### ROI-LEVEL GLM CLASSIFICATION:"
   ]
  },
  {
   "cell_type": "code",
   "execution_count": null,
   "metadata": {},
   "outputs": [],
   "source": [
    "WM_2back_0back_contr_z = WM_2back_z - WM_0back_z"
   ]
  },
  {
   "cell_type": "code",
   "execution_count": null,
   "metadata": {},
   "outputs": [],
   "source": [
    "WM_2back_0back_contr_z.head()"
   ]
  },
  {
   "cell_type": "code",
   "execution_count": null,
   "metadata": {},
   "outputs": [],
   "source": [
    "WM_2back_0back_contr_z.reset_index(level=0, inplace=True)\n",
    "WM_2back_0back_contr_z.reset_index(level=0, inplace=True)\n",
    "WM_2back_0back_contr_z.reset_index(level=0, inplace=True)\n",
    "WM_2back_0back_contr_z.reset_index(level=0, inplace=True)"
   ]
  },
  {
   "cell_type": "code",
   "execution_count": null,
   "metadata": {},
   "outputs": [],
   "source": [
    "Visual1_z = WM_2back_0back_contr_z.loc[WM_2back_0back_contr_z['Network'] == 'Visual1']\n",
    "Visual2_z = WM_2back_0back_contr_z.loc[WM_2back_0back_contr_z['Network'] == 'Visual2']\n",
    "Somatomotor_z = WM_2back_0back_contr_z.loc[WM_2back_0back_contr_z['Network'] == 'Somatomotor']\n",
    "Cingulo_Oper_z = WM_2back_0back_contr_z.loc[WM_2back_0back_contr_z['Network'] == 'Cingulo-Oper']\n",
    "Language_z = WM_2back_0back_contr_z.loc[WM_2back_0back_contr_z['Network'] == 'Language']\n",
    "Default_z = WM_2back_0back_contr_z.loc[WM_2back_0back_contr_z['Network'] == 'Default']\n",
    "Frontopariet_z = WM_2back_0back_contr_z.loc[WM_2back_0back_contr_z['Network'] == 'Frontopariet']\n",
    "Auditory_z = WM_2back_0back_contr_z.loc[WM_2back_0back_contr_z['Network'] == 'Auditory']\n",
    "Dorsal_atten_z = WM_2back_0back_contr_z.loc[WM_2back_0back_contr_z['Network'] == 'Dorsal-atten']\n",
    "Posterior_Mu_z = WM_2back_0back_contr_z.loc[WM_2back_0back_contr_z['Network'] == 'Posterior-Mu']\n",
    "Orbito_Affec_z = WM_2back_0back_contr_z.loc[WM_2back_0back_contr_z['Network'] == 'Orbito-Affec']\n",
    "Ventral_Mult_z = WM_2back_0back_contr_z.loc[WM_2back_0back_contr_z['Network'] == 'Ventral-Mult']"
   ]
  },
  {
   "cell_type": "code",
   "execution_count": null,
   "metadata": {},
   "outputs": [],
   "source": [
    "# Evaluate the model and collect the scores - Visual 1\n",
    "n_scores_V1_ROI_z = cross_val_score(model, Visual1_z.iloc[:, 4:82], Visual1_z.iloc[:, 0], scoring='accuracy', cv=cv, n_jobs=-1)\n",
    "\n",
    "# Report the model performance (M = 0.486, SD = 0.018)\n",
    "print('Mean Accuracy: %.3f (%.3f)' % (np.mean(n_scores_V1_ROI_z), np.std(n_scores_V1_ROI_z)))"
   ]
  },
  {
   "cell_type": "code",
   "execution_count": null,
   "metadata": {},
   "outputs": [],
   "source": [
    "# Evaluate the model and collect the scores - Visual 2\n",
    "n_scores_V2_ROI_z = cross_val_score(model, Visual2_z.iloc[:, 4:82], Visual2_z.iloc[:, 0], scoring='accuracy', cv=cv, n_jobs=-1)\n",
    "\n",
    "# Report the model performance (M = 0.523, SD = 0.004)\n",
    "print('Mean Accuracy: %.3f (%.3f)' % (np.mean(n_scores_V2_ROI_z), np.std(n_scores_V2_ROI_z)))"
   ]
  },
  {
   "cell_type": "markdown",
   "metadata": {},
   "source": [
    "#### NETWORK-LEVEL (AVERAGE ACTIVITY) GLM CLASSIFICATION:"
   ]
  },
  {
   "cell_type": "code",
   "execution_count": null,
   "metadata": {},
   "outputs": [],
   "source": [
    "WM_0back_z_net = WM_0back_z.groupby(['Subject_id', 'Condition', 'Network']).mean()\n",
    "WM_2back_z_net = WM_2back_z.groupby(['Subject_id', 'Condition', 'Network']).mean()"
   ]
  },
  {
   "cell_type": "code",
   "execution_count": null,
   "metadata": {},
   "outputs": [],
   "source": [
    "WM_0back_z_net.head()"
   ]
  },
  {
   "cell_type": "code",
   "execution_count": null,
   "metadata": {},
   "outputs": [],
   "source": [
    "WM_2back_z_net.head()"
   ]
  },
  {
   "cell_type": "code",
   "execution_count": null,
   "metadata": {},
   "outputs": [],
   "source": [
    "WM_2back_0back_z_net_contr = WM_2back_z_net - WM_0back_z_net"
   ]
  },
  {
   "cell_type": "code",
   "execution_count": null,
   "metadata": {},
   "outputs": [],
   "source": [
    "WM_2back_0back_z_net_contr.head()"
   ]
  },
  {
   "cell_type": "code",
   "execution_count": null,
   "metadata": {},
   "outputs": [],
   "source": [
    "WM_2back_0back_z_net_contr.reset_index(level=0, inplace=True)\n",
    "WM_2back_0back_z_net_contr.reset_index(level=0, inplace=True)\n",
    "WM_2back_0back_z_net_contr.reset_index(level=0, inplace=True)"
   ]
  },
  {
   "cell_type": "code",
   "execution_count": null,
   "metadata": {},
   "outputs": [],
   "source": [
    "# Split networks\n",
    "Visual1_mean_z = WM_2back_0back_z_net_contr.loc[WM_2back_0back_z_net_contr['Network'] == 'Visual1']\n",
    "Visual2_mean_z = WM_2back_0back_z_net_contr.loc[WM_2back_0back_z_net_contr['Network'] == 'Visual2']\n",
    "Somatomotor_mean_z = WM_2back_0back_z_net_contr.loc[WM_2back_0back_z_net_contr['Network'] == 'Somatomotor']\n",
    "Cingulo_Oper_mean_z = WM_2back_0back_z_net_contr.loc[WM_2back_0back_z_net_contr['Network'] == 'Cingulo-Oper']\n",
    "Language_mean_z = WM_2back_0back_z_net_contr.loc[WM_2back_0back_z_net_contr['Network'] == 'Language']\n",
    "Default_mean_z = WM_2back_0back_z_net_contr.loc[WM_2back_0back_z_net_contr['Network'] == 'Default']\n",
    "Frontopariet_mean_z = WM_2back_0back_z_net_contr.loc[WM_2back_0back_z_net_contr['Network'] == 'Frontopariet']\n",
    "Auditory_mean_z = WM_2back_0back_z_net_contr.loc[WM_2back_0back_z_net_contr['Network'] == 'Auditory']\n",
    "Dorsal_atten_mean_z = WM_2back_0back_z_net_contr.loc[WM_2back_0back_z_net_contr['Network'] == 'Dorsal-atten']\n",
    "Posterior_Mu_mean_z = WM_2back_0back_z_net_contr.loc[WM_2back_0back_z_net_contr['Network'] == 'Posterior-Mu']\n",
    "Orbito_Affec_mean_z = WM_2back_0back_z_net_contr.loc[WM_2back_0back_z_net_contr['Network'] == 'Orbito-Affec']\n",
    "Ventral_Mult_mean_z = WM_2back_0back_z_net_contr.loc[WM_2back_0back_z_net_contr['Network'] == 'Ventral-Mult']"
   ]
  },
  {
   "cell_type": "code",
   "execution_count": null,
   "metadata": {},
   "outputs": [],
   "source": [
    "# Sanity check\n",
    "Visual1_mean_z.head()"
   ]
  },
  {
   "cell_type": "code",
   "execution_count": null,
   "metadata": {},
   "outputs": [],
   "source": [
    "# Evaluate the model and collect the scores - Visual 1\n",
    "n_scores_V1_z = cross_val_score(model, Visual1_mean_z.iloc[:, 3:82], Visual1_mean_z.iloc[:, 1], scoring='accuracy', cv=cv, n_jobs=-1)\n",
    "\n",
    "# Report the model performance (M = 0.540, SD = 0.0032)\n",
    "print('Mean Accuracy: %.3f (%.3f)' % (np.mean(n_scores_V1_z), np.std(n_scores_V1_z)))"
   ]
  },
  {
   "cell_type": "code",
   "execution_count": null,
   "metadata": {},
   "outputs": [],
   "source": [
    "# Evaluate the model and collect the scores - Visual 2\n",
    "n_scores_V2_z = cross_val_score(model, Visual2_mean_z.iloc[:, 3:82], Visual2_mean_z.iloc[:, 1], scoring='accuracy', cv=cv, n_jobs=-1)\n",
    "\n",
    "# Report the model performance (M = 0.650, SD = 0.045)\n",
    "print('Mean Accuracy: %.3f (%.3f)' % (np.mean(n_scores_V2_z), np.std(n_scores_V2_z)))"
   ]
  },
  {
   "cell_type": "markdown",
   "metadata": {},
   "source": [
    "#### Keep all accuracy np.arrays in one place\n",
    "n_scores_V1\n",
    "\n",
    "n_scores_V2\n",
    "\n",
    "n_scores_SM \n",
    "\n",
    "n_scores_CO \n",
    "\n",
    "n_scores_LA \n",
    "\n",
    "n_scores_DE\n",
    "\n",
    "n_scores_FP \n",
    "\n",
    "n_scores_AU \n",
    "\n",
    "n_scores_DA \n",
    "\n",
    "n_scores_PM \n",
    "\n",
    "n_scores_OA \n",
    "\n",
    "n_scores_VM"
   ]
  },
  {
   "cell_type": "code",
   "execution_count": 106,
   "metadata": {},
   "outputs": [],
   "source": [
    "# Merge accuracy outputs for all networks\n",
    "Visual1_acc = pd.DataFrame(n_scores_V1, columns = ['Primary visual cortex'])\n",
    "Visual2_acc = pd.DataFrame(n_scores_V2, columns = ['Secondary visual cortex'])\n",
    "SM_acc = pd.DataFrame(n_scores_SM, columns = ['Somatomotor network'])\n",
    "CO_acc = pd.DataFrame(n_scores_CO, columns = ['Cingulo-opercular network'])\n",
    "LA_acc = pd.DataFrame(n_scores_LA, columns = ['Language network'])\n",
    "DE_acc = pd.DataFrame(n_scores_DE, columns = ['Default network'])\n",
    "FP_acc = pd.DataFrame(n_scores_FP, columns = ['Frontoparietal network'])\n",
    "AU_acc = pd.DataFrame(n_scores_AU, columns = ['Auditory network'])\n",
    "DA_acc = pd.DataFrame(n_scores_DA, columns = ['Dorsal attention network'])\n",
    "PM_acc = pd.DataFrame(n_scores_PM, columns = ['Posterior medial network'])\n",
    "OA_acc = pd.DataFrame(n_scores_OA, columns = ['Orbito-affective network'])\n",
    "VM_acc = pd.DataFrame(n_scores_VM, columns = ['Ventral attention network'])\n",
    "\n",
    "Network_GLMAccuracy = pd.concat([Visual1_acc, Visual2_acc, SM_acc, CO_acc, LA_acc, DE_acc, FP_acc, AU_acc, DA_acc, PM_acc, OA_acc, VM_acc], axis=1)\n",
    "\n",
    "# Export to make shiny plots in R\n",
    "Network_GLMAccuracy.to_csv('Network_GLMAccuracy.csv')"
   ]
  },
  {
   "cell_type": "markdown",
   "metadata": {},
   "source": [
    "#### SUPPORT VECTOR MACHINE"
   ]
  },
  {
   "cell_type": "code",
   "execution_count": 143,
   "metadata": {},
   "outputs": [],
   "source": [
    "# SVM classifier\n",
    "from sklearn.svm import SVC\n",
    "from sklearn.model_selection import train_test_split\n",
    "from sklearn import metrics\n",
    "from sklearn.model_selection import GridSearchCV"
   ]
  },
  {
   "cell_type": "code",
   "execution_count": 144,
   "metadata": {},
   "outputs": [],
   "source": [
    "SVM_class = SVC(kernel='rbf', decision_function_shape='ovo') "
   ]
  },
  {
   "cell_type": "code",
   "execution_count": 145,
   "metadata": {},
   "outputs": [],
   "source": [
    "C_space = np.logspace(-2, 10, 13)\n",
    "gamma_space = np.logspace(-9, 3, 13)\n",
    "param_grid = {'C': c_space, 'gamma': gamma_space}"
   ]
  },
  {
   "cell_type": "code",
   "execution_count": 177,
   "metadata": {},
   "outputs": [
    {
     "data": {
      "text/plain": [
       "{'C': array([1.00000000e-03, 1.58842105e-01, 3.16684211e-01, 4.74526316e-01,\n",
       "        6.32368421e-01, 7.90210526e-01, 9.48052632e-01, 1.10589474e+00,\n",
       "        1.26373684e+00, 1.42157895e+00, 1.57942105e+00, 1.73726316e+00,\n",
       "        1.89510526e+00, 2.05294737e+00, 2.21078947e+00, 2.36863158e+00,\n",
       "        2.52647368e+00, 2.68431579e+00, 2.84215789e+00, 3.00000000e+00]),\n",
       " 'gamma': array([1.e-09, 1.e-08, 1.e-07, 1.e-06, 1.e-05, 1.e-04, 1.e-03, 1.e-02,\n",
       "        1.e-01, 1.e+00, 1.e+01, 1.e+02, 1.e+03])}"
      ]
     },
     "execution_count": 177,
     "metadata": {},
     "output_type": "execute_result"
    }
   ],
   "source": [
    "# Sanity check\n",
    "param_grid"
   ]
  },
  {
   "cell_type": "code",
   "execution_count": 146,
   "metadata": {},
   "outputs": [],
   "source": [
    "SVM_cv = GridSearchCV(SVM_class, param_grid, cv = 10)"
   ]
  },
  {
   "cell_type": "markdown",
   "metadata": {},
   "source": [
    "#### Visual 1"
   ]
  },
  {
   "cell_type": "code",
   "execution_count": null,
   "metadata": {},
   "outputs": [],
   "source": [
    "# Fitting on a network level to obtain parameter\n",
    "SVM_cv.fit(Visual1_mean.iloc[:, 3:82], Visual1_mean.iloc[:, 1])"
   ]
  },
  {
   "cell_type": "code",
   "execution_count": 87,
   "metadata": {},
   "outputs": [
    {
     "data": {
      "text/plain": [
       "{'C': 0.6323684210526316, 'gamma': 1e-06}"
      ]
     },
     "execution_count": 87,
     "metadata": {},
     "output_type": "execute_result"
    }
   ],
   "source": [
    "# Best gamma and C parameters\n",
    "SVM_cv.best_params_ # C = 0.6323684210526316, gamma = 0.000001"
   ]
  },
  {
   "cell_type": "code",
   "execution_count": 88,
   "metadata": {},
   "outputs": [
    {
     "data": {
      "text/plain": [
       "0.5663716814159292"
      ]
     },
     "execution_count": 88,
     "metadata": {},
     "output_type": "execute_result"
    }
   ],
   "source": [
    "# Best accuracy score\n",
    "SVM_cv.best_score_"
   ]
  },
  {
   "cell_type": "code",
   "execution_count": 147,
   "metadata": {},
   "outputs": [],
   "source": [
    "# Specifying SVM parameters \n",
    "\n",
    "#V1-specific\n",
    "SVM_class_V1 = SVC(kernel='rbf', decision_function_shape='ovo', C = 0.6323684210526316, gamma = 0.000001) "
   ]
  },
  {
   "cell_type": "code",
   "execution_count": 148,
   "metadata": {},
   "outputs": [
    {
     "name": "stdout",
     "output_type": "stream",
     "text": [
      "0.57 accuracy with a standard deviation of 0.07\n"
     ]
    }
   ],
   "source": [
    "# Calculate accuracy (30 points) - V1 \n",
    "V1_SVM = cross_val_score(SVM_class_V1, Visual1_mean.iloc[:, 3:82], Visual1_mean.iloc[:, 1], cv = 30)\n",
    "\n",
    "print(\"%0.2f accuracy with a standard deviation of %0.2f\" % (V1_SVM.mean(), V1_SVM.std()))"
   ]
  },
  {
   "cell_type": "code",
   "execution_count": 228,
   "metadata": {},
   "outputs": [],
   "source": [
    "# Merge accuracy outputs for all networks\n",
    "Visual1_SVM_acc = pd.DataFrame(V1_SVM, columns = ['Primary visual cortex'])\n",
    "Visual2_SVM_acc = pd.DataFrame(V2_SVM, columns = ['Secondary visual cortex'])\n",
    "SM_SVM_acc = pd.DataFrame(SM_SVM, columns = ['Somatomotor network'])\n",
    "CO_SVM_acc = pd.DataFrame(CO_SVM, columns = ['Cingulo-opercular network'])\n",
    "LA_SVM_acc = pd.DataFrame(LA_SVM, columns = ['Language network'])\n",
    "DE_SVM_acc = pd.DataFrame(DE_SVM, columns = ['Default network'])\n",
    "FP_SVM_acc = pd.DataFrame(FP_SVM, columns = ['Frontoparietal network'])\n",
    "AU_SVM_acc = pd.DataFrame(AU_SVM, columns = ['Auditory network'])\n",
    "DA_SVM_acc = pd.DataFrame(DA_SVM, columns = ['Dorsal attention network'])\n",
    "PM_SVM_acc = pd.DataFrame(PM_SVM, columns = ['Posterior medial network'])\n",
    "OA_SVM_acc = pd.DataFrame(OA_SVM, columns = ['Orbito-affective network'])\n",
    "VM_SVM_acc = pd.DataFrame(VM_SVM, columns = ['Ventral attention network'])\n",
    "\n",
    "Network_SVM_Accuracy = pd.concat([Visual1_SVM_acc, Visual2_SVM_acc, SM_SVM_acc, CO_SVM_acc, LA_SVM_acc, DE_SVM_acc, FP_SVM_acc, AU_SVM_acc, DA_SVM_acc, PM_SVM_acc, OA_SVM_acc, VM_SVM_acc], axis=1)\n",
    "\n",
    "# Export to make shiny plots in R\n",
    "Network_SVM_Accuracy.to_csv('Network_SVM_Accuracy.csv')"
   ]
  },
  {
   "cell_type": "markdown",
   "metadata": {},
   "source": [
    "#### Visual 2"
   ]
  },
  {
   "cell_type": "code",
   "execution_count": 153,
   "metadata": {},
   "outputs": [
    {
     "name": "stderr",
     "output_type": "stream",
     "text": [
      "/Users/jelkastojanov/anaconda3/lib/python3.7/site-packages/sklearn/model_selection/_search.py:813: DeprecationWarning: The default of the `iid` parameter will change from True to False in version 0.22 and will be removed in 0.24. This will change numeric results when test-set sizes are unequal.\n",
      "  DeprecationWarning)\n"
     ]
    },
    {
     "data": {
      "text/plain": [
       "GridSearchCV(cv=10, error_score='raise-deprecating',\n",
       "             estimator=SVC(C=1.0, cache_size=200, class_weight=None, coef0=0.0,\n",
       "                           decision_function_shape='ovo', degree=3,\n",
       "                           gamma='auto_deprecated', kernel='rbf', max_iter=-1,\n",
       "                           probability=False, random_state=None, shrinking=True,\n",
       "                           tol=0.001, verbose=False),\n",
       "             iid='warn', n_jobs=None,\n",
       "             param_grid={'C': array([1.00000000e-03, 1.58842105e...\n",
       "       1.26373684e+00, 1.42157895e+00, 1.57942105e+00, 1.73726316e+00,\n",
       "       1.89510526e+00, 2.05294737e+00, 2.21078947e+00, 2.36863158e+00,\n",
       "       2.52647368e+00, 2.68431579e+00, 2.84215789e+00, 3.00000000e+00]),\n",
       "                         'gamma': array([1.e-09, 1.e-08, 1.e-07, 1.e-06, 1.e-05, 1.e-04, 1.e-03, 1.e-02,\n",
       "       1.e-01, 1.e+00, 1.e+01, 1.e+02, 1.e+03])},\n",
       "             pre_dispatch='2*n_jobs', refit=True, return_train_score=False,\n",
       "             scoring=None, verbose=0)"
      ]
     },
     "execution_count": 153,
     "metadata": {},
     "output_type": "execute_result"
    }
   ],
   "source": [
    "SVM_cv.fit(Visual2_mean.iloc[:, 3:82], Visual2_mean.iloc[:, 1])"
   ]
  },
  {
   "cell_type": "code",
   "execution_count": 154,
   "metadata": {},
   "outputs": [
    {
     "data": {
      "text/plain": [
       "{'C': 2.3686315789473684, 'gamma': 1e-06}"
      ]
     },
     "execution_count": 154,
     "metadata": {},
     "output_type": "execute_result"
    }
   ],
   "source": [
    "# Best gamma and C parameters\n",
    "SVM_cv.best_params_ # C = 2.3686315789473684, gamma = 0.000001"
   ]
  },
  {
   "cell_type": "code",
   "execution_count": 155,
   "metadata": {},
   "outputs": [
    {
     "data": {
      "text/plain": [
       "0.6858407079646017"
      ]
     },
     "execution_count": 155,
     "metadata": {},
     "output_type": "execute_result"
    }
   ],
   "source": [
    "# Best accuracy score\n",
    "SVM_cv.best_score_"
   ]
  },
  {
   "cell_type": "code",
   "execution_count": 156,
   "metadata": {},
   "outputs": [],
   "source": [
    "# Specifying SVM parameters \n",
    "\n",
    "#V2-specific\n",
    "SVM_class_V2 = SVC(kernel='rbf', decision_function_shape='ovo', C = 2.3686315789473684, gamma = 0.000001) "
   ]
  },
  {
   "cell_type": "code",
   "execution_count": 157,
   "metadata": {},
   "outputs": [
    {
     "name": "stdout",
     "output_type": "stream",
     "text": [
      "0.68 accuracy with a standard deviation of 0.07\n"
     ]
    }
   ],
   "source": [
    "# Calculate accuracy (30 points) - V2\n",
    "V2_SVM = cross_val_score(SVM_class_V2, Visual2_mean.iloc[:, 3:82], Visual2_mean.iloc[:, 1], cv = 30)\n",
    "\n",
    "print(\"%0.2f accuracy with a standard deviation of %0.2f\" % (V2_SVM.mean(), V2_SVM.std()))"
   ]
  },
  {
   "cell_type": "markdown",
   "metadata": {},
   "source": [
    "#### Somatomotor"
   ]
  },
  {
   "cell_type": "code",
   "execution_count": 161,
   "metadata": {},
   "outputs": [
    {
     "name": "stderr",
     "output_type": "stream",
     "text": [
      "/Users/jelkastojanov/anaconda3/lib/python3.7/site-packages/sklearn/model_selection/_search.py:813: DeprecationWarning: The default of the `iid` parameter will change from True to False in version 0.22 and will be removed in 0.24. This will change numeric results when test-set sizes are unequal.\n",
      "  DeprecationWarning)\n"
     ]
    },
    {
     "data": {
      "text/plain": [
       "GridSearchCV(cv=10, error_score='raise-deprecating',\n",
       "             estimator=SVC(C=1.0, cache_size=200, class_weight=None, coef0=0.0,\n",
       "                           decision_function_shape='ovo', degree=3,\n",
       "                           gamma='auto_deprecated', kernel='rbf', max_iter=-1,\n",
       "                           probability=False, random_state=None, shrinking=True,\n",
       "                           tol=0.001, verbose=False),\n",
       "             iid='warn', n_jobs=None,\n",
       "             param_grid={'C': array([1.00000000e-03, 1.58842105e...\n",
       "       1.26373684e+00, 1.42157895e+00, 1.57942105e+00, 1.73726316e+00,\n",
       "       1.89510526e+00, 2.05294737e+00, 2.21078947e+00, 2.36863158e+00,\n",
       "       2.52647368e+00, 2.68431579e+00, 2.84215789e+00, 3.00000000e+00]),\n",
       "                         'gamma': array([1.e-09, 1.e-08, 1.e-07, 1.e-06, 1.e-05, 1.e-04, 1.e-03, 1.e-02,\n",
       "       1.e-01, 1.e+00, 1.e+01, 1.e+02, 1.e+03])},\n",
       "             pre_dispatch='2*n_jobs', refit=True, return_train_score=False,\n",
       "             scoring=None, verbose=0)"
      ]
     },
     "execution_count": 161,
     "metadata": {},
     "output_type": "execute_result"
    }
   ],
   "source": [
    "SVM_cv.fit(Somatomotor_mean.iloc[:, 3:82], Somatomotor_mean.iloc[:, 1])"
   ]
  },
  {
   "cell_type": "code",
   "execution_count": 162,
   "metadata": {},
   "outputs": [
    {
     "data": {
      "text/plain": [
       "{'C': 3.0, 'gamma': 1e-06}"
      ]
     },
     "execution_count": 162,
     "metadata": {},
     "output_type": "execute_result"
    }
   ],
   "source": [
    "# Best gamma and C parameters\n",
    "SVM_cv.best_params_ # C = 3.0, gamma = 0.000001"
   ]
  },
  {
   "cell_type": "code",
   "execution_count": 163,
   "metadata": {},
   "outputs": [
    {
     "data": {
      "text/plain": [
       "0.4889380530973451"
      ]
     },
     "execution_count": 163,
     "metadata": {},
     "output_type": "execute_result"
    }
   ],
   "source": [
    "# Best accuracy score\n",
    "SVM_cv.best_score_"
   ]
  },
  {
   "cell_type": "code",
   "execution_count": 164,
   "metadata": {},
   "outputs": [],
   "source": [
    "# Specifying SVM parameters \n",
    "\n",
    "#SM-specific\n",
    "SVM_class_SM = SVC(kernel='rbf', decision_function_shape='ovo', C = 3.0, gamma = 0.000001) "
   ]
  },
  {
   "cell_type": "code",
   "execution_count": 165,
   "metadata": {},
   "outputs": [
    {
     "name": "stdout",
     "output_type": "stream",
     "text": [
      "0.49 accuracy with a standard deviation of 0.07\n"
     ]
    }
   ],
   "source": [
    "# Calculate accuracy (30 points) - SM \n",
    "SM_SVM = cross_val_score(SVM_class_SM, Somatomotor_mean.iloc[:, 3:82], Somatomotor_mean.iloc[:, 1], cv = 30)\n",
    "\n",
    "print(\"%0.2f accuracy with a standard deviation of %0.2f\" % (SM_SVM.mean(), SM_SVM.std()))"
   ]
  },
  {
   "cell_type": "markdown",
   "metadata": {},
   "source": [
    "#### Cingulo-opercular "
   ]
  },
  {
   "cell_type": "code",
   "execution_count": 167,
   "metadata": {},
   "outputs": [
    {
     "name": "stderr",
     "output_type": "stream",
     "text": [
      "/Users/jelkastojanov/anaconda3/lib/python3.7/site-packages/sklearn/model_selection/_search.py:813: DeprecationWarning: The default of the `iid` parameter will change from True to False in version 0.22 and will be removed in 0.24. This will change numeric results when test-set sizes are unequal.\n",
      "  DeprecationWarning)\n"
     ]
    },
    {
     "data": {
      "text/plain": [
       "GridSearchCV(cv=10, error_score='raise-deprecating',\n",
       "             estimator=SVC(C=1.0, cache_size=200, class_weight=None, coef0=0.0,\n",
       "                           decision_function_shape='ovo', degree=3,\n",
       "                           gamma='auto_deprecated', kernel='rbf', max_iter=-1,\n",
       "                           probability=False, random_state=None, shrinking=True,\n",
       "                           tol=0.001, verbose=False),\n",
       "             iid='warn', n_jobs=None,\n",
       "             param_grid={'C': array([1.00000000e-03, 1.58842105e...\n",
       "       1.26373684e+00, 1.42157895e+00, 1.57942105e+00, 1.73726316e+00,\n",
       "       1.89510526e+00, 2.05294737e+00, 2.21078947e+00, 2.36863158e+00,\n",
       "       2.52647368e+00, 2.68431579e+00, 2.84215789e+00, 3.00000000e+00]),\n",
       "                         'gamma': array([1.e-09, 1.e-08, 1.e-07, 1.e-06, 1.e-05, 1.e-04, 1.e-03, 1.e-02,\n",
       "       1.e-01, 1.e+00, 1.e+01, 1.e+02, 1.e+03])},\n",
       "             pre_dispatch='2*n_jobs', refit=True, return_train_score=False,\n",
       "             scoring=None, verbose=0)"
      ]
     },
     "execution_count": 167,
     "metadata": {},
     "output_type": "execute_result"
    }
   ],
   "source": [
    "SVM_cv.fit(Cingulo_Oper_mean.iloc[:, 3:82], Cingulo_Oper_mean.iloc[:, 1])"
   ]
  },
  {
   "cell_type": "code",
   "execution_count": 168,
   "metadata": {},
   "outputs": [
    {
     "data": {
      "text/plain": [
       "{'C': 2.526473684210526, 'gamma': 1e-06}"
      ]
     },
     "execution_count": 168,
     "metadata": {},
     "output_type": "execute_result"
    }
   ],
   "source": [
    "# Best gamma and C parameters\n",
    "SVM_cv.best_params_ # C = 2.526473684210526, gamma = 0.000001"
   ]
  },
  {
   "cell_type": "code",
   "execution_count": 169,
   "metadata": {},
   "outputs": [
    {
     "data": {
      "text/plain": [
       "0.5294985250737463"
      ]
     },
     "execution_count": 169,
     "metadata": {},
     "output_type": "execute_result"
    }
   ],
   "source": [
    "# Best accuracy score\n",
    "SVM_cv.best_score_"
   ]
  },
  {
   "cell_type": "code",
   "execution_count": 170,
   "metadata": {},
   "outputs": [],
   "source": [
    "# Specifying SVM parameters \n",
    "\n",
    "#CO-specific\n",
    "SVM_class_CO = SVC(kernel='rbf', decision_function_shape='ovo', C = 2.526473684210526, gamma = 0.000001) "
   ]
  },
  {
   "cell_type": "code",
   "execution_count": 171,
   "metadata": {},
   "outputs": [
    {
     "name": "stdout",
     "output_type": "stream",
     "text": [
      "0.52 accuracy with a standard deviation of 0.07\n"
     ]
    }
   ],
   "source": [
    "# Calculate accuracy (30 points) - CO\n",
    "CO_SVM = cross_val_score(SVM_class_CO, Cingulo_Oper_mean.iloc[:, 3:82], Cingulo_Oper_mean.iloc[:, 1], cv = 30)\n",
    "\n",
    "print(\"%0.2f accuracy with a standard deviation of %0.2f\" % (CO_SVM.mean(), CO_SVM.std()))"
   ]
  },
  {
   "cell_type": "markdown",
   "metadata": {},
   "source": [
    "#### Language"
   ]
  },
  {
   "cell_type": "code",
   "execution_count": 175,
   "metadata": {},
   "outputs": [
    {
     "name": "stderr",
     "output_type": "stream",
     "text": [
      "/Users/jelkastojanov/anaconda3/lib/python3.7/site-packages/sklearn/model_selection/_search.py:813: DeprecationWarning: The default of the `iid` parameter will change from True to False in version 0.22 and will be removed in 0.24. This will change numeric results when test-set sizes are unequal.\n",
      "  DeprecationWarning)\n"
     ]
    },
    {
     "data": {
      "text/plain": [
       "GridSearchCV(cv=10, error_score='raise-deprecating',\n",
       "             estimator=SVC(C=1.0, cache_size=200, class_weight=None, coef0=0.0,\n",
       "                           decision_function_shape='ovo', degree=3,\n",
       "                           gamma='auto_deprecated', kernel='rbf', max_iter=-1,\n",
       "                           probability=False, random_state=None, shrinking=True,\n",
       "                           tol=0.001, verbose=False),\n",
       "             iid='warn', n_jobs=None,\n",
       "             param_grid={'C': array([1.00000000e-03, 1.58842105e...\n",
       "       1.26373684e+00, 1.42157895e+00, 1.57942105e+00, 1.73726316e+00,\n",
       "       1.89510526e+00, 2.05294737e+00, 2.21078947e+00, 2.36863158e+00,\n",
       "       2.52647368e+00, 2.68431579e+00, 2.84215789e+00, 3.00000000e+00]),\n",
       "                         'gamma': array([1.e-09, 1.e-08, 1.e-07, 1.e-06, 1.e-05, 1.e-04, 1.e-03, 1.e-02,\n",
       "       1.e-01, 1.e+00, 1.e+01, 1.e+02, 1.e+03])},\n",
       "             pre_dispatch='2*n_jobs', refit=True, return_train_score=False,\n",
       "             scoring=None, verbose=0)"
      ]
     },
     "execution_count": 175,
     "metadata": {},
     "output_type": "execute_result"
    }
   ],
   "source": [
    "SVM_cv.fit(Language_mean.iloc[:, 3:82], Language_mean.iloc[:, 1])"
   ]
  },
  {
   "cell_type": "code",
   "execution_count": 176,
   "metadata": {},
   "outputs": [
    {
     "data": {
      "text/plain": [
       "{'C': 1.8951052631578946, 'gamma': 1e-06}"
      ]
     },
     "execution_count": 176,
     "metadata": {},
     "output_type": "execute_result"
    }
   ],
   "source": [
    "# Best gamma and C parameters\n",
    "SVM_cv.best_params_ # C = 1.8951052631578946, gamma = 0.000001"
   ]
  },
  {
   "cell_type": "code",
   "execution_count": 178,
   "metadata": {},
   "outputs": [
    {
     "data": {
      "text/plain": [
       "0.6482300884955752"
      ]
     },
     "execution_count": 178,
     "metadata": {},
     "output_type": "execute_result"
    }
   ],
   "source": [
    "# Best accuracy score\n",
    "SVM_cv.best_score_"
   ]
  },
  {
   "cell_type": "code",
   "execution_count": 179,
   "metadata": {},
   "outputs": [],
   "source": [
    "# Specifying SVM parameters \n",
    "\n",
    "#LA-specific\n",
    "SVM_class_LA = SVC(kernel='rbf', decision_function_shape='ovo', C = 1.8951052631578946, gamma = 0.000001) "
   ]
  },
  {
   "cell_type": "code",
   "execution_count": 180,
   "metadata": {},
   "outputs": [
    {
     "name": "stdout",
     "output_type": "stream",
     "text": [
      "0.65 accuracy with a standard deviation of 0.07\n"
     ]
    }
   ],
   "source": [
    "# Calculate accuracy (30 points) - LA\n",
    "LA_SVM = cross_val_score(SVM_class_LA, Language_mean.iloc[:, 3:82], Language_mean.iloc[:, 1], cv = 30)\n",
    "\n",
    "print(\"%0.2f accuracy with a standard deviation of %0.2f\" % (LA_SVM.mean(), LA_SVM.std()))"
   ]
  },
  {
   "cell_type": "markdown",
   "metadata": {},
   "source": [
    "#### Default"
   ]
  },
  {
   "cell_type": "code",
   "execution_count": 182,
   "metadata": {},
   "outputs": [
    {
     "name": "stderr",
     "output_type": "stream",
     "text": [
      "/Users/jelkastojanov/anaconda3/lib/python3.7/site-packages/sklearn/model_selection/_search.py:813: DeprecationWarning: The default of the `iid` parameter will change from True to False in version 0.22 and will be removed in 0.24. This will change numeric results when test-set sizes are unequal.\n",
      "  DeprecationWarning)\n"
     ]
    },
    {
     "data": {
      "text/plain": [
       "GridSearchCV(cv=10, error_score='raise-deprecating',\n",
       "             estimator=SVC(C=1.0, cache_size=200, class_weight=None, coef0=0.0,\n",
       "                           decision_function_shape='ovo', degree=3,\n",
       "                           gamma='auto_deprecated', kernel='rbf', max_iter=-1,\n",
       "                           probability=False, random_state=None, shrinking=True,\n",
       "                           tol=0.001, verbose=False),\n",
       "             iid='warn', n_jobs=None,\n",
       "             param_grid={'C': array([1.00000000e-03, 1.58842105e...\n",
       "       1.26373684e+00, 1.42157895e+00, 1.57942105e+00, 1.73726316e+00,\n",
       "       1.89510526e+00, 2.05294737e+00, 2.21078947e+00, 2.36863158e+00,\n",
       "       2.52647368e+00, 2.68431579e+00, 2.84215789e+00, 3.00000000e+00]),\n",
       "                         'gamma': array([1.e-09, 1.e-08, 1.e-07, 1.e-06, 1.e-05, 1.e-04, 1.e-03, 1.e-02,\n",
       "       1.e-01, 1.e+00, 1.e+01, 1.e+02, 1.e+03])},\n",
       "             pre_dispatch='2*n_jobs', refit=True, return_train_score=False,\n",
       "             scoring=None, verbose=0)"
      ]
     },
     "execution_count": 182,
     "metadata": {},
     "output_type": "execute_result"
    }
   ],
   "source": [
    "SVM_cv.fit(Default_mean.iloc[:, 3:82], Default_mean.iloc[:, 1])"
   ]
  },
  {
   "cell_type": "code",
   "execution_count": 183,
   "metadata": {},
   "outputs": [
    {
     "data": {
      "text/plain": [
       "{'C': 2.8421578947368418, 'gamma': 1e-06}"
      ]
     },
     "execution_count": 183,
     "metadata": {},
     "output_type": "execute_result"
    }
   ],
   "source": [
    "# Best gamma and C parameters\n",
    "SVM_cv.best_params_ # C = 2.8421578947368418, gamma = 0.000001"
   ]
  },
  {
   "cell_type": "code",
   "execution_count": 184,
   "metadata": {},
   "outputs": [
    {
     "data": {
      "text/plain": [
       "0.5457227138643068"
      ]
     },
     "execution_count": 184,
     "metadata": {},
     "output_type": "execute_result"
    }
   ],
   "source": [
    "# Best accuracy score\n",
    "SVM_cv.best_score_"
   ]
  },
  {
   "cell_type": "code",
   "execution_count": 185,
   "metadata": {},
   "outputs": [],
   "source": [
    "# Specifying SVM parameters \n",
    "\n",
    "# DE-specific\n",
    "SVM_class_DE = SVC(kernel='rbf', decision_function_shape='ovo', C = 2.8421578947368418, gamma = 0.000001) "
   ]
  },
  {
   "cell_type": "code",
   "execution_count": 186,
   "metadata": {},
   "outputs": [
    {
     "name": "stdout",
     "output_type": "stream",
     "text": [
      "0.54 accuracy with a standard deviation of 0.08\n"
     ]
    }
   ],
   "source": [
    "# Calculate accuracy (30 points) - DE\n",
    "DE_SVM = cross_val_score(SVM_class_DE, Default_mean.iloc[:, 3:82], Default_mean.iloc[:, 1], cv = 30)\n",
    "\n",
    "print(\"%0.2f accuracy with a standard deviation of %0.2f\" % (DE_SVM.mean(), DE_SVM.std()))"
   ]
  },
  {
   "cell_type": "markdown",
   "metadata": {},
   "source": [
    "#### Frontoparietal"
   ]
  },
  {
   "cell_type": "code",
   "execution_count": 188,
   "metadata": {},
   "outputs": [
    {
     "data": {
      "text/plain": [
       "GridSearchCV(cv=10, error_score='raise-deprecating',\n",
       "             estimator=SVC(C=1.0, cache_size=200, class_weight=None, coef0=0.0,\n",
       "                           decision_function_shape='ovo', degree=3,\n",
       "                           gamma='auto_deprecated', kernel='rbf', max_iter=-1,\n",
       "                           probability=False, random_state=None, shrinking=True,\n",
       "                           tol=0.001, verbose=False),\n",
       "             iid='warn', n_jobs=None,\n",
       "             param_grid={'C': array([1.00000000e-03, 1.58842105e...\n",
       "       1.26373684e+00, 1.42157895e+00, 1.57942105e+00, 1.73726316e+00,\n",
       "       1.89510526e+00, 2.05294737e+00, 2.21078947e+00, 2.36863158e+00,\n",
       "       2.52647368e+00, 2.68431579e+00, 2.84215789e+00, 3.00000000e+00]),\n",
       "                         'gamma': array([1.e-09, 1.e-08, 1.e-07, 1.e-06, 1.e-05, 1.e-04, 1.e-03, 1.e-02,\n",
       "       1.e-01, 1.e+00, 1.e+01, 1.e+02, 1.e+03])},\n",
       "             pre_dispatch='2*n_jobs', refit=True, return_train_score=False,\n",
       "             scoring=None, verbose=0)"
      ]
     },
     "execution_count": 188,
     "metadata": {},
     "output_type": "execute_result"
    }
   ],
   "source": [
    "SVM_cv.fit(Frontopariet_mean.iloc[:, 3:82], Frontopariet_mean.iloc[:, 1])"
   ]
  },
  {
   "cell_type": "code",
   "execution_count": 189,
   "metadata": {},
   "outputs": [
    {
     "data": {
      "text/plain": [
       "{'C': 1.8951052631578946, 'gamma': 1e-06}"
      ]
     },
     "execution_count": 189,
     "metadata": {},
     "output_type": "execute_result"
    }
   ],
   "source": [
    "# Best gamma and C parameters\n",
    "SVM_cv.best_params_ # C = 1.8951052631578946, gamma = 0.000001"
   ]
  },
  {
   "cell_type": "code",
   "execution_count": 190,
   "metadata": {},
   "outputs": [
    {
     "data": {
      "text/plain": [
       "0.5899705014749262"
      ]
     },
     "execution_count": 190,
     "metadata": {},
     "output_type": "execute_result"
    }
   ],
   "source": [
    "# Best accuracy score\n",
    "SVM_cv.best_score_"
   ]
  },
  {
   "cell_type": "code",
   "execution_count": 191,
   "metadata": {},
   "outputs": [],
   "source": [
    "# Specifying SVM parameters \n",
    "\n",
    "# FP-specific\n",
    "SVM_class_FP = SVC(kernel='rbf', decision_function_shape='ovo', C = 1.8951052631578946, gamma = 0.000001) "
   ]
  },
  {
   "cell_type": "code",
   "execution_count": 192,
   "metadata": {},
   "outputs": [
    {
     "name": "stdout",
     "output_type": "stream",
     "text": [
      "0.59 accuracy with a standard deviation of 0.07\n"
     ]
    }
   ],
   "source": [
    "# Calculate accuracy (30 points) - FP\n",
    "FP_SVM = cross_val_score(SVM_class_FP, Frontopariet_mean.iloc[:, 3:82], Frontopariet_mean.iloc[:, 1], cv = 30)\n",
    "\n",
    "print(\"%0.2f accuracy with a standard deviation of %0.2f\" % (FP_SVM.mean(), FP_SVM.std()))"
   ]
  },
  {
   "cell_type": "markdown",
   "metadata": {},
   "source": [
    "#### Auditory"
   ]
  },
  {
   "cell_type": "code",
   "execution_count": 195,
   "metadata": {},
   "outputs": [
    {
     "name": "stderr",
     "output_type": "stream",
     "text": [
      "/Users/jelkastojanov/anaconda3/lib/python3.7/site-packages/sklearn/model_selection/_search.py:813: DeprecationWarning: The default of the `iid` parameter will change from True to False in version 0.22 and will be removed in 0.24. This will change numeric results when test-set sizes are unequal.\n",
      "  DeprecationWarning)\n"
     ]
    },
    {
     "data": {
      "text/plain": [
       "GridSearchCV(cv=10, error_score='raise-deprecating',\n",
       "             estimator=SVC(C=1.0, cache_size=200, class_weight=None, coef0=0.0,\n",
       "                           decision_function_shape='ovo', degree=3,\n",
       "                           gamma='auto_deprecated', kernel='rbf', max_iter=-1,\n",
       "                           probability=False, random_state=None, shrinking=True,\n",
       "                           tol=0.001, verbose=False),\n",
       "             iid='warn', n_jobs=None,\n",
       "             param_grid={'C': array([1.00000000e-03, 1.58842105e...\n",
       "       1.26373684e+00, 1.42157895e+00, 1.57942105e+00, 1.73726316e+00,\n",
       "       1.89510526e+00, 2.05294737e+00, 2.21078947e+00, 2.36863158e+00,\n",
       "       2.52647368e+00, 2.68431579e+00, 2.84215789e+00, 3.00000000e+00]),\n",
       "                         'gamma': array([1.e-09, 1.e-08, 1.e-07, 1.e-06, 1.e-05, 1.e-04, 1.e-03, 1.e-02,\n",
       "       1.e-01, 1.e+00, 1.e+01, 1.e+02, 1.e+03])},\n",
       "             pre_dispatch='2*n_jobs', refit=True, return_train_score=False,\n",
       "             scoring=None, verbose=0)"
      ]
     },
     "execution_count": 195,
     "metadata": {},
     "output_type": "execute_result"
    }
   ],
   "source": [
    "SVM_cv.fit(Auditory_mean.iloc[:, 3:82], Auditory_mean.iloc[:, 1])"
   ]
  },
  {
   "cell_type": "code",
   "execution_count": 196,
   "metadata": {},
   "outputs": [
    {
     "data": {
      "text/plain": [
       "{'C': 0.3166842105263158, 'gamma': 1e-06}"
      ]
     },
     "execution_count": 196,
     "metadata": {},
     "output_type": "execute_result"
    }
   ],
   "source": [
    "# Best gamma and C parameters\n",
    "SVM_cv.best_params_ # C = 0.3166842105263158, gamma = 0.000001"
   ]
  },
  {
   "cell_type": "code",
   "execution_count": 197,
   "metadata": {},
   "outputs": [
    {
     "data": {
      "text/plain": [
       "0.5553097345132744"
      ]
     },
     "execution_count": 197,
     "metadata": {},
     "output_type": "execute_result"
    }
   ],
   "source": [
    "# Best accuracy score\n",
    "SVM_cv.best_score_"
   ]
  },
  {
   "cell_type": "code",
   "execution_count": 198,
   "metadata": {},
   "outputs": [],
   "source": [
    "# Specifying SVM parameters \n",
    "\n",
    "# AU-specific\n",
    "SVM_class_AU = SVC(kernel='rbf', decision_function_shape='ovo', C = 0.3166842105263158, gamma = 0.000001) "
   ]
  },
  {
   "cell_type": "code",
   "execution_count": 199,
   "metadata": {},
   "outputs": [
    {
     "name": "stdout",
     "output_type": "stream",
     "text": [
      "0.55 accuracy with a standard deviation of 0.08\n"
     ]
    }
   ],
   "source": [
    "# Calculate accuracy (30 points) - AU\n",
    "AU_SVM = cross_val_score(SVM_class_AU, Auditory_mean.iloc[:, 3:82], Auditory_mean.iloc[:, 1], cv = 30)\n",
    "\n",
    "print(\"%0.2f accuracy with a standard deviation of %0.2f\" % (AU_SVM.mean(), AU_SVM.std()))"
   ]
  },
  {
   "cell_type": "markdown",
   "metadata": {},
   "source": [
    "#### Dorsal attention"
   ]
  },
  {
   "cell_type": "code",
   "execution_count": 201,
   "metadata": {},
   "outputs": [
    {
     "name": "stderr",
     "output_type": "stream",
     "text": [
      "/Users/jelkastojanov/anaconda3/lib/python3.7/site-packages/sklearn/model_selection/_search.py:813: DeprecationWarning: The default of the `iid` parameter will change from True to False in version 0.22 and will be removed in 0.24. This will change numeric results when test-set sizes are unequal.\n",
      "  DeprecationWarning)\n"
     ]
    },
    {
     "data": {
      "text/plain": [
       "GridSearchCV(cv=10, error_score='raise-deprecating',\n",
       "             estimator=SVC(C=1.0, cache_size=200, class_weight=None, coef0=0.0,\n",
       "                           decision_function_shape='ovo', degree=3,\n",
       "                           gamma='auto_deprecated', kernel='rbf', max_iter=-1,\n",
       "                           probability=False, random_state=None, shrinking=True,\n",
       "                           tol=0.001, verbose=False),\n",
       "             iid='warn', n_jobs=None,\n",
       "             param_grid={'C': array([1.00000000e-03, 1.58842105e...\n",
       "       1.26373684e+00, 1.42157895e+00, 1.57942105e+00, 1.73726316e+00,\n",
       "       1.89510526e+00, 2.05294737e+00, 2.21078947e+00, 2.36863158e+00,\n",
       "       2.52647368e+00, 2.68431579e+00, 2.84215789e+00, 3.00000000e+00]),\n",
       "                         'gamma': array([1.e-09, 1.e-08, 1.e-07, 1.e-06, 1.e-05, 1.e-04, 1.e-03, 1.e-02,\n",
       "       1.e-01, 1.e+00, 1.e+01, 1.e+02, 1.e+03])},\n",
       "             pre_dispatch='2*n_jobs', refit=True, return_train_score=False,\n",
       "             scoring=None, verbose=0)"
      ]
     },
     "execution_count": 201,
     "metadata": {},
     "output_type": "execute_result"
    }
   ],
   "source": [
    "SVM_cv.fit(Dorsal_atten_mean.iloc[:, 3:82], Dorsal_atten_mean.iloc[:, 1])"
   ]
  },
  {
   "cell_type": "code",
   "execution_count": 202,
   "metadata": {},
   "outputs": [
    {
     "data": {
      "text/plain": [
       "{'C': 2.526473684210526, 'gamma': 1e-06}"
      ]
     },
     "execution_count": 202,
     "metadata": {},
     "output_type": "execute_result"
    }
   ],
   "source": [
    "# Best gamma and C parameters\n",
    "SVM_cv.best_params_ # C = 2.526473684210526, gamma = 0.000001"
   ]
  },
  {
   "cell_type": "code",
   "execution_count": 203,
   "metadata": {},
   "outputs": [
    {
     "data": {
      "text/plain": [
       "0.4948377581120944"
      ]
     },
     "execution_count": 203,
     "metadata": {},
     "output_type": "execute_result"
    }
   ],
   "source": [
    "# Best accuracy score\n",
    "SVM_cv.best_score_"
   ]
  },
  {
   "cell_type": "code",
   "execution_count": 204,
   "metadata": {},
   "outputs": [],
   "source": [
    "# Specifying SVM parameters \n",
    "\n",
    "# DA-specific\n",
    "SVM_class_DA = SVC(kernel='rbf', decision_function_shape='ovo', C = 2.526473684210526, gamma = 0.000001) "
   ]
  },
  {
   "cell_type": "code",
   "execution_count": 205,
   "metadata": {},
   "outputs": [
    {
     "name": "stdout",
     "output_type": "stream",
     "text": [
      "0.49 accuracy with a standard deviation of 0.07\n"
     ]
    }
   ],
   "source": [
    "# Calculate accuracy (30 points) - DA\n",
    "DA_SVM = cross_val_score(SVM_class_DA, Dorsal_atten_mean.iloc[:, 3:82], Dorsal_atten_mean.iloc[:, 1], cv = 30)\n",
    "\n",
    "print(\"%0.2f accuracy with a standard deviation of %0.2f\" % (DA_SVM.mean(), DA_SVM.std()))"
   ]
  },
  {
   "cell_type": "markdown",
   "metadata": {},
   "source": [
    "#### Posterior medial"
   ]
  },
  {
   "cell_type": "code",
   "execution_count": 207,
   "metadata": {},
   "outputs": [
    {
     "name": "stderr",
     "output_type": "stream",
     "text": [
      "/Users/jelkastojanov/anaconda3/lib/python3.7/site-packages/sklearn/model_selection/_search.py:813: DeprecationWarning: The default of the `iid` parameter will change from True to False in version 0.22 and will be removed in 0.24. This will change numeric results when test-set sizes are unequal.\n",
      "  DeprecationWarning)\n"
     ]
    },
    {
     "data": {
      "text/plain": [
       "GridSearchCV(cv=10, error_score='raise-deprecating',\n",
       "             estimator=SVC(C=1.0, cache_size=200, class_weight=None, coef0=0.0,\n",
       "                           decision_function_shape='ovo', degree=3,\n",
       "                           gamma='auto_deprecated', kernel='rbf', max_iter=-1,\n",
       "                           probability=False, random_state=None, shrinking=True,\n",
       "                           tol=0.001, verbose=False),\n",
       "             iid='warn', n_jobs=None,\n",
       "             param_grid={'C': array([1.00000000e-03, 1.58842105e...\n",
       "       1.26373684e+00, 1.42157895e+00, 1.57942105e+00, 1.73726316e+00,\n",
       "       1.89510526e+00, 2.05294737e+00, 2.21078947e+00, 2.36863158e+00,\n",
       "       2.52647368e+00, 2.68431579e+00, 2.84215789e+00, 3.00000000e+00]),\n",
       "                         'gamma': array([1.e-09, 1.e-08, 1.e-07, 1.e-06, 1.e-05, 1.e-04, 1.e-03, 1.e-02,\n",
       "       1.e-01, 1.e+00, 1.e+01, 1.e+02, 1.e+03])},\n",
       "             pre_dispatch='2*n_jobs', refit=True, return_train_score=False,\n",
       "             scoring=None, verbose=0)"
      ]
     },
     "execution_count": 207,
     "metadata": {},
     "output_type": "execute_result"
    }
   ],
   "source": [
    "SVM_cv.fit(Posterior_Mu_mean.iloc[:, 3:82], Posterior_Mu_mean.iloc[:, 1])"
   ]
  },
  {
   "cell_type": "code",
   "execution_count": 208,
   "metadata": {},
   "outputs": [
    {
     "data": {
      "text/plain": [
       "{'C': 0.9480526315789474, 'gamma': 1e-05}"
      ]
     },
     "execution_count": 208,
     "metadata": {},
     "output_type": "execute_result"
    }
   ],
   "source": [
    "# Best gamma and C parameters\n",
    "SVM_cv.best_params_ # C = 0.9480526315789474, gamma = 1e-05"
   ]
  },
  {
   "cell_type": "code",
   "execution_count": 209,
   "metadata": {},
   "outputs": [
    {
     "data": {
      "text/plain": [
       "0.5036873156342183"
      ]
     },
     "execution_count": 209,
     "metadata": {},
     "output_type": "execute_result"
    }
   ],
   "source": [
    "# Best accuracy score\n",
    "SVM_cv.best_score_"
   ]
  },
  {
   "cell_type": "code",
   "execution_count": 210,
   "metadata": {},
   "outputs": [],
   "source": [
    "# Specifying SVM parameters \n",
    "\n",
    "# PM-specific\n",
    "SVM_class_PM = SVC(kernel='rbf', decision_function_shape='ovo', C = 0.9480526315789474, gamma = 0.00001) "
   ]
  },
  {
   "cell_type": "code",
   "execution_count": 211,
   "metadata": {},
   "outputs": [
    {
     "name": "stdout",
     "output_type": "stream",
     "text": [
      "0.50 accuracy with a standard deviation of 0.08\n"
     ]
    }
   ],
   "source": [
    "# Calculate accuracy (30 points) - PM\n",
    "PM_SVM = cross_val_score(SVM_class_PM, Posterior_Mu_mean.iloc[:, 3:82], Posterior_Mu_mean.iloc[:, 1], cv = 30)\n",
    "\n",
    "print(\"%0.2f accuracy with a standard deviation of %0.2f\" % (PM_SVM.mean(), PM_SVM.std()))"
   ]
  },
  {
   "cell_type": "markdown",
   "metadata": {},
   "source": [
    "#### Orbito-affective"
   ]
  },
  {
   "cell_type": "code",
   "execution_count": 215,
   "metadata": {},
   "outputs": [
    {
     "name": "stderr",
     "output_type": "stream",
     "text": [
      "/Users/jelkastojanov/anaconda3/lib/python3.7/site-packages/sklearn/model_selection/_search.py:813: DeprecationWarning: The default of the `iid` parameter will change from True to False in version 0.22 and will be removed in 0.24. This will change numeric results when test-set sizes are unequal.\n",
      "  DeprecationWarning)\n"
     ]
    },
    {
     "data": {
      "text/plain": [
       "GridSearchCV(cv=10, error_score='raise-deprecating',\n",
       "             estimator=SVC(C=1.0, cache_size=200, class_weight=None, coef0=0.0,\n",
       "                           decision_function_shape='ovo', degree=3,\n",
       "                           gamma='auto_deprecated', kernel='rbf', max_iter=-1,\n",
       "                           probability=False, random_state=None, shrinking=True,\n",
       "                           tol=0.001, verbose=False),\n",
       "             iid='warn', n_jobs=None,\n",
       "             param_grid={'C': array([1.00000000e-03, 1.58842105e...\n",
       "       1.26373684e+00, 1.42157895e+00, 1.57942105e+00, 1.73726316e+00,\n",
       "       1.89510526e+00, 2.05294737e+00, 2.21078947e+00, 2.36863158e+00,\n",
       "       2.52647368e+00, 2.68431579e+00, 2.84215789e+00, 3.00000000e+00]),\n",
       "                         'gamma': array([1.e-09, 1.e-08, 1.e-07, 1.e-06, 1.e-05, 1.e-04, 1.e-03, 1.e-02,\n",
       "       1.e-01, 1.e+00, 1.e+01, 1.e+02, 1.e+03])},\n",
       "             pre_dispatch='2*n_jobs', refit=True, return_train_score=False,\n",
       "             scoring=None, verbose=0)"
      ]
     },
     "execution_count": 215,
     "metadata": {},
     "output_type": "execute_result"
    }
   ],
   "source": [
    "SVM_cv.fit(Orbito_Affec_mean.iloc[:, 3:82], Orbito_Affec_mean.iloc[:, 1])"
   ]
  },
  {
   "cell_type": "code",
   "execution_count": 216,
   "metadata": {},
   "outputs": [
    {
     "data": {
      "text/plain": [
       "{'C': 2.2107894736842106, 'gamma': 1e-07}"
      ]
     },
     "execution_count": 216,
     "metadata": {},
     "output_type": "execute_result"
    }
   ],
   "source": [
    "# Best gamma and C parameters\n",
    "SVM_cv.best_params_ # C = 2.2107894736842106, gamma = 1e-07"
   ]
  },
  {
   "cell_type": "code",
   "execution_count": 217,
   "metadata": {},
   "outputs": [
    {
     "data": {
      "text/plain": [
       "0.37389380530973454"
      ]
     },
     "execution_count": 217,
     "metadata": {},
     "output_type": "execute_result"
    }
   ],
   "source": [
    "# Best accuracy score\n",
    "SVM_cv.best_score_"
   ]
  },
  {
   "cell_type": "code",
   "execution_count": 218,
   "metadata": {},
   "outputs": [],
   "source": [
    "# Specifying SVM parameters \n",
    "\n",
    "# OA-specific\n",
    "SVM_class_OA = SVC(kernel='rbf', decision_function_shape='ovo', C = 2.2107894736842106, gamma = 0.0000001) "
   ]
  },
  {
   "cell_type": "code",
   "execution_count": 219,
   "metadata": {},
   "outputs": [
    {
     "name": "stdout",
     "output_type": "stream",
     "text": [
      "0.37 accuracy with a standard deviation of 0.06\n"
     ]
    }
   ],
   "source": [
    "# Calculate accuracy (30 points) - OA\n",
    "OA_SVM = cross_val_score(SVM_class_OA, Orbito_Affec_mean.iloc[:, 3:82], Orbito_Affec_mean.iloc[:, 1], cv = 30)\n",
    "\n",
    "print(\"%0.2f accuracy with a standard deviation of %0.2f\" % (OA_SVM.mean(), OA_SVM.std()))"
   ]
  },
  {
   "cell_type": "markdown",
   "metadata": {},
   "source": [
    "#### Ventral attention"
   ]
  },
  {
   "cell_type": "code",
   "execution_count": 223,
   "metadata": {},
   "outputs": [
    {
     "name": "stderr",
     "output_type": "stream",
     "text": [
      "/Users/jelkastojanov/anaconda3/lib/python3.7/site-packages/sklearn/model_selection/_search.py:813: DeprecationWarning: The default of the `iid` parameter will change from True to False in version 0.22 and will be removed in 0.24. This will change numeric results when test-set sizes are unequal.\n",
      "  DeprecationWarning)\n"
     ]
    },
    {
     "data": {
      "text/plain": [
       "GridSearchCV(cv=10, error_score='raise-deprecating',\n",
       "             estimator=SVC(C=1.0, cache_size=200, class_weight=None, coef0=0.0,\n",
       "                           decision_function_shape='ovo', degree=3,\n",
       "                           gamma='auto_deprecated', kernel='rbf', max_iter=-1,\n",
       "                           probability=False, random_state=None, shrinking=True,\n",
       "                           tol=0.001, verbose=False),\n",
       "             iid='warn', n_jobs=None,\n",
       "             param_grid={'C': array([1.00000000e-03, 1.58842105e...\n",
       "       1.26373684e+00, 1.42157895e+00, 1.57942105e+00, 1.73726316e+00,\n",
       "       1.89510526e+00, 2.05294737e+00, 2.21078947e+00, 2.36863158e+00,\n",
       "       2.52647368e+00, 2.68431579e+00, 2.84215789e+00, 3.00000000e+00]),\n",
       "                         'gamma': array([1.e-09, 1.e-08, 1.e-07, 1.e-06, 1.e-05, 1.e-04, 1.e-03, 1.e-02,\n",
       "       1.e-01, 1.e+00, 1.e+01, 1.e+02, 1.e+03])},\n",
       "             pre_dispatch='2*n_jobs', refit=True, return_train_score=False,\n",
       "             scoring=None, verbose=0)"
      ]
     },
     "execution_count": 223,
     "metadata": {},
     "output_type": "execute_result"
    }
   ],
   "source": [
    "SVM_cv.fit(Ventral_Mult_mean.iloc[:, 3:82], Ventral_Mult_mean.iloc[:, 1])"
   ]
  },
  {
   "cell_type": "code",
   "execution_count": 224,
   "metadata": {},
   "outputs": [
    {
     "data": {
      "text/plain": [
       "{'C': 1.5794210526315788, 'gamma': 1e-06}"
      ]
     },
     "execution_count": 224,
     "metadata": {},
     "output_type": "execute_result"
    }
   ],
   "source": [
    "# Best gamma and C parameters\n",
    "SVM_cv.best_params_ # C = 1.5794210526315788, gamma = 1e-06"
   ]
  },
  {
   "cell_type": "code",
   "execution_count": 225,
   "metadata": {},
   "outputs": [
    {
     "data": {
      "text/plain": [
       "0.556047197640118"
      ]
     },
     "execution_count": 225,
     "metadata": {},
     "output_type": "execute_result"
    }
   ],
   "source": [
    "# Best accuracy score\n",
    "SVM_cv.best_score_"
   ]
  },
  {
   "cell_type": "code",
   "execution_count": 226,
   "metadata": {},
   "outputs": [],
   "source": [
    "# Specifying SVM parameters \n",
    "\n",
    "# VM-specific\n",
    "SVM_class_VM = SVC(kernel='rbf', decision_function_shape='ovo', C = 1.5794210526315788, gamma = 0.000001) "
   ]
  },
  {
   "cell_type": "code",
   "execution_count": 227,
   "metadata": {},
   "outputs": [
    {
     "name": "stdout",
     "output_type": "stream",
     "text": [
      "0.56 accuracy with a standard deviation of 0.09\n"
     ]
    }
   ],
   "source": [
    "# Calculate accuracy (30 points) - VM\n",
    "VM_SVM = cross_val_score(SVM_class_VM, Ventral_Mult_mean.iloc[:, 3:82], Ventral_Mult_mean.iloc[:, 1], cv = 30)\n",
    "\n",
    "print(\"%0.2f accuracy with a standard deviation of %0.2f\" % (VM_SVM.mean(), VM_SVM.std()))"
   ]
  }
 ],
 "metadata": {
  "kernelspec": {
   "display_name": "Python 3",
   "language": "python",
   "name": "python3"
  },
  "language_info": {
   "codemirror_mode": {
    "name": "ipython",
    "version": 3
   },
   "file_extension": ".py",
   "mimetype": "text/x-python",
   "name": "python",
   "nbconvert_exporter": "python",
   "pygments_lexer": "ipython3",
   "version": "3.7.3"
  }
 },
 "nbformat": 4,
 "nbformat_minor": 2
}
