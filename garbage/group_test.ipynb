{
 "cells": [
  {
   "cell_type": "code",
   "execution_count": 1,
   "id": "biblical-aviation",
   "metadata": {},
   "outputs": [],
   "source": [
    "# add modules folder to Python's search path\n",
    "from os import times\n",
    "import sys\n",
    "from pathlib import Path\n",
    "from os.path import dirname, realpath, abspath\n",
    "script_dir = Path(abspath(''))#Path(dirname(realpath(__file__)))\n",
    "module_dir = str(script_dir.parent)\n",
    "sys.path.insert(0, module_dir + '/modules')\n",
    "#print(module_dir)\n",
    "#print(script_dir)"
   ]
  },
  {
   "cell_type": "code",
   "execution_count": 2,
   "id": "metallic-prompt",
   "metadata": {},
   "outputs": [
    {
     "ename": "SyntaxError",
     "evalue": "invalid syntax (task.py, line 88)",
     "output_type": "error",
     "traceback": [
      "Traceback \u001b[0;36m(most recent call last)\u001b[0m:\n",
      "  File \u001b[1;32m\"/home/tsering/anaconda3/lib/python3.8/site-packages/IPython/core/interactiveshell.py\"\u001b[0m, line \u001b[1;32m3437\u001b[0m, in \u001b[1;35mrun_code\u001b[0m\n    exec(code_obj, self.user_global_ns, self.user_ns)\n",
      "\u001b[0;36m  File \u001b[0;32m\"<ipython-input-2-1041d72a607e>\"\u001b[0;36m, line \u001b[0;32m3\u001b[0;36m, in \u001b[0;35m<module>\u001b[0;36m\u001b[0m\n\u001b[0;31m    import task\u001b[0m\n",
      "\u001b[0;36m  File \u001b[0;32m\"/home/tsering/Documents/Learn/Courses/ComputationalNeuroscience/NMA/Project/NMA/modules/task.py\"\u001b[0;36m, line \u001b[0;32m88\u001b[0m\n\u001b[0;31m    <<<<<<< HEAD\u001b[0m\n\u001b[0m    ^\u001b[0m\n\u001b[0;31mSyntaxError\u001b[0m\u001b[0;31m:\u001b[0m invalid syntax\n"
     ]
    }
   ],
   "source": [
    "import numpy as np\n",
    "import pandas as pd\n",
    "import task\n",
    "db_path = '{}/data/hcp_task'.format(module_dir)\n",
    "group = task.Group(db_path)"
   ]
  },
  {
   "cell_type": "code",
   "execution_count": 3,
   "id": "787d0a31",
   "metadata": {},
   "outputs": [],
   "source": [
    "subject_id = 0\n",
    "individual = task.Individual(db_path, subject_id)\n",
    "regions = individual.get_regions()"
   ]
  },
  {
   "cell_type": "code",
   "execution_count": 31,
   "id": "dd0f6834",
   "metadata": {},
   "outputs": [],
   "source": [
    "rois = regions[:, 0]\n",
    "network = regions[:, 1]\n",
    "subjects = np.arange(339)\n",
    "conditions = ['0bk_faces', '0bk_tools', '0bk_places', '0bk_body']"
   ]
  },
  {
   "cell_type": "code",
   "execution_count": 32,
   "id": "6fa9892d",
   "metadata": {},
   "outputs": [
    {
     "data": {
      "text/plain": [
       "488160"
      ]
     },
     "execution_count": 32,
     "metadata": {},
     "output_type": "execute_result"
    }
   ],
   "source": [
    "index = []\n",
    "for cond in conditions:\n",
    "    for subj in subjects:\n",
    "        for roi in rois:\n",
    "            index.append((cond, subj, roi))\n",
    "len(index)"
   ]
  },
  {
   "cell_type": "code",
   "execution_count": 20,
   "id": "sapphire-faith",
   "metadata": {},
   "outputs": [
    {
     "name": "stdout",
     "output_type": "stream",
     "text": [
      "Time taken by extract_con is 0.8820953369140625 seconds\n",
      "Time taken by extract_con is 0.9225490093231201 seconds\n",
      "Time taken by extract_con is 0.8873953819274902 seconds\n",
      "Time taken by extract_con is 0.8710026741027832 seconds\n",
      "Time taken by extract_cons is 3.7529280185699463 seconds\n"
     ]
    }
   ],
   "source": [
    "X, y = group.extract_cons(conditions)"
   ]
  },
  {
   "cell_type": "code",
   "execution_count": 33,
   "id": "legitimate-opportunity",
   "metadata": {},
   "outputs": [
    {
     "name": "stdout",
     "output_type": "stream",
     "text": [
      "(1356, 28080) (1356,)\n"
     ]
    }
   ],
   "source": [
    "print(X.shape, y.shape)"
   ]
  },
  {
   "cell_type": "code",
   "execution_count": 34,
   "id": "ce9055be-e646-47f0-82a1-8d1c161a023c",
   "metadata": {},
   "outputs": [],
   "source": [
    "X_new = X.reshape(488160, 78)"
   ]
  },
  {
   "cell_type": "code",
   "execution_count": 35,
   "id": "105ea2be-0040-48db-8cb7-50b10dd2e57d",
   "metadata": {},
   "outputs": [],
   "source": [
    "# Creating a dataframe\n",
    "index = pd.MultiIndex.from_tuples(index)\n",
    "X_df = pd.DataFrame(X_new, index = index)\n",
    "X_df.index.names = ['Condition', 'Subject_id', 'ROI']"
   ]
  },
  {
   "cell_type": "code",
   "execution_count": 36,
   "id": "40a227b9",
   "metadata": {},
   "outputs": [
    {
     "data": {
      "text/html": [
       "<div>\n",
       "<style scoped>\n",
       "    .dataframe tbody tr th:only-of-type {\n",
       "        vertical-align: middle;\n",
       "    }\n",
       "\n",
       "    .dataframe tbody tr th {\n",
       "        vertical-align: top;\n",
       "    }\n",
       "\n",
       "    .dataframe thead th {\n",
       "        text-align: right;\n",
       "    }\n",
       "</style>\n",
       "<table border=\"1\" class=\"dataframe\">\n",
       "  <thead>\n",
       "    <tr style=\"text-align: right;\">\n",
       "      <th></th>\n",
       "      <th></th>\n",
       "      <th></th>\n",
       "      <th>0</th>\n",
       "      <th>1</th>\n",
       "      <th>2</th>\n",
       "      <th>3</th>\n",
       "      <th>4</th>\n",
       "      <th>5</th>\n",
       "      <th>6</th>\n",
       "      <th>7</th>\n",
       "      <th>8</th>\n",
       "      <th>9</th>\n",
       "      <th>...</th>\n",
       "      <th>68</th>\n",
       "      <th>69</th>\n",
       "      <th>70</th>\n",
       "      <th>71</th>\n",
       "      <th>72</th>\n",
       "      <th>73</th>\n",
       "      <th>74</th>\n",
       "      <th>75</th>\n",
       "      <th>76</th>\n",
       "      <th>77</th>\n",
       "    </tr>\n",
       "    <tr>\n",
       "      <th>Condition</th>\n",
       "      <th>Subject_id</th>\n",
       "      <th>ROI</th>\n",
       "      <th></th>\n",
       "      <th></th>\n",
       "      <th></th>\n",
       "      <th></th>\n",
       "      <th></th>\n",
       "      <th></th>\n",
       "      <th></th>\n",
       "      <th></th>\n",
       "      <th></th>\n",
       "      <th></th>\n",
       "      <th></th>\n",
       "      <th></th>\n",
       "      <th></th>\n",
       "      <th></th>\n",
       "      <th></th>\n",
       "      <th></th>\n",
       "      <th></th>\n",
       "      <th></th>\n",
       "      <th></th>\n",
       "      <th></th>\n",
       "      <th></th>\n",
       "    </tr>\n",
       "  </thead>\n",
       "  <tbody>\n",
       "    <tr>\n",
       "      <th rowspan=\"5\" valign=\"top\">0bk_faces</th>\n",
       "      <th rowspan=\"5\" valign=\"top\">0</th>\n",
       "      <th>(R_V1, Visual1)</th>\n",
       "      <td>12028.0</td>\n",
       "      <td>11983.2</td>\n",
       "      <td>11991.3</td>\n",
       "      <td>11979.2</td>\n",
       "      <td>12006.0</td>\n",
       "      <td>11998.1</td>\n",
       "      <td>12008.0</td>\n",
       "      <td>12009.8</td>\n",
       "      <td>11986.2</td>\n",
       "      <td>12008.8</td>\n",
       "      <td>...</td>\n",
       "      <td>12078.0</td>\n",
       "      <td>12048.5</td>\n",
       "      <td>12029.4</td>\n",
       "      <td>12021.9</td>\n",
       "      <td>12003.7</td>\n",
       "      <td>11981.9</td>\n",
       "      <td>12006.8</td>\n",
       "      <td>11996.9</td>\n",
       "      <td>12034.0</td>\n",
       "      <td>12051.1</td>\n",
       "    </tr>\n",
       "    <tr>\n",
       "      <th>(R_MST, Visual2)</th>\n",
       "      <td>10374.7</td>\n",
       "      <td>10356.4</td>\n",
       "      <td>10295.0</td>\n",
       "      <td>10341.2</td>\n",
       "      <td>10320.6</td>\n",
       "      <td>10329.0</td>\n",
       "      <td>10340.4</td>\n",
       "      <td>10283.0</td>\n",
       "      <td>10346.5</td>\n",
       "      <td>10368.5</td>\n",
       "      <td>...</td>\n",
       "      <td>10367.6</td>\n",
       "      <td>10343.9</td>\n",
       "      <td>10358.8</td>\n",
       "      <td>10380.3</td>\n",
       "      <td>10395.0</td>\n",
       "      <td>10398.0</td>\n",
       "      <td>10402.3</td>\n",
       "      <td>10367.7</td>\n",
       "      <td>10381.3</td>\n",
       "      <td>10351.5</td>\n",
       "    </tr>\n",
       "    <tr>\n",
       "      <th>(R_V6, Visual2)</th>\n",
       "      <td>12376.7</td>\n",
       "      <td>12335.6</td>\n",
       "      <td>12296.3</td>\n",
       "      <td>12325.5</td>\n",
       "      <td>12326.1</td>\n",
       "      <td>12342.4</td>\n",
       "      <td>12351.6</td>\n",
       "      <td>12299.0</td>\n",
       "      <td>12411.3</td>\n",
       "      <td>12301.9</td>\n",
       "      <td>...</td>\n",
       "      <td>12424.0</td>\n",
       "      <td>12465.6</td>\n",
       "      <td>12482.8</td>\n",
       "      <td>12499.3</td>\n",
       "      <td>12472.8</td>\n",
       "      <td>12455.6</td>\n",
       "      <td>12544.5</td>\n",
       "      <td>12482.3</td>\n",
       "      <td>12491.8</td>\n",
       "      <td>12545.8</td>\n",
       "    </tr>\n",
       "    <tr>\n",
       "      <th>(R_V2, Visual2)</th>\n",
       "      <td>12099.2</td>\n",
       "      <td>12095.5</td>\n",
       "      <td>12120.9</td>\n",
       "      <td>12080.0</td>\n",
       "      <td>12093.1</td>\n",
       "      <td>12087.4</td>\n",
       "      <td>12114.3</td>\n",
       "      <td>12112.9</td>\n",
       "      <td>12113.8</td>\n",
       "      <td>12152.6</td>\n",
       "      <td>...</td>\n",
       "      <td>12119.4</td>\n",
       "      <td>12123.8</td>\n",
       "      <td>12135.1</td>\n",
       "      <td>12107.3</td>\n",
       "      <td>12083.2</td>\n",
       "      <td>12097.8</td>\n",
       "      <td>12105.4</td>\n",
       "      <td>12096.7</td>\n",
       "      <td>12115.4</td>\n",
       "      <td>12177.3</td>\n",
       "    </tr>\n",
       "    <tr>\n",
       "      <th>(R_V3, Visual2)</th>\n",
       "      <td>11593.1</td>\n",
       "      <td>11553.0</td>\n",
       "      <td>11543.1</td>\n",
       "      <td>11552.2</td>\n",
       "      <td>11588.7</td>\n",
       "      <td>11567.7</td>\n",
       "      <td>11579.6</td>\n",
       "      <td>11557.6</td>\n",
       "      <td>11617.5</td>\n",
       "      <td>11594.2</td>\n",
       "      <td>...</td>\n",
       "      <td>11598.3</td>\n",
       "      <td>11609.5</td>\n",
       "      <td>11624.7</td>\n",
       "      <td>11638.2</td>\n",
       "      <td>11580.7</td>\n",
       "      <td>11613.6</td>\n",
       "      <td>11610.8</td>\n",
       "      <td>11580.6</td>\n",
       "      <td>11622.3</td>\n",
       "      <td>11621.1</td>\n",
       "    </tr>\n",
       "  </tbody>\n",
       "</table>\n",
       "<p>5 rows × 78 columns</p>\n",
       "</div>"
      ],
      "text/plain": [
       "                                            0        1        2        3   \\\n",
       "Condition Subject_id ROI                                                    \n",
       "0bk_faces 0          (R_V1, Visual1)   12028.0  11983.2  11991.3  11979.2   \n",
       "                     (R_MST, Visual2)  10374.7  10356.4  10295.0  10341.2   \n",
       "                     (R_V6, Visual2)   12376.7  12335.6  12296.3  12325.5   \n",
       "                     (R_V2, Visual2)   12099.2  12095.5  12120.9  12080.0   \n",
       "                     (R_V3, Visual2)   11593.1  11553.0  11543.1  11552.2   \n",
       "\n",
       "                                            4        5        6        7   \\\n",
       "Condition Subject_id ROI                                                    \n",
       "0bk_faces 0          (R_V1, Visual1)   12006.0  11998.1  12008.0  12009.8   \n",
       "                     (R_MST, Visual2)  10320.6  10329.0  10340.4  10283.0   \n",
       "                     (R_V6, Visual2)   12326.1  12342.4  12351.6  12299.0   \n",
       "                     (R_V2, Visual2)   12093.1  12087.4  12114.3  12112.9   \n",
       "                     (R_V3, Visual2)   11588.7  11567.7  11579.6  11557.6   \n",
       "\n",
       "                                            8        9   ...       68  \\\n",
       "Condition Subject_id ROI                                 ...            \n",
       "0bk_faces 0          (R_V1, Visual1)   11986.2  12008.8  ...  12078.0   \n",
       "                     (R_MST, Visual2)  10346.5  10368.5  ...  10367.6   \n",
       "                     (R_V6, Visual2)   12411.3  12301.9  ...  12424.0   \n",
       "                     (R_V2, Visual2)   12113.8  12152.6  ...  12119.4   \n",
       "                     (R_V3, Visual2)   11617.5  11594.2  ...  11598.3   \n",
       "\n",
       "                                            69       70       71       72  \\\n",
       "Condition Subject_id ROI                                                    \n",
       "0bk_faces 0          (R_V1, Visual1)   12048.5  12029.4  12021.9  12003.7   \n",
       "                     (R_MST, Visual2)  10343.9  10358.8  10380.3  10395.0   \n",
       "                     (R_V6, Visual2)   12465.6  12482.8  12499.3  12472.8   \n",
       "                     (R_V2, Visual2)   12123.8  12135.1  12107.3  12083.2   \n",
       "                     (R_V3, Visual2)   11609.5  11624.7  11638.2  11580.7   \n",
       "\n",
       "                                            73       74       75       76  \\\n",
       "Condition Subject_id ROI                                                    \n",
       "0bk_faces 0          (R_V1, Visual1)   11981.9  12006.8  11996.9  12034.0   \n",
       "                     (R_MST, Visual2)  10398.0  10402.3  10367.7  10381.3   \n",
       "                     (R_V6, Visual2)   12455.6  12544.5  12482.3  12491.8   \n",
       "                     (R_V2, Visual2)   12097.8  12105.4  12096.7  12115.4   \n",
       "                     (R_V3, Visual2)   11613.6  11610.8  11580.6  11622.3   \n",
       "\n",
       "                                            77  \n",
       "Condition Subject_id ROI                        \n",
       "0bk_faces 0          (R_V1, Visual1)   12051.1  \n",
       "                     (R_MST, Visual2)  10351.5  \n",
       "                     (R_V6, Visual2)   12545.8  \n",
       "                     (R_V2, Visual2)   12177.3  \n",
       "                     (R_V3, Visual2)   11621.1  \n",
       "\n",
       "[5 rows x 78 columns]"
      ]
     },
     "execution_count": 36,
     "metadata": {},
     "output_type": "execute_result"
    }
   ],
   "source": [
    "X_df.head()"
   ]
  },
  {
   "cell_type": "code",
   "execution_count": null,
   "id": "f2bcea5e",
   "metadata": {},
   "outputs": [],
   "source": []
  }
 ],
 "metadata": {
  "kernelspec": {
   "display_name": "Python 3",
   "language": "python",
   "name": "python3"
  },
  "language_info": {
   "codemirror_mode": {
    "name": "ipython",
    "version": 3
   },
   "file_extension": ".py",
   "mimetype": "text/x-python",
   "name": "python",
   "nbconvert_exporter": "python",
   "pygments_lexer": "ipython3",
   "version": "3.8.5"
  }
 },
 "nbformat": 4,
 "nbformat_minor": 5
}
