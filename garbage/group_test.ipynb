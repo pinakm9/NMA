{
 "cells": [
  {
   "cell_type": "code",
   "execution_count": 1,
   "id": "biblical-aviation",
   "metadata": {},
   "outputs": [
    {
     "name": "stdout",
     "output_type": "stream",
     "text": [
      "C:\\Users\\pinak\\Documents\\GitHub\\NMA\n",
      "C:\\Users\\pinak\\Documents\\GitHub\\NMA\\garbage\n"
     ]
    }
   ],
   "source": [
    "# add modules folder to Python's search path\n",
    "from os import times\n",
    "import sys\n",
    "from pathlib import Path\n",
    "from os.path import dirname, realpath, abspath\n",
    "script_dir = Path(abspath(''))#Path(dirname(realpath(__file__)))\n",
    "module_dir = str(script_dir.parent)\n",
    "sys.path.insert(0, module_dir + '/modules')\n",
    "print(module_dir)\n",
    "print(script_dir)"
   ]
  },
  {
   "cell_type": "code",
   "execution_count": 2,
   "id": "metallic-prompt",
   "metadata": {},
   "outputs": [],
   "source": [
    "import task\n",
    "db_path = '{}/data/hcp_task'.format(module_dir)\n",
    "group = task.Group(db_path)"
   ]
  },
  {
   "cell_type": "code",
   "execution_count": 3,
   "id": "sapphire-faith",
   "metadata": {},
   "outputs": [
    {
     "name": "stdout",
     "output_type": "stream",
     "text": [
      "Time taken by extract_con is 0.6715991497039795 seconds\n",
      "Time taken by extract_con is 0.70806884765625 seconds\n",
      "Time taken by extract_con is 0.7099990844726562 seconds\n",
      "Time taken by extract_con is 0.6785290241241455 seconds\n",
      "Time taken by extract_cons is 2.8971965312957764 seconds\n"
     ]
    }
   ],
   "source": [
    "X, y = group.extract_cons(['0bk_faces', '0bk_tools', '0bk_places', '0bk_body'])"
   ]
  },
  {
   "cell_type": "code",
   "execution_count": 4,
   "id": "legitimate-opportunity",
   "metadata": {},
   "outputs": [
    {
     "name": "stdout",
     "output_type": "stream",
     "text": [
      "(1356, 360, 78) (1356,)\n"
     ]
    }
   ],
   "source": [
    "print(X.shape, y.shape)"
   ]
  },
  {
   "cell_type": "code",
   "execution_count": null,
   "id": "satisfactory-spokesman",
   "metadata": {},
   "outputs": [],
   "source": []
  }
 ],
 "metadata": {
  "kernelspec": {
   "display_name": "Python 3",
   "language": "python",
   "name": "python3"
  },
  "language_info": {
   "codemirror_mode": {
    "name": "ipython",
    "version": 3
   },
   "file_extension": ".py",
   "mimetype": "text/x-python",
   "name": "python",
   "nbconvert_exporter": "python",
   "pygments_lexer": "ipython3",
   "version": "3.8.3"
  }
 },
 "nbformat": 4,
 "nbformat_minor": 5
}
