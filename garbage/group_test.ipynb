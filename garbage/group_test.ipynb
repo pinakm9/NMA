{
 "cells": [
  {
   "cell_type": "code",
   "execution_count": 1,
   "source": [
    "# add modules folder to Python's search path\r\n",
    "from os import times\r\n",
    "import sys\r\n",
    "from pathlib import Path\r\n",
    "from os.path import dirname, realpath, abspath\r\n",
    "script_dir = Path(abspath(''))#Path(dirname(realpath(__file__)))\r\n",
    "module_dir = str(script_dir.parent)\r\n",
    "sys.path.insert(0, module_dir + '/modules')\r\n",
    "#print(module_dir)\r\n",
    "#print(script_dir)"
   ],
   "outputs": [
    {
     "output_type": "stream",
     "name": "stdout",
     "text": [
      "C:\\Users\\pinak\\Documents\\GitHub\\NMA\n",
      "C:\\Users\\pinak\\Documents\\GitHub\\NMA\\garbage\n"
     ]
    }
   ],
   "metadata": {}
  },
  {
   "cell_type": "code",
   "execution_count": 2,
   "source": [
    "import task\r\n",
    "db_path = '{}/data/hcp_task'.format(module_dir)\r\n",
    "group = task.Group(db_path)"
   ],
   "outputs": [],
   "metadata": {}
  },
  {
   "cell_type": "code",
   "execution_count": 3,
   "source": [
    "X, y = group.extract_cons(['0bk_faces', '0bk_tools', '0bk_places', '0bk_body'])"
   ],
   "outputs": [
    {
     "output_type": "stream",
     "name": "stdout",
     "text": [
      "Time taken by extract_con is 0.6715991497039795 seconds\n",
      "Time taken by extract_con is 0.70806884765625 seconds\n",
      "Time taken by extract_con is 0.7099990844726562 seconds\n",
      "Time taken by extract_con is 0.6785290241241455 seconds\n",
      "Time taken by extract_cons is 2.8971965312957764 seconds\n"
     ]
    }
   ],
   "metadata": {}
  },
  {
   "cell_type": "code",
   "execution_count": 4,
   "source": [
    "print(X.shape, y.shape)"
   ],
   "outputs": [
    {
     "output_type": "stream",
     "name": "stdout",
     "text": [
      "(1356, 360, 78) (1356,)\n"
     ]
    }
   ],
   "metadata": {}
  },
  {
   "cell_type": "code",
   "execution_count": null,
   "source": [],
   "outputs": [],
   "metadata": {}
  }
 ],
 "metadata": {
  "kernelspec": {
   "display_name": "Python 3",
   "language": "python",
   "name": "python3"
  },
  "language_info": {
   "codemirror_mode": {
    "name": "ipython",
    "version": 3
   },
   "file_extension": ".py",
   "mimetype": "text/x-python",
   "name": "python",
   "nbconvert_exporter": "python",
   "pygments_lexer": "ipython3",
   "version": "3.8.3"
  }
 },
 "nbformat": 4,
 "nbformat_minor": 5
}